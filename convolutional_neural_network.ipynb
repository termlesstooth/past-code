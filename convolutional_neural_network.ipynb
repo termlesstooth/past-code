{
  "nbformat": 4,
  "nbformat_minor": 0,
  "metadata": {
    "colab": {
      "provenance": []
    },
    "kernelspec": {
      "name": "python3",
      "display_name": "Python 3"
    },
    "language_info": {
      "name": "python"
    }
  },
  "cells": [
    {
      "cell_type": "markdown",
      "source": [
        "#mount the drive"
      ],
      "metadata": {
        "id": "xTFGsmzeMyZE"
      }
    },
    {
      "cell_type": "code",
      "execution_count": null,
      "metadata": {
        "colab": {
          "base_uri": "https://localhost:8080/"
        },
        "id": "2_v7yeCYMVVk",
        "outputId": "5803be1a-8580-403c-90c6-ef713f62b579"
      },
      "outputs": [
        {
          "output_type": "stream",
          "name": "stdout",
          "text": [
            "Mounted at /content/drive\n"
          ]
        }
      ],
      "source": [
        "from google.colab import drive\n",
        "drive.mount('/content/drive')\n",
        "import os\n",
        "os.chdir('/content/drive/My Drive/Process mining course/project_3')"
      ]
    },
    {
      "cell_type": "markdown",
      "source": [
        "#import the packages"
      ],
      "metadata": {
        "id": "ul28xyr2NOMC"
      }
    },
    {
      "cell_type": "code",
      "source": [
        "!pip install idx2numpy\n",
        "import numpy as np\n",
        "import idx2numpy\n",
        "from tensorflow import keras\n"
      ],
      "metadata": {
        "colab": {
          "base_uri": "https://localhost:8080/"
        },
        "id": "TtpOr1nwNcvh",
        "outputId": "5ac48d3b-3af2-45bb-b837-e9e18b3a1959"
      },
      "execution_count": null,
      "outputs": [
        {
          "output_type": "stream",
          "name": "stdout",
          "text": [
            "Looking in indexes: https://pypi.org/simple, https://us-python.pkg.dev/colab-wheels/public/simple/\n",
            "Collecting idx2numpy\n",
            "  Downloading idx2numpy-1.2.3.tar.gz (6.8 kB)\n",
            "  Preparing metadata (setup.py) ... \u001b[?25l\u001b[?25hdone\n",
            "Requirement already satisfied: numpy in /usr/local/lib/python3.9/dist-packages (from idx2numpy) (1.22.4)\n",
            "Requirement already satisfied: six in /usr/local/lib/python3.9/dist-packages (from idx2numpy) (1.16.0)\n",
            "Building wheels for collected packages: idx2numpy\n",
            "  Building wheel for idx2numpy (setup.py) ... \u001b[?25l\u001b[?25hdone\n",
            "  Created wheel for idx2numpy: filename=idx2numpy-1.2.3-py3-none-any.whl size=7918 sha256=d3ceb508f6c49b40ddfb7be011ed1060f7923f346bfd5bab1b2e4271608386d4\n",
            "  Stored in directory: /root/.cache/pip/wheels/34/61/53/a6a64db5e907bdf792f401b5bfb922eabfe6686d08692167f3\n",
            "Successfully built idx2numpy\n",
            "Installing collected packages: idx2numpy\n",
            "Successfully installed idx2numpy-1.2.3\n"
          ]
        }
      ]
    },
    {
      "cell_type": "markdown",
      "source": [
        "# load the dataset"
      ],
      "metadata": {
        "id": "qCTPC6cdNhAB"
      }
    },
    {
      "cell_type": "code",
      "source": [
        "x_train = idx2numpy.convert_from_file('train-images.idx3-ubyte')\n",
        "y_train = idx2numpy.convert_from_file('train-labels.idx1-ubyte')\n",
        "x_test = idx2numpy.convert_from_file('t10k-images.idx3-ubyte')\n",
        "y_test = idx2numpy.convert_from_file('t10k-labels.idx1-ubyte')\n"
      ],
      "metadata": {
        "id": "IaLpC6odNkeD"
      },
      "execution_count": null,
      "outputs": []
    },
    {
      "cell_type": "markdown",
      "source": [
        "# Format the data"
      ],
      "metadata": {
        "id": "eaAfskJoN3CY"
      }
    },
    {
      "cell_type": "code",
      "source": [
        "#reshape input data to have a single channel\n",
        "x_train = np.expand_dims(x_train, axis=-1)\n",
        "x_test = np.expand_dims(x_test, axis=-1)\n"
      ],
      "metadata": {
        "id": "RgGUFGzAN4DM"
      },
      "execution_count": null,
      "outputs": []
    },
    {
      "cell_type": "code",
      "source": [
        "#convert the labels to categorical format\n",
        "y_train = keras.utils.to_categorical(y_train, num_classes=10)\n",
        "y_test = keras.utils.to_categorical(y_test, num_classes=10)"
      ],
      "metadata": {
        "id": "ekVe73GoN8Bn"
      },
      "execution_count": null,
      "outputs": []
    },
    {
      "cell_type": "markdown",
      "source": [
        "# Define and train the model"
      ],
      "metadata": {
        "id": "vT4eMEzTOXFF"
      }
    },
    {
      "cell_type": "code",
      "source": [
        "#define the CNN model architecture\n",
        "model = keras.models.Sequential([\n",
        "    keras.layers.Conv2D(32, (3, 3), activation='relu', input_shape=(28, 28, 1)),\n",
        "    keras.layers.MaxPooling2D((2, 2)),\n",
        "    keras.layers.Flatten(),\n",
        "    keras.layers.Dense(64, activation='relu'),\n",
        "    keras.layers.Dense(10, activation='softmax')\n",
        "])\n"
      ],
      "metadata": {
        "id": "TT9U0LkZN_hq"
      },
      "execution_count": null,
      "outputs": []
    },
    {
      "cell_type": "code",
      "source": [
        "# compile the model\n",
        "model.compile(optimizer='adam', loss='categorical_crossentropy', metrics=['accuracy'])"
      ],
      "metadata": {
        "id": "qvG5Q5S5OECe"
      },
      "execution_count": null,
      "outputs": []
    },
    {
      "cell_type": "code",
      "source": [
        "# train the model on the training data\n",
        "model.fit(x_train, y_train, epochs=5, validation_data=(x_test, y_test))"
      ],
      "metadata": {
        "colab": {
          "base_uri": "https://localhost:8080/"
        },
        "id": "iLgAeyBTOIAN",
        "outputId": "8501d964-046f-4181-b50b-bffd636ad92c"
      },
      "execution_count": null,
      "outputs": [
        {
          "output_type": "stream",
          "name": "stdout",
          "text": [
            "Epoch 1/5\n",
            "1875/1875 [==============================] - 47s 25ms/step - loss: 0.4723 - accuracy: 0.9378 - val_loss: 0.1187 - val_accuracy: 0.9639\n",
            "Epoch 2/5\n",
            "1875/1875 [==============================] - 48s 26ms/step - loss: 0.0783 - accuracy: 0.9771 - val_loss: 0.0901 - val_accuracy: 0.9748\n",
            "Epoch 3/5\n",
            "1875/1875 [==============================] - 52s 28ms/step - loss: 0.0570 - accuracy: 0.9818 - val_loss: 0.0907 - val_accuracy: 0.9757\n",
            "Epoch 4/5\n",
            "1875/1875 [==============================] - 45s 24ms/step - loss: 0.0467 - accuracy: 0.9855 - val_loss: 0.0810 - val_accuracy: 0.9777\n",
            "Epoch 5/5\n",
            "1875/1875 [==============================] - 49s 26ms/step - loss: 0.0370 - accuracy: 0.9886 - val_loss: 0.0816 - val_accuracy: 0.9787\n"
          ]
        },
        {
          "output_type": "execute_result",
          "data": {
            "text/plain": [
              "<keras.callbacks.History at 0x7fda584385b0>"
            ]
          },
          "metadata": {},
          "execution_count": 8
        }
      ]
    },
    {
      "cell_type": "markdown",
      "source": [
        "#evaluate the model on the test data"
      ],
      "metadata": {
        "id": "vwJsjC7aPrZ0"
      }
    },
    {
      "cell_type": "code",
      "source": [
        "test_loss, test_acc = model.evaluate(x_test, y_test)\n",
        "print('Test accuracy:', test_acc)"
      ],
      "metadata": {
        "id": "I8iRJNslPuVP",
        "outputId": "8126feca-dbd1-4e5d-db90-e292b84b7231",
        "colab": {
          "base_uri": "https://localhost:8080/"
        }
      },
      "execution_count": null,
      "outputs": [
        {
          "output_type": "stream",
          "name": "stdout",
          "text": [
            "313/313 [==============================] - 2s 7ms/step - loss: 0.0816 - accuracy: 0.9787\n",
            "Test accuracy: 0.9786999821662903\n"
          ]
        }
      ]
    }
  ]
}