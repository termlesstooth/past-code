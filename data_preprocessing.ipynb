{
  "nbformat": 4,
  "nbformat_minor": 0,
  "metadata": {
    "colab": {
      "provenance": []
    },
    "kernelspec": {
      "name": "python3",
      "display_name": "Python 3"
    },
    "language_info": {
      "name": "python"
    }
  },
  "cells": [
    {
      "cell_type": "code",
      "source": [
        "from google.colab import drive\n",
        "drive.mount('/content/drive')\n",
        "import os\n",
        "os.chdir('/content/drive/My Drive/Process mining course/preprocessing_assignment')"
      ],
      "metadata": {
        "colab": {
          "base_uri": "https://localhost:8080/"
        },
        "id": "4oB8TpVjbkZn",
        "outputId": "7cab8785-fbdd-432d-c7b7-9e33606076de"
      },
      "execution_count": null,
      "outputs": [
        {
          "output_type": "stream",
          "name": "stdout",
          "text": [
            "Drive already mounted at /content/drive; to attempt to forcibly remount, call drive.mount(\"/content/drive\", force_remount=True).\n"
          ]
        }
      ]
    },
    {
      "cell_type": "code",
      "source": [
        "# step 1\n",
        "# always import these for a machine learning project\n",
        "import matplotlib.pyplot as plt\n",
        "import numpy as np\n",
        "import pandas as pd\n",
        "import sklearn\n",
        "\n",
        "from sklearn.model_selection import train_test_split"
      ],
      "metadata": {
        "id": "Ca2SBsytcj26"
      },
      "execution_count": null,
      "outputs": []
    },
    {
      "cell_type": "code",
      "source": [
        "# step 2\n",
        "# import the data\n",
        "df = pd.read_csv(r'Data.csv')\n",
        "# df.head()\n",
        "print(df)"
      ],
      "metadata": {
        "colab": {
          "base_uri": "https://localhost:8080/"
        },
        "id": "iiOSIasOcnzn",
        "outputId": "a74e3185-5e02-49aa-f65c-324681b27f77"
      },
      "execution_count": null,
      "outputs": [
        {
          "output_type": "stream",
          "name": "stdout",
          "text": [
            "   Country   Age   Salary Purchased\n",
            "0   France  44.0  72000.0        No\n",
            "1    Spain  27.0  48000.0       Yes\n",
            "2  Germany  30.0  54000.0        No\n",
            "3    Spain  38.0  61000.0        No\n",
            "4  Germany  40.0      NaN       Yes\n",
            "5   France  35.0  58000.0       Yes\n",
            "6    Spain   NaN  52000.0        No\n",
            "7   France  48.0  79000.0       Yes\n",
            "8  Germany  50.0  83000.0        No\n",
            "9   France  37.0  67000.0       Yes\n"
          ]
        }
      ]
    },
    {
      "cell_type": "code",
      "source": [
        "# step 3\n",
        "# take care of the missing values\n",
        "# function to replace NaN values in data frame with the average of that column\n",
        "def replace_nan(dataframe):\n",
        "    for col in dataframe.columns:\n",
        "        if dataframe[col].dtype == \"float64\" or dataframe[col].dtype == \"int64\":\n",
        "            if dataframe[col].isna().sum() > 0:\n",
        "                avg = dataframe[col].mean()\n",
        "                dataframe[col].fillna(avg, inplace=True)\n",
        "replace_nan(df)\n",
        "print(df)"
      ],
      "metadata": {
        "colab": {
          "base_uri": "https://localhost:8080/"
        },
        "id": "qG_PEJmdgVsm",
        "outputId": "ac5c3547-2835-42ea-8a73-ceafed283815"
      },
      "execution_count": null,
      "outputs": [
        {
          "output_type": "stream",
          "name": "stdout",
          "text": [
            "   Country        Age        Salary Purchased\n",
            "0   France  44.000000  72000.000000        No\n",
            "1    Spain  27.000000  48000.000000       Yes\n",
            "2  Germany  30.000000  54000.000000        No\n",
            "3    Spain  38.000000  61000.000000        No\n",
            "4  Germany  40.000000  63777.777778       Yes\n",
            "5   France  35.000000  58000.000000       Yes\n",
            "6    Spain  38.777778  52000.000000        No\n",
            "7   France  48.000000  79000.000000       Yes\n",
            "8  Germany  50.000000  83000.000000        No\n",
            "9   France  37.000000  67000.000000       Yes\n"
          ]
        }
      ]
    },
    {
      "cell_type": "code",
      "source": [
        "# step 4\n",
        "# encode categorical data\n",
        "df = pd.get_dummies(df, columns=[\"Country\"])\n",
        "print(df)\n"
      ],
      "metadata": {
        "colab": {
          "base_uri": "https://localhost:8080/"
        },
        "id": "Ho85kHm_iiM8",
        "outputId": "d15fedd9-c8b2-4ee5-cd0a-b449261befa9"
      },
      "execution_count": null,
      "outputs": [
        {
          "output_type": "stream",
          "name": "stdout",
          "text": [
            "         Age        Salary Purchased  Country_France  Country_Germany  \\\n",
            "0  44.000000  72000.000000        No               1                0   \n",
            "1  27.000000  48000.000000       Yes               0                0   \n",
            "2  30.000000  54000.000000        No               0                1   \n",
            "3  38.000000  61000.000000        No               0                0   \n",
            "4  40.000000  63777.777778       Yes               0                1   \n",
            "5  35.000000  58000.000000       Yes               1                0   \n",
            "6  38.777778  52000.000000        No               0                0   \n",
            "7  48.000000  79000.000000       Yes               1                0   \n",
            "8  50.000000  83000.000000        No               0                1   \n",
            "9  37.000000  67000.000000       Yes               1                0   \n",
            "\n",
            "   Country_Spain  \n",
            "0              0  \n",
            "1              1  \n",
            "2              0  \n",
            "3              1  \n",
            "4              0  \n",
            "5              0  \n",
            "6              1  \n",
            "7              0  \n",
            "8              0  \n",
            "9              0  \n"
          ]
        }
      ]
    },
    {
      "cell_type": "code",
      "source": [
        "# step 5\n",
        "# split train and test set\n",
        "X = df.drop(\"Purchased\", axis = 1)\n",
        "y = df[\"Purchased\"]\n",
        "\n",
        "X_train, X_test, y_train, y_test = train_test_split(X,y, test_size=0.3, random_state=0)\n",
        "\n",
        "print(X_train)\n",
        "\n"
      ],
      "metadata": {
        "id": "DHowpFodmNJF",
        "colab": {
          "base_uri": "https://localhost:8080/"
        },
        "outputId": "71a0e03e-b1cf-46b5-db78-9256a0cd43db"
      },
      "execution_count": null,
      "outputs": [
        {
          "output_type": "stream",
          "name": "stdout",
          "text": [
            "         Age   Salary  Country_France  Country_Germany  Country_Spain\n",
            "9  37.000000  67000.0               1                0              0\n",
            "1  27.000000  48000.0               0                0              1\n",
            "6  38.777778  52000.0               0                0              1\n",
            "7  48.000000  79000.0               1                0              0\n",
            "3  38.000000  61000.0               0                0              1\n",
            "0  44.000000  72000.0               1                0              0\n",
            "5  35.000000  58000.0               1                0              0\n"
          ]
        }
      ]
    },
    {
      "cell_type": "code",
      "source": [
        "# step 6\n",
        "# feature scaling\n",
        "# TODO: Automate this\n",
        "X_train['Age'] = (X_train['Age']-X_train['Age'].mean()) / X_train['Age'].std()\n",
        "X_train['Salary'] = (X_train['Salary']-X_train['Salary'].mean()) / X_train['Salary'].std()\n",
        "\n",
        "print(X_train)\n"
      ],
      "metadata": {
        "colab": {
          "base_uri": "https://localhost:8080/"
        },
        "id": "p7XIiWmlI8ul",
        "outputId": "6ef08670-5fae-45a1-ea50-9475c6ce56bf"
      },
      "execution_count": null,
      "outputs": [
        {
          "output_type": "stream",
          "name": "stdout",
          "text": [
            "        Age    Salary  Country_France  Country_Germany  Country_Spain\n",
            "9 -0.187924  0.415666               1                0              0\n",
            "1 -1.686557 -1.311946               0                0              1\n",
            "6  0.078500 -0.948239               0                0              1\n",
            "7  1.460572  1.506790               1                0              0\n",
            "3 -0.038061 -0.129896               0                0              1\n",
            "0  0.861119  0.870301               1                0              0\n",
            "5 -0.487650 -0.402677               1                0              0\n"
          ]
        }
      ]
    }
  ]
}