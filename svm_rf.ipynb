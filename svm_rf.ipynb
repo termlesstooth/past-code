{
  "nbformat": 4,
  "nbformat_minor": 0,
  "metadata": {
    "colab": {
      "provenance": []
    },
    "kernelspec": {
      "name": "python3",
      "display_name": "Python 3"
    },
    "language_info": {
      "name": "python"
    }
  },
  "cells": [
    {
      "cell_type": "markdown",
      "source": [
        "# Mount the drive\n"
      ],
      "metadata": {
        "id": "eizCxJmfYJ5u"
      }
    },
    {
      "cell_type": "code",
      "execution_count": null,
      "metadata": {
        "colab": {
          "base_uri": "https://localhost:8080/"
        },
        "id": "Of2GQnNkYBGv",
        "outputId": "53674cba-9dde-4719-ece8-1dfe7f856f96"
      },
      "outputs": [
        {
          "output_type": "stream",
          "name": "stdout",
          "text": [
            "Drive already mounted at /content/drive; to attempt to forcibly remount, call drive.mount(\"/content/drive\", force_remount=True).\n"
          ]
        }
      ],
      "source": [
        "from google.colab import drive\n",
        "drive.mount('/content/drive')\n",
        "import os\n",
        "os.chdir('/content/drive/My Drive/Process mining course/6_support_vector_machine_assignment')"
      ]
    },
    {
      "cell_type": "markdown",
      "source": [
        "#Import the libraries"
      ],
      "metadata": {
        "id": "wM1QMemPY2LP"
      }
    },
    {
      "cell_type": "code",
      "source": [
        "# import libraries\n",
        "import sklearn\n",
        "import numpy as np\n",
        "import pandas as pd\n",
        "from sklearn import svm\n",
        "from sklearn.preprocessing import StandardScaler"
      ],
      "metadata": {
        "id": "WSiokK1EZA45"
      },
      "execution_count": null,
      "outputs": []
    },
    {
      "cell_type": "markdown",
      "source": [
        "#Import the data set"
      ],
      "metadata": {
        "id": "lUgmKfUEZDAE"
      }
    },
    {
      "cell_type": "code",
      "source": [
        "# import the dataset\n",
        "df = pd.read_csv(r'Position_Salaries_poly.csv')\n",
        "\n",
        "# separate dependent variable\n",
        "X = df.iloc[:,:-1]\n",
        "y = df.iloc[:,-1]\n",
        "\n",
        "# Preprocessing\n",
        "# drop the position column since it is a text representation of level\n",
        "X = X.drop('Position', axis = 1)\n",
        "\n",
        "# scale the data\n",
        "scaler = StandardScaler()\n",
        "X = scaler.fit_transform(X)\n"
      ],
      "metadata": {
        "colab": {
          "base_uri": "https://localhost:8080/"
        },
        "id": "ZdIrJejtZGXt",
        "outputId": "79d2b711-9fb4-4f51-cdb7-f560bd78b53a"
      },
      "execution_count": null,
      "outputs": [
        {
          "output_type": "stream",
          "name": "stdout",
          "text": [
            "[[-1.5666989 ]\n",
            " [-1.21854359]\n",
            " [-0.87038828]\n",
            " [-0.52223297]\n",
            " [-0.17407766]\n",
            " [ 0.17407766]\n",
            " [ 0.52223297]\n",
            " [ 0.87038828]\n",
            " [ 1.21854359]\n",
            " [ 1.5666989 ]]\n"
          ]
        }
      ]
    },
    {
      "cell_type": "markdown",
      "source": [
        "#Train SVM Model\n"
      ],
      "metadata": {
        "id": "ec7hB1Wkaiqn"
      }
    },
    {
      "cell_type": "code",
      "source": [
        "# reshape the input data to a 2D array\n",
        "X = np.array(X).reshape(-1,1)\n",
        "\n",
        "# train SVM model\n",
        "regressor = svm.SVR()\n",
        "regressor.fit(X,y)\n",
        "\n",
        "# make a prediction\n",
        "new_data_point = scaler.transform([[6.5]])\n",
        "prediction = regressor.predict(new_data_point)\n",
        "print(prediction)\n"
      ],
      "metadata": {
        "colab": {
          "base_uri": "https://localhost:8080/"
        },
        "id": "IkxB85ljaiOL",
        "outputId": "72b30553-385d-470c-faf8-e8683411aa3c"
      },
      "execution_count": null,
      "outputs": [
        {
          "output_type": "stream",
          "name": "stdout",
          "text": [
            "[130001.82883924]\n"
          ]
        },
        {
          "output_type": "stream",
          "name": "stderr",
          "text": [
            "/usr/local/lib/python3.8/dist-packages/sklearn/base.py:450: UserWarning: X does not have valid feature names, but StandardScaler was fitted with feature names\n",
            "  warnings.warn(\n"
          ]
        }
      ]
    },
    {
      "cell_type": "markdown",
      "source": [
        "#Train Random Forrest Model\n"
      ],
      "metadata": {
        "id": "PDWk-2VafE1R"
      }
    },
    {
      "cell_type": "code",
      "source": [
        "from sklearn.ensemble import RandomForestRegressor\n",
        "\n",
        "# train RF model\n",
        "regressor = RandomForestRegressor(n_estimators = 10, random_state = 0)\n",
        "regressor.fit(X,y)\n",
        "\n",
        "# make a prediction\n",
        "prediction = regressor.predict([[6.5]])\n",
        "print(prediction)"
      ],
      "metadata": {
        "colab": {
          "base_uri": "https://localhost:8080/"
        },
        "id": "m720wopIfI4m",
        "outputId": "1358ae29-65ac-4248-c37b-51995e65a202"
      },
      "execution_count": null,
      "outputs": [
        {
          "output_type": "stream",
          "name": "stdout",
          "text": [
            "[850000.]\n"
          ]
        }
      ]
    }
  ]
}