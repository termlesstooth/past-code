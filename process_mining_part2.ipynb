{
  "cells": [
    {
      "cell_type": "code",
      "source": [
        "from google.colab import drive\n",
        "drive.mount('/content/drive')"
      ],
      "metadata": {
        "colab": {
          "base_uri": "https://localhost:8080/"
        },
        "id": "xTLf586uPk17",
        "outputId": "fecc9ec0-1584-47a8-b4ce-f448c1ace332"
      },
      "id": "xTLf586uPk17",
      "execution_count": null,
      "outputs": [
        {
          "output_type": "stream",
          "name": "stdout",
          "text": [
            "Drive already mounted at /content/drive; to attempt to forcibly remount, call drive.mount(\"/content/drive\", force_remount=True).\n"
          ]
        }
      ]
    },
    {
      "cell_type": "code",
      "source": [
        "!pip install pm4py==2.1.4"
      ],
      "metadata": {
        "colab": {
          "base_uri": "https://localhost:8080/"
        },
        "id": "ZKggIx4rPsv7",
        "outputId": "cb8deb3d-65a4-41ff-eb18-008e563a08a8"
      },
      "id": "ZKggIx4rPsv7",
      "execution_count": null,
      "outputs": [
        {
          "output_type": "stream",
          "name": "stdout",
          "text": [
            "Looking in indexes: https://pypi.org/simple, https://us-python.pkg.dev/colab-wheels/public/simple/\n",
            "Requirement already satisfied: pm4py==2.1.4 in /usr/local/lib/python3.8/dist-packages (2.1.4)\n",
            "Requirement already satisfied: graphviz in /usr/local/lib/python3.8/dist-packages (from pm4py==2.1.4) (0.10.1)\n",
            "Requirement already satisfied: scikit-learn in /usr/local/lib/python3.8/dist-packages (from pm4py==2.1.4) (1.0.2)\n",
            "Requirement already satisfied: pyvis in /usr/local/lib/python3.8/dist-packages (from pm4py==2.1.4) (0.3.1)\n",
            "Requirement already satisfied: stringdist in /usr/local/lib/python3.8/dist-packages (from pm4py==2.1.4) (1.0.9)\n",
            "Requirement already satisfied: jsonpickle in /usr/local/lib/python3.8/dist-packages (from pm4py==2.1.4) (3.0.1)\n",
            "Requirement already satisfied: networkx in /usr/local/lib/python3.8/dist-packages (from pm4py==2.1.4) (3.0)\n",
            "Requirement already satisfied: numpy<=1.19.3 in /usr/local/lib/python3.8/dist-packages (from pm4py==2.1.4) (1.19.3)\n",
            "Requirement already satisfied: pulp<=2.1 in /usr/local/lib/python3.8/dist-packages (from pm4py==2.1.4) (2.1)\n",
            "Requirement already satisfied: scipy in /usr/local/lib/python3.8/dist-packages (from pm4py==2.1.4) (1.7.3)\n",
            "Requirement already satisfied: tqdm in /usr/local/lib/python3.8/dist-packages (from pm4py==2.1.4) (4.64.1)\n",
            "Requirement already satisfied: deprecation in /usr/local/lib/python3.8/dist-packages (from pm4py==2.1.4) (2.1.0)\n",
            "Requirement already satisfied: pydotplus in /usr/local/lib/python3.8/dist-packages (from pm4py==2.1.4) (2.0.2)\n",
            "Requirement already satisfied: lxml in /usr/local/lib/python3.8/dist-packages (from pm4py==2.1.4) (4.9.2)\n",
            "Requirement already satisfied: cvxopt in /usr/local/lib/python3.8/dist-packages (from pm4py==2.1.4) (1.3.0)\n",
            "Requirement already satisfied: pandas in /usr/local/lib/python3.8/dist-packages (from pm4py==2.1.4) (1.3.5)\n",
            "Requirement already satisfied: pytz in /usr/local/lib/python3.8/dist-packages (from pm4py==2.1.4) (2022.7)\n",
            "Requirement already satisfied: intervaltree in /usr/local/lib/python3.8/dist-packages (from pm4py==2.1.4) (2.1.0)\n",
            "Requirement already satisfied: matplotlib in /usr/local/lib/python3.8/dist-packages (from pm4py==2.1.4) (3.2.2)\n",
            "Requirement already satisfied: sympy in /usr/local/lib/python3.8/dist-packages (from pm4py==2.1.4) (1.7.1)\n",
            "Requirement already satisfied: pyparsing>=2.0.1 in /usr/local/lib/python3.8/dist-packages (from pulp<=2.1->pm4py==2.1.4) (3.0.9)\n",
            "Requirement already satisfied: packaging in /usr/local/lib/python3.8/dist-packages (from deprecation->pm4py==2.1.4) (21.3)\n",
            "Requirement already satisfied: sortedcontainers in /usr/local/lib/python3.8/dist-packages (from intervaltree->pm4py==2.1.4) (2.4.0)\n",
            "Requirement already satisfied: python-dateutil>=2.1 in /usr/local/lib/python3.8/dist-packages (from matplotlib->pm4py==2.1.4) (2.8.2)\n",
            "Requirement already satisfied: kiwisolver>=1.0.1 in /usr/local/lib/python3.8/dist-packages (from matplotlib->pm4py==2.1.4) (1.4.4)\n",
            "Requirement already satisfied: cycler>=0.10 in /usr/local/lib/python3.8/dist-packages (from matplotlib->pm4py==2.1.4) (0.11.0)\n",
            "Requirement already satisfied: ipython>=5.3.0 in /usr/local/lib/python3.8/dist-packages (from pyvis->pm4py==2.1.4) (7.9.0)\n",
            "Requirement already satisfied: jinja2>=2.9.6 in /usr/local/lib/python3.8/dist-packages (from pyvis->pm4py==2.1.4) (2.11.3)\n",
            "Requirement already satisfied: threadpoolctl>=2.0.0 in /usr/local/lib/python3.8/dist-packages (from scikit-learn->pm4py==2.1.4) (3.1.0)\n",
            "Requirement already satisfied: joblib>=0.11 in /usr/local/lib/python3.8/dist-packages (from scikit-learn->pm4py==2.1.4) (1.2.0)\n",
            "Requirement already satisfied: mpmath>=0.19 in /usr/local/lib/python3.8/dist-packages (from sympy->pm4py==2.1.4) (1.2.1)\n",
            "Requirement already satisfied: jedi>=0.10 in /usr/local/lib/python3.8/dist-packages (from ipython>=5.3.0->pyvis->pm4py==2.1.4) (0.18.2)\n",
            "Requirement already satisfied: traitlets>=4.2 in /usr/local/lib/python3.8/dist-packages (from ipython>=5.3.0->pyvis->pm4py==2.1.4) (5.7.1)\n",
            "Requirement already satisfied: decorator in /usr/local/lib/python3.8/dist-packages (from ipython>=5.3.0->pyvis->pm4py==2.1.4) (4.4.2)\n",
            "Requirement already satisfied: setuptools>=18.5 in /usr/local/lib/python3.8/dist-packages (from ipython>=5.3.0->pyvis->pm4py==2.1.4) (57.4.0)\n",
            "Requirement already satisfied: backcall in /usr/local/lib/python3.8/dist-packages (from ipython>=5.3.0->pyvis->pm4py==2.1.4) (0.2.0)\n",
            "Requirement already satisfied: pexpect in /usr/local/lib/python3.8/dist-packages (from ipython>=5.3.0->pyvis->pm4py==2.1.4) (4.8.0)\n",
            "Requirement already satisfied: pickleshare in /usr/local/lib/python3.8/dist-packages (from ipython>=5.3.0->pyvis->pm4py==2.1.4) (0.7.5)\n",
            "Requirement already satisfied: pygments in /usr/local/lib/python3.8/dist-packages (from ipython>=5.3.0->pyvis->pm4py==2.1.4) (2.6.1)\n",
            "Requirement already satisfied: prompt-toolkit<2.1.0,>=2.0.0 in /usr/local/lib/python3.8/dist-packages (from ipython>=5.3.0->pyvis->pm4py==2.1.4) (2.0.10)\n",
            "Requirement already satisfied: MarkupSafe>=0.23 in /usr/local/lib/python3.8/dist-packages (from jinja2>=2.9.6->pyvis->pm4py==2.1.4) (2.0.1)\n",
            "Requirement already satisfied: six>=1.5 in /usr/local/lib/python3.8/dist-packages (from python-dateutil>=2.1->matplotlib->pm4py==2.1.4) (1.15.0)\n",
            "Requirement already satisfied: parso<0.9.0,>=0.8.0 in /usr/local/lib/python3.8/dist-packages (from jedi>=0.10->ipython>=5.3.0->pyvis->pm4py==2.1.4) (0.8.3)\n",
            "Requirement already satisfied: wcwidth in /usr/local/lib/python3.8/dist-packages (from prompt-toolkit<2.1.0,>=2.0.0->ipython>=5.3.0->pyvis->pm4py==2.1.4) (0.2.5)\n",
            "Requirement already satisfied: ptyprocess>=0.5 in /usr/local/lib/python3.8/dist-packages (from pexpect->ipython>=5.3.0->pyvis->pm4py==2.1.4) (0.7.0)\n"
          ]
        }
      ]
    },
    {
      "cell_type": "code",
      "source": [
        "import os"
      ],
      "metadata": {
        "id": "WbKkxjqfQPqP"
      },
      "id": "WbKkxjqfQPqP",
      "execution_count": null,
      "outputs": []
    },
    {
      "cell_type": "code",
      "source": [
        "#Changing the directory\n",
        "os.chdir('/content/drive/My Drive/Process mining course/Part 2 Project-2')"
      ],
      "metadata": {
        "id": "BJsyPD7jQSn1"
      },
      "id": "BJsyPD7jQSn1",
      "execution_count": null,
      "outputs": []
    },
    {
      "cell_type": "code",
      "execution_count": null,
      "id": "b7a69ade",
      "metadata": {
        "id": "b7a69ade"
      },
      "outputs": [],
      "source": [
        "import matplotlib.pyplot as plt\n",
        "import numpy as np\n",
        "import pandas as pd\n",
        "import json\n",
        "import sklearn\n",
        "\n",
        "from pydream.predictive.nap.NAP import NAP, multiclass_roc_auc_score\n",
        "import pickle\n",
        "from sklearn.metrics import confusion_matrix, accuracy_score, precision_recall_fscore_support,precision_score, recall_score, roc_auc_score\n",
        "from sklearn.preprocessing import MinMaxScaler\n",
        "\n",
        "from pydream.EnhancedPN import EnhancedPN\n",
        "from pm4py.objects.petri.importer import importer as pnml_importer\n",
        "from backend.stat.ci_auc import calculate_auc_ci"
      ]
    },
    {
      "cell_type": "code",
      "execution_count": null,
      "id": "0f0a3dc4",
      "metadata": {
        "id": "0f0a3dc4"
      },
      "outputs": [],
      "source": [
        "train_json = \"tss_heart_log_train0.json\"\n",
        "valid_json =\"tss_heart_log_val0.json\"\n",
        "test_json = \"tss_heart_log_test0.json\""
      ]
    },
    {
      "cell_type": "code",
      "execution_count": null,
      "id": "0470f974",
      "metadata": {
        "colab": {
          "base_uri": "https://localhost:8080/"
        },
        "id": "0470f974",
        "outputId": "20788c55-bd46-4738-8d3b-62c34011dd4d"
      },
      "outputs": [
        {
          "output_type": "stream",
          "name": "stdout",
          "text": [
            "Xtrain shape: (8403, 1920)\n",
            "X2train shape: (8403, 3)\n",
            "Severity train shape: (8403, 58)\n",
            "X2test shape: (1531, 3)\n",
            "Xtest shape: (1531, 1920)\n",
            "Severity test shape: (1531, 58)\n",
            "Ytrain shape: (8403, 2)\n",
            "Ytest shape: (1531, 2)\n"
          ]
        },
        {
          "output_type": "stream",
          "name": "stderr",
          "text": [
            "/usr/local/lib/python3.8/dist-packages/keras/optimizers/optimizer_v2/adam.py:110: UserWarning: The `lr` argument is deprecated, use `learning_rate` instead.\n",
            "  super(Adam, self).__init__(name, **kwargs)\n"
          ]
        },
        {
          "output_type": "stream",
          "name": "stdout",
          "text": [
            "Class weights :  <module 'sklearn.utils.class_weight' from '/usr/local/lib/python3.8/dist-packages/sklearn/utils/class_weight.py'>\n",
            "Train on 8403 samples, validate on 1531 samples\n",
            "Epoch 1/2\n",
            "8400/8403 [============================>.] - ETA: 0s - loss: 0.8473 - acc: 0.1627"
          ]
        },
        {
          "output_type": "stream",
          "name": "stderr",
          "text": [
            "/usr/local/lib/python3.8/dist-packages/keras/engine/training_v1.py:2045: UserWarning: `Model.state_updates` will be removed in a future version. This property should not be used in TensorFlow 2.0, as `updates` are applied automatically.\n",
            "  updates = self.state_updates\n",
            "/usr/local/lib/python3.8/dist-packages/keras/engine/training_v1.py:2067: UserWarning: `Model.state_updates` will be removed in a future version. This property should not be used in TensorFlow 2.0, as `updates` are applied automatically.\n",
            "  updates=self.state_updates,\n"
          ]
        },
        {
          "output_type": "stream",
          "name": "stdout",
          "text": [
            "test_prec_mean 0.08001306335728282\n",
            "test_rec_mean 0.5\n",
            "test_fscore_mean 0.13795045045045046\n",
            "test_auc_mean 0.5\n",
            "\n",
            "Epoch 1: test_rec_mean improved from -inf to 0.50000, saving model to chk_points/HF_model_split_weights.hdf5\n",
            "8403/8403 [==============================] - 17s 2ms/sample - loss: 0.8472 - acc: 0.1627 - val_loss: 1.4583 - val_acc: 0.1600 - test_acc: 0.1600 - test_prec_weighted: 0.0256 - test_rec_weighted: 0.1600 - test_loss: 1.4583 - test_fscore_weighted: 0.0442 - test_auc_weighted: 0.5000 - test_prec_mean: 0.0800 - test_rec_mean: 0.5000 - test_fscore_mean: 0.1380 - test_auc_mean: 0.5000 - lr: 0.0010\n",
            "Epoch 2/2\n",
            "8400/8403 [============================>.] - ETA: 0s - loss: 0.8090 - acc: 0.1594test_prec_mean 0.08001306335728282\n",
            "test_rec_mean 0.5\n",
            "test_fscore_mean 0.13795045045045046\n",
            "test_auc_mean 0.5\n",
            "\n",
            "Epoch 2: test_rec_mean did not improve from 0.50000\n",
            "8403/8403 [==============================] - 15s 2ms/sample - loss: 0.8089 - acc: 0.1593 - val_loss: 1.3043 - val_acc: 0.1600 - test_acc: 0.1600 - test_prec_weighted: 0.0256 - test_rec_weighted: 0.1600 - test_loss: 1.3043 - test_fscore_weighted: 0.0442 - test_auc_weighted: 0.5000 - test_prec_mean: 0.0800 - test_rec_mean: 0.5000 - test_fscore_mean: 0.1380 - test_auc_mean: 0.5000 - lr: 0.0010\n"
          ]
        }
      ],
      "source": [
        "train_algo = NAP(tss_train_file=train_json, tss_test_file=valid_json, options={\"n_epochs\" : 2})\n",
        "train_algo.train(checkpoint_path=\"chk_points\", name=\"HF_model\", save_results=True)"
      ]
    },
    {
      "cell_type": "code",
      "execution_count": null,
      "id": "83296661",
      "metadata": {
        "id": "83296661"
      },
      "outputs": [],
      "source": [
        "algo = NAP()\n",
        "algo.loadModel(path=\"chk_points\", name=\"HF_model\")\n",
        "\n",
        "X_test, X2_test, severity_test, Y_test = algo.loadData(test_json)"
      ]
    },
    {
      "cell_type": "code",
      "execution_count": null,
      "id": "2c537026",
      "metadata": {
        "colab": {
          "base_uri": "https://localhost:8080/"
        },
        "id": "2c537026",
        "outputId": "314c1807-6925-4c6e-9bd3-cd3db72ef269"
      },
      "outputs": [
        {
          "output_type": "stream",
          "name": "stderr",
          "text": [
            "/usr/local/lib/python3.8/dist-packages/keras/engine/training_v1.py:2067: UserWarning: `Model.state_updates` will be removed in a future version. This property should not be used in TensorFlow 2.0, as `updates` are applied automatically.\n",
            "  updates=self.state_updates,\n"
          ]
        }
      ],
      "source": [
        "stdScaler = MinMaxScaler()\n",
        "stdScaler.fit(X_test)\n",
        "X_test = stdScaler.transform(X_test)\n",
        "stdScaler.fit(X2_test)\n",
        "X2_test = stdScaler.transform(X2_test)\n",
        "stdScaler.fit(severity_test)\n",
        "severity_test = stdScaler.transform(severity_test)\n",
        "\n",
        "Y_test_int = np.array([int(i) for i in Y_test])\n",
        "y_prob = algo.model.predict([X_test,X2_test,severity_test])\n",
        "y_pred = np.argmax(y_prob, axis=1)\n",
        "\n",
        "test_acc = accuracy_score(Y_test_int, y_pred, normalize=True)"
      ]
    },
    {
      "cell_type": "code",
      "execution_count": null,
      "id": "e294b3e5",
      "metadata": {
        "colab": {
          "base_uri": "https://localhost:8080/"
        },
        "id": "e294b3e5",
        "outputId": "53885764-0843-40b7-acea-25b9a442fc72"
      },
      "outputs": [
        {
          "output_type": "stream",
          "name": "stdout",
          "text": [
            "*** Confusion Matrix ***\n",
            "true\\pred     0     1 \n",
            "        0   0.0 237.0 \n",
            "        1   0.0  57.0 \n",
            "\n",
            "AUC Score:  0.7223332593086091\n",
            "AUC_cov:  0.001192961125642452\n",
            "confidence interval:  [0.65463754 0.79002898]\n"
          ]
        }
      ],
      "source": [
        "y_true =Y_test_int\n",
        "y_probscore = []\n",
        "list_of_lists = []\n",
        "for x in y_prob:\n",
        "    list_of_lists.append(list(x))\n",
        "    y_probscore.append(list(x)[1])\n",
        "\n",
        "\n",
        "y_score = np.array(y_probscore)\n",
        "y_pred = np.around(y_pred)\n",
        "y_true = np.array(y_true)\n",
        "auc, auc_cov, ci = calculate_auc_ci(y_true,y_score,y_pred, alpha=0.95)\n",
        "print(\"AUC Score: \",auc)\n",
        "print(\"AUC_cov: \", auc_cov)\n",
        "print(\"confidence interval: \",ci)"
      ]
    }
  ],
  "metadata": {
    "kernelspec": {
      "display_name": "Python 3",
      "language": "python",
      "name": "python3"
    },
    "language_info": {
      "codemirror_mode": {
        "name": "ipython",
        "version": 3
      },
      "file_extension": ".py",
      "mimetype": "text/x-python",
      "name": "python",
      "nbconvert_exporter": "python",
      "pygments_lexer": "ipython3",
      "version": "3.8.8"
    },
    "colab": {
      "provenance": []
    }
  },
  "nbformat": 4,
  "nbformat_minor": 5
}