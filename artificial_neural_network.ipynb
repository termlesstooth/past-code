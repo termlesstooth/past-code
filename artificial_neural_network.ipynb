{
  "nbformat": 4,
  "nbformat_minor": 0,
  "metadata": {
    "colab": {
      "provenance": []
    },
    "kernelspec": {
      "name": "python3",
      "display_name": "Python 3"
    },
    "language_info": {
      "name": "python"
    }
  },
  "cells": [
    {
      "cell_type": "markdown",
      "source": [
        "#Mount the drive"
      ],
      "metadata": {
        "id": "RMwCqyqbd8AR"
      }
    },
    {
      "cell_type": "code",
      "execution_count": 1,
      "metadata": {
        "colab": {
          "base_uri": "https://localhost:8080/"
        },
        "id": "tGwxr-7Ld4-H",
        "outputId": "368cfcea-f2c4-4317-93f8-2f9a876b4414"
      },
      "outputs": [
        {
          "output_type": "stream",
          "name": "stdout",
          "text": [
            "Mounted at /content/drive\n"
          ]
        }
      ],
      "source": [
        "from google.colab import drive\n",
        "drive.mount('/content/drive')\n",
        "import os\n",
        "os.chdir('/content/drive/My Drive/Process mining course/final_project')"
      ]
    },
    {
      "cell_type": "markdown",
      "source": [
        "#Import the libraries"
      ],
      "metadata": {
        "id": "D-9btAehfTCE"
      }
    },
    {
      "cell_type": "code",
      "source": [
        "import numpy as np\n",
        "import pandas as pd\n",
        "import tensorflow as tf\n",
        "from tensorflow import keras\n",
        "from sklearn.preprocessing import StandardScaler\n",
        "from sklearn.model_selection import train_test_split\n",
        "import matplotlib.pyplot as plt"
      ],
      "metadata": {
        "id": "2dZL2feTfUwt"
      },
      "execution_count": 2,
      "outputs": []
    },
    {
      "cell_type": "markdown",
      "source": [
        "# Load the dataset"
      ],
      "metadata": {
        "id": "zADouvp9fgyL"
      }
    },
    {
      "cell_type": "code",
      "source": [
        "df = pd.read_csv(r'creditcard.csv')\n",
        "df"
      ],
      "metadata": {
        "colab": {
          "base_uri": "https://localhost:8080/",
          "height": 424
        },
        "id": "_hKOA_vQfXKJ",
        "outputId": "150244c1-7f0c-49de-dcf1-a905172cd589"
      },
      "execution_count": 3,
      "outputs": [
        {
          "output_type": "execute_result",
          "data": {
            "text/plain": [
              "        Time        V1        V2        V3        V4        V5        V6  \\\n",
              "0          0 -1.359807 -0.072781  2.536347  1.378155 -0.338321  0.462388   \n",
              "1          0  1.191857  0.266151  0.166480  0.448154  0.060018 -0.082361   \n",
              "2          1 -1.358354 -1.340163  1.773209  0.379780 -0.503198  1.800499   \n",
              "3          1 -0.966272 -0.185226  1.792993 -0.863291 -0.010309  1.247203   \n",
              "4          2 -1.158233  0.877737  1.548718  0.403034 -0.407193  0.095921   \n",
              "...      ...       ...       ...       ...       ...       ...       ...   \n",
              "39994  40049 -2.856643 -1.580895  1.183275 -1.862689 -2.579951 -1.043656   \n",
              "39995  40049 -1.051131  0.606656  0.441297  0.590587 -0.118730  1.010767   \n",
              "39996  40049  1.188332  0.360587 -0.024267  1.179898 -0.095200 -0.975171   \n",
              "39997  40050  1.038810 -2.090833  0.852849 -0.847290 -2.112321  0.291188   \n",
              "39998  40052  1.211027  0.614544 -0.459212  0.900736  0.135725 -1.175774   \n",
              "\n",
              "             V7        V8        V9  ...       V21       V22       V23  \\\n",
              "0      0.239599  0.098698  0.363787  ... -0.018307  0.277838 -0.110474   \n",
              "1     -0.078803  0.085102 -0.255425  ... -0.225775 -0.638672  0.101288   \n",
              "2      0.791461  0.247676 -1.514654  ...  0.247998  0.771679  0.909412   \n",
              "3      0.237609  0.377436 -1.387024  ... -0.108300  0.005274 -0.190321   \n",
              "4      0.592941 -0.270533  0.817739  ... -0.009431  0.798278 -0.137458   \n",
              "...         ...       ...       ...  ...       ...       ...       ...   \n",
              "39994 -1.007610  0.919906 -1.879716  ... -0.012102 -0.304192 -0.142939   \n",
              "39995  2.282192 -0.751310  0.141134  ... -0.168207  0.495169 -0.066540   \n",
              "39996  0.403633 -0.160097 -0.460291  ...  0.063470  0.115945 -0.129453   \n",
              "39997 -1.321491  0.007713 -0.771225  ... -0.059743  0.138289 -0.341212   \n",
              "39998  0.337603 -0.198540 -0.188104  ... -0.105254 -0.214124 -0.013156   \n",
              "\n",
              "            V24       V25       V26       V27       V28  Amount  Class  \n",
              "0      0.066928  0.128539 -0.189115  0.133558 -0.021053  149.62      0  \n",
              "1     -0.339846  0.167170  0.125895 -0.008983  0.014724    2.69      0  \n",
              "2     -0.689281 -0.327642 -0.139097 -0.055353 -0.059752  378.66      0  \n",
              "3     -1.175575  0.647376 -0.221929  0.062723  0.061458  123.50      0  \n",
              "4      0.141267 -0.206010  0.502292  0.219422  0.215153   69.99      0  \n",
              "...         ...       ...       ...       ...       ...     ...    ...  \n",
              "39994  0.659917  0.200746 -0.314130  0.273768 -0.199219  215.09      0  \n",
              "39995 -0.904026 -0.149187 -0.302797 -0.188726 -0.248812  280.18      0  \n",
              "39996  0.527456  0.748484 -0.308659 -0.022350  0.003130   15.33      0  \n",
              "39997 -0.045303  0.516037  0.016258  0.051843  0.061811  236.19      0  \n",
              "39998  0.287419  0.453268  0.378507 -0.013994  0.042698    0.76      0  \n",
              "\n",
              "[39999 rows x 31 columns]"
            ],
            "text/html": [
              "\n",
              "  <div id=\"df-e53a9e30-1c6d-42d5-8f0c-166bda049b09\">\n",
              "    <div class=\"colab-df-container\">\n",
              "      <div>\n",
              "<style scoped>\n",
              "    .dataframe tbody tr th:only-of-type {\n",
              "        vertical-align: middle;\n",
              "    }\n",
              "\n",
              "    .dataframe tbody tr th {\n",
              "        vertical-align: top;\n",
              "    }\n",
              "\n",
              "    .dataframe thead th {\n",
              "        text-align: right;\n",
              "    }\n",
              "</style>\n",
              "<table border=\"1\" class=\"dataframe\">\n",
              "  <thead>\n",
              "    <tr style=\"text-align: right;\">\n",
              "      <th></th>\n",
              "      <th>Time</th>\n",
              "      <th>V1</th>\n",
              "      <th>V2</th>\n",
              "      <th>V3</th>\n",
              "      <th>V4</th>\n",
              "      <th>V5</th>\n",
              "      <th>V6</th>\n",
              "      <th>V7</th>\n",
              "      <th>V8</th>\n",
              "      <th>V9</th>\n",
              "      <th>...</th>\n",
              "      <th>V21</th>\n",
              "      <th>V22</th>\n",
              "      <th>V23</th>\n",
              "      <th>V24</th>\n",
              "      <th>V25</th>\n",
              "      <th>V26</th>\n",
              "      <th>V27</th>\n",
              "      <th>V28</th>\n",
              "      <th>Amount</th>\n",
              "      <th>Class</th>\n",
              "    </tr>\n",
              "  </thead>\n",
              "  <tbody>\n",
              "    <tr>\n",
              "      <th>0</th>\n",
              "      <td>0</td>\n",
              "      <td>-1.359807</td>\n",
              "      <td>-0.072781</td>\n",
              "      <td>2.536347</td>\n",
              "      <td>1.378155</td>\n",
              "      <td>-0.338321</td>\n",
              "      <td>0.462388</td>\n",
              "      <td>0.239599</td>\n",
              "      <td>0.098698</td>\n",
              "      <td>0.363787</td>\n",
              "      <td>...</td>\n",
              "      <td>-0.018307</td>\n",
              "      <td>0.277838</td>\n",
              "      <td>-0.110474</td>\n",
              "      <td>0.066928</td>\n",
              "      <td>0.128539</td>\n",
              "      <td>-0.189115</td>\n",
              "      <td>0.133558</td>\n",
              "      <td>-0.021053</td>\n",
              "      <td>149.62</td>\n",
              "      <td>0</td>\n",
              "    </tr>\n",
              "    <tr>\n",
              "      <th>1</th>\n",
              "      <td>0</td>\n",
              "      <td>1.191857</td>\n",
              "      <td>0.266151</td>\n",
              "      <td>0.166480</td>\n",
              "      <td>0.448154</td>\n",
              "      <td>0.060018</td>\n",
              "      <td>-0.082361</td>\n",
              "      <td>-0.078803</td>\n",
              "      <td>0.085102</td>\n",
              "      <td>-0.255425</td>\n",
              "      <td>...</td>\n",
              "      <td>-0.225775</td>\n",
              "      <td>-0.638672</td>\n",
              "      <td>0.101288</td>\n",
              "      <td>-0.339846</td>\n",
              "      <td>0.167170</td>\n",
              "      <td>0.125895</td>\n",
              "      <td>-0.008983</td>\n",
              "      <td>0.014724</td>\n",
              "      <td>2.69</td>\n",
              "      <td>0</td>\n",
              "    </tr>\n",
              "    <tr>\n",
              "      <th>2</th>\n",
              "      <td>1</td>\n",
              "      <td>-1.358354</td>\n",
              "      <td>-1.340163</td>\n",
              "      <td>1.773209</td>\n",
              "      <td>0.379780</td>\n",
              "      <td>-0.503198</td>\n",
              "      <td>1.800499</td>\n",
              "      <td>0.791461</td>\n",
              "      <td>0.247676</td>\n",
              "      <td>-1.514654</td>\n",
              "      <td>...</td>\n",
              "      <td>0.247998</td>\n",
              "      <td>0.771679</td>\n",
              "      <td>0.909412</td>\n",
              "      <td>-0.689281</td>\n",
              "      <td>-0.327642</td>\n",
              "      <td>-0.139097</td>\n",
              "      <td>-0.055353</td>\n",
              "      <td>-0.059752</td>\n",
              "      <td>378.66</td>\n",
              "      <td>0</td>\n",
              "    </tr>\n",
              "    <tr>\n",
              "      <th>3</th>\n",
              "      <td>1</td>\n",
              "      <td>-0.966272</td>\n",
              "      <td>-0.185226</td>\n",
              "      <td>1.792993</td>\n",
              "      <td>-0.863291</td>\n",
              "      <td>-0.010309</td>\n",
              "      <td>1.247203</td>\n",
              "      <td>0.237609</td>\n",
              "      <td>0.377436</td>\n",
              "      <td>-1.387024</td>\n",
              "      <td>...</td>\n",
              "      <td>-0.108300</td>\n",
              "      <td>0.005274</td>\n",
              "      <td>-0.190321</td>\n",
              "      <td>-1.175575</td>\n",
              "      <td>0.647376</td>\n",
              "      <td>-0.221929</td>\n",
              "      <td>0.062723</td>\n",
              "      <td>0.061458</td>\n",
              "      <td>123.50</td>\n",
              "      <td>0</td>\n",
              "    </tr>\n",
              "    <tr>\n",
              "      <th>4</th>\n",
              "      <td>2</td>\n",
              "      <td>-1.158233</td>\n",
              "      <td>0.877737</td>\n",
              "      <td>1.548718</td>\n",
              "      <td>0.403034</td>\n",
              "      <td>-0.407193</td>\n",
              "      <td>0.095921</td>\n",
              "      <td>0.592941</td>\n",
              "      <td>-0.270533</td>\n",
              "      <td>0.817739</td>\n",
              "      <td>...</td>\n",
              "      <td>-0.009431</td>\n",
              "      <td>0.798278</td>\n",
              "      <td>-0.137458</td>\n",
              "      <td>0.141267</td>\n",
              "      <td>-0.206010</td>\n",
              "      <td>0.502292</td>\n",
              "      <td>0.219422</td>\n",
              "      <td>0.215153</td>\n",
              "      <td>69.99</td>\n",
              "      <td>0</td>\n",
              "    </tr>\n",
              "    <tr>\n",
              "      <th>...</th>\n",
              "      <td>...</td>\n",
              "      <td>...</td>\n",
              "      <td>...</td>\n",
              "      <td>...</td>\n",
              "      <td>...</td>\n",
              "      <td>...</td>\n",
              "      <td>...</td>\n",
              "      <td>...</td>\n",
              "      <td>...</td>\n",
              "      <td>...</td>\n",
              "      <td>...</td>\n",
              "      <td>...</td>\n",
              "      <td>...</td>\n",
              "      <td>...</td>\n",
              "      <td>...</td>\n",
              "      <td>...</td>\n",
              "      <td>...</td>\n",
              "      <td>...</td>\n",
              "      <td>...</td>\n",
              "      <td>...</td>\n",
              "      <td>...</td>\n",
              "    </tr>\n",
              "    <tr>\n",
              "      <th>39994</th>\n",
              "      <td>40049</td>\n",
              "      <td>-2.856643</td>\n",
              "      <td>-1.580895</td>\n",
              "      <td>1.183275</td>\n",
              "      <td>-1.862689</td>\n",
              "      <td>-2.579951</td>\n",
              "      <td>-1.043656</td>\n",
              "      <td>-1.007610</td>\n",
              "      <td>0.919906</td>\n",
              "      <td>-1.879716</td>\n",
              "      <td>...</td>\n",
              "      <td>-0.012102</td>\n",
              "      <td>-0.304192</td>\n",
              "      <td>-0.142939</td>\n",
              "      <td>0.659917</td>\n",
              "      <td>0.200746</td>\n",
              "      <td>-0.314130</td>\n",
              "      <td>0.273768</td>\n",
              "      <td>-0.199219</td>\n",
              "      <td>215.09</td>\n",
              "      <td>0</td>\n",
              "    </tr>\n",
              "    <tr>\n",
              "      <th>39995</th>\n",
              "      <td>40049</td>\n",
              "      <td>-1.051131</td>\n",
              "      <td>0.606656</td>\n",
              "      <td>0.441297</td>\n",
              "      <td>0.590587</td>\n",
              "      <td>-0.118730</td>\n",
              "      <td>1.010767</td>\n",
              "      <td>2.282192</td>\n",
              "      <td>-0.751310</td>\n",
              "      <td>0.141134</td>\n",
              "      <td>...</td>\n",
              "      <td>-0.168207</td>\n",
              "      <td>0.495169</td>\n",
              "      <td>-0.066540</td>\n",
              "      <td>-0.904026</td>\n",
              "      <td>-0.149187</td>\n",
              "      <td>-0.302797</td>\n",
              "      <td>-0.188726</td>\n",
              "      <td>-0.248812</td>\n",
              "      <td>280.18</td>\n",
              "      <td>0</td>\n",
              "    </tr>\n",
              "    <tr>\n",
              "      <th>39996</th>\n",
              "      <td>40049</td>\n",
              "      <td>1.188332</td>\n",
              "      <td>0.360587</td>\n",
              "      <td>-0.024267</td>\n",
              "      <td>1.179898</td>\n",
              "      <td>-0.095200</td>\n",
              "      <td>-0.975171</td>\n",
              "      <td>0.403633</td>\n",
              "      <td>-0.160097</td>\n",
              "      <td>-0.460291</td>\n",
              "      <td>...</td>\n",
              "      <td>0.063470</td>\n",
              "      <td>0.115945</td>\n",
              "      <td>-0.129453</td>\n",
              "      <td>0.527456</td>\n",
              "      <td>0.748484</td>\n",
              "      <td>-0.308659</td>\n",
              "      <td>-0.022350</td>\n",
              "      <td>0.003130</td>\n",
              "      <td>15.33</td>\n",
              "      <td>0</td>\n",
              "    </tr>\n",
              "    <tr>\n",
              "      <th>39997</th>\n",
              "      <td>40050</td>\n",
              "      <td>1.038810</td>\n",
              "      <td>-2.090833</td>\n",
              "      <td>0.852849</td>\n",
              "      <td>-0.847290</td>\n",
              "      <td>-2.112321</td>\n",
              "      <td>0.291188</td>\n",
              "      <td>-1.321491</td>\n",
              "      <td>0.007713</td>\n",
              "      <td>-0.771225</td>\n",
              "      <td>...</td>\n",
              "      <td>-0.059743</td>\n",
              "      <td>0.138289</td>\n",
              "      <td>-0.341212</td>\n",
              "      <td>-0.045303</td>\n",
              "      <td>0.516037</td>\n",
              "      <td>0.016258</td>\n",
              "      <td>0.051843</td>\n",
              "      <td>0.061811</td>\n",
              "      <td>236.19</td>\n",
              "      <td>0</td>\n",
              "    </tr>\n",
              "    <tr>\n",
              "      <th>39998</th>\n",
              "      <td>40052</td>\n",
              "      <td>1.211027</td>\n",
              "      <td>0.614544</td>\n",
              "      <td>-0.459212</td>\n",
              "      <td>0.900736</td>\n",
              "      <td>0.135725</td>\n",
              "      <td>-1.175774</td>\n",
              "      <td>0.337603</td>\n",
              "      <td>-0.198540</td>\n",
              "      <td>-0.188104</td>\n",
              "      <td>...</td>\n",
              "      <td>-0.105254</td>\n",
              "      <td>-0.214124</td>\n",
              "      <td>-0.013156</td>\n",
              "      <td>0.287419</td>\n",
              "      <td>0.453268</td>\n",
              "      <td>0.378507</td>\n",
              "      <td>-0.013994</td>\n",
              "      <td>0.042698</td>\n",
              "      <td>0.76</td>\n",
              "      <td>0</td>\n",
              "    </tr>\n",
              "  </tbody>\n",
              "</table>\n",
              "<p>39999 rows × 31 columns</p>\n",
              "</div>\n",
              "      <button class=\"colab-df-convert\" onclick=\"convertToInteractive('df-e53a9e30-1c6d-42d5-8f0c-166bda049b09')\"\n",
              "              title=\"Convert this dataframe to an interactive table.\"\n",
              "              style=\"display:none;\">\n",
              "        \n",
              "  <svg xmlns=\"http://www.w3.org/2000/svg\" height=\"24px\"viewBox=\"0 0 24 24\"\n",
              "       width=\"24px\">\n",
              "    <path d=\"M0 0h24v24H0V0z\" fill=\"none\"/>\n",
              "    <path d=\"M18.56 5.44l.94 2.06.94-2.06 2.06-.94-2.06-.94-.94-2.06-.94 2.06-2.06.94zm-11 1L8.5 8.5l.94-2.06 2.06-.94-2.06-.94L8.5 2.5l-.94 2.06-2.06.94zm10 10l.94 2.06.94-2.06 2.06-.94-2.06-.94-.94-2.06-.94 2.06-2.06.94z\"/><path d=\"M17.41 7.96l-1.37-1.37c-.4-.4-.92-.59-1.43-.59-.52 0-1.04.2-1.43.59L10.3 9.45l-7.72 7.72c-.78.78-.78 2.05 0 2.83L4 21.41c.39.39.9.59 1.41.59.51 0 1.02-.2 1.41-.59l7.78-7.78 2.81-2.81c.8-.78.8-2.07 0-2.86zM5.41 20L4 18.59l7.72-7.72 1.47 1.35L5.41 20z\"/>\n",
              "  </svg>\n",
              "      </button>\n",
              "      \n",
              "  <style>\n",
              "    .colab-df-container {\n",
              "      display:flex;\n",
              "      flex-wrap:wrap;\n",
              "      gap: 12px;\n",
              "    }\n",
              "\n",
              "    .colab-df-convert {\n",
              "      background-color: #E8F0FE;\n",
              "      border: none;\n",
              "      border-radius: 50%;\n",
              "      cursor: pointer;\n",
              "      display: none;\n",
              "      fill: #1967D2;\n",
              "      height: 32px;\n",
              "      padding: 0 0 0 0;\n",
              "      width: 32px;\n",
              "    }\n",
              "\n",
              "    .colab-df-convert:hover {\n",
              "      background-color: #E2EBFA;\n",
              "      box-shadow: 0px 1px 2px rgba(60, 64, 67, 0.3), 0px 1px 3px 1px rgba(60, 64, 67, 0.15);\n",
              "      fill: #174EA6;\n",
              "    }\n",
              "\n",
              "    [theme=dark] .colab-df-convert {\n",
              "      background-color: #3B4455;\n",
              "      fill: #D2E3FC;\n",
              "    }\n",
              "\n",
              "    [theme=dark] .colab-df-convert:hover {\n",
              "      background-color: #434B5C;\n",
              "      box-shadow: 0px 1px 3px 1px rgba(0, 0, 0, 0.15);\n",
              "      filter: drop-shadow(0px 1px 2px rgba(0, 0, 0, 0.3));\n",
              "      fill: #FFFFFF;\n",
              "    }\n",
              "  </style>\n",
              "\n",
              "      <script>\n",
              "        const buttonEl =\n",
              "          document.querySelector('#df-e53a9e30-1c6d-42d5-8f0c-166bda049b09 button.colab-df-convert');\n",
              "        buttonEl.style.display =\n",
              "          google.colab.kernel.accessAllowed ? 'block' : 'none';\n",
              "\n",
              "        async function convertToInteractive(key) {\n",
              "          const element = document.querySelector('#df-e53a9e30-1c6d-42d5-8f0c-166bda049b09');\n",
              "          const dataTable =\n",
              "            await google.colab.kernel.invokeFunction('convertToInteractive',\n",
              "                                                     [key], {});\n",
              "          if (!dataTable) return;\n",
              "\n",
              "          const docLinkHtml = 'Like what you see? Visit the ' +\n",
              "            '<a target=\"_blank\" href=https://colab.research.google.com/notebooks/data_table.ipynb>data table notebook</a>'\n",
              "            + ' to learn more about interactive tables.';\n",
              "          element.innerHTML = '';\n",
              "          dataTable['output_type'] = 'display_data';\n",
              "          await google.colab.output.renderOutput(dataTable, element);\n",
              "          const docLink = document.createElement('div');\n",
              "          docLink.innerHTML = docLinkHtml;\n",
              "          element.appendChild(docLink);\n",
              "        }\n",
              "      </script>\n",
              "    </div>\n",
              "  </div>\n",
              "  "
            ]
          },
          "metadata": {},
          "execution_count": 3
        }
      ]
    },
    {
      "cell_type": "markdown",
      "source": [
        "# Data Preprocessing"
      ],
      "metadata": {
        "id": "UpQW431xhV1A"
      }
    },
    {
      "cell_type": "code",
      "source": [
        "# check for missing values\n",
        "missing=df.isnull().sum()\n",
        "print(missing)"
      ],
      "metadata": {
        "colab": {
          "base_uri": "https://localhost:8080/"
        },
        "id": "SetA8rGJ8iLJ",
        "outputId": "124c3691-e7d0-4dca-8ff8-c3b06fc64b87"
      },
      "execution_count": 4,
      "outputs": [
        {
          "output_type": "stream",
          "name": "stdout",
          "text": [
            "Time      0\n",
            "V1        0\n",
            "V2        0\n",
            "V3        0\n",
            "V4        0\n",
            "V5        0\n",
            "V6        0\n",
            "V7        0\n",
            "V8        0\n",
            "V9        0\n",
            "V10       0\n",
            "V11       0\n",
            "V12       0\n",
            "V13       0\n",
            "V14       0\n",
            "V15       0\n",
            "V16       0\n",
            "V17       0\n",
            "V18       0\n",
            "V19       0\n",
            "V20       0\n",
            "V21       0\n",
            "V22       0\n",
            "V23       0\n",
            "V24       0\n",
            "V25       0\n",
            "V26       0\n",
            "V27       0\n",
            "V28       0\n",
            "Amount    0\n",
            "Class     0\n",
            "dtype: int64\n"
          ]
        }
      ]
    },
    {
      "cell_type": "code",
      "source": [
        "df = df.drop(['Time'], axis = 1) # drop time column\n",
        "\n",
        "# split dependent variable\n",
        "X = df.iloc[:,:-1].values\n",
        "y = df.iloc[:,-1].values\n",
        "\n",
        "# no categorical data so don't need to do any encoding"
      ],
      "metadata": {
        "id": "5I6dp-mG8uIa"
      },
      "execution_count": 5,
      "outputs": []
    },
    {
      "cell_type": "code",
      "source": [
        "print(X)"
      ],
      "metadata": {
        "colab": {
          "base_uri": "https://localhost:8080/"
        },
        "id": "I4SYiLKP9cvB",
        "outputId": "58732cda-733c-4e6e-ff31-fa027a8b6931"
      },
      "execution_count": 6,
      "outputs": [
        {
          "output_type": "stream",
          "name": "stdout",
          "text": [
            "[[-1.35980713e+00 -7.27811733e-02  2.53634674e+00 ...  1.33558377e-01\n",
            "  -2.10530535e-02  1.49620000e+02]\n",
            " [ 1.19185711e+00  2.66150712e-01  1.66480113e-01 ... -8.98309914e-03\n",
            "   1.47241692e-02  2.69000000e+00]\n",
            " [-1.35835406e+00 -1.34016307e+00  1.77320934e+00 ... -5.53527940e-02\n",
            "  -5.97518406e-02  3.78660000e+02]\n",
            " ...\n",
            " [ 1.18833199e+00  3.60587271e-01 -2.42671732e-02 ... -2.23496673e-02\n",
            "   3.12981134e-03  1.53300000e+01]\n",
            " [ 1.03880985e+00 -2.09083275e+00  8.52849036e-01 ...  5.18432099e-02\n",
            "   6.18112614e-02  2.36190000e+02]\n",
            " [ 1.21102697e+00  6.14544124e-01 -4.59212064e-01 ... -1.39943023e-02\n",
            "   4.26975689e-02  7.60000000e-01]]\n"
          ]
        }
      ]
    },
    {
      "cell_type": "code",
      "source": [
        "print(y)"
      ],
      "metadata": {
        "colab": {
          "base_uri": "https://localhost:8080/"
        },
        "id": "ow0G0D-T9o8Z",
        "outputId": "300e6921-ac27-4632-804f-62c09bd2a68c"
      },
      "execution_count": 7,
      "outputs": [
        {
          "output_type": "stream",
          "name": "stdout",
          "text": [
            "[0 0 0 ... 0 0 0]\n"
          ]
        }
      ]
    },
    {
      "cell_type": "code",
      "source": [
        "# split dataset into training and test set\n",
        "X_train, X_test, y_train, y_test = train_test_split(X,y,test_size=0.2, random_state=0)"
      ],
      "metadata": {
        "id": "3e5TsOK9-FNg"
      },
      "execution_count": 8,
      "outputs": []
    },
    {
      "cell_type": "code",
      "source": [
        "# feature scaling\n",
        "\n",
        "# for any neural network model we must always apply feature scaling\n",
        "scaler = StandardScaler()\n",
        "X_train = scaler.fit_transform(X_train)\n",
        "X_test = scaler.transform(X_test)\n",
        "\n",
        "#df['Amount'] = scaler.fit_transform(df['Amount'].values.reshape(-1, 1))\n",
        "#df = df.drop(['Time'], axis=1)\n",
        "# check that they have the same scale \n",
        "\n",
        "# imbalanced dataset try sampling with replacement\n"
      ],
      "metadata": {
        "id": "g8owdTVlhYa0"
      },
      "execution_count": 9,
      "outputs": []
    },
    {
      "cell_type": "markdown",
      "source": [
        "# Build ANN"
      ],
      "metadata": {
        "id": "JvtTXb_0_ig3"
      }
    },
    {
      "cell_type": "code",
      "source": [
        "# Initialize the ANN\n",
        "ann = tf.keras.models.Sequential()\n",
        "\n",
        "# Adding the input layer and the first hidden layer\n",
        "ann.add(tf.keras.layers.Dense(units=6, activation='relu'))\n",
        "#TODO: change number of neurons and see how it effects outcome\n",
        "\n",
        "# Adding the second hidden layer\n",
        "ann.add(tf.keras.layers.Dense(units = 6, activation='relu'))\n",
        "\n",
        "# Adding the output layer, sigmoid allows the probab values if multi softmax\n",
        "ann.add(tf.keras.layers.Dense(units=1, activation='sigmoid')) # units is 1 because it is a binary prediction "
      ],
      "metadata": {
        "id": "6FEflZCp_19q"
      },
      "execution_count": 10,
      "outputs": []
    },
    {
      "cell_type": "markdown",
      "source": [
        "# Train the ANN"
      ],
      "metadata": {
        "id": "WaC7OX34us0d"
      }
    },
    {
      "cell_type": "code",
      "source": [
        "# Compile the ANN\n",
        "ann.compile(optimizer = 'adam', loss = 'binary_crossentropy', metrics = ['accuracy'])"
      ],
      "metadata": {
        "id": "pI_kUNP1uvCG"
      },
      "execution_count": 12,
      "outputs": []
    },
    {
      "cell_type": "code",
      "source": [
        "# training the ANN\n",
        "ann.fit(X_train, y_train, batch_size = 32, epochs = 100)"
      ],
      "metadata": {
        "colab": {
          "base_uri": "https://localhost:8080/"
        },
        "id": "5RH98DyTwemc",
        "outputId": "19d93f65-70f7-4359-d5db-74543c626245"
      },
      "execution_count": 13,
      "outputs": [
        {
          "output_type": "stream",
          "name": "stdout",
          "text": [
            "Epoch 1/100\n",
            "1000/1000 [==============================] - 5s 4ms/step - loss: 0.1005 - accuracy: 0.9794\n",
            "Epoch 2/100\n",
            "1000/1000 [==============================] - 2s 2ms/step - loss: 0.0062 - accuracy: 0.9983\n",
            "Epoch 3/100\n",
            "1000/1000 [==============================] - 3s 3ms/step - loss: 0.0049 - accuracy: 0.9987\n",
            "Epoch 4/100\n",
            "1000/1000 [==============================] - 2s 2ms/step - loss: 0.0044 - accuracy: 0.9986\n",
            "Epoch 5/100\n",
            "1000/1000 [==============================] - 2s 2ms/step - loss: 0.0039 - accuracy: 0.9987\n",
            "Epoch 6/100\n",
            "1000/1000 [==============================] - 2s 2ms/step - loss: 0.0036 - accuracy: 0.9990\n",
            "Epoch 7/100\n",
            "1000/1000 [==============================] - 2s 2ms/step - loss: 0.0034 - accuracy: 0.9988\n",
            "Epoch 8/100\n",
            "1000/1000 [==============================] - 2s 2ms/step - loss: 0.0032 - accuracy: 0.9988\n",
            "Epoch 9/100\n",
            "1000/1000 [==============================] - 2s 2ms/step - loss: 0.0029 - accuracy: 0.9988\n",
            "Epoch 10/100\n",
            "1000/1000 [==============================] - 3s 3ms/step - loss: 0.0028 - accuracy: 0.9989\n",
            "Epoch 11/100\n",
            "1000/1000 [==============================] - 2s 2ms/step - loss: 0.0025 - accuracy: 0.9989\n",
            "Epoch 12/100\n",
            "1000/1000 [==============================] - 2s 2ms/step - loss: 0.0025 - accuracy: 0.9990\n",
            "Epoch 13/100\n",
            "1000/1000 [==============================] - 2s 2ms/step - loss: 0.0024 - accuracy: 0.9990\n",
            "Epoch 14/100\n",
            "1000/1000 [==============================] - 2s 2ms/step - loss: 0.0023 - accuracy: 0.9990\n",
            "Epoch 15/100\n",
            "1000/1000 [==============================] - 2s 2ms/step - loss: 0.0023 - accuracy: 0.9989\n",
            "Epoch 16/100\n",
            "1000/1000 [==============================] - 2s 2ms/step - loss: 0.0022 - accuracy: 0.9991\n",
            "Epoch 17/100\n",
            "1000/1000 [==============================] - 2s 2ms/step - loss: 0.0022 - accuracy: 0.9991\n",
            "Epoch 18/100\n",
            "1000/1000 [==============================] - 2s 2ms/step - loss: 0.0021 - accuracy: 0.9991\n",
            "Epoch 19/100\n",
            "1000/1000 [==============================] - 2s 2ms/step - loss: 0.0021 - accuracy: 0.9991\n",
            "Epoch 20/100\n",
            "1000/1000 [==============================] - 2s 2ms/step - loss: 0.0021 - accuracy: 0.9991\n",
            "Epoch 21/100\n",
            "1000/1000 [==============================] - 2s 2ms/step - loss: 0.0019 - accuracy: 0.9992\n",
            "Epoch 22/100\n",
            "1000/1000 [==============================] - 2s 2ms/step - loss: 0.0020 - accuracy: 0.9991\n",
            "Epoch 23/100\n",
            "1000/1000 [==============================] - 2s 2ms/step - loss: 0.0019 - accuracy: 0.9992\n",
            "Epoch 24/100\n",
            "1000/1000 [==============================] - 2s 2ms/step - loss: 0.0019 - accuracy: 0.9992\n",
            "Epoch 25/100\n",
            "1000/1000 [==============================] - 3s 3ms/step - loss: 0.0018 - accuracy: 0.9993\n",
            "Epoch 26/100\n",
            "1000/1000 [==============================] - 2s 2ms/step - loss: 0.0018 - accuracy: 0.9993\n",
            "Epoch 27/100\n",
            "1000/1000 [==============================] - 2s 2ms/step - loss: 0.0017 - accuracy: 0.9993\n",
            "Epoch 28/100\n",
            "1000/1000 [==============================] - 2s 2ms/step - loss: 0.0018 - accuracy: 0.9991\n",
            "Epoch 29/100\n",
            "1000/1000 [==============================] - 2s 2ms/step - loss: 0.0016 - accuracy: 0.9993\n",
            "Epoch 30/100\n",
            "1000/1000 [==============================] - 2s 2ms/step - loss: 0.0017 - accuracy: 0.9993\n",
            "Epoch 31/100\n",
            "1000/1000 [==============================] - 2s 2ms/step - loss: 0.0016 - accuracy: 0.9993\n",
            "Epoch 32/100\n",
            "1000/1000 [==============================] - 3s 3ms/step - loss: 0.0017 - accuracy: 0.9994\n",
            "Epoch 33/100\n",
            "1000/1000 [==============================] - 3s 3ms/step - loss: 0.0015 - accuracy: 0.9994\n",
            "Epoch 34/100\n",
            "1000/1000 [==============================] - 2s 2ms/step - loss: 0.0014 - accuracy: 0.9995\n",
            "Epoch 35/100\n",
            "1000/1000 [==============================] - 2s 2ms/step - loss: 0.0017 - accuracy: 0.9993\n",
            "Epoch 36/100\n",
            "1000/1000 [==============================] - 2s 2ms/step - loss: 0.0014 - accuracy: 0.9994\n",
            "Epoch 37/100\n",
            "1000/1000 [==============================] - 2s 2ms/step - loss: 0.0014 - accuracy: 0.9994\n",
            "Epoch 38/100\n",
            "1000/1000 [==============================] - 2s 2ms/step - loss: 0.0015 - accuracy: 0.9994\n",
            "Epoch 39/100\n",
            "1000/1000 [==============================] - 4s 4ms/step - loss: 0.0013 - accuracy: 0.9995\n",
            "Epoch 40/100\n",
            "1000/1000 [==============================] - 4s 4ms/step - loss: 0.0013 - accuracy: 0.9995\n",
            "Epoch 41/100\n",
            "1000/1000 [==============================] - 2s 2ms/step - loss: 0.0014 - accuracy: 0.9994\n",
            "Epoch 42/100\n",
            "1000/1000 [==============================] - 2s 2ms/step - loss: 0.0013 - accuracy: 0.9994\n",
            "Epoch 43/100\n",
            "1000/1000 [==============================] - 2s 2ms/step - loss: 0.0012 - accuracy: 0.9996\n",
            "Epoch 44/100\n",
            "1000/1000 [==============================] - 2s 2ms/step - loss: 0.0013 - accuracy: 0.9996\n",
            "Epoch 45/100\n",
            "1000/1000 [==============================] - 4s 4ms/step - loss: 0.0012 - accuracy: 0.9995\n",
            "Epoch 46/100\n",
            "1000/1000 [==============================] - 2s 2ms/step - loss: 0.0012 - accuracy: 0.9995\n",
            "Epoch 47/100\n",
            "1000/1000 [==============================] - 2s 2ms/step - loss: 0.0012 - accuracy: 0.9996\n",
            "Epoch 48/100\n",
            "1000/1000 [==============================] - 2s 2ms/step - loss: 0.0010 - accuracy: 0.9997\n",
            "Epoch 49/100\n",
            "1000/1000 [==============================] - 2s 2ms/step - loss: 0.0011 - accuracy: 0.9995\n",
            "Epoch 50/100\n",
            "1000/1000 [==============================] - 2s 2ms/step - loss: 0.0011 - accuracy: 0.9997\n",
            "Epoch 51/100\n",
            "1000/1000 [==============================] - 2s 2ms/step - loss: 0.0011 - accuracy: 0.9997\n",
            "Epoch 52/100\n",
            "1000/1000 [==============================] - 3s 3ms/step - loss: 0.0010 - accuracy: 0.9997\n",
            "Epoch 53/100\n",
            "1000/1000 [==============================] - 2s 2ms/step - loss: 9.5275e-04 - accuracy: 0.9997\n",
            "Epoch 54/100\n",
            "1000/1000 [==============================] - 2s 2ms/step - loss: 8.8475e-04 - accuracy: 0.9997\n",
            "Epoch 55/100\n",
            "1000/1000 [==============================] - 2s 2ms/step - loss: 0.0010 - accuracy: 0.9996\n",
            "Epoch 56/100\n",
            "1000/1000 [==============================] - 2s 2ms/step - loss: 9.9488e-04 - accuracy: 0.9997\n",
            "Epoch 57/100\n",
            "1000/1000 [==============================] - 2s 2ms/step - loss: 0.0011 - accuracy: 0.9997\n",
            "Epoch 58/100\n",
            "1000/1000 [==============================] - 2s 2ms/step - loss: 9.9977e-04 - accuracy: 0.9997\n",
            "Epoch 59/100\n",
            "1000/1000 [==============================] - 2s 2ms/step - loss: 9.6371e-04 - accuracy: 0.9997\n",
            "Epoch 60/100\n",
            "1000/1000 [==============================] - 3s 3ms/step - loss: 9.3518e-04 - accuracy: 0.9996\n",
            "Epoch 61/100\n",
            "1000/1000 [==============================] - 2s 2ms/step - loss: 8.2740e-04 - accuracy: 0.9998\n",
            "Epoch 62/100\n",
            "1000/1000 [==============================] - 2s 2ms/step - loss: 9.1736e-04 - accuracy: 0.9997\n",
            "Epoch 63/100\n",
            "1000/1000 [==============================] - 2s 2ms/step - loss: 9.1214e-04 - accuracy: 0.9997\n",
            "Epoch 64/100\n",
            "1000/1000 [==============================] - 2s 2ms/step - loss: 0.0011 - accuracy: 0.9997\n",
            "Epoch 65/100\n",
            "1000/1000 [==============================] - 2s 2ms/step - loss: 8.3905e-04 - accuracy: 0.9996\n",
            "Epoch 66/100\n",
            "1000/1000 [==============================] - 2s 2ms/step - loss: 0.0010 - accuracy: 0.9997\n",
            "Epoch 67/100\n",
            "1000/1000 [==============================] - 3s 3ms/step - loss: 9.0514e-04 - accuracy: 0.9998\n",
            "Epoch 68/100\n",
            "1000/1000 [==============================] - 2s 2ms/step - loss: 0.0010 - accuracy: 0.9997\n",
            "Epoch 69/100\n",
            "1000/1000 [==============================] - 2s 2ms/step - loss: 8.6528e-04 - accuracy: 0.9998\n",
            "Epoch 70/100\n",
            "1000/1000 [==============================] - 2s 2ms/step - loss: 9.6283e-04 - accuracy: 0.9998\n",
            "Epoch 71/100\n",
            "1000/1000 [==============================] - 2s 2ms/step - loss: 8.6259e-04 - accuracy: 0.9998\n",
            "Epoch 72/100\n",
            "1000/1000 [==============================] - 2s 2ms/step - loss: 9.4108e-04 - accuracy: 0.9997\n",
            "Epoch 73/100\n",
            "1000/1000 [==============================] - 2s 2ms/step - loss: 9.8455e-04 - accuracy: 0.9997\n",
            "Epoch 74/100\n",
            "1000/1000 [==============================] - 3s 3ms/step - loss: 8.2795e-04 - accuracy: 0.9997\n",
            "Epoch 75/100\n",
            "1000/1000 [==============================] - 3s 3ms/step - loss: 8.0583e-04 - accuracy: 0.9998\n",
            "Epoch 76/100\n",
            "1000/1000 [==============================] - 2s 2ms/step - loss: 8.0236e-04 - accuracy: 0.9997\n",
            "Epoch 77/100\n",
            "1000/1000 [==============================] - 2s 2ms/step - loss: 7.9330e-04 - accuracy: 0.9997\n",
            "Epoch 78/100\n",
            "1000/1000 [==============================] - 2s 2ms/step - loss: 9.2710e-04 - accuracy: 0.9996\n",
            "Epoch 79/100\n",
            "1000/1000 [==============================] - 2s 2ms/step - loss: 9.2810e-04 - accuracy: 0.9998\n",
            "Epoch 80/100\n",
            "1000/1000 [==============================] - 2s 2ms/step - loss: 8.9693e-04 - accuracy: 0.9998\n",
            "Epoch 81/100\n",
            "1000/1000 [==============================] - 3s 3ms/step - loss: 8.3652e-04 - accuracy: 0.9997\n",
            "Epoch 82/100\n",
            "1000/1000 [==============================] - 2s 2ms/step - loss: 8.4678e-04 - accuracy: 0.9997\n",
            "Epoch 83/100\n",
            "1000/1000 [==============================] - 2s 2ms/step - loss: 8.0152e-04 - accuracy: 0.9997\n",
            "Epoch 84/100\n",
            "1000/1000 [==============================] - 2s 2ms/step - loss: 8.5528e-04 - accuracy: 0.9997\n",
            "Epoch 85/100\n",
            "1000/1000 [==============================] - 2s 2ms/step - loss: 8.7205e-04 - accuracy: 0.9997\n",
            "Epoch 86/100\n",
            "1000/1000 [==============================] - 2s 2ms/step - loss: 7.2628e-04 - accuracy: 0.9998\n",
            "Epoch 87/100\n",
            "1000/1000 [==============================] - 2s 2ms/step - loss: 8.0819e-04 - accuracy: 0.9998\n",
            "Epoch 88/100\n",
            "1000/1000 [==============================] - 2s 2ms/step - loss: 9.2566e-04 - accuracy: 0.9997\n",
            "Epoch 89/100\n",
            "1000/1000 [==============================] - 3s 3ms/step - loss: 8.7152e-04 - accuracy: 0.9997\n",
            "Epoch 90/100\n",
            "1000/1000 [==============================] - 2s 2ms/step - loss: 6.4022e-04 - accuracy: 0.9998\n",
            "Epoch 91/100\n",
            "1000/1000 [==============================] - 2s 2ms/step - loss: 7.6419e-04 - accuracy: 0.9998\n",
            "Epoch 92/100\n",
            "1000/1000 [==============================] - 2s 2ms/step - loss: 7.2059e-04 - accuracy: 0.9998\n",
            "Epoch 93/100\n",
            "1000/1000 [==============================] - 2s 2ms/step - loss: 7.8517e-04 - accuracy: 0.9998\n",
            "Epoch 94/100\n",
            "1000/1000 [==============================] - 2s 2ms/step - loss: 0.0011 - accuracy: 0.9997\n",
            "Epoch 95/100\n",
            "1000/1000 [==============================] - 2s 2ms/step - loss: 6.7311e-04 - accuracy: 0.9998\n",
            "Epoch 96/100\n",
            "1000/1000 [==============================] - 3s 3ms/step - loss: 7.3319e-04 - accuracy: 0.9998\n",
            "Epoch 97/100\n",
            "1000/1000 [==============================] - 2s 2ms/step - loss: 8.4414e-04 - accuracy: 0.9997\n",
            "Epoch 98/100\n",
            "1000/1000 [==============================] - 2s 2ms/step - loss: 6.7998e-04 - accuracy: 0.9998\n",
            "Epoch 99/100\n",
            "1000/1000 [==============================] - 2s 2ms/step - loss: 9.9847e-04 - accuracy: 0.9997\n",
            "Epoch 100/100\n",
            "1000/1000 [==============================] - 2s 2ms/step - loss: 9.0607e-04 - accuracy: 0.9998\n"
          ]
        },
        {
          "output_type": "execute_result",
          "data": {
            "text/plain": [
              "<keras.callbacks.History at 0x7f65ad873c10>"
            ]
          },
          "metadata": {},
          "execution_count": 13
        }
      ]
    },
    {
      "cell_type": "markdown",
      "source": [
        "# Analysis"
      ],
      "metadata": {
        "id": "tGhYplEBxmwI"
      }
    },
    {
      "cell_type": "markdown",
      "source": [
        "As we see, the accuracy is suspiciously high. Looking at the data we can conclude that this is because there is a disporoportionate ratio of fraud observations and therfore our data is imbalanced. There are a few different solutions for this. We can change the performance metric, change the algorithm, oversample the minority class, undersample the majoirty class, or generate synthetic sample. Because of the time crunch I will try the second option and change the algorithm. Since decision trees frequently perform well on imbalanced data I will run one"
      ],
      "metadata": {
        "id": "EPfKJ41Cxrd0"
      }
    },
    {
      "cell_type": "code",
      "source": [
        "from sklearn.tree import DecisionTreeClassifier\n",
        "from sklearn.metrics import confusion_matrix\n",
        "import seaborn as sns\n",
        "import matplotlib.pyplot as plt\n",
        "\n",
        "dt = DecisionTreeClassifier()\n",
        "dt.fit(X_train,y_train)\n",
        "\n",
        "y_pred = dt.predict(X_test)\n",
        "\n",
        "cm = confusion_matrix(y_test, y_pred)\n",
        "\n",
        "sns.heatmap(cm, annot=True, cmap=\"Blues\")\n",
        "plt.title(\"Confusion Matrix\")\n",
        "plt.xlabel(\"Predicted Label\")\n",
        "plt.ylabel(\"True Label\")\n",
        "plt.show()"
      ],
      "metadata": {
        "colab": {
          "base_uri": "https://localhost:8080/",
          "height": 472
        },
        "id": "9IrzQqRm0QnG",
        "outputId": "db42ccaf-7f6e-4176-97a8-5548581d0d91"
      },
      "execution_count": 15,
      "outputs": [
        {
          "output_type": "display_data",
          "data": {
            "text/plain": [
              "<Figure size 640x480 with 2 Axes>"
            ],
            "image/png": "[encoded data removed]"
          },
          "metadata": {}
        }
      ]
    },
    {
      "cell_type": "markdown",
      "source": [
        "Evaluation Metrics"
      ],
      "metadata": {
        "id": "0CwDWJMv3H_h"
      }
    },
    {
      "cell_type": "code",
      "source": [
        "from sklearn.metrics import accuracy_score, precision_score, recall_score, f1_score, roc_auc_score\n",
        "\n",
        "# Calculate evaluation metrics\n",
        "accuracy = accuracy_score(y_test, y_pred)\n",
        "precision = precision_score(y_test, y_pred)\n",
        "recall = recall_score(y_test, y_pred)\n",
        "f1 = f1_score(y_test, y_pred)\n",
        "auc_roc = roc_auc_score(y_test, y_pred)\n",
        "\n",
        "# Print the evaluation metrics\n",
        "print(\"Accuracy:\", accuracy)\n",
        "print(\"Precision:\", precision)\n",
        "print(\"Recall:\", recall)\n",
        "print(\"F1-score:\", f1)\n",
        "print(\"AUC-ROC:\", auc_roc)"
      ],
      "metadata": {
        "colab": {
          "base_uri": "https://localhost:8080/"
        },
        "id": "Ej-hviTq3JSA",
        "outputId": "d6cf0748-d06e-4d21-e63b-a7a7e3bfa178"
      },
      "execution_count": 16,
      "outputs": [
        {
          "output_type": "stream",
          "name": "stdout",
          "text": [
            "Accuracy: 0.999375\n",
            "Precision: 0.9411764705882353\n",
            "Recall: 0.8\n",
            "F1-score: 0.8648648648648648\n",
            "AUC-ROC: 0.899937343358396\n"
          ]
        }
      ]
    }
  ]
}