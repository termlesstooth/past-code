{
  "nbformat": 4,
  "nbformat_minor": 0,
  "metadata": {
    "colab": {
      "provenance": []
    },
    "kernelspec": {
      "name": "python3",
      "display_name": "Python 3"
    },
    "language_info": {
      "name": "python"
    }
  },
  "cells": [
    {
      "cell_type": "code",
      "execution_count": null,
      "metadata": {
        "colab": {
          "base_uri": "https://localhost:8080/"
        },
        "id": "DRiBQxdi5Kig",
        "outputId": "a2d8ddbf-38ff-4c22-bac4-2189b56965ad"
      },
      "outputs": [
        {
          "output_type": "stream",
          "name": "stdout",
          "text": [
            "Mounted at /content/drive\n"
          ]
        }
      ],
      "source": [
        "from google.colab import drive\n",
        "drive.mount('/content/drive')\n",
        "import os\n",
        "os.chdir('/content/drive/My Drive/Process mining course/project_1')"
      ]
    },
    {
      "cell_type": "markdown",
      "source": [
        "#RF - Step 1: Importing the libraries"
      ],
      "metadata": {
        "id": "tQSNVKXq-4ll"
      }
    },
    {
      "cell_type": "code",
      "source": [
        "import pandas as pd\n",
        "import matplotlib.pyplot as plt\n",
        "import numpy as np \n",
        "from sklearn.model_selection import train_test_split\n",
        "from sklearn.ensemble import RandomForestRegressor\n",
        "from sklearn.metrics import r2_score"
      ],
      "metadata": {
        "id": "BSJITR5h5fO3"
      },
      "execution_count": null,
      "outputs": []
    },
    {
      "cell_type": "markdown",
      "source": [
        "#RF - Step 2: Importing dataset"
      ],
      "metadata": {
        "id": "Fy8hUT1Q6Ka9"
      }
    },
    {
      "cell_type": "code",
      "source": [
        "df = pd.read_csv('Data.csv')\n",
        "df.head()"
      ],
      "metadata": {
        "id": "2f4mwP8C5kdF",
        "colab": {
          "base_uri": "https://localhost:8080/",
          "height": 206
        },
        "outputId": "1aa106d0-38e0-4ccb-d743-8c8d6a6839dd"
      },
      "execution_count": null,
      "outputs": [
        {
          "output_type": "execute_result",
          "data": {
            "text/plain": [
              "      AT      V       AP     RH      PE\n",
              "0  14.96  41.76  1024.07  73.17  463.26\n",
              "1  25.18  62.96  1020.04  59.08  444.37\n",
              "2   5.11  39.40  1012.16  92.14  488.56\n",
              "3  20.86  57.32  1010.24  76.64  446.48\n",
              "4  10.82  37.50  1009.23  96.62  473.90"
            ],
            "text/html": [
              "\n",
              "  <div id=\"df-f7b68335-f530-46d2-af89-d1ed768ac2cf\">\n",
              "    <div class=\"colab-df-container\">\n",
              "      <div>\n",
              "<style scoped>\n",
              "    .dataframe tbody tr th:only-of-type {\n",
              "        vertical-align: middle;\n",
              "    }\n",
              "\n",
              "    .dataframe tbody tr th {\n",
              "        vertical-align: top;\n",
              "    }\n",
              "\n",
              "    .dataframe thead th {\n",
              "        text-align: right;\n",
              "    }\n",
              "</style>\n",
              "<table border=\"1\" class=\"dataframe\">\n",
              "  <thead>\n",
              "    <tr style=\"text-align: right;\">\n",
              "      <th></th>\n",
              "      <th>AT</th>\n",
              "      <th>V</th>\n",
              "      <th>AP</th>\n",
              "      <th>RH</th>\n",
              "      <th>PE</th>\n",
              "    </tr>\n",
              "  </thead>\n",
              "  <tbody>\n",
              "    <tr>\n",
              "      <th>0</th>\n",
              "      <td>14.96</td>\n",
              "      <td>41.76</td>\n",
              "      <td>1024.07</td>\n",
              "      <td>73.17</td>\n",
              "      <td>463.26</td>\n",
              "    </tr>\n",
              "    <tr>\n",
              "      <th>1</th>\n",
              "      <td>25.18</td>\n",
              "      <td>62.96</td>\n",
              "      <td>1020.04</td>\n",
              "      <td>59.08</td>\n",
              "      <td>444.37</td>\n",
              "    </tr>\n",
              "    <tr>\n",
              "      <th>2</th>\n",
              "      <td>5.11</td>\n",
              "      <td>39.40</td>\n",
              "      <td>1012.16</td>\n",
              "      <td>92.14</td>\n",
              "      <td>488.56</td>\n",
              "    </tr>\n",
              "    <tr>\n",
              "      <th>3</th>\n",
              "      <td>20.86</td>\n",
              "      <td>57.32</td>\n",
              "      <td>1010.24</td>\n",
              "      <td>76.64</td>\n",
              "      <td>446.48</td>\n",
              "    </tr>\n",
              "    <tr>\n",
              "      <th>4</th>\n",
              "      <td>10.82</td>\n",
              "      <td>37.50</td>\n",
              "      <td>1009.23</td>\n",
              "      <td>96.62</td>\n",
              "      <td>473.90</td>\n",
              "    </tr>\n",
              "  </tbody>\n",
              "</table>\n",
              "</div>\n",
              "      <button class=\"colab-df-convert\" onclick=\"convertToInteractive('df-f7b68335-f530-46d2-af89-d1ed768ac2cf')\"\n",
              "              title=\"Convert this dataframe to an interactive table.\"\n",
              "              style=\"display:none;\">\n",
              "        \n",
              "  <svg xmlns=\"http://www.w3.org/2000/svg\" height=\"24px\"viewBox=\"0 0 24 24\"\n",
              "       width=\"24px\">\n",
              "    <path d=\"M0 0h24v24H0V0z\" fill=\"none\"/>\n",
              "    <path d=\"M18.56 5.44l.94 2.06.94-2.06 2.06-.94-2.06-.94-.94-2.06-.94 2.06-2.06.94zm-11 1L8.5 8.5l.94-2.06 2.06-.94-2.06-.94L8.5 2.5l-.94 2.06-2.06.94zm10 10l.94 2.06.94-2.06 2.06-.94-2.06-.94-.94-2.06-.94 2.06-2.06.94z\"/><path d=\"M17.41 7.96l-1.37-1.37c-.4-.4-.92-.59-1.43-.59-.52 0-1.04.2-1.43.59L10.3 9.45l-7.72 7.72c-.78.78-.78 2.05 0 2.83L4 21.41c.39.39.9.59 1.41.59.51 0 1.02-.2 1.41-.59l7.78-7.78 2.81-2.81c.8-.78.8-2.07 0-2.86zM5.41 20L4 18.59l7.72-7.72 1.47 1.35L5.41 20z\"/>\n",
              "  </svg>\n",
              "      </button>\n",
              "      \n",
              "  <style>\n",
              "    .colab-df-container {\n",
              "      display:flex;\n",
              "      flex-wrap:wrap;\n",
              "      gap: 12px;\n",
              "    }\n",
              "\n",
              "    .colab-df-convert {\n",
              "      background-color: #E8F0FE;\n",
              "      border: none;\n",
              "      border-radius: 50%;\n",
              "      cursor: pointer;\n",
              "      display: none;\n",
              "      fill: #1967D2;\n",
              "      height: 32px;\n",
              "      padding: 0 0 0 0;\n",
              "      width: 32px;\n",
              "    }\n",
              "\n",
              "    .colab-df-convert:hover {\n",
              "      background-color: #E2EBFA;\n",
              "      box-shadow: 0px 1px 2px rgba(60, 64, 67, 0.3), 0px 1px 3px 1px rgba(60, 64, 67, 0.15);\n",
              "      fill: #174EA6;\n",
              "    }\n",
              "\n",
              "    [theme=dark] .colab-df-convert {\n",
              "      background-color: #3B4455;\n",
              "      fill: #D2E3FC;\n",
              "    }\n",
              "\n",
              "    [theme=dark] .colab-df-convert:hover {\n",
              "      background-color: #434B5C;\n",
              "      box-shadow: 0px 1px 3px 1px rgba(0, 0, 0, 0.15);\n",
              "      filter: drop-shadow(0px 1px 2px rgba(0, 0, 0, 0.3));\n",
              "      fill: #FFFFFF;\n",
              "    }\n",
              "  </style>\n",
              "\n",
              "      <script>\n",
              "        const buttonEl =\n",
              "          document.querySelector('#df-f7b68335-f530-46d2-af89-d1ed768ac2cf button.colab-df-convert');\n",
              "        buttonEl.style.display =\n",
              "          google.colab.kernel.accessAllowed ? 'block' : 'none';\n",
              "\n",
              "        async function convertToInteractive(key) {\n",
              "          const element = document.querySelector('#df-f7b68335-f530-46d2-af89-d1ed768ac2cf');\n",
              "          const dataTable =\n",
              "            await google.colab.kernel.invokeFunction('convertToInteractive',\n",
              "                                                     [key], {});\n",
              "          if (!dataTable) return;\n",
              "\n",
              "          const docLinkHtml = 'Like what you see? Visit the ' +\n",
              "            '<a target=\"_blank\" href=https://colab.research.google.com/notebooks/data_table.ipynb>data table notebook</a>'\n",
              "            + ' to learn more about interactive tables.';\n",
              "          element.innerHTML = '';\n",
              "          dataTable['output_type'] = 'display_data';\n",
              "          await google.colab.output.renderOutput(dataTable, element);\n",
              "          const docLink = document.createElement('div');\n",
              "          docLink.innerHTML = docLinkHtml;\n",
              "          element.appendChild(docLink);\n",
              "        }\n",
              "      </script>\n",
              "    </div>\n",
              "  </div>\n",
              "  "
            ]
          },
          "metadata": {},
          "execution_count": 4
        }
      ]
    },
    {
      "cell_type": "code",
      "source": [
        "#Checking null values of the entire dataframe\n",
        "df.isnull().values.any()"
      ],
      "metadata": {
        "id": "AnwPZ5mv87KQ",
        "colab": {
          "base_uri": "https://localhost:8080/"
        },
        "outputId": "ece98fde-277c-4d78-992d-c982f464334c"
      },
      "execution_count": null,
      "outputs": [
        {
          "output_type": "execute_result",
          "data": {
            "text/plain": [
              "False"
            ]
          },
          "metadata": {},
          "execution_count": 5
        }
      ]
    },
    {
      "cell_type": "code",
      "source": [
        "#Checking if there are any zero values.\n",
        "0 in df.values"
      ],
      "metadata": {
        "id": "8eALxVD2_DWY",
        "colab": {
          "base_uri": "https://localhost:8080/"
        },
        "outputId": "bbcdd20a-2ffc-4afe-b1db-d190ec46f1c1"
      },
      "execution_count": null,
      "outputs": [
        {
          "output_type": "execute_result",
          "data": {
            "text/plain": [
              "False"
            ]
          },
          "metadata": {},
          "execution_count": 6
        }
      ]
    },
    {
      "cell_type": "markdown",
      "source": [
        "#RF - Step 3: Splitting dataset into train and test set"
      ],
      "metadata": {
        "id": "pxSSlW4v6djK"
      }
    },
    {
      "cell_type": "code",
      "source": [
        "x = df.iloc[:,:4].values\n",
        "y = df.iloc[:,4:].values"
      ],
      "metadata": {
        "id": "dW4tJsRg6m6L"
      },
      "execution_count": null,
      "outputs": []
    },
    {
      "cell_type": "code",
      "source": [
        "x_train, x_test, y_train, y_test = train_test_split(x, y, test_size=0.2)"
      ],
      "metadata": {
        "id": "PU_b_eER6nO7"
      },
      "execution_count": null,
      "outputs": []
    },
    {
      "cell_type": "markdown",
      "source": [
        "#RF - Step4: Training RF model on the training"
      ],
      "metadata": {
        "id": "1dYrSm876zOq"
      }
    },
    {
      "cell_type": "code",
      "source": [
        "model = RandomForestRegressor(n_estimators=100, random_state=0)"
      ],
      "metadata": {
        "id": "1Y9fXGa86-El"
      },
      "execution_count": null,
      "outputs": []
    },
    {
      "cell_type": "code",
      "source": [
        "model.fit(x_train, y_train)"
      ],
      "metadata": {
        "id": "_Cgni--n708s",
        "colab": {
          "base_uri": "https://localhost:8080/"
        },
        "outputId": "05984920-9c0b-457f-ca87-16bd3fc3460c"
      },
      "execution_count": null,
      "outputs": [
        {
          "output_type": "stream",
          "name": "stderr",
          "text": [
            "<ipython-input-10-139fa7af76d2>:1: DataConversionWarning: A column-vector y was passed when a 1d array was expected. Please change the shape of y to (n_samples,), for example using ravel().\n",
            "  model.fit(x_train, y_train)\n"
          ]
        },
        {
          "output_type": "execute_result",
          "data": {
            "text/plain": [
              "RandomForestRegressor(random_state=0)"
            ]
          },
          "metadata": {},
          "execution_count": 10
        }
      ]
    },
    {
      "cell_type": "markdown",
      "source": [
        "#RF - Step 5: Predicting on the test set results"
      ],
      "metadata": {
        "id": "7Vjig6XC7n-Y"
      }
    },
    {
      "cell_type": "code",
      "source": [
        "y_pred = model.predict(x_test)"
      ],
      "metadata": {
        "id": "OQSTCCX98AZu"
      },
      "execution_count": null,
      "outputs": []
    },
    {
      "cell_type": "markdown",
      "source": [
        "#RF - Step 6: Evaluating R-squared score"
      ],
      "metadata": {
        "id": "usK8iea88Pf0"
      }
    },
    {
      "cell_type": "code",
      "source": [
        "r2 = r2_score(y_test, y_pred)\n",
        "print(\"R-squared Score: \", r2)"
      ],
      "metadata": {
        "id": "g7TDOb3m8LGR",
        "colab": {
          "base_uri": "https://localhost:8080/"
        },
        "outputId": "9cb13c1d-ab86-4e77-a4b4-a2917c6de963"
      },
      "execution_count": null,
      "outputs": [
        {
          "output_type": "stream",
          "name": "stdout",
          "text": [
            "R-squared Score:  0.9642580044076492\n"
          ]
        }
      ]
    },
    {
      "cell_type": "markdown",
      "source": [
        "#DT - Step 1: Importing the libraries"
      ],
      "metadata": {
        "id": "miizpaPrLMkj"
      }
    },
    {
      "cell_type": "code",
      "source": [
        "from sklearn.tree import DecisionTreeRegressor"
      ],
      "metadata": {
        "id": "xh8MmuLOLOv7"
      },
      "execution_count": null,
      "outputs": []
    },
    {
      "cell_type": "markdown",
      "source": [
        "#DT - Step 2: Training DT model"
      ],
      "metadata": {
        "id": "yLclKurPLox6"
      }
    },
    {
      "cell_type": "code",
      "source": [
        "model = DecisionTreeRegressor()"
      ],
      "metadata": {
        "id": "sKKb5YXTLRGJ"
      },
      "execution_count": null,
      "outputs": []
    },
    {
      "cell_type": "code",
      "source": [
        "model.fit(x_train, y_train)"
      ],
      "metadata": {
        "id": "3YvfVYGMLn3o",
        "colab": {
          "base_uri": "https://localhost:8080/"
        },
        "outputId": "db51d88a-a807-466e-ca26-cc82c8004a71"
      },
      "execution_count": null,
      "outputs": [
        {
          "output_type": "execute_result",
          "data": {
            "text/plain": [
              "DecisionTreeRegressor()"
            ]
          },
          "metadata": {},
          "execution_count": 15
        }
      ]
    },
    {
      "cell_type": "markdown",
      "source": [
        "#DT - Step 3: Make predictions on the testing data"
      ],
      "metadata": {
        "id": "icpVbclrLydu"
      }
    },
    {
      "cell_type": "code",
      "source": [
        "y_pred = model.predict(x_test)\n",
        "print(y_pred)"
      ],
      "metadata": {
        "id": "bFoHRsguLvoL",
        "colab": {
          "base_uri": "https://localhost:8080/"
        },
        "outputId": "308a8538-9d9c-4f58-8a9b-498c6511240c"
      },
      "execution_count": null,
      "outputs": [
        {
          "output_type": "stream",
          "name": "stdout",
          "text": [
            "[440.12 469.3  445.98 ... 452.5  457.17 435.93]\n"
          ]
        }
      ]
    },
    {
      "cell_type": "markdown",
      "source": [
        "#DT- Step 4: Evaluating R-squared score"
      ],
      "metadata": {
        "id": "EjJVKxv1L3jN"
      }
    },
    {
      "cell_type": "code",
      "source": [
        "r2 = r2_score(y_test, y_pred)\n",
        "print(\"R-squared Score: \", r2)"
      ],
      "metadata": {
        "id": "SHBhouQNL5IN",
        "colab": {
          "base_uri": "https://localhost:8080/"
        },
        "outputId": "d6ed794b-ebff-4d26-8296-b4a9905d0a70"
      },
      "execution_count": null,
      "outputs": [
        {
          "output_type": "stream",
          "name": "stdout",
          "text": [
            "R-squared Score:  0.9323474858833098\n"
          ]
        }
      ]
    },
    {
      "cell_type": "markdown",
      "source": [
        "#MTL - Step1: Importing the libraries"
      ],
      "metadata": {
        "id": "nFUtXhejNwVy"
      }
    },
    {
      "cell_type": "code",
      "source": [
        "from sklearn.linear_model import LinearRegression\n",
        "import seaborn as sns"
      ],
      "metadata": {
        "id": "D-zNQvbMN9Fn"
      },
      "execution_count": null,
      "outputs": []
    },
    {
      "cell_type": "markdown",
      "source": [
        "#MTL - Step 2: Training MTL model"
      ],
      "metadata": {
        "id": "o4XQhpX3ODEq"
      }
    },
    {
      "cell_type": "code",
      "source": [
        "regressor = LinearRegression()\n",
        "regressor.fit(x_train, y_train)"
      ],
      "metadata": {
        "id": "yS_tBwyjNlxE",
        "colab": {
          "base_uri": "https://localhost:8080/"
        },
        "outputId": "1765504b-27cf-4a8c-c13a-8e1b68d6b1d6"
      },
      "execution_count": null,
      "outputs": [
        {
          "output_type": "execute_result",
          "data": {
            "text/plain": [
              "LinearRegression()"
            ]
          },
          "metadata": {},
          "execution_count": 19
        }
      ]
    },
    {
      "cell_type": "markdown",
      "source": [
        "#MTL - Step 3: Predicting test results"
      ],
      "metadata": {
        "id": "0VruewYUOPPj"
      }
    },
    {
      "cell_type": "code",
      "source": [
        "y_pred = regressor.predict(x_test)"
      ],
      "metadata": {
        "id": "tIhBHRoUOAks"
      },
      "execution_count": null,
      "outputs": []
    },
    {
      "cell_type": "markdown",
      "source": [
        "#MTL- Step 4: Evaluating R-squared score"
      ],
      "metadata": {
        "id": "NwoTGCGiOeD-"
      }
    },
    {
      "cell_type": "code",
      "source": [
        "r2 = r2_score(y_test, y_pred)\n",
        "print(\"R-squared score of the model \", r2)\n",
        "print(\"\\n\")\n",
        "\n",
        "# calculate the residuals\n",
        "residuals = y_test - y_pred\n",
        "\n",
        "# plot the residuals\n",
        "sns.residplot(y_pred, residuals)\n",
        "plt.title('Residual Plot for Multiple Linear Regression Model')\n",
        "plt.xlabel('Predicted Values')\n",
        "plt.ylabel('Residuals')\n",
        "print(\"n\")"
      ],
      "metadata": {
        "id": "-BGMmBo_OdjE",
        "colab": {
          "base_uri": "https://localhost:8080/",
          "height": 419
        },
        "outputId": "57037fd3-7273-4b91-fabd-ee880cb7e10e"
      },
      "execution_count": null,
      "outputs": [
        {
          "output_type": "stream",
          "name": "stdout",
          "text": [
            "R-squared score of the model  0.9334261640689079\n",
            "\n",
            "\n",
            "n\n"
          ]
        },
        {
          "output_type": "stream",
          "name": "stderr",
          "text": [
            "/usr/local/lib/python3.8/dist-packages/seaborn/_decorators.py:36: FutureWarning: Pass the following variables as keyword args: x, y. From version 0.12, the only valid positional argument will be `data`, and passing other arguments without an explicit keyword will result in an error or misinterpretation.\n",
            "  warnings.warn(\n"
          ]
        },
        {
          "output_type": "display_data",
          "data": {
            "text/plain": [
              "<Figure size 432x288 with 1 Axes>"
            ],
            "image/png": "[encoded data removed]"
          },
          "metadata": {
            "needs_background": "light"
          }
        }
      ]
    },
    {
      "cell_type": "markdown",
      "source": [
        "# Poly - Step 1: Importing the libraries"
      ],
      "metadata": {
        "id": "JIwxRIqCPTCw"
      }
    },
    {
      "cell_type": "code",
      "source": [
        "from sklearn.preprocessing import PolynomialFeatures"
      ],
      "metadata": {
        "id": "s3UlumbkPSCd"
      },
      "execution_count": null,
      "outputs": []
    },
    {
      "cell_type": "markdown",
      "source": [
        "# Poly - Step 2: Training on Poly Model"
      ],
      "metadata": {
        "id": "gkcsosGkPuL_"
      }
    },
    {
      "cell_type": "code",
      "source": [
        "# create polynomial features\n",
        "poly = PolynomialFeatures(degree=4)\n",
        "x_train_poly = poly.fit_transform(x_train)\n",
        "\n",
        "# fit the model\n",
        "regressor1= LinearRegression()\n",
        "regressor1.fit(x_train_poly, y_train)"
      ],
      "metadata": {
        "id": "CbJadSHQPsq6",
        "colab": {
          "base_uri": "https://localhost:8080/"
        },
        "outputId": "34648112-84a4-4585-e0ca-f05c64540a54"
      },
      "execution_count": null,
      "outputs": [
        {
          "output_type": "execute_result",
          "data": {
            "text/plain": [
              "LinearRegression()"
            ]
          },
          "metadata": {},
          "execution_count": 23
        }
      ]
    },
    {
      "cell_type": "markdown",
      "source": [
        "# Poly - Step 3: Predicting test results"
      ],
      "metadata": {
        "id": "XxSvmmAsQDom"
      }
    },
    {
      "cell_type": "code",
      "source": [
        "# predict output for X\n",
        "x_test_poly = poly.transform(x_test)\n",
        "y_pred1 = regressor1.predict(x_test_poly)"
      ],
      "metadata": {
        "id": "UIutrZcVQDJY"
      },
      "execution_count": null,
      "outputs": []
    },
    {
      "cell_type": "markdown",
      "source": [
        "# Poly - Step 4: Evaluating R-squared score"
      ],
      "metadata": {
        "id": "rYndLipGQWHo"
      }
    },
    {
      "cell_type": "code",
      "source": [
        "# calculate R-squared\n",
        "r2 = r2_score(y_test, y_pred1)\n",
        "print(\"R-squared score on test set is:\", r2)"
      ],
      "metadata": {
        "id": "8AJj2RpBQVhc",
        "colab": {
          "base_uri": "https://localhost:8080/"
        },
        "outputId": "b666488b-9098-40a1-9c58-0eac03c1b5e9"
      },
      "execution_count": null,
      "outputs": [
        {
          "output_type": "stream",
          "name": "stdout",
          "text": [
            "R-squared score on test set is: 0.9456064381381659\n"
          ]
        }
      ]
    },
    {
      "cell_type": "markdown",
      "source": [
        "#SVR - Step 1: Importing the libraries"
      ],
      "metadata": {
        "id": "L_swR5GlMBCd"
      }
    },
    {
      "cell_type": "code",
      "source": [
        "from sklearn.svm import SVR\n",
        "from sklearn.preprocessing import StandardScaler"
      ],
      "metadata": {
        "id": "KbGPaiolMDW6"
      },
      "execution_count": null,
      "outputs": []
    },
    {
      "cell_type": "markdown",
      "source": [
        "#SVR - Step 2: Training SVR model"
      ],
      "metadata": {
        "id": "XeX2NuUJMdIB"
      }
    },
    {
      "cell_type": "code",
      "source": [
        "sc_x = StandardScaler()\n",
        "x = sc_x.fit_transform(x_train)\n",
        "x_test_scaled = sc_x.transform(x_test)\n",
        "\n",
        "sc_y = StandardScaler()\n",
        "y = sc_y.fit_transform(y_train.reshape(-1, 1))\n",
        "y_test_scaled = sc_y.transform(y_test)"
      ],
      "metadata": {
        "id": "01Z0oucvMg5Z"
      },
      "execution_count": null,
      "outputs": []
    },
    {
      "cell_type": "markdown",
      "source": [
        "#SVR - Step 3: Feature scaling "
      ],
      "metadata": {
        "id": "vh6aZcDiM7u6"
      }
    },
    {
      "cell_type": "code",
      "source": [
        "sc_x = StandardScaler()\n",
        "x = sc_x.fit_transform(x_train)\n",
        "x_test_scaled = sc_x.transform(x_test)\n",
        "\n",
        "sc_y = StandardScaler()\n",
        "y = sc_y.fit_transform(y_train.reshape(-1, 1))\n",
        "y_test_scaled = sc_y.transform(y_test)"
      ],
      "metadata": {
        "id": "b8h65WJPMlNR"
      },
      "execution_count": null,
      "outputs": []
    },
    {
      "cell_type": "markdown",
      "source": [
        "#SVR - Step 4: Training the SVR model"
      ],
      "metadata": {
        "id": "rLxjxn1uNFi-"
      }
    },
    {
      "cell_type": "code",
      "source": [
        "model = SVR(kernel='rbf')\n",
        "model.fit(x, y)"
      ],
      "metadata": {
        "id": "3gr4VefbNEtO",
        "colab": {
          "base_uri": "https://localhost:8080/"
        },
        "outputId": "156f6256-a570-4b3f-e463-151430c99165"
      },
      "execution_count": null,
      "outputs": [
        {
          "output_type": "stream",
          "name": "stderr",
          "text": [
            "/usr/local/lib/python3.8/dist-packages/sklearn/utils/validation.py:993: DataConversionWarning: A column-vector y was passed when a 1d array was expected. Please change the shape of y to (n_samples, ), for example using ravel().\n",
            "  y = column_or_1d(y, warn=True)\n"
          ]
        },
        {
          "output_type": "execute_result",
          "data": {
            "text/plain": [
              "SVR()"
            ]
          },
          "metadata": {},
          "execution_count": 29
        }
      ]
    },
    {
      "cell_type": "markdown",
      "source": [
        "#SVR - Predicting on test set"
      ],
      "metadata": {
        "id": "kRMcRBzCNPPA"
      }
    },
    {
      "cell_type": "code",
      "source": [
        "x_new = model.predict(x_test_scaled)\n",
        "y_pred = sc_y.inverse_transform(x_new.reshape(-1, 1))"
      ],
      "metadata": {
        "id": "CVWTxOLLNZ-q"
      },
      "execution_count": null,
      "outputs": []
    },
    {
      "cell_type": "markdown",
      "source": [
        "#SVR- Step 4: Evaluating R-squared score"
      ],
      "metadata": {
        "id": "fSOpcy40NaTq"
      }
    },
    {
      "cell_type": "code",
      "source": [
        "r2 = r2_score(y_test, y_pred)\n",
        "print(\"R-squared Score: \", r2)"
      ],
      "metadata": {
        "id": "gtN2prEhNNCl",
        "colab": {
          "base_uri": "https://localhost:8080/"
        },
        "outputId": "3b0d6abf-7c07-4423-dfcc-77f0b59869d3"
      },
      "execution_count": null,
      "outputs": [
        {
          "output_type": "stream",
          "name": "stdout",
          "text": [
            "R-squared Score:  0.947806388786115\n"
          ]
        }
      ]
    }
  ]
}