{
  "nbformat": 4,
  "nbformat_minor": 0,
  "metadata": {
    "colab": {
      "provenance": []
    },
    "kernelspec": {
      "name": "python3",
      "display_name": "Python 3"
    },
    "language_info": {
      "name": "python"
    }
  },
  "cells": [
    {
      "cell_type": "code",
      "execution_count": 1,
      "metadata": {
        "colab": {
          "base_uri": "https://localhost:8080/"
        },
        "id": "DRiBQxdi5Kig",
        "outputId": "006cba81-3654-4be5-83a2-e80ef06136de"
      },
      "outputs": [
        {
          "output_type": "stream",
          "name": "stdout",
          "text": [
            "Mounted at /content/drive\n"
          ]
        }
      ],
      "source": [
        "from google.colab import drive\n",
        "drive.mount('/content/drive')\n",
        "import os\n",
        "os.chdir('/content/drive/My Drive/Process mining course/project_1')"
      ]
    },
    {
      "cell_type": "markdown",
      "source": [
        "#RF - Step 1: Importing the libraries"
      ],
      "metadata": {
        "id": "tQSNVKXq-4ll"
      }
    },
    {
      "cell_type": "code",
      "source": [
        "import pandas as pd\n",
        "import matplotlib.pyplot as plt\n",
        "import numpy as np \n",
        "from sklearn.model_selection import train_test_split\n",
        "from sklearn.ensemble import RandomForestRegressor\n",
        "from sklearn.metrics import r2_score"
      ],
      "metadata": {
        "id": "BSJITR5h5fO3"
      },
      "execution_count": 2,
      "outputs": []
    },
    {
      "cell_type": "markdown",
      "source": [
        "#RF - Step 2: Importing dataset"
      ],
      "metadata": {
        "id": "Fy8hUT1Q6Ka9"
      }
    },
    {
      "cell_type": "code",
      "source": [
        "df = pd.read_csv('Data.csv')\n",
        "df.head()"
      ],
      "metadata": {
        "id": "2f4mwP8C5kdF",
        "colab": {
          "base_uri": "https://localhost:8080/",
          "height": 206
        },
        "outputId": "07acb232-c660-40a7-b9df-2e5507641b64"
      },
      "execution_count": 3,
      "outputs": [
        {
          "output_type": "execute_result",
          "data": {
            "text/plain": [
              "      AT      V       AP     RH      PE\n",
              "0  14.96  41.76  1024.07  73.17  463.26\n",
              "1  25.18  62.96  1020.04  59.08  444.37\n",
              "2   5.11  39.40  1012.16  92.14  488.56\n",
              "3  20.86  57.32  1010.24  76.64  446.48\n",
              "4  10.82  37.50  1009.23  96.62  473.90"
            ],
            "text/html": [
              "\n",
              "  <div id=\"df-7650e915-3c33-4c32-9b8c-5386fbbf1898\">\n",
              "    <div class=\"colab-df-container\">\n",
              "      <div>\n",
              "<style scoped>\n",
              "    .dataframe tbody tr th:only-of-type {\n",
              "        vertical-align: middle;\n",
              "    }\n",
              "\n",
              "    .dataframe tbody tr th {\n",
              "        vertical-align: top;\n",
              "    }\n",
              "\n",
              "    .dataframe thead th {\n",
              "        text-align: right;\n",
              "    }\n",
              "</style>\n",
              "<table border=\"1\" class=\"dataframe\">\n",
              "  <thead>\n",
              "    <tr style=\"text-align: right;\">\n",
              "      <th></th>\n",
              "      <th>AT</th>\n",
              "      <th>V</th>\n",
              "      <th>AP</th>\n",
              "      <th>RH</th>\n",
              "      <th>PE</th>\n",
              "    </tr>\n",
              "  </thead>\n",
              "  <tbody>\n",
              "    <tr>\n",
              "      <th>0</th>\n",
              "      <td>14.96</td>\n",
              "      <td>41.76</td>\n",
              "      <td>1024.07</td>\n",
              "      <td>73.17</td>\n",
              "      <td>463.26</td>\n",
              "    </tr>\n",
              "    <tr>\n",
              "      <th>1</th>\n",
              "      <td>25.18</td>\n",
              "      <td>62.96</td>\n",
              "      <td>1020.04</td>\n",
              "      <td>59.08</td>\n",
              "      <td>444.37</td>\n",
              "    </tr>\n",
              "    <tr>\n",
              "      <th>2</th>\n",
              "      <td>5.11</td>\n",
              "      <td>39.40</td>\n",
              "      <td>1012.16</td>\n",
              "      <td>92.14</td>\n",
              "      <td>488.56</td>\n",
              "    </tr>\n",
              "    <tr>\n",
              "      <th>3</th>\n",
              "      <td>20.86</td>\n",
              "      <td>57.32</td>\n",
              "      <td>1010.24</td>\n",
              "      <td>76.64</td>\n",
              "      <td>446.48</td>\n",
              "    </tr>\n",
              "    <tr>\n",
              "      <th>4</th>\n",
              "      <td>10.82</td>\n",
              "      <td>37.50</td>\n",
              "      <td>1009.23</td>\n",
              "      <td>96.62</td>\n",
              "      <td>473.90</td>\n",
              "    </tr>\n",
              "  </tbody>\n",
              "</table>\n",
              "</div>\n",
              "      <button class=\"colab-df-convert\" onclick=\"convertToInteractive('df-7650e915-3c33-4c32-9b8c-5386fbbf1898')\"\n",
              "              title=\"Convert this dataframe to an interactive table.\"\n",
              "              style=\"display:none;\">\n",
              "        \n",
              "  <svg xmlns=\"http://www.w3.org/2000/svg\" height=\"24px\"viewBox=\"0 0 24 24\"\n",
              "       width=\"24px\">\n",
              "    <path d=\"M0 0h24v24H0V0z\" fill=\"none\"/>\n",
              "    <path d=\"M18.56 5.44l.94 2.06.94-2.06 2.06-.94-2.06-.94-.94-2.06-.94 2.06-2.06.94zm-11 1L8.5 8.5l.94-2.06 2.06-.94-2.06-.94L8.5 2.5l-.94 2.06-2.06.94zm10 10l.94 2.06.94-2.06 2.06-.94-2.06-.94-.94-2.06-.94 2.06-2.06.94z\"/><path d=\"M17.41 7.96l-1.37-1.37c-.4-.4-.92-.59-1.43-.59-.52 0-1.04.2-1.43.59L10.3 9.45l-7.72 7.72c-.78.78-.78 2.05 0 2.83L4 21.41c.39.39.9.59 1.41.59.51 0 1.02-.2 1.41-.59l7.78-7.78 2.81-2.81c.8-.78.8-2.07 0-2.86zM5.41 20L4 18.59l7.72-7.72 1.47 1.35L5.41 20z\"/>\n",
              "  </svg>\n",
              "      </button>\n",
              "      \n",
              "  <style>\n",
              "    .colab-df-container {\n",
              "      display:flex;\n",
              "      flex-wrap:wrap;\n",
              "      gap: 12px;\n",
              "    }\n",
              "\n",
              "    .colab-df-convert {\n",
              "      background-color: #E8F0FE;\n",
              "      border: none;\n",
              "      border-radius: 50%;\n",
              "      cursor: pointer;\n",
              "      display: none;\n",
              "      fill: #1967D2;\n",
              "      height: 32px;\n",
              "      padding: 0 0 0 0;\n",
              "      width: 32px;\n",
              "    }\n",
              "\n",
              "    .colab-df-convert:hover {\n",
              "      background-color: #E2EBFA;\n",
              "      box-shadow: 0px 1px 2px rgba(60, 64, 67, 0.3), 0px 1px 3px 1px rgba(60, 64, 67, 0.15);\n",
              "      fill: #174EA6;\n",
              "    }\n",
              "\n",
              "    [theme=dark] .colab-df-convert {\n",
              "      background-color: #3B4455;\n",
              "      fill: #D2E3FC;\n",
              "    }\n",
              "\n",
              "    [theme=dark] .colab-df-convert:hover {\n",
              "      background-color: #434B5C;\n",
              "      box-shadow: 0px 1px 3px 1px rgba(0, 0, 0, 0.15);\n",
              "      filter: drop-shadow(0px 1px 2px rgba(0, 0, 0, 0.3));\n",
              "      fill: #FFFFFF;\n",
              "    }\n",
              "  </style>\n",
              "\n",
              "      <script>\n",
              "        const buttonEl =\n",
              "          document.querySelector('#df-7650e915-3c33-4c32-9b8c-5386fbbf1898 button.colab-df-convert');\n",
              "        buttonEl.style.display =\n",
              "          google.colab.kernel.accessAllowed ? 'block' : 'none';\n",
              "\n",
              "        async function convertToInteractive(key) {\n",
              "          const element = document.querySelector('#df-7650e915-3c33-4c32-9b8c-5386fbbf1898');\n",
              "          const dataTable =\n",
              "            await google.colab.kernel.invokeFunction('convertToInteractive',\n",
              "                                                     [key], {});\n",
              "          if (!dataTable) return;\n",
              "\n",
              "          const docLinkHtml = 'Like what you see? Visit the ' +\n",
              "            '<a target=\"_blank\" href=https://colab.research.google.com/notebooks/data_table.ipynb>data table notebook</a>'\n",
              "            + ' to learn more about interactive tables.';\n",
              "          element.innerHTML = '';\n",
              "          dataTable['output_type'] = 'display_data';\n",
              "          await google.colab.output.renderOutput(dataTable, element);\n",
              "          const docLink = document.createElement('div');\n",
              "          docLink.innerHTML = docLinkHtml;\n",
              "          element.appendChild(docLink);\n",
              "        }\n",
              "      </script>\n",
              "    </div>\n",
              "  </div>\n",
              "  "
            ]
          },
          "metadata": {},
          "execution_count": 3
        }
      ]
    },
    {
      "cell_type": "code",
      "source": [
        "#Checking null values of the entire dataframe\n",
        "df.isnull().values.any()"
      ],
      "metadata": {
        "id": "AnwPZ5mv87KQ",
        "colab": {
          "base_uri": "https://localhost:8080/"
        },
        "outputId": "cf66ce62-d77e-4a83-d9d5-4cf19948d5f2"
      },
      "execution_count": 4,
      "outputs": [
        {
          "output_type": "execute_result",
          "data": {
            "text/plain": [
              "False"
            ]
          },
          "metadata": {},
          "execution_count": 4
        }
      ]
    },
    {
      "cell_type": "code",
      "source": [
        "#Checking if there are any zero values.\n",
        "0 in df.values"
      ],
      "metadata": {
        "id": "8eALxVD2_DWY",
        "colab": {
          "base_uri": "https://localhost:8080/"
        },
        "outputId": "f6738eee-cf8e-4196-8f01-0be635377310"
      },
      "execution_count": 5,
      "outputs": [
        {
          "output_type": "execute_result",
          "data": {
            "text/plain": [
              "False"
            ]
          },
          "metadata": {},
          "execution_count": 5
        }
      ]
    },
    {
      "cell_type": "markdown",
      "source": [
        "#RF - Step 3: Splitting dataset into train and test set"
      ],
      "metadata": {
        "id": "pxSSlW4v6djK"
      }
    },
    {
      "cell_type": "code",
      "source": [
        "x = df.iloc[:,:4].values\n",
        "y = df.iloc[:,4:].values"
      ],
      "metadata": {
        "id": "dW4tJsRg6m6L"
      },
      "execution_count": 6,
      "outputs": []
    },
    {
      "cell_type": "code",
      "source": [
        "x_train, x_test, y_train, y_test = train_test_split(x, y, test_size=0.2)"
      ],
      "metadata": {
        "id": "PU_b_eER6nO7"
      },
      "execution_count": 7,
      "outputs": []
    },
    {
      "cell_type": "markdown",
      "source": [
        "#RF - Step4: Training RF model on the training"
      ],
      "metadata": {
        "id": "1dYrSm876zOq"
      }
    },
    {
      "cell_type": "code",
      "source": [
        "model = RandomForestRegressor(n_estimators=100, random_state=0)"
      ],
      "metadata": {
        "id": "1Y9fXGa86-El"
      },
      "execution_count": 8,
      "outputs": []
    },
    {
      "cell_type": "code",
      "source": [
        "model.fit(x_train, y_train)"
      ],
      "metadata": {
        "id": "_Cgni--n708s",
        "colab": {
          "base_uri": "https://localhost:8080/"
        },
        "outputId": "2f98321c-983a-4b4c-9dea-515e8ab18072"
      },
      "execution_count": 9,
      "outputs": [
        {
          "output_type": "stream",
          "name": "stderr",
          "text": [
            "<ipython-input-9-139fa7af76d2>:1: DataConversionWarning: A column-vector y was passed when a 1d array was expected. Please change the shape of y to (n_samples,), for example using ravel().\n",
            "  model.fit(x_train, y_train)\n"
          ]
        },
        {
          "output_type": "execute_result",
          "data": {
            "text/plain": [
              "RandomForestRegressor(random_state=0)"
            ]
          },
          "metadata": {},
          "execution_count": 9
        }
      ]
    },
    {
      "cell_type": "markdown",
      "source": [
        "#RF - Step 5: Predicting on the test set results"
      ],
      "metadata": {
        "id": "7Vjig6XC7n-Y"
      }
    },
    {
      "cell_type": "code",
      "source": [
        "y_pred = model.predict(x_test)"
      ],
      "metadata": {
        "id": "OQSTCCX98AZu"
      },
      "execution_count": 10,
      "outputs": []
    },
    {
      "cell_type": "markdown",
      "source": [
        "#RF - Step 6: Evaluating R-squared score"
      ],
      "metadata": {
        "id": "usK8iea88Pf0"
      }
    },
    {
      "cell_type": "code",
      "source": [
        "r2 = r2_score(y_test, y_pred)\n",
        "print(\"R-squared Score: \", r2)"
      ],
      "metadata": {
        "id": "g7TDOb3m8LGR",
        "colab": {
          "base_uri": "https://localhost:8080/"
        },
        "outputId": "1a81c491-c6cc-4d0b-a8d8-8e10bec44f12"
      },
      "execution_count": 11,
      "outputs": [
        {
          "output_type": "stream",
          "name": "stdout",
          "text": [
            "R-squared Score:  0.9615892104707233\n"
          ]
        }
      ]
    },
    {
      "cell_type": "markdown",
      "source": [
        "#DT - Step 1: Importing the libraries"
      ],
      "metadata": {
        "id": "miizpaPrLMkj"
      }
    },
    {
      "cell_type": "code",
      "source": [
        "from sklearn.tree import DecisionTreeRegressor"
      ],
      "metadata": {
        "id": "xh8MmuLOLOv7"
      },
      "execution_count": 12,
      "outputs": []
    },
    {
      "cell_type": "markdown",
      "source": [
        "#DT - Step 2: Training DT model"
      ],
      "metadata": {
        "id": "yLclKurPLox6"
      }
    },
    {
      "cell_type": "code",
      "source": [
        "model = DecisionTreeRegressor()"
      ],
      "metadata": {
        "id": "sKKb5YXTLRGJ"
      },
      "execution_count": 13,
      "outputs": []
    },
    {
      "cell_type": "code",
      "source": [
        "model.fit(x_train, y_train)"
      ],
      "metadata": {
        "id": "3YvfVYGMLn3o",
        "colab": {
          "base_uri": "https://localhost:8080/"
        },
        "outputId": "18d598a3-347b-4f8d-e49d-f9c945f9673a"
      },
      "execution_count": 14,
      "outputs": [
        {
          "output_type": "execute_result",
          "data": {
            "text/plain": [
              "DecisionTreeRegressor()"
            ]
          },
          "metadata": {},
          "execution_count": 14
        }
      ]
    },
    {
      "cell_type": "markdown",
      "source": [
        "#DT - Step 3: Make predictions on the testing data"
      ],
      "metadata": {
        "id": "icpVbclrLydu"
      }
    },
    {
      "cell_type": "code",
      "source": [
        "y_pred = model.predict(x_test)\n",
        "print(y_pred)"
      ],
      "metadata": {
        "id": "bFoHRsguLvoL",
        "colab": {
          "base_uri": "https://localhost:8080/"
        },
        "outputId": "693c6db7-4be4-4119-b8f0-60fd2ad695a0"
      },
      "execution_count": 15,
      "outputs": [
        {
          "output_type": "stream",
          "name": "stdout",
          "text": [
            "[479.53 455.66 454.06 ... 446.95 470.91 435.87]\n"
          ]
        }
      ]
    },
    {
      "cell_type": "markdown",
      "source": [
        "#DT- Step 4: Evaluating R-squared score"
      ],
      "metadata": {
        "id": "EjJVKxv1L3jN"
      }
    },
    {
      "cell_type": "code",
      "source": [
        "r2 = r2_score(y_test, y_pred)\n",
        "print(\"R-squared Score: \", r2)"
      ],
      "metadata": {
        "id": "SHBhouQNL5IN",
        "colab": {
          "base_uri": "https://localhost:8080/"
        },
        "outputId": "f5648fa5-66b7-4782-b3d7-cec6a03c3c47"
      },
      "execution_count": 16,
      "outputs": [
        {
          "output_type": "stream",
          "name": "stdout",
          "text": [
            "R-squared Score:  0.9309198828673252\n"
          ]
        }
      ]
    },
    {
      "cell_type": "markdown",
      "source": [
        "#MTL - Step1: Importing the libraries"
      ],
      "metadata": {
        "id": "nFUtXhejNwVy"
      }
    },
    {
      "cell_type": "code",
      "source": [
        "from sklearn.linear_model import LinearRegression\n",
        "import seaborn as sns"
      ],
      "metadata": {
        "id": "D-zNQvbMN9Fn"
      },
      "execution_count": 17,
      "outputs": []
    },
    {
      "cell_type": "markdown",
      "source": [
        "#MTL - Step 2: Training MTL model"
      ],
      "metadata": {
        "id": "o4XQhpX3ODEq"
      }
    },
    {
      "cell_type": "code",
      "source": [
        "regressor = LinearRegression()\n",
        "regressor.fit(x_train, y_train)"
      ],
      "metadata": {
        "id": "yS_tBwyjNlxE",
        "colab": {
          "base_uri": "https://localhost:8080/"
        },
        "outputId": "d57dfde7-8c86-4370-ab15-22cf7def317a"
      },
      "execution_count": 18,
      "outputs": [
        {
          "output_type": "execute_result",
          "data": {
            "text/plain": [
              "LinearRegression()"
            ]
          },
          "metadata": {},
          "execution_count": 18
        }
      ]
    },
    {
      "cell_type": "markdown",
      "source": [
        "#MTL - Step 3: Predicting test results"
      ],
      "metadata": {
        "id": "0VruewYUOPPj"
      }
    },
    {
      "cell_type": "code",
      "source": [
        "y_pred = regressor.predict(x_test)"
      ],
      "metadata": {
        "id": "tIhBHRoUOAks"
      },
      "execution_count": 19,
      "outputs": []
    },
    {
      "cell_type": "markdown",
      "source": [
        "#MTL- Step 4: Evaluating R-squared score"
      ],
      "metadata": {
        "id": "NwoTGCGiOeD-"
      }
    },
    {
      "cell_type": "code",
      "source": [
        "r2 = r2_score(y_test, y_pred)\n",
        "print(\"R-squared score of the model \", r2)\n",
        "print(\"\\n\")\n",
        "\n",
        "# calculate the residuals\n",
        "residuals = y_test - y_pred\n",
        "\n",
        "# plot the residuals\n",
        "sns.residplot(y_pred, residuals)\n",
        "plt.title('Residual Plot for Multiple Linear Regression Model')\n",
        "plt.xlabel('Predicted Values')\n",
        "plt.ylabel('Residuals')\n",
        "print(\"n\")"
      ],
      "metadata": {
        "id": "-BGMmBo_OdjE",
        "colab": {
          "base_uri": "https://localhost:8080/",
          "height": 419
        },
        "outputId": "fe59631f-9b5c-4e41-ae25-4f190bf16491"
      },
      "execution_count": 20,
      "outputs": [
        {
          "output_type": "stream",
          "name": "stdout",
          "text": [
            "R-squared score of the model  0.927632422217416\n",
            "\n",
            "\n",
            "n\n"
          ]
        },
        {
          "output_type": "stream",
          "name": "stderr",
          "text": [
            "/usr/local/lib/python3.8/dist-packages/seaborn/_decorators.py:36: FutureWarning: Pass the following variables as keyword args: x, y. From version 0.12, the only valid positional argument will be `data`, and passing other arguments without an explicit keyword will result in an error or misinterpretation.\n",
            "  warnings.warn(\n"
          ]
        },
        {
          "output_type": "display_data",
          "data": {
            "text/plain": [
              "<Figure size 432x288 with 1 Axes>"
            ],
            "image/png": "[encoded data removed]"
          },
          "metadata": {
            "needs_background": "light"
          }
        }
      ]
    },
    {
      "cell_type": "markdown",
      "source": [
        "# Poly - Step 1: Importing the libraries"
      ],
      "metadata": {
        "id": "JIwxRIqCPTCw"
      }
    },
    {
      "cell_type": "code",
      "source": [
        "from sklearn.preprocessing import PolynomialFeatures"
      ],
      "metadata": {
        "id": "s3UlumbkPSCd"
      },
      "execution_count": 21,
      "outputs": []
    },
    {
      "cell_type": "markdown",
      "source": [
        "# Poly - Step 2: Training on Poly Model"
      ],
      "metadata": {
        "id": "gkcsosGkPuL_"
      }
    },
    {
      "cell_type": "code",
      "source": [
        "# create polynomial features\n",
        "poly = PolynomialFeatures(degree=4)\n",
        "x_train_poly = poly.fit_transform(x_train)\n",
        "\n",
        "# fit the model\n",
        "regressor1= LinearRegression()\n",
        "regressor1.fit(x_train_poly, y_train)"
      ],
      "metadata": {
        "id": "CbJadSHQPsq6",
        "colab": {
          "base_uri": "https://localhost:8080/"
        },
        "outputId": "de4435b0-93bd-4fb4-96cc-199aa3efa2c2"
      },
      "execution_count": 22,
      "outputs": [
        {
          "output_type": "execute_result",
          "data": {
            "text/plain": [
              "LinearRegression()"
            ]
          },
          "metadata": {},
          "execution_count": 22
        }
      ]
    },
    {
      "cell_type": "markdown",
      "source": [
        "# Poly - Step 3: Predicting test results"
      ],
      "metadata": {
        "id": "XxSvmmAsQDom"
      }
    },
    {
      "cell_type": "code",
      "source": [
        "# predict output for X\n",
        "x_test_poly = poly.transform(x_test)\n",
        "y_pred1 = regressor1.predict(x_test_poly)"
      ],
      "metadata": {
        "id": "UIutrZcVQDJY"
      },
      "execution_count": 23,
      "outputs": []
    },
    {
      "cell_type": "markdown",
      "source": [
        "# Poly - Step 4: Evaluating R-squared score"
      ],
      "metadata": {
        "id": "rYndLipGQWHo"
      }
    },
    {
      "cell_type": "code",
      "source": [
        "# calculate R-squared\n",
        "r2 = r2_score(y_test, y_pred1)\n",
        "print(\"R-squared score on test set is:\", r2)"
      ],
      "metadata": {
        "id": "8AJj2RpBQVhc",
        "colab": {
          "base_uri": "https://localhost:8080/"
        },
        "outputId": "f0879862-fe65-4e20-d48f-1d5030de3d5d"
      },
      "execution_count": 24,
      "outputs": [
        {
          "output_type": "stream",
          "name": "stdout",
          "text": [
            "R-squared score on test set is: 0.9408305855211365\n"
          ]
        }
      ]
    },
    {
      "cell_type": "markdown",
      "source": [
        "#SVR - Step 1: Importing the libraries"
      ],
      "metadata": {
        "id": "L_swR5GlMBCd"
      }
    },
    {
      "cell_type": "code",
      "source": [
        "from sklearn.svm import SVR\n",
        "from sklearn.preprocessing import StandardScaler"
      ],
      "metadata": {
        "id": "KbGPaiolMDW6"
      },
      "execution_count": 25,
      "outputs": []
    },
    {
      "cell_type": "markdown",
      "source": [
        "#SVR - Step 2: Training SVR model"
      ],
      "metadata": {
        "id": "XeX2NuUJMdIB"
      }
    },
    {
      "cell_type": "code",
      "source": [
        "sc_x = StandardScaler()\n",
        "x = sc_x.fit_transform(x_train)\n",
        "x_test_scaled = sc_x.transform(x_test)\n",
        "\n",
        "sc_y = StandardScaler()\n",
        "y = sc_y.fit_transform(y_train.reshape(-1, 1))\n",
        "y_test_scaled = sc_y.transform(y_test)"
      ],
      "metadata": {
        "id": "01Z0oucvMg5Z"
      },
      "execution_count": 26,
      "outputs": []
    },
    {
      "cell_type": "markdown",
      "source": [
        "#SVR - Step 3: Feature scaling "
      ],
      "metadata": {
        "id": "vh6aZcDiM7u6"
      }
    },
    {
      "cell_type": "code",
      "source": [
        "sc_x = StandardScaler()\n",
        "x = sc_x.fit_transform(x_train)\n",
        "x_test_scaled = sc_x.transform(x_test)\n",
        "\n",
        "sc_y = StandardScaler()\n",
        "y = sc_y.fit_transform(y_train.reshape(-1, 1))\n",
        "y_test_scaled = sc_y.transform(y_test)"
      ],
      "metadata": {
        "id": "b8h65WJPMlNR"
      },
      "execution_count": 27,
      "outputs": []
    },
    {
      "cell_type": "markdown",
      "source": [
        "#SVR - Step 4: Training the SVR model"
      ],
      "metadata": {
        "id": "rLxjxn1uNFi-"
      }
    },
    {
      "cell_type": "code",
      "source": [
        "model = SVR(kernel='rbf')\n",
        "model.fit(x, y)"
      ],
      "metadata": {
        "id": "3gr4VefbNEtO",
        "colab": {
          "base_uri": "https://localhost:8080/"
        },
        "outputId": "06907867-f828-4216-ae41-c8288831b88e"
      },
      "execution_count": 28,
      "outputs": [
        {
          "output_type": "stream",
          "name": "stderr",
          "text": [
            "/usr/local/lib/python3.8/dist-packages/sklearn/utils/validation.py:993: DataConversionWarning: A column-vector y was passed when a 1d array was expected. Please change the shape of y to (n_samples, ), for example using ravel().\n",
            "  y = column_or_1d(y, warn=True)\n"
          ]
        },
        {
          "output_type": "execute_result",
          "data": {
            "text/plain": [
              "SVR()"
            ]
          },
          "metadata": {},
          "execution_count": 28
        }
      ]
    },
    {
      "cell_type": "markdown",
      "source": [
        "#SVR - Predicting on test set"
      ],
      "metadata": {
        "id": "kRMcRBzCNPPA"
      }
    },
    {
      "cell_type": "code",
      "source": [
        "x_new = model.predict(x_test_scaled)\n",
        "y_pred = sc_y.inverse_transform(x_new.reshape(-1, 1))"
      ],
      "metadata": {
        "id": "CVWTxOLLNZ-q"
      },
      "execution_count": 29,
      "outputs": []
    },
    {
      "cell_type": "markdown",
      "source": [
        "#SVR- Step 4: Evaluating R-squared score"
      ],
      "metadata": {
        "id": "fSOpcy40NaTq"
      }
    },
    {
      "cell_type": "code",
      "source": [
        "r2 = r2_score(y_test, y_pred)\n",
        "print(\"R-squared Score: \", r2)"
      ],
      "metadata": {
        "id": "gtN2prEhNNCl",
        "colab": {
          "base_uri": "https://localhost:8080/"
        },
        "outputId": "245f0ba6-37bd-491a-9323-8b3893e3ea53"
      },
      "execution_count": 30,
      "outputs": [
        {
          "output_type": "stream",
          "name": "stdout",
          "text": [
            "R-squared Score:  0.9440653751925083\n"
          ]
        }
      ]
    }
  ]
}