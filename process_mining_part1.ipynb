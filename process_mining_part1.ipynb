{
  "cells": [
    {
      "cell_type": "code",
      "execution_count": null,
      "metadata": {
        "colab": {
          "base_uri": "https://localhost:8080/"
        },
        "id": "uJOZePuIQveK",
        "outputId": "bc3b59a8-dec1-4064-dc7f-44df11bf587f"
      },
      "outputs": [
        {
          "output_type": "stream",
          "name": "stdout",
          "text": [
            "Drive already mounted at /content/drive; to attempt to forcibly remount, call drive.mount(\"/content/drive\", force_remount=True).\n"
          ]
        }
      ],
      "source": [
        "from google.colab import drive\n",
        "drive.mount('/content/drive')"
      ]
    },
    {
      "cell_type": "code",
      "execution_count": null,
      "metadata": {
        "colab": {
          "base_uri": "https://localhost:8080/"
        },
        "id": "0cTQxdn_RRE3",
        "outputId": "362d6cad-db74-4d98-8bcf-5de8cafe3f9a"
      },
      "outputs": [
        {
          "output_type": "stream",
          "name": "stdout",
          "text": [
            "Looking in indexes: https://pypi.org/simple, https://us-python.pkg.dev/colab-wheels/public/simple/\n",
            "Requirement already satisfied: pm4py==2.1.4 in /usr/local/lib/python3.8/dist-packages (2.1.4)\n",
            "Requirement already satisfied: pulp<=2.1 in /usr/local/lib/python3.8/dist-packages (from pm4py==2.1.4) (2.1)\n",
            "Requirement already satisfied: pyvis in /usr/local/lib/python3.8/dist-packages (from pm4py==2.1.4) (0.3.1)\n",
            "Requirement already satisfied: tqdm in /usr/local/lib/python3.8/dist-packages (from pm4py==2.1.4) (4.64.1)\n",
            "Requirement already satisfied: numpy<=1.19.3 in /usr/local/lib/python3.8/dist-packages (from pm4py==2.1.4) (1.19.3)\n",
            "Requirement already satisfied: pytz in /usr/local/lib/python3.8/dist-packages (from pm4py==2.1.4) (2022.7)\n",
            "Requirement already satisfied: stringdist in /usr/local/lib/python3.8/dist-packages (from pm4py==2.1.4) (1.0.9)\n",
            "Requirement already satisfied: deprecation in /usr/local/lib/python3.8/dist-packages (from pm4py==2.1.4) (2.1.0)\n",
            "Requirement already satisfied: pandas in /usr/local/lib/python3.8/dist-packages (from pm4py==2.1.4) (1.3.5)\n",
            "Requirement already satisfied: scipy in /usr/local/lib/python3.8/dist-packages (from pm4py==2.1.4) (1.7.3)\n",
            "Requirement already satisfied: graphviz in /usr/local/lib/python3.8/dist-packages (from pm4py==2.1.4) (0.10.1)\n",
            "Requirement already satisfied: sympy in /usr/local/lib/python3.8/dist-packages (from pm4py==2.1.4) (1.7.1)\n",
            "Requirement already satisfied: matplotlib in /usr/local/lib/python3.8/dist-packages (from pm4py==2.1.4) (3.2.2)\n",
            "Requirement already satisfied: networkx in /usr/local/lib/python3.8/dist-packages (from pm4py==2.1.4) (3.0)\n",
            "Requirement already satisfied: jsonpickle in /usr/local/lib/python3.8/dist-packages (from pm4py==2.1.4) (3.0.1)\n",
            "Requirement already satisfied: lxml in /usr/local/lib/python3.8/dist-packages (from pm4py==2.1.4) (4.9.2)\n",
            "Requirement already satisfied: intervaltree in /usr/local/lib/python3.8/dist-packages (from pm4py==2.1.4) (2.1.0)\n",
            "Requirement already satisfied: cvxopt in /usr/local/lib/python3.8/dist-packages (from pm4py==2.1.4) (1.3.0)\n",
            "Requirement already satisfied: scikit-learn in /usr/local/lib/python3.8/dist-packages (from pm4py==2.1.4) (1.0.2)\n",
            "Requirement already satisfied: pydotplus in /usr/local/lib/python3.8/dist-packages (from pm4py==2.1.4) (2.0.2)\n",
            "Requirement already satisfied: pyparsing>=2.0.1 in /usr/local/lib/python3.8/dist-packages (from pulp<=2.1->pm4py==2.1.4) (3.0.9)\n",
            "Requirement already satisfied: packaging in /usr/local/lib/python3.8/dist-packages (from deprecation->pm4py==2.1.4) (21.3)\n",
            "Requirement already satisfied: sortedcontainers in /usr/local/lib/python3.8/dist-packages (from intervaltree->pm4py==2.1.4) (2.4.0)\n",
            "Requirement already satisfied: kiwisolver>=1.0.1 in /usr/local/lib/python3.8/dist-packages (from matplotlib->pm4py==2.1.4) (1.4.4)\n",
            "Requirement already satisfied: cycler>=0.10 in /usr/local/lib/python3.8/dist-packages (from matplotlib->pm4py==2.1.4) (0.11.0)\n",
            "Requirement already satisfied: python-dateutil>=2.1 in /usr/local/lib/python3.8/dist-packages (from matplotlib->pm4py==2.1.4) (2.8.2)\n",
            "Requirement already satisfied: jinja2>=2.9.6 in /usr/local/lib/python3.8/dist-packages (from pyvis->pm4py==2.1.4) (2.11.3)\n",
            "Requirement already satisfied: ipython>=5.3.0 in /usr/local/lib/python3.8/dist-packages (from pyvis->pm4py==2.1.4) (7.9.0)\n",
            "Requirement already satisfied: threadpoolctl>=2.0.0 in /usr/local/lib/python3.8/dist-packages (from scikit-learn->pm4py==2.1.4) (3.1.0)\n",
            "Requirement already satisfied: joblib>=0.11 in /usr/local/lib/python3.8/dist-packages (from scikit-learn->pm4py==2.1.4) (1.2.0)\n",
            "Requirement already satisfied: mpmath>=0.19 in /usr/local/lib/python3.8/dist-packages (from sympy->pm4py==2.1.4) (1.2.1)\n",
            "Requirement already satisfied: setuptools>=18.5 in /usr/local/lib/python3.8/dist-packages (from ipython>=5.3.0->pyvis->pm4py==2.1.4) (57.4.0)\n",
            "Requirement already satisfied: jedi>=0.10 in /usr/local/lib/python3.8/dist-packages (from ipython>=5.3.0->pyvis->pm4py==2.1.4) (0.18.2)\n",
            "Requirement already satisfied: pygments in /usr/local/lib/python3.8/dist-packages (from ipython>=5.3.0->pyvis->pm4py==2.1.4) (2.6.1)\n",
            "Requirement already satisfied: backcall in /usr/local/lib/python3.8/dist-packages (from ipython>=5.3.0->pyvis->pm4py==2.1.4) (0.2.0)\n",
            "Requirement already satisfied: pexpect in /usr/local/lib/python3.8/dist-packages (from ipython>=5.3.0->pyvis->pm4py==2.1.4) (4.8.0)\n",
            "Requirement already satisfied: pickleshare in /usr/local/lib/python3.8/dist-packages (from ipython>=5.3.0->pyvis->pm4py==2.1.4) (0.7.5)\n",
            "Requirement already satisfied: decorator in /usr/local/lib/python3.8/dist-packages (from ipython>=5.3.0->pyvis->pm4py==2.1.4) (4.4.2)\n",
            "Requirement already satisfied: traitlets>=4.2 in /usr/local/lib/python3.8/dist-packages (from ipython>=5.3.0->pyvis->pm4py==2.1.4) (5.7.1)\n",
            "Requirement already satisfied: prompt-toolkit<2.1.0,>=2.0.0 in /usr/local/lib/python3.8/dist-packages (from ipython>=5.3.0->pyvis->pm4py==2.1.4) (2.0.10)\n",
            "Requirement already satisfied: MarkupSafe>=0.23 in /usr/local/lib/python3.8/dist-packages (from jinja2>=2.9.6->pyvis->pm4py==2.1.4) (2.0.1)\n",
            "Requirement already satisfied: six>=1.5 in /usr/local/lib/python3.8/dist-packages (from python-dateutil>=2.1->matplotlib->pm4py==2.1.4) (1.15.0)\n",
            "Requirement already satisfied: parso<0.9.0,>=0.8.0 in /usr/local/lib/python3.8/dist-packages (from jedi>=0.10->ipython>=5.3.0->pyvis->pm4py==2.1.4) (0.8.3)\n",
            "Requirement already satisfied: wcwidth in /usr/local/lib/python3.8/dist-packages (from prompt-toolkit<2.1.0,>=2.0.0->ipython>=5.3.0->pyvis->pm4py==2.1.4) (0.2.5)\n",
            "Requirement already satisfied: ptyprocess>=0.5 in /usr/local/lib/python3.8/dist-packages (from pexpect->ipython>=5.3.0->pyvis->pm4py==2.1.4) (0.7.0)\n",
            "Reading package lists... Done\n",
            "Building dependency tree       \n",
            "Reading state information... Done\n",
            "graphviz is already the newest version (2.42.2-3build2).\n",
            "0 upgraded, 0 newly installed, 0 to remove and 27 not upgraded.\n",
            "Looking in indexes: https://pypi.org/simple, https://us-python.pkg.dev/colab-wheels/public/simple/\n",
            "Requirement already satisfied: graphviz in /usr/local/lib/python3.8/dist-packages (0.10.1)\n"
          ]
        }
      ],
      "source": [
        "!pip install pm4py==2.1.4\n",
        "!apt install -y graphviz\n",
        "!pip install graphviz"
      ]
    },
    {
      "cell_type": "markdown",
      "metadata": {
        "id": "ncu8iEuXUfih"
      },
      "source": [
        "Reading CSV file"
      ]
    },
    {
      "cell_type": "code",
      "execution_count": null,
      "metadata": {
        "id": "48JqfhDeRbve"
      },
      "outputs": [],
      "source": [
        "import pandas as pd"
      ]
    },
    {
      "cell_type": "code",
      "execution_count": null,
      "metadata": {
        "id": "aMNekf52Rh2W"
      },
      "outputs": [],
      "source": [
        "df = pd.read_csv('/content/drive/My Drive/Process mining course/heart_log_val_0.csv')"
      ]
    },
    {
      "cell_type": "code",
      "execution_count": null,
      "metadata": {
        "id": "auwllyCxRtSF",
        "colab": {
          "base_uri": "https://localhost:8080/",
          "height": 337
        },
        "outputId": "6bc29017-47e1-41c6-e040-44b9de65a56b"
      },
      "outputs": [
        {
          "output_type": "execute_result",
          "data": {
            "text/plain": [
              "        type   concept:name  value             time:timestamp  \\\n",
              "0        lab  Sodium_mean_2    2.0  2166-07-23 17:03:00+00:00   \n",
              "1        lab   Sodium_std_0    0.0  2166-07-26 10:30:00+00:00   \n",
              "2  admission      unplanned    NaN  2166-08-13 03:32:00+00:00   \n",
              "3  admission       Medicare    NaN  2166-08-13 03:32:00+00:00   \n",
              "4        lab  Sodium_mean_2    2.0  2166-08-13 03:32:10+00:00   \n",
              "\n",
              "   case:concept:name case:gender  case:age  case:charlson  case:elixhauser  \\\n",
              "0                283           M        76              1               36   \n",
              "1                283           M        76              1               36   \n",
              "2                283           M        76              1               36   \n",
              "3                283           M        76              1               36   \n",
              "4                283           M        76              1               36   \n",
              "\n",
              "                    case:dob          case:dod case:ethnicity  case:label  \\\n",
              "0  2090-09-05 05:30:00+00:00  09-12-2166 00:00          WHITE       False   \n",
              "1  2090-09-05 05:30:00+00:00  09-12-2166 00:00          WHITE       False   \n",
              "2  2090-09-05 05:30:00+00:00  09-12-2166 00:00          WHITE       False   \n",
              "3  2090-09-05 05:30:00+00:00  09-12-2166 00:00          WHITE       False   \n",
              "4  2090-09-05 05:30:00+00:00  09-12-2166 00:00          WHITE       False   \n",
              "\n",
              "   admission_id PREDICT  \n",
              "0           NaN     NaN  \n",
              "1           NaN     NaN  \n",
              "2      109185.0     NaN  \n",
              "3      109185.0     NaN  \n",
              "4           NaN     NaN  "
            ],
            "text/html": [
              "\n",
              "  <div id=\"df-31826abb-4f3d-4f42-822f-8216aea59e73\">\n",
              "    <div class=\"colab-df-container\">\n",
              "      <div>\n",
              "<style scoped>\n",
              "    .dataframe tbody tr th:only-of-type {\n",
              "        vertical-align: middle;\n",
              "    }\n",
              "\n",
              "    .dataframe tbody tr th {\n",
              "        vertical-align: top;\n",
              "    }\n",
              "\n",
              "    .dataframe thead th {\n",
              "        text-align: right;\n",
              "    }\n",
              "</style>\n",
              "<table border=\"1\" class=\"dataframe\">\n",
              "  <thead>\n",
              "    <tr style=\"text-align: right;\">\n",
              "      <th></th>\n",
              "      <th>type</th>\n",
              "      <th>concept:name</th>\n",
              "      <th>value</th>\n",
              "      <th>time:timestamp</th>\n",
              "      <th>case:concept:name</th>\n",
              "      <th>case:gender</th>\n",
              "      <th>case:age</th>\n",
              "      <th>case:charlson</th>\n",
              "      <th>case:elixhauser</th>\n",
              "      <th>case:dob</th>\n",
              "      <th>case:dod</th>\n",
              "      <th>case:ethnicity</th>\n",
              "      <th>case:label</th>\n",
              "      <th>admission_id</th>\n",
              "      <th>PREDICT</th>\n",
              "    </tr>\n",
              "  </thead>\n",
              "  <tbody>\n",
              "    <tr>\n",
              "      <th>0</th>\n",
              "      <td>lab</td>\n",
              "      <td>Sodium_mean_2</td>\n",
              "      <td>2.0</td>\n",
              "      <td>2166-07-23 17:03:00+00:00</td>\n",
              "      <td>283</td>\n",
              "      <td>M</td>\n",
              "      <td>76</td>\n",
              "      <td>1</td>\n",
              "      <td>36</td>\n",
              "      <td>2090-09-05 05:30:00+00:00</td>\n",
              "      <td>09-12-2166 00:00</td>\n",
              "      <td>WHITE</td>\n",
              "      <td>False</td>\n",
              "      <td>NaN</td>\n",
              "      <td>NaN</td>\n",
              "    </tr>\n",
              "    <tr>\n",
              "      <th>1</th>\n",
              "      <td>lab</td>\n",
              "      <td>Sodium_std_0</td>\n",
              "      <td>0.0</td>\n",
              "      <td>2166-07-26 10:30:00+00:00</td>\n",
              "      <td>283</td>\n",
              "      <td>M</td>\n",
              "      <td>76</td>\n",
              "      <td>1</td>\n",
              "      <td>36</td>\n",
              "      <td>2090-09-05 05:30:00+00:00</td>\n",
              "      <td>09-12-2166 00:00</td>\n",
              "      <td>WHITE</td>\n",
              "      <td>False</td>\n",
              "      <td>NaN</td>\n",
              "      <td>NaN</td>\n",
              "    </tr>\n",
              "    <tr>\n",
              "      <th>2</th>\n",
              "      <td>admission</td>\n",
              "      <td>unplanned</td>\n",
              "      <td>NaN</td>\n",
              "      <td>2166-08-13 03:32:00+00:00</td>\n",
              "      <td>283</td>\n",
              "      <td>M</td>\n",
              "      <td>76</td>\n",
              "      <td>1</td>\n",
              "      <td>36</td>\n",
              "      <td>2090-09-05 05:30:00+00:00</td>\n",
              "      <td>09-12-2166 00:00</td>\n",
              "      <td>WHITE</td>\n",
              "      <td>False</td>\n",
              "      <td>109185.0</td>\n",
              "      <td>NaN</td>\n",
              "    </tr>\n",
              "    <tr>\n",
              "      <th>3</th>\n",
              "      <td>admission</td>\n",
              "      <td>Medicare</td>\n",
              "      <td>NaN</td>\n",
              "      <td>2166-08-13 03:32:00+00:00</td>\n",
              "      <td>283</td>\n",
              "      <td>M</td>\n",
              "      <td>76</td>\n",
              "      <td>1</td>\n",
              "      <td>36</td>\n",
              "      <td>2090-09-05 05:30:00+00:00</td>\n",
              "      <td>09-12-2166 00:00</td>\n",
              "      <td>WHITE</td>\n",
              "      <td>False</td>\n",
              "      <td>109185.0</td>\n",
              "      <td>NaN</td>\n",
              "    </tr>\n",
              "    <tr>\n",
              "      <th>4</th>\n",
              "      <td>lab</td>\n",
              "      <td>Sodium_mean_2</td>\n",
              "      <td>2.0</td>\n",
              "      <td>2166-08-13 03:32:10+00:00</td>\n",
              "      <td>283</td>\n",
              "      <td>M</td>\n",
              "      <td>76</td>\n",
              "      <td>1</td>\n",
              "      <td>36</td>\n",
              "      <td>2090-09-05 05:30:00+00:00</td>\n",
              "      <td>09-12-2166 00:00</td>\n",
              "      <td>WHITE</td>\n",
              "      <td>False</td>\n",
              "      <td>NaN</td>\n",
              "      <td>NaN</td>\n",
              "    </tr>\n",
              "  </tbody>\n",
              "</table>\n",
              "</div>\n",
              "      <button class=\"colab-df-convert\" onclick=\"convertToInteractive('df-31826abb-4f3d-4f42-822f-8216aea59e73')\"\n",
              "              title=\"Convert this dataframe to an interactive table.\"\n",
              "              style=\"display:none;\">\n",
              "        \n",
              "  <svg xmlns=\"http://www.w3.org/2000/svg\" height=\"24px\"viewBox=\"0 0 24 24\"\n",
              "       width=\"24px\">\n",
              "    <path d=\"M0 0h24v24H0V0z\" fill=\"none\"/>\n",
              "    <path d=\"M18.56 5.44l.94 2.06.94-2.06 2.06-.94-2.06-.94-.94-2.06-.94 2.06-2.06.94zm-11 1L8.5 8.5l.94-2.06 2.06-.94-2.06-.94L8.5 2.5l-.94 2.06-2.06.94zm10 10l.94 2.06.94-2.06 2.06-.94-2.06-.94-.94-2.06-.94 2.06-2.06.94z\"/><path d=\"M17.41 7.96l-1.37-1.37c-.4-.4-.92-.59-1.43-.59-.52 0-1.04.2-1.43.59L10.3 9.45l-7.72 7.72c-.78.78-.78 2.05 0 2.83L4 21.41c.39.39.9.59 1.41.59.51 0 1.02-.2 1.41-.59l7.78-7.78 2.81-2.81c.8-.78.8-2.07 0-2.86zM5.41 20L4 18.59l7.72-7.72 1.47 1.35L5.41 20z\"/>\n",
              "  </svg>\n",
              "      </button>\n",
              "      \n",
              "  <style>\n",
              "    .colab-df-container {\n",
              "      display:flex;\n",
              "      flex-wrap:wrap;\n",
              "      gap: 12px;\n",
              "    }\n",
              "\n",
              "    .colab-df-convert {\n",
              "      background-color: #E8F0FE;\n",
              "      border: none;\n",
              "      border-radius: 50%;\n",
              "      cursor: pointer;\n",
              "      display: none;\n",
              "      fill: #1967D2;\n",
              "      height: 32px;\n",
              "      padding: 0 0 0 0;\n",
              "      width: 32px;\n",
              "    }\n",
              "\n",
              "    .colab-df-convert:hover {\n",
              "      background-color: #E2EBFA;\n",
              "      box-shadow: 0px 1px 2px rgba(60, 64, 67, 0.3), 0px 1px 3px 1px rgba(60, 64, 67, 0.15);\n",
              "      fill: #174EA6;\n",
              "    }\n",
              "\n",
              "    [theme=dark] .colab-df-convert {\n",
              "      background-color: #3B4455;\n",
              "      fill: #D2E3FC;\n",
              "    }\n",
              "\n",
              "    [theme=dark] .colab-df-convert:hover {\n",
              "      background-color: #434B5C;\n",
              "      box-shadow: 0px 1px 3px 1px rgba(0, 0, 0, 0.15);\n",
              "      filter: drop-shadow(0px 1px 2px rgba(0, 0, 0, 0.3));\n",
              "      fill: #FFFFFF;\n",
              "    }\n",
              "  </style>\n",
              "\n",
              "      <script>\n",
              "        const buttonEl =\n",
              "          document.querySelector('#df-31826abb-4f3d-4f42-822f-8216aea59e73 button.colab-df-convert');\n",
              "        buttonEl.style.display =\n",
              "          google.colab.kernel.accessAllowed ? 'block' : 'none';\n",
              "\n",
              "        async function convertToInteractive(key) {\n",
              "          const element = document.querySelector('#df-31826abb-4f3d-4f42-822f-8216aea59e73');\n",
              "          const dataTable =\n",
              "            await google.colab.kernel.invokeFunction('convertToInteractive',\n",
              "                                                     [key], {});\n",
              "          if (!dataTable) return;\n",
              "\n",
              "          const docLinkHtml = 'Like what you see? Visit the ' +\n",
              "            '<a target=\"_blank\" href=https://colab.research.google.com/notebooks/data_table.ipynb>data table notebook</a>'\n",
              "            + ' to learn more about interactive tables.';\n",
              "          element.innerHTML = '';\n",
              "          dataTable['output_type'] = 'display_data';\n",
              "          await google.colab.output.renderOutput(dataTable, element);\n",
              "          const docLink = document.createElement('div');\n",
              "          docLink.innerHTML = docLinkHtml;\n",
              "          element.appendChild(docLink);\n",
              "        }\n",
              "      </script>\n",
              "    </div>\n",
              "  </div>\n",
              "  "
            ]
          },
          "metadata": {},
          "execution_count": 27
        }
      ],
      "source": [
        "df.head()"
      ]
    },
    {
      "cell_type": "code",
      "execution_count": null,
      "metadata": {
        "colab": {
          "base_uri": "https://localhost:8080/"
        },
        "id": "JvbajRX5RvvN",
        "outputId": "0fe46d1c-49b2-4d21-c05e-551e0b2fef7e"
      },
      "outputs": [
        {
          "output_type": "stream",
          "name": "stdout",
          "text": [
            "['lab' 'admission' 'artificial' 'elix_comorb']\n"
          ]
        }
      ],
      "source": [
        "event_type = df['type'].unique()\n",
        "print(event_type)"
      ]
    },
    {
      "cell_type": "code",
      "execution_count": null,
      "metadata": {
        "id": "07Sd-wPhR13N"
      },
      "outputs": [],
      "source": [
        "event = df['concept:name'].unique()"
      ]
    },
    {
      "cell_type": "code",
      "execution_count": null,
      "metadata": {
        "colab": {
          "base_uri": "https://localhost:8080/"
        },
        "id": "T2VAuOdfR4zN",
        "outputId": "d046d386-cdbc-4ef7-fce0-71b9932e69c9"
      },
      "outputs": [
        {
          "output_type": "stream",
          "name": "stdout",
          "text": [
            "Sodium_mean_2\n",
            "Sodium_std_0\n",
            "unplanned\n",
            "Medicare\n",
            "Urea Nitrogen_mean_2\n",
            "Sodium_std_2\n",
            "Urea Nitrogen_std_2\n",
            "event_0\n",
            "event_2\n",
            "event_3\n",
            "event_6\n",
            "event_9\n",
            "event_11\n",
            "event_14\n",
            "event_15\n",
            "event_16\n",
            "event_19\n",
            "event_20\n",
            "event_26\n",
            "event_29\n",
            "CHF\n",
            "OND\n",
            "COAG\n",
            "FED\n",
            "Urea Nitrogen_mean_1\n",
            "Urea Nitrogen_std_1\n",
            "Private\n",
            "Sodium_mean_3\n",
            "Urea Nitrogen_mean_3\n",
            "CARIT\n",
            "VALV\n",
            "PARA\n",
            "Urea Nitrogen_std_4\n",
            "Medicaid\n",
            "PCD\n",
            "HYPUNC\n",
            "CPD\n",
            "HYPOTHY\n",
            "Sodium_std_1\n",
            "NTproBNP_mean_9\n",
            "NTproBNP_std_1\n",
            "Sodium_std_3\n",
            "Urea Nitrogen_std_3\n",
            "Sodium_mean_1\n",
            "DIABUNC\n",
            "LD\n",
            "WLOSS\n",
            "ALCOHOL\n",
            "PVD\n",
            "NTproBNP_std_0\n",
            "HYPC\n",
            "RF\n",
            "DEPRE\n",
            "planned\n",
            "Creatinine, Serum_mean_0\n",
            "Creatinine, Serum_std_0\n",
            "DRUG\n",
            "BLANE\n",
            "SOLIDTUM\n",
            "NTproBNP_std_6\n",
            "OBES\n",
            "DIABC\n",
            "Urea Nitrogen_mean_0\n",
            "PUD\n",
            "METACANC\n",
            "DANE\n",
            "Sodium_mean_4\n",
            "Sodium_std_4\n",
            "LYMPH\n",
            "Urea Nitrogen_mean_4\n",
            "Urea Nitrogen_std_0\n",
            "PSYCHO\n",
            "RHEUMD\n"
          ]
        }
      ],
      "source": [
        "for i in event:\n",
        "    print(i)"
      ]
    },
    {
      "cell_type": "markdown",
      "metadata": {
        "id": "FAeaHbtMUUUG"
      },
      "source": [
        " Converting csv file to xes file"
      ]
    },
    {
      "cell_type": "code",
      "execution_count": null,
      "metadata": {
        "id": "f31X9IDgSAVf"
      },
      "outputs": [],
      "source": [
        "from pm4py.objects.log.exporter.xes import exporter as xes_exporter"
      ]
    },
    {
      "cell_type": "code",
      "execution_count": null,
      "metadata": {
        "id": "JH6wncFASECt",
        "colab": {
          "base_uri": "https://localhost:8080/",
          "height": 49,
          "referenced_widgets": [
            "18c3e624a0374ff8b6a13c7277f0610a",
            "ddbcece76cef4726add88555c9f886d6",
            "6340b402861b49e8a6aa4a5117804e88",
            "595114bcb58a4b888e4c1ad16c0d354c",
            "4043ed61920245a59ae38e21eef43d51",
            "93ec527361fc4ba18c27a37a4d250b1e",
            "b7925d01e29d4372affc71fd13dd7ef4",
            "a8d7ba3279404ad3ae87727cd9e5db45",
            "ec9c094806814dc9b665adcfdc4b68e1",
            "b0569e945a5145d685c982804ca9ac92",
            "30fa4ea112de4b7185a59282f0337699"
          ]
        },
        "outputId": "c1be649c-025e-4692-ae73-f04a4bc734b0"
      },
      "outputs": [
        {
          "output_type": "display_data",
          "data": {
            "text/plain": [
              "exporting log, completed traces ::   0%|          | 0/78 [00:00<?, ?it/s]"
            ],
            "application/vnd.jupyter.widget-view+json": {
              "version_major": 2,
              "version_minor": 0,
              "model_id": "18c3e624a0374ff8b6a13c7277f0610a"
            }
          },
          "metadata": {}
        }
      ],
      "source": [
        "xes_exporter.apply(df, '/content/drive/My Drive/Process mining course/test.xes')"
      ]
    },
    {
      "cell_type": "markdown",
      "metadata": {
        "id": "CHLI-jgeTweQ"
      },
      "source": [
        "Inductive miner"
      ]
    },
    {
      "cell_type": "code",
      "execution_count": null,
      "metadata": {
        "id": "IZBk_znQSINd"
      },
      "outputs": [],
      "source": [
        "from pm4py.objects.log.importer.xes import importer as xes_importer\n",
        "from pm4py.algo.discovery.inductive import algorithm as inductive_miner"
      ]
    },
    {
      "cell_type": "code",
      "execution_count": null,
      "metadata": {
        "id": "7NbF4qJiSRoF",
        "colab": {
          "base_uri": "https://localhost:8080/",
          "height": 101,
          "referenced_widgets": [
            "f30b108daef9409e8baa0a1a7cde99ca",
            "cba6757e660141d0ac0c535a6f16c946",
            "3b89f42967a74a5d805201141f1de647",
            "722993150c5b43458f6d8068803b5c11",
            "f177f83c12ae4b44866b41d1623603fb",
            "303db4888f544efdbae252519b06375b",
            "686b31a5a4614f748b27cc7223e0ba3b",
            "cc4997a965e34bf5b1d5190c730f652d",
            "8d11caf994ad4f09acf13c5c6f1cbbbf",
            "0a557b7091e9452884aab7c258e489db",
            "e32a66b897a8475a8f32e5377aa78313"
          ]
        },
        "outputId": "90f9d1fe-f97b-4798-855d-ff135071f533"
      },
      "outputs": [
        {
          "output_type": "display_data",
          "data": {
            "text/plain": [
              "parsing log, completed traces ::   0%|          | 0/78 [00:00<?, ?it/s]"
            ],
            "application/vnd.jupyter.widget-view+json": {
              "version_major": 2,
              "version_minor": 0,
              "model_id": "f30b108daef9409e8baa0a1a7cde99ca"
            }
          },
          "metadata": {}
        },
        {
          "output_type": "stream",
          "name": "stdout",
          "text": [
            "0.3\n",
            "PN Places: 93\n",
            "PN Transitions: 148\n"
          ]
        }
      ],
      "source": [
        "log = xes_importer.apply('/content/drive/My Drive/Process mining course/test.xes')\n",
        "for thrd in [\"0.3\"]:\n",
        "    net, initial_marking, final_marking = inductive_miner.apply(log, parameters={\"NOISE_THRESHOLD\": float(thrd)})\n",
        "### Report Petri-net properties ###\n",
        "print(float(thrd))\n",
        "print(\"PN Places:\", len(net.places))\n",
        "print(\"PN Transitions:\", len(net.transitions))"
      ]
    },
    {
      "cell_type": "markdown",
      "metadata": {
        "id": "zvR4VNx8Td-m"
      },
      "source": [
        "Exporting PNML"
      ]
    },
    {
      "cell_type": "code",
      "execution_count": null,
      "metadata": {
        "id": "sLwYwWUZSSz-"
      },
      "outputs": [],
      "source": [
        "from pm4py.objects.petri.exporter import exporter as pnml_exporter\n",
        "pnml_exporter.apply(net, initial_marking, \"/content/drive/My Drive/Process mining course/test.pnml\", final_marking=final_marking)"
      ]
    },
    {
      "cell_type": "code",
      "execution_count": null,
      "metadata": {
        "id": "j6RuNqczSeSO"
      },
      "outputs": [],
      "source": [
        "from pm4py.objects.petri.importer import importer as pnml_importer\n",
        "net, im, fm = pnml_importer.apply(\"/content/drive/My Drive/Process mining course/test.pnml\")"
      ]
    },
    {
      "cell_type": "code",
      "execution_count": null,
      "metadata": {
        "colab": {
          "base_uri": "https://localhost:8080/"
        },
        "id": "7QwaKRV5oifE",
        "outputId": "f44f4702-c71e-4a6e-bfe1-c306e394710f"
      },
      "outputs": [
        {
          "output_type": "stream",
          "name": "stdout",
          "text": [
            "PN Places: 93\n",
            "\n",
            "PN Places: [p_53, p_33, p_99, p_57, p_50, p_32, p_73, p_72, p_70, p_35, p_58, p_34, p_96, p_59, p_16, p_69, p_44, p_111, p_45, p_37, p_47, p_101, p_49, p_75, p_100, p_52, p_63, p_109, p_94, p_15, p_77, p_23, p_78, p_89, p_11, p_79, p_54, p_24, p_87, p_85, p_25, p_88, p_80, p_12, p_26, p_107, p_30, source, p_81, p_46, p_76, p_22, sink, p_92, p_105, p_82, p_90, p_95, p_51, p_83, p_93, p_5, p_13, p_60, p_91, p_31, p_84, p_39, p_6, p_64, p_67, p_8, p_36, p_10, p_74, p_27, p_17, p_86, p_18, p_65, p_7, p_62, p_106, p_40, p_98, p_110, p_41, p_97, p_103, p_68, p_55, p_104, p_42]\n",
            "\n",
            "PN Transitions: 148\n",
            "\n",
            "PN Transitions: [tauJoin_68, LYMPH, skip_63, skip_90, skip_50, skip_88, Urea Nitrogen_std_1, init_loop_16, skip_13, Urea Nitrogen_mean_4, skip_33, skip_64, skip_44, skip_69, NTproBNP_std_6, skip_18, skip_72, DANE, skip_39, skip_53, skip_93, Private, OBES, NTproBNP_mean_9, RF, skip_70, skip_61, FED, skip_14, skip_47, tauSplit_31, PSYCHO, skip_94, Urea Nitrogen_mean_0, tauJoin_32, tauJoin_35, skip_60, Sodium_std_2, skip_84, PUD, Urea Nitrogen_std_3, Sodium_mean_2, SOLIDTUM, skip_91, skip_66, METACANC, planned, skip_89, Sodium_mean_1, HYPUNC, unplanned, Medicare, skip_73, tauSplit_42, skip_71, Creatinine, Serum_std_0, skip_85, NTproBNP_std_0, Urea Nitrogen_std_0, ALCOHOL, tauSplit_67, skip_36, skip_83, init_loop_28, LD, skip_87, Creatinine, Serum_mean_0, skip_92, BLANE, skip_19, skip_15, skip_62, tauJoin_43, skip_65, skip_30, skip_86, tauJoin_46, skip_74, Urea Nitrogen_mean_3, skip_82, Urea Nitrogen_std_2, RHEUMD, DIABUNC, skip_81, Sodium_std_4, OND, Sodium_std_0, skip_80, DEPRE, event_14, tauJoin_49, HYPOTHY, VALV, Sodium_mean_3, WLOSS, Sodium_mean_4, event_6, event_15, skip_75, CPD, tau_1, skip_5, skip_56, event_19, event_0, skip_25, PCD, event_16, skip_10, Medicaid, tauSplit_22, init_loop_6, skip_76, event_26, event_2, PVD, tauJoin_23, skip_77, skip_57, skip_9, HYPC, COAG, event_29, skip_8, skip_24, event_3, skip_58, skip_78, Urea Nitrogen_mean_1, PARA, event_9, CHF, tauJoin_38, skip_59, Sodium_std_1, skip_79, Urea Nitrogen_std_4, CARIT, Sodium_std_3, init_loop_11, Urea Nitrogen_mean_2, event_20, tauJoin_52, event_11, NTproBNP_std_1, DIABC, tauJoin_4, DRUG]\n"
          ]
        }
      ],
      "source": [
        "print(\"PN Places:\", len(net.places))\n",
        "print(\"\\nPN Places:\", list(net.places))\n",
        "print(\"\\nPN Transitions:\", len(net.transitions))\n",
        "print(\"\\nPN Transitions:\", list(net.transitions))"
      ]
    },
    {
      "cell_type": "markdown",
      "metadata": {
        "id": "HXHSWmSYo-LA"
      },
      "source": [
        "Petri Net"
      ]
    },
    {
      "cell_type": "code",
      "execution_count": null,
      "metadata": {
        "id": "y15iOva6l-1T"
      },
      "outputs": [],
      "source": [
        "from pm4py.visualization.petrinet import visualizer as pn_visualizer\n",
        "import graphviz"
      ]
    },
    {
      "cell_type": "code",
      "execution_count": null,
      "metadata": {
        "colab": {
          "base_uri": "https://localhost:8080/",
          "height": 1000
        },
        "id": "z0Q2qT75oS5E",
        "outputId": "9ff450b5-c3d5-41c7-9c72-fe1fa097a0ba"
      },
      "outputs": [
        {
          "output_type": "execute_result",
          "data": {
            "text/plain": [
              "<graphviz.files.Source at 0x7fb321b0c910>"
            ],
            "image/svg+xml": "<?xml version=\"1.0\" encoding=\"UTF-8\" standalone=\"no\"?>\n<!DOCTYPE svg PUBLIC \"-//W3C//DTD SVG 1.1//EN\"\n \"http://www.w3.org/Graphics/SVG/1.1/DTD/svg11.dtd\">\n<!-- Generated by graphviz version 2.43.0 (0)\n -->\n<!-- Title: imported_1674787228.8329625 Pages: 1 -->\n<svg width=\"11475pt\" height=\"1365pt\"\n viewBox=\"0.00 0.00 11475.00 1365.00\" xmlns=\"http://www.w3.org/2000/svg\" xmlns:xlink=\"http://www.w3.org/1999/xlink\">\n<g id=\"graph0\" class=\"graph\" transform=\"scale(1 1) rotate(0) translate(4 1361)\">\n<title>imported_1674787228.8329625</title>\n<!-- 140407357713184 -->\n<g id=\"node1\" class=\"node\">\n<title>140407357713184</title>\n<polygon fill=\"none\" stroke=\"black\" points=\"171,-1333 90,-1333 90,-1297 171,-1297 171,-1333\"/>\n<text text-anchor=\"middle\" x=\"130.5\" y=\"-1311.3\" font-family=\"Times,serif\" font-size=\"14.00\">ALCOHOL</text>\n</g>\n<!-- 140407233400304 -->\n<g id=\"node161\" class=\"node\">\n<title>140407233400304</title>\n<ellipse fill=\"none\" stroke=\"black\" cx=\"234\" cy=\"-1273\" rx=\"27\" ry=\"27\"/>\n</g>\n<!-- 140407357713184&#45;&gt;140407233400304 -->\n<g id=\"edge71\" class=\"edge\">\n<title>140407357713184&#45;&gt;140407233400304</title>\n<path fill=\"none\" stroke=\"black\" d=\"M171.03,-1298.64C180.35,-1294.78 190.2,-1290.71 199.24,-1286.97\"/>\n<polygon fill=\"black\" stroke=\"black\" points=\"200.77,-1290.13 208.67,-1283.07 198.09,-1283.66 200.77,-1290.13\"/>\n</g>\n<!-- 140407359278336 -->\n<g id=\"node2\" class=\"node\">\n<title>140407359278336</title>\n<polygon fill=\"none\" stroke=\"black\" points=\"11056.5,-1111 10994.5,-1111 10994.5,-1075 11056.5,-1075 11056.5,-1111\"/>\n<text text-anchor=\"middle\" x=\"11025.5\" y=\"-1089.3\" font-family=\"Times,serif\" font-size=\"14.00\">BLANE</text>\n</g>\n<!-- 140407359336608 -->\n<g id=\"node158\" class=\"node\">\n<title>140407359336608</title>\n<ellipse fill=\"none\" stroke=\"black\" cx=\"11154\" cy=\"-1153\" rx=\"27\" ry=\"27\"/>\n</g>\n<!-- 140407359278336&#45;&gt;140407359336608 -->\n<g id=\"edge51\" class=\"edge\">\n<title>140407359278336&#45;&gt;140407359336608</title>\n<path fill=\"none\" stroke=\"black\" d=\"M11056.62,-1104.93C11067.54,-1109.44 11079.92,-1114.75 11091,-1120 11100.94,-1124.71 11111.57,-1130.2 11121.17,-1135.33\"/>\n<polygon fill=\"black\" stroke=\"black\" points=\"11119.54,-1138.43 11130,-1140.1 11122.87,-1132.27 11119.54,-1138.43\"/>\n</g>\n<!-- 140407357578688 -->\n<g id=\"node3\" class=\"node\">\n<title>140407357578688</title>\n<polygon fill=\"none\" stroke=\"black\" points=\"1439,-936 1382,-936 1382,-900 1439,-900 1439,-936\"/>\n<text text-anchor=\"middle\" x=\"1410.5\" y=\"-914.3\" font-family=\"Times,serif\" font-size=\"14.00\">CARIT</text>\n</g>\n<!-- 140407359339392 -->\n<g id=\"node173\" class=\"node\">\n<title>140407359339392</title>\n<ellipse fill=\"none\" stroke=\"black\" cx=\"1514\" cy=\"-972\" rx=\"27\" ry=\"27\"/>\n</g>\n<!-- 140407357578688&#45;&gt;140407359339392 -->\n<g id=\"edge33\" class=\"edge\">\n<title>140407357578688&#45;&gt;140407359339392</title>\n<path fill=\"none\" stroke=\"black\" d=\"M1439.24,-932.76C1452.11,-939.61 1467.5,-947.79 1480.87,-954.91\"/>\n<polygon fill=\"black\" stroke=\"black\" points=\"1479.29,-958.03 1489.76,-959.64 1482.58,-951.85 1479.29,-958.03\"/>\n</g>\n<!-- 140407357578400 -->\n<g id=\"node4\" class=\"node\">\n<title>140407357578400</title>\n<polygon fill=\"none\" stroke=\"black\" points=\"5172,-576 5118,-576 5118,-540 5172,-540 5172,-576\"/>\n<text text-anchor=\"middle\" x=\"5145\" y=\"-554.3\" font-family=\"Times,serif\" font-size=\"14.00\">CHF</text>\n</g>\n<!-- 140407328134768 -->\n<g id=\"node216\" class=\"node\">\n<title>140407328134768</title>\n<ellipse fill=\"none\" stroke=\"black\" cx=\"5235\" cy=\"-641\" rx=\"27\" ry=\"27\"/>\n</g>\n<!-- 140407357578400&#45;&gt;140407328134768 -->\n<g id=\"edge67\" class=\"edge\">\n<title>140407357578400&#45;&gt;140407328134768</title>\n<path fill=\"none\" stroke=\"black\" d=\"M5165.09,-576.01C5177.35,-587.57 5193.45,-602.75 5207,-615.53\"/>\n<polygon fill=\"black\" stroke=\"black\" points=\"5204.96,-618.42 5214.64,-622.74 5209.77,-613.33 5204.96,-618.42\"/>\n</g>\n<!-- 140407357577440 -->\n<g id=\"node5\" class=\"node\">\n<title>140407357577440</title>\n<polygon fill=\"none\" stroke=\"black\" points=\"2013,-1139 1958,-1139 1958,-1103 2013,-1103 2013,-1139\"/>\n<text text-anchor=\"middle\" x=\"1985.5\" y=\"-1117.3\" font-family=\"Times,serif\" font-size=\"14.00\">COAG</text>\n</g>\n<!-- 140407331315616 -->\n<g id=\"node185\" class=\"node\">\n<title>140407331315616</title>\n<ellipse fill=\"none\" stroke=\"black\" cx=\"2092\" cy=\"-1121\" rx=\"27\" ry=\"27\"/>\n</g>\n<!-- 140407357577440&#45;&gt;140407331315616 -->\n<g id=\"edge56\" class=\"edge\">\n<title>140407357577440&#45;&gt;140407331315616</title>\n<path fill=\"none\" stroke=\"black\" d=\"M2013.14,-1121C2025.77,-1121 2041.04,-1121 2054.71,-1121\"/>\n<polygon fill=\"black\" stroke=\"black\" points=\"2054.77,-1124.5 2064.77,-1121 2054.77,-1117.5 2054.77,-1124.5\"/>\n</g>\n<!-- 140407356887776 -->\n<g id=\"node6\" class=\"node\">\n<title>140407356887776</title>\n<polygon fill=\"none\" stroke=\"black\" points=\"8458,-643 8404,-643 8404,-607 8458,-607 8458,-643\"/>\n<text text-anchor=\"middle\" x=\"8431\" y=\"-621.3\" font-family=\"Times,serif\" font-size=\"14.00\">CPD</text>\n</g>\n<!-- 140407331314368 -->\n<g id=\"node207\" class=\"node\">\n<title>140407331314368</title>\n<ellipse fill=\"none\" stroke=\"black\" cx=\"8521\" cy=\"-625\" rx=\"27\" ry=\"27\"/>\n</g>\n<!-- 140407356887776&#45;&gt;140407331314368 -->\n<g id=\"edge60\" class=\"edge\">\n<title>140407356887776&#45;&gt;140407331314368</title>\n<path fill=\"none\" stroke=\"black\" d=\"M8458.4,-625C8466.39,-625 8475.31,-625 8483.82,-625\"/>\n<polygon fill=\"black\" stroke=\"black\" points=\"8483.92,-628.5 8493.92,-625 8483.92,-621.5 8483.92,-628.5\"/>\n</g>\n<!-- 140407359278240 -->\n<g id=\"node7\" class=\"node\">\n<title>140407359278240</title>\n<polygon fill=\"none\" stroke=\"black\" points=\"5465,-605 5298,-605 5298,-569 5465,-569 5465,-605\"/>\n<text text-anchor=\"middle\" x=\"5381.5\" y=\"-583.3\" font-family=\"Times,serif\" font-size=\"14.00\">Creatinine, Serum_mean_0</text>\n</g>\n<!-- 140407359336704 -->\n<g id=\"node235\" class=\"node\">\n<title>140407359336704</title>\n<ellipse fill=\"none\" stroke=\"black\" cx=\"5528\" cy=\"-641\" rx=\"27\" ry=\"27\"/>\n</g>\n<!-- 140407359278240&#45;&gt;140407359336704 -->\n<g id=\"edge38\" class=\"edge\">\n<title>140407359278240&#45;&gt;140407359336704</title>\n<path fill=\"none\" stroke=\"black\" d=\"M5440,-605.04C5448.43,-607.91 5456.97,-610.95 5465,-614 5474.45,-617.59 5484.55,-621.82 5493.8,-625.86\"/>\n<polygon fill=\"black\" stroke=\"black\" points=\"5492.51,-629.11 5503.07,-629.95 5495.34,-622.71 5492.51,-629.11\"/>\n</g>\n<!-- 140407357712992 -->\n<g id=\"node8\" class=\"node\">\n<title>140407357712992</title>\n<polygon fill=\"none\" stroke=\"black\" points=\"5743,-713 5591,-713 5591,-677 5743,-677 5743,-713\"/>\n<text text-anchor=\"middle\" x=\"5667\" y=\"-691.3\" font-family=\"Times,serif\" font-size=\"14.00\">Creatinine, Serum_std_0</text>\n</g>\n<!-- 140407359338432 -->\n<g id=\"node236\" class=\"node\">\n<title>140407359338432</title>\n<ellipse fill=\"none\" stroke=\"black\" cx=\"5806\" cy=\"-695\" rx=\"27\" ry=\"27\"/>\n</g>\n<!-- 140407357712992&#45;&gt;140407359338432 -->\n<g id=\"edge49\" class=\"edge\">\n<title>140407357712992&#45;&gt;140407359338432</title>\n<path fill=\"none\" stroke=\"black\" d=\"M5743.31,-695C5752.22,-695 5760.97,-695 5768.96,-695\"/>\n<polygon fill=\"black\" stroke=\"black\" points=\"5768.96,-698.5 5778.96,-695 5768.96,-691.5 5768.96,-698.5\"/>\n</g>\n<!-- 140407357711168 -->\n<g id=\"node9\" class=\"node\">\n<title>140407357711168</title>\n<polygon fill=\"none\" stroke=\"black\" points=\"11279,-1145 11225,-1145 11225,-1109 11279,-1109 11279,-1145\"/>\n<text text-anchor=\"middle\" x=\"11252\" y=\"-1123.3\" font-family=\"Times,serif\" font-size=\"14.00\">DANE</text>\n</g>\n<!-- 140407331315040 -->\n<g id=\"node160\" class=\"node\">\n<title>140407331315040</title>\n<ellipse fill=\"none\" stroke=\"black\" cx=\"11350\" cy=\"-1235\" rx=\"27\" ry=\"27\"/>\n</g>\n<!-- 140407357711168&#45;&gt;140407331315040 -->\n<g id=\"edge35\" class=\"edge\">\n<title>140407357711168&#45;&gt;140407331315040</title>\n<path fill=\"none\" stroke=\"black\" d=\"M11277.41,-1145.18C11280.75,-1148 11284.04,-1150.99 11287,-1154 11302.18,-1169.46 11317.01,-1188.64 11328.36,-1204.46\"/>\n<polygon fill=\"black\" stroke=\"black\" points=\"11325.66,-1206.7 11334.29,-1212.85 11331.38,-1202.66 11325.66,-1206.7\"/>\n</g>\n<!-- 140407357575424 -->\n<g id=\"node10\" class=\"node\">\n<title>140407357575424</title>\n<polygon fill=\"none\" stroke=\"black\" points=\"356,-1291 297,-1291 297,-1255 356,-1255 356,-1291\"/>\n<text text-anchor=\"middle\" x=\"326.5\" y=\"-1269.3\" font-family=\"Times,serif\" font-size=\"14.00\">DEPRE</text>\n</g>\n<!-- 140407233397520 -->\n<g id=\"node177\" class=\"node\">\n<title>140407233397520</title>\n<ellipse fill=\"none\" stroke=\"black\" cx=\"419\" cy=\"-1210\" rx=\"27\" ry=\"27\"/>\n</g>\n<!-- 140407357575424&#45;&gt;140407233397520 -->\n<g id=\"edge23\" class=\"edge\">\n<title>140407357575424&#45;&gt;140407233397520</title>\n<path fill=\"none\" stroke=\"black\" d=\"M353.68,-1254.78C364.39,-1247.32 376.84,-1238.65 387.92,-1230.94\"/>\n<polygon fill=\"black\" stroke=\"black\" points=\"390.25,-1233.58 396.46,-1225 386.25,-1227.84 390.25,-1233.58\"/>\n</g>\n<!-- 140407359340352 -->\n<g id=\"node11\" class=\"node\">\n<title>140407359340352</title>\n<polygon fill=\"none\" stroke=\"black\" points=\"9183,-275 9124,-275 9124,-239 9183,-239 9183,-275\"/>\n<text text-anchor=\"middle\" x=\"9153.5\" y=\"-253.3\" font-family=\"Times,serif\" font-size=\"14.00\">DIABC</text>\n</g>\n<!-- 140407233397952 -->\n<g id=\"node198\" class=\"node\">\n<title>140407233397952</title>\n<ellipse fill=\"none\" stroke=\"black\" cx=\"9246\" cy=\"-261\" rx=\"27\" ry=\"27\"/>\n</g>\n<!-- 140407359340352&#45;&gt;140407233397952 -->\n<g id=\"edge15\" class=\"edge\">\n<title>140407359340352&#45;&gt;140407233397952</title>\n<path fill=\"none\" stroke=\"black\" d=\"M9183.13,-258.27C9191.31,-258.63 9200.32,-259.03 9208.88,-259.4\"/>\n<polygon fill=\"black\" stroke=\"black\" points=\"9208.86,-262.91 9219.01,-259.85 9209.17,-255.91 9208.86,-262.91\"/>\n</g>\n<!-- 140407359279008 -->\n<g id=\"node12\" class=\"node\">\n<title>140407359279008</title>\n<polygon fill=\"none\" stroke=\"black\" points=\"2249,-398 2171,-398 2171,-362 2249,-362 2249,-398\"/>\n<text text-anchor=\"middle\" x=\"2210\" y=\"-376.3\" font-family=\"Times,serif\" font-size=\"14.00\">DIABUNC</text>\n</g>\n<!-- 140407331314752 -->\n<g id=\"node206\" class=\"node\">\n<title>140407331314752</title>\n<ellipse fill=\"none\" stroke=\"black\" cx=\"2373.5\" cy=\"-407\" rx=\"27\" ry=\"27\"/>\n</g>\n<!-- 140407359279008&#45;&gt;140407331314752 -->\n<g id=\"edge20\" class=\"edge\">\n<title>140407359279008&#45;&gt;140407331314752</title>\n<path fill=\"none\" stroke=\"black\" d=\"M2249.27,-386.4C2275.67,-390.81 2310.54,-396.64 2336.44,-400.97\"/>\n<polygon fill=\"black\" stroke=\"black\" points=\"2336.15,-404.47 2346.59,-402.67 2337.31,-397.57 2336.15,-404.47\"/>\n</g>\n<!-- 140407359340448 -->\n<g id=\"node13\" class=\"node\">\n<title>140407359340448</title>\n<polygon fill=\"none\" stroke=\"black\" points=\"354,-1237 299,-1237 299,-1201 354,-1201 354,-1237\"/>\n<text text-anchor=\"middle\" x=\"326.5\" y=\"-1215.3\" font-family=\"Times,serif\" font-size=\"14.00\">DRUG</text>\n</g>\n<!-- 140407359340448&#45;&gt;140407233397520 -->\n<g id=\"edge66\" class=\"edge\">\n<title>140407359340448&#45;&gt;140407233397520</title>\n<path fill=\"none\" stroke=\"black\" d=\"M354.16,-1216.35C362.8,-1215.49 372.53,-1214.52 381.74,-1213.61\"/>\n<polygon fill=\"black\" stroke=\"black\" points=\"382.23,-1217.07 391.84,-1212.6 381.54,-1210.11 382.23,-1217.07\"/>\n</g>\n<!-- 140407357711648 -->\n<g id=\"node14\" class=\"node\">\n<title>140407357711648</title>\n<polygon fill=\"none\" stroke=\"black\" points=\"2012.5,-90 1958.5,-90 1958.5,-54 2012.5,-54 2012.5,-90\"/>\n<text text-anchor=\"middle\" x=\"1985.5\" y=\"-68.3\" font-family=\"Times,serif\" font-size=\"14.00\">FED</text>\n</g>\n<!-- 140407233400400 -->\n<g id=\"node181\" class=\"node\">\n<title>140407233400400</title>\n<ellipse fill=\"none\" stroke=\"black\" cx=\"2092\" cy=\"-63\" rx=\"27\" ry=\"27\"/>\n</g>\n<!-- 140407357711648&#45;&gt;140407233400400 -->\n<g id=\"edge55\" class=\"edge\">\n<title>140407357711648&#45;&gt;140407233400400</title>\n<path fill=\"none\" stroke=\"black\" d=\"M2012.6,-69.75C2025.32,-68.66 2040.82,-67.32 2054.67,-66.13\"/>\n<polygon fill=\"black\" stroke=\"black\" points=\"2055.21,-69.6 2064.87,-65.25 2054.61,-62.62 2055.21,-69.6\"/>\n</g>\n<!-- 140407357577344 -->\n<g id=\"node15\" class=\"node\">\n<title>140407357577344</title>\n<polygon fill=\"none\" stroke=\"black\" points=\"7918,-805 7864,-805 7864,-769 7918,-769 7918,-805\"/>\n<text text-anchor=\"middle\" x=\"7891\" y=\"-783.3\" font-family=\"Times,serif\" font-size=\"14.00\">HYPC</text>\n</g>\n<!-- 140407328134960 -->\n<g id=\"node155\" class=\"node\">\n<title>140407328134960</title>\n<ellipse fill=\"none\" stroke=\"black\" cx=\"7981\" cy=\"-787\" rx=\"27\" ry=\"27\"/>\n</g>\n<!-- 140407357577344&#45;&gt;140407328134960 -->\n<g id=\"edge19\" class=\"edge\">\n<title>140407357577344&#45;&gt;140407328134960</title>\n<path fill=\"none\" stroke=\"black\" d=\"M7918.4,-787C7926.39,-787 7935.31,-787 7943.82,-787\"/>\n<polygon fill=\"black\" stroke=\"black\" points=\"7943.92,-790.5 7953.92,-787 7943.92,-783.5 7943.92,-790.5\"/>\n</g>\n<!-- 140407356887392 -->\n<g id=\"node16\" class=\"node\">\n<title>140407356887392</title>\n<polygon fill=\"none\" stroke=\"black\" points=\"1451,-1174 1370,-1174 1370,-1138 1451,-1138 1451,-1174\"/>\n<text text-anchor=\"middle\" x=\"1410.5\" y=\"-1152.3\" font-family=\"Times,serif\" font-size=\"14.00\">HYPOTHY</text>\n</g>\n<!-- 140407359337472 -->\n<g id=\"node171\" class=\"node\">\n<title>140407359337472</title>\n<ellipse fill=\"none\" stroke=\"black\" cx=\"1514\" cy=\"-1210\" rx=\"27\" ry=\"27\"/>\n</g>\n<!-- 140407356887392&#45;&gt;140407359337472 -->\n<g id=\"edge13\" class=\"edge\">\n<title>140407356887392&#45;&gt;140407359337472</title>\n<path fill=\"none\" stroke=\"black\" d=\"M1445.58,-1174.13C1456.92,-1180.16 1469.51,-1186.86 1480.7,-1192.82\"/>\n<polygon fill=\"black\" stroke=\"black\" points=\"1479.26,-1196.01 1489.73,-1197.62 1482.54,-1189.83 1479.26,-1196.01\"/>\n</g>\n<!-- 140407357712704 -->\n<g id=\"node17\" class=\"node\">\n<title>140407357712704</title>\n<polygon fill=\"none\" stroke=\"black\" points=\"2246,-1053 2174,-1053 2174,-1017 2246,-1017 2246,-1053\"/>\n<text text-anchor=\"middle\" x=\"2210\" y=\"-1031.3\" font-family=\"Times,serif\" font-size=\"14.00\">HYPUNC</text>\n</g>\n<!-- 140407233399392 -->\n<g id=\"node211\" class=\"node\">\n<title>140407233399392</title>\n<ellipse fill=\"none\" stroke=\"black\" cx=\"2373.5\" cy=\"-1044\" rx=\"27\" ry=\"27\"/>\n</g>\n<!-- 140407357712704&#45;&gt;140407233399392 -->\n<g id=\"edge34\" class=\"edge\">\n<title>140407357712704&#45;&gt;140407233399392</title>\n<path fill=\"none\" stroke=\"black\" d=\"M2246.04,-1036.95C2272.74,-1038.44 2309.38,-1040.48 2336.35,-1041.99\"/>\n<polygon fill=\"black\" stroke=\"black\" points=\"2336.35,-1045.49 2346.53,-1042.55 2336.74,-1038.5 2336.35,-1045.49\"/>\n</g>\n<!-- 140407359278144 -->\n<g id=\"node18\" class=\"node\">\n<title>140407359278144</title>\n<polygon fill=\"none\" stroke=\"black\" points=\"8818,-436 8764,-436 8764,-400 8818,-400 8818,-436\"/>\n<text text-anchor=\"middle\" x=\"8791\" y=\"-414.3\" font-family=\"Times,serif\" font-size=\"14.00\">LD</text>\n</g>\n<!-- 140407331314848 -->\n<g id=\"node203\" class=\"node\">\n<title>140407331314848</title>\n<ellipse fill=\"none\" stroke=\"black\" cx=\"8881\" cy=\"-365\" rx=\"27\" ry=\"27\"/>\n</g>\n<!-- 140407359278144&#45;&gt;140407331314848 -->\n<g id=\"edge36\" class=\"edge\">\n<title>140407359278144&#45;&gt;140407331314848</title>\n<path fill=\"none\" stroke=\"black\" d=\"M8818.4,-402.1C8827.94,-396.36 8838.79,-389.82 8848.71,-383.85\"/>\n<polygon fill=\"black\" stroke=\"black\" points=\"8850.72,-386.72 8857.48,-378.56 8847.11,-380.72 8850.72,-386.72\"/>\n</g>\n<!-- 140407357710400 -->\n<g id=\"node19\" class=\"node\">\n<title>140407357710400</title>\n<polygon fill=\"none\" stroke=\"black\" points=\"5413.5,-713 5349.5,-713 5349.5,-677 5413.5,-677 5413.5,-713\"/>\n<text text-anchor=\"middle\" x=\"5381.5\" y=\"-691.3\" font-family=\"Times,serif\" font-size=\"14.00\">LYMPH</text>\n</g>\n<!-- 140407357710400&#45;&gt;140407359336704 -->\n<g id=\"edge18\" class=\"edge\">\n<title>140407357710400&#45;&gt;140407359336704</title>\n<path fill=\"none\" stroke=\"black\" d=\"M5413.69,-685.56C5429.23,-680.66 5448.24,-674.38 5465,-668 5474.45,-664.41 5484.55,-660.18 5493.8,-656.14\"/>\n<polygon fill=\"black\" stroke=\"black\" points=\"5495.34,-659.29 5503.07,-652.05 5492.51,-652.89 5495.34,-659.29\"/>\n</g>\n<!-- 140407357712512 -->\n<g id=\"node20\" class=\"node\">\n<title>140407357712512</title>\n<polygon fill=\"none\" stroke=\"black\" points=\"2256,-344 2164,-344 2164,-308 2256,-308 2256,-344\"/>\n<text text-anchor=\"middle\" x=\"2210\" y=\"-322.3\" font-family=\"Times,serif\" font-size=\"14.00\">METACANC</text>\n</g>\n<!-- 140407331314080 -->\n<g id=\"node202\" class=\"node\">\n<title>140407331314080</title>\n<ellipse fill=\"none\" stroke=\"black\" cx=\"2373.5\" cy=\"-310\" rx=\"27\" ry=\"27\"/>\n</g>\n<!-- 140407357712512&#45;&gt;140407331314080 -->\n<g id=\"edge65\" class=\"edge\">\n<title>140407357712512&#45;&gt;140407331314080</title>\n<path fill=\"none\" stroke=\"black\" d=\"M2256.42,-321.5C2281.77,-318.99 2312.92,-315.9 2336.56,-313.56\"/>\n<polygon fill=\"black\" stroke=\"black\" points=\"2336.92,-317.04 2346.52,-312.57 2336.23,-310.08 2336.92,-317.04\"/>\n</g>\n<!-- 140407356888256 -->\n<g id=\"node21\" class=\"node\">\n<title>140407356888256</title>\n<polygon fill=\"none\" stroke=\"black\" points=\"2244,-636 2176,-636 2176,-600 2244,-600 2244,-636\"/>\n<text text-anchor=\"middle\" x=\"2210\" y=\"-614.3\" font-family=\"Times,serif\" font-size=\"14.00\">Medicaid</text>\n</g>\n<!-- 140407359338240 -->\n<g id=\"node233\" class=\"node\">\n<title>140407359338240</title>\n<ellipse fill=\"none\" stroke=\"black\" cx=\"2373.5\" cy=\"-642\" rx=\"27\" ry=\"27\"/>\n</g>\n<!-- 140407356888256&#45;&gt;140407359338240 -->\n<g id=\"edge24\" class=\"edge\">\n<title>140407356888256&#45;&gt;140407359338240</title>\n<path fill=\"none\" stroke=\"black\" d=\"M2244.07,-622.91C2270.99,-626.92 2308.93,-632.55 2336.59,-636.66\"/>\n<polygon fill=\"black\" stroke=\"black\" points=\"2336.24,-640.15 2346.64,-638.16 2337.27,-633.23 2336.24,-640.15\"/>\n</g>\n<!-- 140407357712800 -->\n<g id=\"node22\" class=\"node\">\n<title>140407357712800</title>\n<polygon fill=\"none\" stroke=\"black\" points=\"588.5,-957 520.5,-957 520.5,-921 588.5,-921 588.5,-957\"/>\n<text text-anchor=\"middle\" x=\"554.5\" y=\"-935.3\" font-family=\"Times,serif\" font-size=\"14.00\">Medicare</text>\n</g>\n<!-- 140407343660096 -->\n<g id=\"node167\" class=\"node\">\n<title>140407343660096</title>\n<ellipse fill=\"none\" stroke=\"black\" cx=\"690\" cy=\"-943\" rx=\"27\" ry=\"27\"/>\n</g>\n<!-- 140407357712800&#45;&gt;140407343660096 -->\n<g id=\"edge46\" class=\"edge\">\n<title>140407357712800&#45;&gt;140407343660096</title>\n<path fill=\"none\" stroke=\"black\" d=\"M588.5,-939.99C607.87,-940.57 632.39,-941.3 652.36,-941.9\"/>\n<polygon fill=\"black\" stroke=\"black\" points=\"652.53,-945.41 662.63,-942.21 652.74,-938.41 652.53,-945.41\"/>\n</g>\n<!-- 140407357711456 -->\n<g id=\"node23\" class=\"node\">\n<title>140407357711456</title>\n<polygon fill=\"none\" stroke=\"black\" points=\"2951,-653 2822,-653 2822,-617 2951,-617 2951,-653\"/>\n<text text-anchor=\"middle\" x=\"2886.5\" y=\"-631.3\" font-family=\"Times,serif\" font-size=\"14.00\">NTproBNP_mean_9</text>\n</g>\n<!-- 140407230224272 -->\n<g id=\"node231\" class=\"node\">\n<title>140407230224272</title>\n<ellipse fill=\"none\" stroke=\"black\" cx=\"3022\" cy=\"-635\" rx=\"27\" ry=\"27\"/>\n</g>\n<!-- 140407357711456&#45;&gt;140407230224272 -->\n<g id=\"edge32\" class=\"edge\">\n<title>140407357711456&#45;&gt;140407230224272</title>\n<path fill=\"none\" stroke=\"black\" d=\"M2951.12,-635C2962.59,-635 2974.17,-635 2984.53,-635\"/>\n<polygon fill=\"black\" stroke=\"black\" points=\"2984.81,-638.5 2994.81,-635 2984.81,-631.5 2984.81,-638.5\"/>\n</g>\n<!-- 140407357713088 -->\n<g id=\"node24\" class=\"node\">\n<title>140407357713088</title>\n<polygon fill=\"none\" stroke=\"black\" points=\"2778,-607 2663,-607 2663,-571 2778,-571 2778,-607\"/>\n<text text-anchor=\"middle\" x=\"2720.5\" y=\"-585.3\" font-family=\"Times,serif\" font-size=\"14.00\">NTproBNP_std_0</text>\n</g>\n<!-- 140407357713088&#45;&gt;140407230224272 -->\n<g id=\"edge2\" class=\"edge\">\n<title>140407357713088&#45;&gt;140407230224272</title>\n<path fill=\"none\" stroke=\"black\" d=\"M2778.01,-588.31C2826.67,-588.95 2898.41,-592.83 2959,-608 2968.89,-610.48 2979.2,-614.38 2988.52,-618.46\"/>\n<polygon fill=\"black\" stroke=\"black\" points=\"2987.25,-621.72 2997.8,-622.71 2990.17,-615.36 2987.25,-621.72\"/>\n</g>\n<!-- 140407357579168 -->\n<g id=\"node25\" class=\"node\">\n<title>140407357579168</title>\n<polygon fill=\"none\" stroke=\"black\" points=\"2778,-553 2663,-553 2663,-517 2778,-517 2778,-553\"/>\n<text text-anchor=\"middle\" x=\"2720.5\" y=\"-531.3\" font-family=\"Times,serif\" font-size=\"14.00\">NTproBNP_std_1</text>\n</g>\n<!-- 140407357579168&#45;&gt;140407230224272 -->\n<g id=\"edge39\" class=\"edge\">\n<title>140407357579168&#45;&gt;140407230224272</title>\n<path fill=\"none\" stroke=\"black\" d=\"M2778.04,-539.83C2827.67,-545.74 2900.82,-558.6 2959,-586 2971.63,-591.95 2984.02,-600.92 2994.36,-609.56\"/>\n<polygon fill=\"black\" stroke=\"black\" points=\"2992.34,-612.44 3002.18,-616.35 2996.93,-607.15 2992.34,-612.44\"/>\n</g>\n<!-- 140407359275744 -->\n<g id=\"node26\" class=\"node\">\n<title>140407359275744</title>\n<polygon fill=\"none\" stroke=\"black\" points=\"3386,-699 3271,-699 3271,-663 3386,-663 3386,-699\"/>\n<text text-anchor=\"middle\" x=\"3328.5\" y=\"-677.3\" font-family=\"Times,serif\" font-size=\"14.00\">NTproBNP_std_6</text>\n</g>\n<!-- 140407359275744&#45;&gt;140407328134768 -->\n<g id=\"edge53\" class=\"edge\">\n<title>140407359275744&#45;&gt;140407328134768</title>\n<path fill=\"none\" stroke=\"black\" d=\"M3386.13,-681C3440.76,-681 3525.79,-681 3599.5,-681 3599.5,-681 3599.5,-681 5056,-681 5106.88,-681 5164,-665.25 5199.49,-653.52\"/>\n<polygon fill=\"black\" stroke=\"black\" points=\"5200.99,-656.7 5209.34,-650.18 5198.74,-650.07 5200.99,-656.7\"/>\n</g>\n<!-- 140407359276128 -->\n<g id=\"node27\" class=\"node\">\n<title>140407359276128</title>\n<polygon fill=\"none\" stroke=\"black\" points=\"9543,-279 9489,-279 9489,-243 9543,-243 9543,-279\"/>\n<text text-anchor=\"middle\" x=\"9516\" y=\"-257.3\" font-family=\"Times,serif\" font-size=\"14.00\">OBES</text>\n</g>\n<!-- 140407233400784 -->\n<g id=\"node194\" class=\"node\">\n<title>140407233400784</title>\n<ellipse fill=\"none\" stroke=\"black\" cx=\"9606\" cy=\"-234\" rx=\"27\" ry=\"27\"/>\n</g>\n<!-- 140407359276128&#45;&gt;140407233400784 -->\n<g id=\"edge6\" class=\"edge\">\n<title>140407359276128&#45;&gt;140407233400784</title>\n<path fill=\"none\" stroke=\"black\" d=\"M9543.4,-252.9C9551.79,-250.33 9561.2,-247.44 9570.09,-244.71\"/>\n<polygon fill=\"black\" stroke=\"black\" points=\"9571.29,-248 9579.82,-241.72 9569.24,-241.31 9571.29,-248\"/>\n</g>\n<!-- 140407356887104 -->\n<g id=\"node28\" class=\"node\">\n<title>140407356887104</title>\n<polygon fill=\"none\" stroke=\"black\" points=\"8278,-697 8224,-697 8224,-661 8278,-661 8278,-697\"/>\n<text text-anchor=\"middle\" x=\"8251\" y=\"-675.3\" font-family=\"Times,serif\" font-size=\"14.00\">OND</text>\n</g>\n<!-- 140407359337760 -->\n<g id=\"node157\" class=\"node\">\n<title>140407359337760</title>\n<ellipse fill=\"none\" stroke=\"black\" cx=\"8341\" cy=\"-679\" rx=\"27\" ry=\"27\"/>\n</g>\n<!-- 140407356887104&#45;&gt;140407359337760 -->\n<g id=\"edge72\" class=\"edge\">\n<title>140407356887104&#45;&gt;140407359337760</title>\n<path fill=\"none\" stroke=\"black\" d=\"M8278.4,-679C8286.39,-679 8295.31,-679 8303.82,-679\"/>\n<polygon fill=\"black\" stroke=\"black\" points=\"8303.92,-682.5 8313.92,-679 8303.92,-675.5 8303.92,-682.5\"/>\n</g>\n<!-- 140407357578208 -->\n<g id=\"node29\" class=\"node\">\n<title>140407357578208</title>\n<polygon fill=\"none\" stroke=\"black\" points=\"8098,-751 8044,-751 8044,-715 8098,-715 8098,-751\"/>\n<text text-anchor=\"middle\" x=\"8071\" y=\"-729.3\" font-family=\"Times,serif\" font-size=\"14.00\">PARA</text>\n</g>\n<!-- 140407359339680 -->\n<g id=\"node156\" class=\"node\">\n<title>140407359339680</title>\n<ellipse fill=\"none\" stroke=\"black\" cx=\"8161\" cy=\"-733\" rx=\"27\" ry=\"27\"/>\n</g>\n<!-- 140407357578208&#45;&gt;140407359339680 -->\n<g id=\"edge73\" class=\"edge\">\n<title>140407357578208&#45;&gt;140407359339680</title>\n<path fill=\"none\" stroke=\"black\" d=\"M8098.4,-733C8106.39,-733 8115.31,-733 8123.82,-733\"/>\n<polygon fill=\"black\" stroke=\"black\" points=\"8123.92,-736.5 8133.92,-733 8123.92,-729.5 8123.92,-736.5\"/>\n</g>\n<!-- 140407357576288 -->\n<g id=\"node30\" class=\"node\">\n<title>140407357576288</title>\n<polygon fill=\"none\" stroke=\"black\" points=\"7378,-941 7324,-941 7324,-905 7378,-905 7378,-941\"/>\n<text text-anchor=\"middle\" x=\"7351\" y=\"-919.3\" font-family=\"Times,serif\" font-size=\"14.00\">PCD</text>\n</g>\n<!-- 140407331315520 -->\n<g id=\"node154\" class=\"node\">\n<title>140407331315520</title>\n<ellipse fill=\"none\" stroke=\"black\" cx=\"7441\" cy=\"-973\" rx=\"27\" ry=\"27\"/>\n</g>\n<!-- 140407357576288&#45;&gt;140407331315520 -->\n<g id=\"edge41\" class=\"edge\">\n<title>140407357576288&#45;&gt;140407331315520</title>\n<path fill=\"none\" stroke=\"black\" d=\"M7378.4,-938C7387.86,-943.38 7398.62,-949.49 7408.47,-955.08\"/>\n<polygon fill=\"black\" stroke=\"black\" points=\"7406.77,-958.14 7417.19,-960.04 7410.23,-952.06 7406.77,-958.14\"/>\n</g>\n<!-- 140407357711840 -->\n<g id=\"node31\" class=\"node\">\n<title>140407357711840</title>\n<polygon fill=\"none\" stroke=\"black\" points=\"11287,-1253 11217,-1253 11217,-1217 11287,-1217 11287,-1253\"/>\n<text text-anchor=\"middle\" x=\"11252\" y=\"-1231.3\" font-family=\"Times,serif\" font-size=\"14.00\">PSYCHO</text>\n</g>\n<!-- 140407357711840&#45;&gt;140407331315040 -->\n<g id=\"edge11\" class=\"edge\">\n<title>140407357711840&#45;&gt;140407331315040</title>\n<path fill=\"none\" stroke=\"black\" d=\"M11287.12,-1235C11295.38,-1235 11304.24,-1235 11312.6,-1235\"/>\n<polygon fill=\"black\" stroke=\"black\" points=\"11312.84,-1238.5 11322.84,-1235 11312.84,-1231.5 11312.84,-1238.5\"/>\n</g>\n<!-- 140407357712224 -->\n<g id=\"node32\" class=\"node\">\n<title>140407357712224</title>\n<polygon fill=\"none\" stroke=\"black\" points=\"9903,-1199 9849,-1199 9849,-1163 9903,-1163 9903,-1199\"/>\n<text text-anchor=\"middle\" x=\"9876\" y=\"-1177.3\" font-family=\"Times,serif\" font-size=\"14.00\">PUD</text>\n</g>\n<!-- 140407233400592 -->\n<g id=\"node190\" class=\"node\">\n<title>140407233400592</title>\n<ellipse fill=\"none\" stroke=\"black\" cx=\"9966\" cy=\"-1226\" rx=\"27\" ry=\"27\"/>\n</g>\n<!-- 140407357712224&#45;&gt;140407233400592 -->\n<g id=\"edge22\" class=\"edge\">\n<title>140407357712224&#45;&gt;140407233400592</title>\n<path fill=\"none\" stroke=\"black\" d=\"M9903.4,-1194.5C9912.61,-1199.21 9923.05,-1204.55 9932.68,-1209.47\"/>\n<polygon fill=\"black\" stroke=\"black\" points=\"9931.11,-1212.6 9941.61,-1214.04 9934.3,-1206.37 9931.11,-1212.6\"/>\n</g>\n<!-- 140407357576864 -->\n<g id=\"node33\" class=\"node\">\n<title>140407357576864</title>\n<polygon fill=\"none\" stroke=\"black\" points=\"7558,-953 7504,-953 7504,-917 7558,-917 7558,-953\"/>\n<text text-anchor=\"middle\" x=\"7531\" y=\"-931.3\" font-family=\"Times,serif\" font-size=\"14.00\">PVD</text>\n</g>\n<!-- 140407233399344 -->\n<g id=\"node212\" class=\"node\">\n<title>140407233399344</title>\n<ellipse fill=\"none\" stroke=\"black\" cx=\"7621\" cy=\"-985\" rx=\"27\" ry=\"27\"/>\n</g>\n<!-- 140407357576864&#45;&gt;140407233399344 -->\n<g id=\"edge68\" class=\"edge\">\n<title>140407357576864&#45;&gt;140407233399344</title>\n<path fill=\"none\" stroke=\"black\" d=\"M7558.4,-950C7567.86,-955.38 7578.62,-961.49 7588.47,-967.08\"/>\n<polygon fill=\"black\" stroke=\"black\" points=\"7586.77,-970.14 7597.19,-972.04 7590.23,-964.06 7586.77,-970.14\"/>\n</g>\n<!-- 140407357711360 -->\n<g id=\"node34\" class=\"node\">\n<title>140407357711360</title>\n<polygon fill=\"none\" stroke=\"black\" points=\"3235,-966 3180,-966 3180,-930 3235,-930 3235,-966\"/>\n<text text-anchor=\"middle\" x=\"3207.5\" y=\"-944.3\" font-family=\"Times,serif\" font-size=\"14.00\">Private</text>\n</g>\n<!-- 140407341109056 -->\n<g id=\"node215\" class=\"node\">\n<title>140407341109056</title>\n<ellipse fill=\"none\" stroke=\"black\" cx=\"6901\" cy=\"-908\" rx=\"27\" ry=\"27\"/>\n</g>\n<!-- 140407357711360&#45;&gt;140407341109056 -->\n<g id=\"edge5\" class=\"edge\">\n<title>140407357711360&#45;&gt;140407341109056</title>\n<path fill=\"none\" stroke=\"black\" d=\"M3235.07,-948C3282.13,-948 3383.19,-948 3468.5,-948 3468.5,-948 3468.5,-948 6645,-948 6731.19,-948 6753.74,-947.17 6838,-929 6847.2,-927.02 6856.94,-924.12 6865.9,-921.1\"/>\n<polygon fill=\"black\" stroke=\"black\" points=\"6867.35,-924.31 6875.62,-917.7 6865.03,-917.7 6867.35,-924.31\"/>\n</g>\n<!-- 140407359276224 -->\n<g id=\"node35\" class=\"node\">\n<title>140407359276224</title>\n<polygon fill=\"none\" stroke=\"black\" points=\"2237,-236 2183,-236 2183,-200 2237,-200 2237,-236\"/>\n<text text-anchor=\"middle\" x=\"2210\" y=\"-214.3\" font-family=\"Times,serif\" font-size=\"14.00\">RF</text>\n</g>\n<!-- 140407343660864 -->\n<g id=\"node197\" class=\"node\">\n<title>140407343660864</title>\n<ellipse fill=\"none\" stroke=\"black\" cx=\"2373.5\" cy=\"-206\" rx=\"27\" ry=\"27\"/>\n</g>\n<!-- 140407359276224&#45;&gt;140407343660864 -->\n<g id=\"edge61\" class=\"edge\">\n<title>140407359276224&#45;&gt;140407343660864</title>\n<path fill=\"none\" stroke=\"black\" d=\"M2237.31,-216.05C2264.25,-214.04 2306.33,-210.92 2336.39,-208.68\"/>\n<polygon fill=\"black\" stroke=\"black\" points=\"2336.76,-212.17 2346.47,-207.93 2336.24,-205.18 2336.76,-212.17\"/>\n</g>\n<!-- 140407357714240 -->\n<g id=\"node36\" class=\"node\">\n<title>140407357714240</title>\n<polygon fill=\"none\" stroke=\"black\" points=\"10285,-1204 10209,-1204 10209,-1168 10285,-1168 10285,-1204\"/>\n<text text-anchor=\"middle\" x=\"10247\" y=\"-1182.3\" font-family=\"Times,serif\" font-size=\"14.00\">RHEUMD</text>\n</g>\n<!-- 140407233400064 -->\n<g id=\"node186\" class=\"node\">\n<title>140407233400064</title>\n<ellipse fill=\"none\" stroke=\"black\" cx=\"10348\" cy=\"-1190\" rx=\"27\" ry=\"27\"/>\n</g>\n<!-- 140407357714240&#45;&gt;140407233400064 -->\n<g id=\"edge17\" class=\"edge\">\n<title>140407357714240&#45;&gt;140407233400064</title>\n<path fill=\"none\" stroke=\"black\" d=\"M10285.15,-1187.5C10293.48,-1187.84 10302.31,-1188.19 10310.61,-1188.53\"/>\n<polygon fill=\"black\" stroke=\"black\" points=\"10310.63,-1192.03 10320.77,-1188.94 10310.92,-1185.04 10310.63,-1192.03\"/>\n</g>\n<!-- 140407359277088 -->\n<g id=\"node37\" class=\"node\">\n<title>140407359277088</title>\n<polygon fill=\"none\" stroke=\"black\" points=\"2029,-1210 1942,-1210 1942,-1174 2029,-1174 2029,-1210\"/>\n<text text-anchor=\"middle\" x=\"1985.5\" y=\"-1188.3\" font-family=\"Times,serif\" font-size=\"14.00\">SOLIDTUM</text>\n</g>\n<!-- 140407341108864 -->\n<g id=\"node189\" class=\"node\">\n<title>140407341108864</title>\n<ellipse fill=\"none\" stroke=\"black\" cx=\"2092\" cy=\"-1246\" rx=\"27\" ry=\"27\"/>\n</g>\n<!-- 140407359277088&#45;&gt;140407341108864 -->\n<g id=\"edge69\" class=\"edge\">\n<title>140407359277088&#45;&gt;140407341108864</title>\n<path fill=\"none\" stroke=\"black\" d=\"M2021.59,-1210.13C2033.57,-1216.32 2046.9,-1223.21 2058.65,-1229.28\"/>\n<polygon fill=\"black\" stroke=\"black\" points=\"2057.19,-1232.47 2067.68,-1233.95 2060.4,-1226.25 2057.19,-1232.47\"/>\n</g>\n<!-- 140407359277376 -->\n<g id=\"node38\" class=\"node\">\n<title>140407359277376</title>\n<polygon fill=\"none\" stroke=\"black\" points=\"2609.5,-928 2499.5,-928 2499.5,-892 2609.5,-892 2609.5,-928\"/>\n<text text-anchor=\"middle\" x=\"2554.5\" y=\"-906.3\" font-family=\"Times,serif\" font-size=\"14.00\">Sodium_mean_1</text>\n</g>\n<!-- 140407359338912 -->\n<g id=\"node232\" class=\"node\">\n<title>140407359338912</title>\n<ellipse fill=\"none\" stroke=\"black\" cx=\"2720.5\" cy=\"-726\" rx=\"27\" ry=\"27\"/>\n</g>\n<!-- 140407359277376&#45;&gt;140407359338912 -->\n<g id=\"edge45\" class=\"edge\">\n<title>140407359277376&#45;&gt;140407359338912</title>\n<path fill=\"none\" stroke=\"black\" d=\"M2606.29,-891.94C2613.7,-888.02 2620.88,-883.4 2627,-878 2664.02,-845.37 2690.85,-794.28 2705.8,-760.48\"/>\n<polygon fill=\"black\" stroke=\"black\" points=\"2709.14,-761.57 2709.88,-751 2702.71,-758.8 2709.14,-761.57\"/>\n</g>\n<!-- 140407359276992 -->\n<g id=\"node39\" class=\"node\">\n<title>140407359276992</title>\n<polygon fill=\"none\" stroke=\"black\" points=\"2265,-787 2155,-787 2155,-751 2265,-751 2265,-787\"/>\n<text text-anchor=\"middle\" x=\"2210\" y=\"-765.3\" font-family=\"Times,serif\" font-size=\"14.00\">Sodium_mean_2</text>\n</g>\n<!-- 140407359338720 -->\n<g id=\"node234\" class=\"node\">\n<title>140407359338720</title>\n<ellipse fill=\"none\" stroke=\"black\" cx=\"2373.5\" cy=\"-773\" rx=\"27\" ry=\"27\"/>\n</g>\n<!-- 140407359276992&#45;&gt;140407359338720 -->\n<g id=\"edge43\" class=\"edge\">\n<title>140407359276992&#45;&gt;140407359338720</title>\n<path fill=\"none\" stroke=\"black\" d=\"M2265.23,-770.34C2288.59,-770.92 2315.28,-771.58 2336.19,-772.1\"/>\n<polygon fill=\"black\" stroke=\"black\" points=\"2336.17,-775.6 2346.26,-772.35 2336.35,-768.6 2336.17,-775.6\"/>\n</g>\n<!-- 140407356887488 -->\n<g id=\"node40\" class=\"node\">\n<title>140407356887488</title>\n<polygon fill=\"none\" stroke=\"black\" points=\"2609.5,-728 2499.5,-728 2499.5,-692 2609.5,-692 2609.5,-728\"/>\n<text text-anchor=\"middle\" x=\"2554.5\" y=\"-706.3\" font-family=\"Times,serif\" font-size=\"14.00\">Sodium_mean_3</text>\n</g>\n<!-- 140407356887488&#45;&gt;140407359338912 -->\n<g id=\"edge27\" class=\"edge\">\n<title>140407356887488&#45;&gt;140407359338912</title>\n<path fill=\"none\" stroke=\"black\" d=\"M2609.65,-715.28C2633.87,-717.65 2661.76,-720.37 2683.38,-722.48\"/>\n<polygon fill=\"black\" stroke=\"black\" points=\"2683.15,-725.97 2693.44,-723.46 2683.83,-719 2683.15,-725.97\"/>\n</g>\n<!-- 140407356887584 -->\n<g id=\"node41\" class=\"node\">\n<title>140407356887584</title>\n<polygon fill=\"none\" stroke=\"black\" points=\"2609.5,-674 2499.5,-674 2499.5,-638 2609.5,-638 2609.5,-674\"/>\n<text text-anchor=\"middle\" x=\"2554.5\" y=\"-652.3\" font-family=\"Times,serif\" font-size=\"14.00\">Sodium_mean_4</text>\n</g>\n<!-- 140407356887584&#45;&gt;140407359338912 -->\n<g id=\"edge8\" class=\"edge\">\n<title>140407356887584&#45;&gt;140407359338912</title>\n<path fill=\"none\" stroke=\"black\" d=\"M2604.92,-674.12C2612.36,-677 2619.91,-680.02 2627,-683 2646.97,-691.4 2668.98,-701.59 2686.52,-709.94\"/>\n<polygon fill=\"black\" stroke=\"black\" points=\"2685.23,-713.21 2695.76,-714.37 2688.25,-706.9 2685.23,-713.21\"/>\n</g>\n<!-- 140407357575328 -->\n<g id=\"node42\" class=\"node\">\n<title>140407357575328</title>\n<polygon fill=\"none\" stroke=\"black\" points=\"5964,-767 5869,-767 5869,-731 5964,-731 5964,-767\"/>\n<text text-anchor=\"middle\" x=\"5916.5\" y=\"-745.3\" font-family=\"Times,serif\" font-size=\"14.00\">Sodium_std_0</text>\n</g>\n<!-- 140407233399776 -->\n<g id=\"node237\" class=\"node\">\n<title>140407233399776</title>\n<ellipse fill=\"none\" stroke=\"black\" cx=\"6027\" cy=\"-749\" rx=\"27\" ry=\"27\"/>\n</g>\n<!-- 140407357575328&#45;&gt;140407233399776 -->\n<g id=\"edge1\" class=\"edge\">\n<title>140407357575328&#45;&gt;140407233399776</title>\n<path fill=\"none\" stroke=\"black\" d=\"M5964.14,-749C5972.61,-749 5981.33,-749 5989.45,-749\"/>\n<polygon fill=\"black\" stroke=\"black\" points=\"5989.72,-752.5 5999.72,-749 5989.72,-745.5 5989.72,-752.5\"/>\n</g>\n<!-- 140407359339872 -->\n<g id=\"node43\" class=\"node\">\n<title>140407359339872</title>\n<polygon fill=\"none\" stroke=\"black\" points=\"3517,-653 3422,-653 3422,-617 3517,-617 3517,-653\"/>\n<text text-anchor=\"middle\" x=\"3469.5\" y=\"-631.3\" font-family=\"Times,serif\" font-size=\"14.00\">Sodium_std_1</text>\n</g>\n<!-- 140407359339872&#45;&gt;140407328134768 -->\n<g id=\"edge57\" class=\"edge\">\n<title>140407359339872&#45;&gt;140407328134768</title>\n<path fill=\"none\" stroke=\"black\" d=\"M3517.3,-637.18C3565.57,-639.23 3643.03,-642 3710,-642 3710,-642 3710,-642 5056,-642 5105.08,-642 5161.77,-641.62 5197.74,-641.32\"/>\n<polygon fill=\"black\" stroke=\"black\" points=\"5197.79,-644.82 5207.76,-641.24 5197.73,-637.82 5197.79,-644.82\"/>\n</g>\n<!-- 140407357712128 -->\n<g id=\"node44\" class=\"node\">\n<title>140407357712128</title>\n<polygon fill=\"none\" stroke=\"black\" points=\"6383,-658 6288,-658 6288,-622 6383,-622 6383,-658\"/>\n<text text-anchor=\"middle\" x=\"6335.5\" y=\"-636.3\" font-family=\"Times,serif\" font-size=\"14.00\">Sodium_std_2</text>\n</g>\n<!-- 140407233400496 -->\n<g id=\"node152\" class=\"node\">\n<title>140407233400496</title>\n<ellipse fill=\"none\" stroke=\"black\" cx=\"6464\" cy=\"-676\" rx=\"27\" ry=\"27\"/>\n</g>\n<!-- 140407357712128&#45;&gt;140407233400496 -->\n<g id=\"edge12\" class=\"edge\">\n<title>140407357712128&#45;&gt;140407233400496</title>\n<path fill=\"none\" stroke=\"black\" d=\"M6383.24,-653.3C6398.08,-657.53 6414.22,-662.12 6428.08,-666.06\"/>\n<polygon fill=\"black\" stroke=\"black\" points=\"6427.14,-669.43 6437.71,-668.8 6429.05,-662.7 6427.14,-669.43\"/>\n</g>\n<!-- 140407359340064 -->\n<g id=\"node45\" class=\"node\">\n<title>140407359340064</title>\n<polygon fill=\"none\" stroke=\"black\" points=\"6383,-604 6288,-604 6288,-568 6383,-568 6383,-604\"/>\n<text text-anchor=\"middle\" x=\"6335.5\" y=\"-582.3\" font-family=\"Times,serif\" font-size=\"14.00\">Sodium_std_3</text>\n</g>\n<!-- 140407359340064&#45;&gt;140407233400496 -->\n<g id=\"edge48\" class=\"edge\">\n<title>140407359340064&#45;&gt;140407233400496</title>\n<path fill=\"none\" stroke=\"black\" d=\"M6383.12,-602.88C6389.34,-605.88 6395.47,-609.26 6401,-613 6415.18,-622.59 6428.77,-635.79 6439.6,-647.63\"/>\n<polygon fill=\"black\" stroke=\"black\" points=\"6437.04,-650.01 6446.3,-655.16 6442.27,-645.36 6437.04,-650.01\"/>\n</g>\n<!-- 140407357575232 -->\n<g id=\"node46\" class=\"node\">\n<title>140407357575232</title>\n<polygon fill=\"none\" stroke=\"black\" points=\"3648,-611 3553,-611 3553,-575 3648,-575 3648,-611\"/>\n<text text-anchor=\"middle\" x=\"3600.5\" y=\"-589.3\" font-family=\"Times,serif\" font-size=\"14.00\">Sodium_std_4</text>\n</g>\n<!-- 140407357575232&#45;&gt;140407328134768 -->\n<g id=\"edge4\" class=\"edge\">\n<title>140407357575232&#45;&gt;140407328134768</title>\n<path fill=\"none\" stroke=\"black\" d=\"M3648.16,-596.94C3689.59,-600.1 3751.78,-604 3806,-604 3806,-604 3806,-604 5056,-604 5106.7,-604 5163.86,-618.57 5199.41,-629.42\"/>\n<polygon fill=\"black\" stroke=\"black\" points=\"5198.69,-632.87 5209.28,-632.51 5200.78,-626.18 5198.69,-632.87\"/>\n</g>\n<!-- 140407357711936 -->\n<g id=\"node47\" class=\"node\">\n<title>140407357711936</title>\n<polygon fill=\"none\" stroke=\"black\" points=\"2959,-761 2814,-761 2814,-725 2959,-725 2959,-761\"/>\n<text text-anchor=\"middle\" x=\"2886.5\" y=\"-739.3\" font-family=\"Times,serif\" font-size=\"14.00\">Urea Nitrogen_mean_0</text>\n</g>\n<!-- 140407357711936&#45;&gt;140407230224272 -->\n<g id=\"edge31\" class=\"edge\">\n<title>140407357711936&#45;&gt;140407230224272</title>\n<path fill=\"none\" stroke=\"black\" d=\"M2944.48,-724.91C2949.6,-722.29 2954.53,-719.32 2959,-716 2976.51,-702.98 2991.52,-683.74 3002.39,-667.27\"/>\n<polygon fill=\"black\" stroke=\"black\" points=\"3005.58,-668.79 3007.99,-658.47 2999.67,-665.03 3005.58,-668.79\"/>\n</g>\n<!-- 140407357578112 -->\n<g id=\"node48\" class=\"node\">\n<title>140407357578112</title>\n<polygon fill=\"none\" stroke=\"black\" points=\"627,-820 482,-820 482,-784 627,-784 627,-820\"/>\n<text text-anchor=\"middle\" x=\"554.5\" y=\"-798.3\" font-family=\"Times,serif\" font-size=\"14.00\">Urea Nitrogen_mean_1</text>\n</g>\n<!-- 140407359339200 -->\n<g id=\"node220\" class=\"node\">\n<title>140407359339200</title>\n<ellipse fill=\"none\" stroke=\"black\" cx=\"690\" cy=\"-795\" rx=\"27\" ry=\"27\"/>\n</g>\n<!-- 140407357578112&#45;&gt;140407359339200 -->\n<g id=\"edge58\" class=\"edge\">\n<title>140407357578112&#45;&gt;140407359339200</title>\n<path fill=\"none\" stroke=\"black\" d=\"M627.33,-798.23C636.17,-797.77 644.89,-797.31 652.87,-796.89\"/>\n<polygon fill=\"black\" stroke=\"black\" points=\"653.07,-800.39 662.87,-796.37 652.7,-793.4 653.07,-800.39\"/>\n</g>\n<!-- 140407359340160 -->\n<g id=\"node49\" class=\"node\">\n<title>140407359340160</title>\n<polygon fill=\"none\" stroke=\"black\" points=\"627,-654 482,-654 482,-618 627,-618 627,-654\"/>\n<text text-anchor=\"middle\" x=\"554.5\" y=\"-632.3\" font-family=\"Times,serif\" font-size=\"14.00\">Urea Nitrogen_mean_2</text>\n</g>\n<!-- 140407338899824 -->\n<g id=\"node163\" class=\"node\">\n<title>140407338899824</title>\n<ellipse fill=\"none\" stroke=\"black\" cx=\"690\" cy=\"-631\" rx=\"27\" ry=\"27\"/>\n</g>\n<!-- 140407359340160&#45;&gt;140407338899824 -->\n<g id=\"edge3\" class=\"edge\">\n<title>140407359340160&#45;&gt;140407338899824</title>\n<path fill=\"none\" stroke=\"black\" d=\"M627.33,-633.31C636.17,-632.98 644.89,-632.65 652.87,-632.35\"/>\n<polygon fill=\"black\" stroke=\"black\" points=\"653.01,-635.85 662.87,-631.98 652.75,-628.86 653.01,-635.85\"/>\n</g>\n<!-- 140407359278816 -->\n<g id=\"node50\" class=\"node\">\n<title>140407359278816</title>\n<polygon fill=\"none\" stroke=\"black\" points=\"2446,-858 2301,-858 2301,-822 2446,-822 2446,-858\"/>\n<text text-anchor=\"middle\" x=\"2373.5\" y=\"-836.3\" font-family=\"Times,serif\" font-size=\"14.00\">Urea Nitrogen_mean_3</text>\n</g>\n<!-- 140407359278816&#45;&gt;140407359338912 -->\n<g id=\"edge63\" class=\"edge\">\n<title>140407359278816&#45;&gt;140407359338912</title>\n<path fill=\"none\" stroke=\"black\" d=\"M2444.91,-858.02C2497.74,-867.71 2570.39,-872.7 2627,-845 2663.01,-827.38 2689.04,-788.24 2704.15,-759.64\"/>\n<polygon fill=\"black\" stroke=\"black\" points=\"2707.44,-760.89 2708.85,-750.39 2701.2,-757.72 2707.44,-760.89\"/>\n</g>\n<!-- 140407357710784 -->\n<g id=\"node51\" class=\"node\">\n<title>140407357710784</title>\n<polygon fill=\"none\" stroke=\"black\" points=\"2627,-782 2482,-782 2482,-746 2627,-746 2627,-782\"/>\n<text text-anchor=\"middle\" x=\"2554.5\" y=\"-760.3\" font-family=\"Times,serif\" font-size=\"14.00\">Urea Nitrogen_mean_4</text>\n</g>\n<!-- 140407357710784&#45;&gt;140407359338912 -->\n<g id=\"edge7\" class=\"edge\">\n<title>140407357710784&#45;&gt;140407359338912</title>\n<path fill=\"none\" stroke=\"black\" d=\"M2627.43,-747.33C2647.1,-742.77 2667.56,-738.03 2684.18,-734.18\"/>\n<polygon fill=\"black\" stroke=\"black\" points=\"2685.04,-737.58 2693.99,-731.91 2683.46,-730.76 2685.04,-737.58\"/>\n</g>\n<!-- 140407359277856 -->\n<g id=\"node52\" class=\"node\">\n<title>140407359277856</title>\n<polygon fill=\"none\" stroke=\"black\" points=\"1064,-1291 933,-1291 933,-1255 1064,-1255 1064,-1291\"/>\n<text text-anchor=\"middle\" x=\"998.5\" y=\"-1269.3\" font-family=\"Times,serif\" font-size=\"14.00\">Urea Nitrogen_std_0</text>\n</g>\n<!-- 140407359337856 -->\n<g id=\"node174\" class=\"node\">\n<title>140407359337856</title>\n<ellipse fill=\"none\" stroke=\"black\" cx=\"1307\" cy=\"-1111\" rx=\"27\" ry=\"27\"/>\n</g>\n<!-- 140407359277856&#45;&gt;140407359337856 -->\n<g id=\"edge29\" class=\"edge\">\n<title>140407359277856&#45;&gt;140407359337856</title>\n<path fill=\"none\" stroke=\"black\" d=\"M1064.18,-1257.05C1115.88,-1242.28 1188.61,-1216.84 1244,-1179 1259.19,-1168.63 1273.25,-1153.83 1284.13,-1140.69\"/>\n<polygon fill=\"black\" stroke=\"black\" points=\"1286.95,-1142.77 1290.48,-1132.78 1281.49,-1138.39 1286.95,-1142.77\"/>\n</g>\n<!-- 140407359275360 -->\n<g id=\"node53\" class=\"node\">\n<title>140407359275360</title>\n<polygon fill=\"none\" stroke=\"black\" points=\"6838,-920 6707,-920 6707,-884 6838,-884 6838,-920\"/>\n<text text-anchor=\"middle\" x=\"6772.5\" y=\"-898.3\" font-family=\"Times,serif\" font-size=\"14.00\">Urea Nitrogen_std_1</text>\n</g>\n<!-- 140407359275360&#45;&gt;140407341109056 -->\n<g id=\"edge26\" class=\"edge\">\n<title>140407359275360&#45;&gt;140407341109056</title>\n<path fill=\"none\" stroke=\"black\" d=\"M6838.23,-905.07C6847.02,-905.49 6855.78,-905.9 6863.81,-906.28\"/>\n<polygon fill=\"black\" stroke=\"black\" points=\"6863.75,-909.78 6873.9,-906.76 6864.08,-902.79 6863.75,-909.78\"/>\n</g>\n<!-- 140407359278912 -->\n<g id=\"node54\" class=\"node\">\n<title>140407359278912</title>\n<polygon fill=\"none\" stroke=\"black\" points=\"6401,-766 6270,-766 6270,-730 6401,-730 6401,-766\"/>\n<text text-anchor=\"middle\" x=\"6335.5\" y=\"-744.3\" font-family=\"Times,serif\" font-size=\"14.00\">Urea Nitrogen_std_2</text>\n</g>\n<!-- 140407233397568 -->\n<g id=\"node240\" class=\"node\">\n<title>140407233397568</title>\n<ellipse fill=\"none\" stroke=\"black\" cx=\"6464\" cy=\"-766\" rx=\"27\" ry=\"27\"/>\n</g>\n<!-- 140407359278912&#45;&gt;140407233397568 -->\n<g id=\"edge40\" class=\"edge\">\n<title>140407359278912&#45;&gt;140407233397568</title>\n<path fill=\"none\" stroke=\"black\" d=\"M6401.23,-757.21C6410.11,-758.47 6418.95,-759.73 6427.04,-760.88\"/>\n<polygon fill=\"black\" stroke=\"black\" points=\"6426.81,-764.39 6437.21,-762.33 6427.8,-757.46 6426.81,-764.39\"/>\n</g>\n<!-- 140407357712320 -->\n<g id=\"node55\" class=\"node\">\n<title>140407357712320</title>\n<polygon fill=\"none\" stroke=\"black\" points=\"11091,-1219 10960,-1219 10960,-1183 11091,-1183 11091,-1219\"/>\n<text text-anchor=\"middle\" x=\"11025.5\" y=\"-1197.3\" font-family=\"Times,serif\" font-size=\"14.00\">Urea Nitrogen_std_3</text>\n</g>\n<!-- 140407357712320&#45;&gt;140407359336608 -->\n<g id=\"edge59\" class=\"edge\">\n<title>140407357712320&#45;&gt;140407359336608</title>\n<path fill=\"none\" stroke=\"black\" d=\"M11073.96,-1182.99C11088.86,-1177.34 11105,-1171.21 11118.79,-1165.98\"/>\n<polygon fill=\"black\" stroke=\"black\" points=\"11120.25,-1169.17 11128.36,-1162.35 11117.77,-1162.62 11120.25,-1169.17\"/>\n</g>\n<!-- 140407359339968 -->\n<g id=\"node56\" class=\"node\">\n<title>140407359339968</title>\n<polygon fill=\"none\" stroke=\"black\" points=\"1064,-1143 933,-1143 933,-1107 1064,-1107 1064,-1143\"/>\n<text text-anchor=\"middle\" x=\"998.5\" y=\"-1121.3\" font-family=\"Times,serif\" font-size=\"14.00\">Urea Nitrogen_std_4</text>\n</g>\n<!-- 140407359338144 -->\n<g id=\"node168\" class=\"node\">\n<title>140407359338144</title>\n<ellipse fill=\"none\" stroke=\"black\" cx=\"1127\" cy=\"-1111\" rx=\"27\" ry=\"27\"/>\n</g>\n<!-- 140407359339968&#45;&gt;140407359338144 -->\n<g id=\"edge44\" class=\"edge\">\n<title>140407359339968&#45;&gt;140407359338144</title>\n<path fill=\"none\" stroke=\"black\" d=\"M1064.23,-1117.84C1073.02,-1116.86 1081.78,-1115.89 1089.81,-1115\"/>\n<polygon fill=\"black\" stroke=\"black\" points=\"1090.35,-1118.47 1099.9,-1113.89 1089.58,-1111.51 1090.35,-1118.47\"/>\n</g>\n<!-- 140407357575616 -->\n<g id=\"node57\" class=\"node\">\n<title>140407357575616</title>\n<polygon fill=\"none\" stroke=\"black\" points=\"7198,-907 7144,-907 7144,-871 7198,-871 7198,-907\"/>\n<text text-anchor=\"middle\" x=\"7171\" y=\"-885.3\" font-family=\"Times,serif\" font-size=\"14.00\">VALV</text>\n</g>\n<!-- 140407331315328 -->\n<g id=\"node153\" class=\"node\">\n<title>140407331315328</title>\n<ellipse fill=\"none\" stroke=\"black\" cx=\"7261\" cy=\"-933\" rx=\"27\" ry=\"27\"/>\n</g>\n<!-- 140407357575616&#45;&gt;140407331315328 -->\n<g id=\"edge16\" class=\"edge\">\n<title>140407357575616&#45;&gt;140407331315328</title>\n<path fill=\"none\" stroke=\"black\" d=\"M7198.4,-902.2C7207.52,-906.76 7217.83,-911.92 7227.38,-916.69\"/>\n<polygon fill=\"black\" stroke=\"black\" points=\"7226.1,-919.96 7236.61,-921.3 7229.23,-913.7 7226.1,-919.96\"/>\n</g>\n<!-- 140407357575712 -->\n<g id=\"node58\" class=\"node\">\n<title>140407357575712</title>\n<polygon fill=\"none\" stroke=\"black\" points=\"10654,-1123 10591,-1123 10591,-1087 10654,-1087 10654,-1123\"/>\n<text text-anchor=\"middle\" x=\"10622.5\" y=\"-1101.3\" font-family=\"Times,serif\" font-size=\"14.00\">WLOSS</text>\n</g>\n<!-- 140407331314272 -->\n<g id=\"node182\" class=\"node\">\n<title>140407331314272</title>\n<ellipse fill=\"none\" stroke=\"black\" cx=\"10717\" cy=\"-1108\" rx=\"27\" ry=\"27\"/>\n</g>\n<!-- 140407357575712&#45;&gt;140407331314272 -->\n<g id=\"edge30\" class=\"edge\">\n<title>140407357575712&#45;&gt;140407331314272</title>\n<path fill=\"none\" stroke=\"black\" d=\"M10654.04,-1105.99C10662.27,-1106.26 10671.26,-1106.55 10679.77,-1106.82\"/>\n<polygon fill=\"black\" stroke=\"black\" points=\"10679.72,-1110.33 10689.83,-1107.15 10679.95,-1103.33 10679.72,-1110.33\"/>\n</g>\n<!-- 140407357576192 -->\n<g id=\"node59\" class=\"node\">\n<title>140407357576192</title>\n<polygon fill=\"none\" stroke=\"black\" points=\"2239.5,-506 2180.5,-506 2180.5,-470 2239.5,-470 2239.5,-506\"/>\n<text text-anchor=\"middle\" x=\"2210\" y=\"-484.3\" font-family=\"Times,serif\" font-size=\"14.00\">event_0</text>\n</g>\n<!-- 140407359336800 -->\n<g id=\"node217\" class=\"node\">\n<title>140407359336800</title>\n<ellipse fill=\"none\" stroke=\"black\" cx=\"2373.5\" cy=\"-479\" rx=\"27\" ry=\"27\"/>\n</g>\n<!-- 140407357576192&#45;&gt;140407359336800 -->\n<g id=\"edge47\" class=\"edge\">\n<title>140407357576192&#45;&gt;140407359336800</title>\n<path fill=\"none\" stroke=\"black\" d=\"M2239.5,-486.41C2266.44,-484.91 2306.97,-482.65 2336.2,-481.02\"/>\n<polygon fill=\"black\" stroke=\"black\" points=\"2336.63,-484.5 2346.42,-480.45 2336.24,-477.52 2336.63,-484.5\"/>\n</g>\n<!-- 140407357578976 -->\n<g id=\"node60\" class=\"node\">\n<title>140407357578976</title>\n<polygon fill=\"none\" stroke=\"black\" points=\"3633.5,-490 3567.5,-490 3567.5,-454 3633.5,-454 3633.5,-490\"/>\n<text text-anchor=\"middle\" x=\"3600.5\" y=\"-468.3\" font-family=\"Times,serif\" font-size=\"14.00\">event_11</text>\n</g>\n<!-- 140407359338336 -->\n<g id=\"node223\" class=\"node\">\n<title>140407359338336</title>\n<ellipse fill=\"none\" stroke=\"black\" cx=\"3711\" cy=\"-472\" rx=\"27\" ry=\"27\"/>\n</g>\n<!-- 140407357578976&#45;&gt;140407359338336 -->\n<g id=\"edge64\" class=\"edge\">\n<title>140407357578976&#45;&gt;140407359338336</title>\n<path fill=\"none\" stroke=\"black\" d=\"M3633.76,-472C3646.25,-472 3660.62,-472 3673.49,-472\"/>\n<polygon fill=\"black\" stroke=\"black\" points=\"3673.87,-475.5 3683.87,-472 3673.87,-468.5 3673.87,-475.5\"/>\n</g>\n<!-- 140407356887296 -->\n<g id=\"node61\" class=\"node\">\n<title>140407356887296</title>\n<polygon fill=\"none\" stroke=\"black\" points=\"3840,-490 3774,-490 3774,-454 3840,-454 3840,-490\"/>\n<text text-anchor=\"middle\" x=\"3807\" y=\"-468.3\" font-family=\"Times,serif\" font-size=\"14.00\">event_14</text>\n</g>\n<!-- 140407359338624 -->\n<g id=\"node224\" class=\"node\">\n<title>140407359338624</title>\n<ellipse fill=\"none\" stroke=\"black\" cx=\"3903\" cy=\"-472\" rx=\"27\" ry=\"27\"/>\n</g>\n<!-- 140407356887296&#45;&gt;140407359338624 -->\n<g id=\"edge52\" class=\"edge\">\n<title>140407356887296&#45;&gt;140407359338624</title>\n<path fill=\"none\" stroke=\"black\" d=\"M3840.09,-472C3848.41,-472 3857.42,-472 3865.93,-472\"/>\n<polygon fill=\"black\" stroke=\"black\" points=\"3865.97,-475.5 3875.97,-472 3865.97,-468.5 3865.97,-475.5\"/>\n</g>\n<!-- 140407356887680 -->\n<g id=\"node62\" class=\"node\">\n<title>140407356887680</title>\n<polygon fill=\"none\" stroke=\"black\" points=\"4032,-490 3966,-490 3966,-454 4032,-454 4032,-490\"/>\n<text text-anchor=\"middle\" x=\"3999\" y=\"-468.3\" font-family=\"Times,serif\" font-size=\"14.00\">event_15</text>\n</g>\n<!-- 140407359339008 -->\n<g id=\"node225\" class=\"node\">\n<title>140407359339008</title>\n<ellipse fill=\"none\" stroke=\"black\" cx=\"4095\" cy=\"-472\" rx=\"27\" ry=\"27\"/>\n</g>\n<!-- 140407356887680&#45;&gt;140407359339008 -->\n<g id=\"edge54\" class=\"edge\">\n<title>140407356887680&#45;&gt;140407359339008</title>\n<path fill=\"none\" stroke=\"black\" d=\"M4032.09,-472C4040.41,-472 4049.42,-472 4057.93,-472\"/>\n<polygon fill=\"black\" stroke=\"black\" points=\"4057.97,-475.5 4067.97,-472 4057.97,-468.5 4057.97,-475.5\"/>\n</g>\n<!-- 140407356888160 -->\n<g id=\"node63\" class=\"node\">\n<title>140407356888160</title>\n<polygon fill=\"none\" stroke=\"black\" points=\"4224,-490 4158,-490 4158,-454 4224,-454 4224,-490\"/>\n<text text-anchor=\"middle\" x=\"4191\" y=\"-468.3\" font-family=\"Times,serif\" font-size=\"14.00\">event_16</text>\n</g>\n<!-- 140407359337376 -->\n<g id=\"node226\" class=\"node\">\n<title>140407359337376</title>\n<ellipse fill=\"none\" stroke=\"black\" cx=\"4287\" cy=\"-472\" rx=\"27\" ry=\"27\"/>\n</g>\n<!-- 140407356888160&#45;&gt;140407359337376 -->\n<g id=\"edge70\" class=\"edge\">\n<title>140407356888160&#45;&gt;140407359337376</title>\n<path fill=\"none\" stroke=\"black\" d=\"M4224.09,-472C4232.41,-472 4241.42,-472 4249.93,-472\"/>\n<polygon fill=\"black\" stroke=\"black\" points=\"4249.97,-475.5 4259.97,-472 4249.97,-468.5 4249.97,-475.5\"/>\n</g>\n<!-- 140407356887968 -->\n<g id=\"node64\" class=\"node\">\n<title>140407356887968</title>\n<polygon fill=\"none\" stroke=\"black\" points=\"4416,-490 4350,-490 4350,-454 4416,-454 4416,-490\"/>\n<text text-anchor=\"middle\" x=\"4383\" y=\"-468.3\" font-family=\"Times,serif\" font-size=\"14.00\">event_19</text>\n</g>\n<!-- 140407359339488 -->\n<g id=\"node227\" class=\"node\">\n<title>140407359339488</title>\n<ellipse fill=\"none\" stroke=\"black\" cx=\"4479\" cy=\"-472\" rx=\"27\" ry=\"27\"/>\n</g>\n<!-- 140407356887968&#45;&gt;140407359339488 -->\n<g id=\"edge62\" class=\"edge\">\n<title>140407356887968&#45;&gt;140407359339488</title>\n<path fill=\"none\" stroke=\"black\" d=\"M4416.09,-472C4424.41,-472 4433.42,-472 4441.93,-472\"/>\n<polygon fill=\"black\" stroke=\"black\" points=\"4441.97,-475.5 4451.97,-472 4441.97,-468.5 4441.97,-475.5\"/>\n</g>\n<!-- 140407357576768 -->\n<g id=\"node65\" class=\"node\">\n<title>140407357576768</title>\n<polygon fill=\"none\" stroke=\"black\" points=\"2584,-490 2525,-490 2525,-454 2584,-454 2584,-490\"/>\n<text text-anchor=\"middle\" x=\"2554.5\" y=\"-468.3\" font-family=\"Times,serif\" font-size=\"14.00\">event_2</text>\n</g>\n<!-- 140407359336896 -->\n<g id=\"node218\" class=\"node\">\n<title>140407359336896</title>\n<ellipse fill=\"none\" stroke=\"black\" cx=\"2720.5\" cy=\"-472\" rx=\"27\" ry=\"27\"/>\n</g>\n<!-- 140407357576768&#45;&gt;140407359336896 -->\n<g id=\"edge9\" class=\"edge\">\n<title>140407357576768&#45;&gt;140407359336896</title>\n<path fill=\"none\" stroke=\"black\" d=\"M2584.07,-472C2611.65,-472 2653.52,-472 2683.4,-472\"/>\n<polygon fill=\"black\" stroke=\"black\" points=\"2683.42,-475.5 2693.42,-472 2683.42,-468.5 2683.42,-475.5\"/>\n</g>\n<!-- 140407357578880 -->\n<g id=\"node66\" class=\"node\">\n<title>140407357578880</title>\n<polygon fill=\"none\" stroke=\"black\" points=\"4608,-490 4542,-490 4542,-454 4608,-454 4608,-490\"/>\n<text text-anchor=\"middle\" x=\"4575\" y=\"-468.3\" font-family=\"Times,serif\" font-size=\"14.00\">event_20</text>\n</g>\n<!-- 140407359337280 -->\n<g id=\"node228\" class=\"node\">\n<title>140407359337280</title>\n<ellipse fill=\"none\" stroke=\"black\" cx=\"4671\" cy=\"-472\" rx=\"27\" ry=\"27\"/>\n</g>\n<!-- 140407357578880&#45;&gt;140407359337280 -->\n<g id=\"edge25\" class=\"edge\">\n<title>140407357578880&#45;&gt;140407359337280</title>\n<path fill=\"none\" stroke=\"black\" d=\"M4608.09,-472C4616.41,-472 4625.42,-472 4633.93,-472\"/>\n<polygon fill=\"black\" stroke=\"black\" points=\"4633.97,-475.5 4643.97,-472 4633.97,-468.5 4633.97,-475.5\"/>\n</g>\n<!-- 140407357576672 -->\n<g id=\"node67\" class=\"node\">\n<title>140407357576672</title>\n<polygon fill=\"none\" stroke=\"black\" points=\"4800,-536 4734,-536 4734,-500 4800,-500 4800,-536\"/>\n<text text-anchor=\"middle\" x=\"4767\" y=\"-514.3\" font-family=\"Times,serif\" font-size=\"14.00\">event_26</text>\n</g>\n<!-- 140407230223456 -->\n<g id=\"node229\" class=\"node\">\n<title>140407230223456</title>\n<ellipse fill=\"none\" stroke=\"black\" cx=\"4863\" cy=\"-500\" rx=\"27\" ry=\"27\"/>\n</g>\n<!-- 140407357576672&#45;&gt;140407230223456 -->\n<g id=\"edge42\" class=\"edge\">\n<title>140407357576672&#45;&gt;140407230223456</title>\n<path fill=\"none\" stroke=\"black\" d=\"M4800.09,-511.86C4808.57,-510.23 4817.78,-508.47 4826.44,-506.81\"/>\n<polygon fill=\"black\" stroke=\"black\" points=\"4827.11,-510.24 4836.28,-504.93 4825.8,-503.37 4827.11,-510.24\"/>\n</g>\n<!-- 140407357577536 -->\n<g id=\"node68\" class=\"node\">\n<title>140407357577536</title>\n<polygon fill=\"none\" stroke=\"black\" points=\"4992,-561 4926,-561 4926,-525 4992,-525 4992,-561\"/>\n<text text-anchor=\"middle\" x=\"4959\" y=\"-539.3\" font-family=\"Times,serif\" font-size=\"14.00\">event_29</text>\n</g>\n<!-- 140407230222880 -->\n<g id=\"node230\" class=\"node\">\n<title>140407230222880</title>\n<ellipse fill=\"none\" stroke=\"black\" cx=\"5055\" cy=\"-527\" rx=\"27\" ry=\"27\"/>\n</g>\n<!-- 140407357577536&#45;&gt;140407230222880 -->\n<g id=\"edge28\" class=\"edge\">\n<title>140407357577536&#45;&gt;140407230222880</title>\n<path fill=\"none\" stroke=\"black\" d=\"M4992.09,-537.54C5000.48,-536.11 5009.58,-534.56 5018.16,-533.1\"/>\n<polygon fill=\"black\" stroke=\"black\" points=\"5019.01,-536.51 5028.28,-531.38 5017.83,-529.61 5019.01,-536.51\"/>\n</g>\n<!-- 140407357577824 -->\n<g id=\"node69\" class=\"node\">\n<title>140407357577824</title>\n<polygon fill=\"none\" stroke=\"black\" points=\"2916,-490 2857,-490 2857,-454 2916,-454 2916,-490\"/>\n<text text-anchor=\"middle\" x=\"2886.5\" y=\"-468.3\" font-family=\"Times,serif\" font-size=\"14.00\">event_3</text>\n</g>\n<!-- 140407359337088 -->\n<g id=\"node219\" class=\"node\">\n<title>140407359337088</title>\n<ellipse fill=\"none\" stroke=\"black\" cx=\"3022\" cy=\"-472\" rx=\"27\" ry=\"27\"/>\n</g>\n<!-- 140407357577824&#45;&gt;140407359337088 -->\n<g id=\"edge10\" class=\"edge\">\n<title>140407357577824&#45;&gt;140407359337088</title>\n<path fill=\"none\" stroke=\"black\" d=\"M2916.14,-472C2936.15,-472 2963.05,-472 2984.58,-472\"/>\n<polygon fill=\"black\" stroke=\"black\" points=\"2984.67,-475.5 2994.67,-472 2984.67,-468.5 2984.67,-475.5\"/>\n</g>\n<!-- 140407357575808 -->\n<g id=\"node70\" class=\"node\">\n<title>140407357575808</title>\n<polygon fill=\"none\" stroke=\"black\" points=\"3144,-490 3085,-490 3085,-454 3144,-454 3144,-490\"/>\n<text text-anchor=\"middle\" x=\"3114.5\" y=\"-468.3\" font-family=\"Times,serif\" font-size=\"14.00\">event_6</text>\n</g>\n<!-- 140407359337568 -->\n<g id=\"node221\" class=\"node\">\n<title>140407359337568</title>\n<ellipse fill=\"none\" stroke=\"black\" cx=\"3207.5\" cy=\"-472\" rx=\"27\" ry=\"27\"/>\n</g>\n<!-- 140407357575808&#45;&gt;140407359337568 -->\n<g id=\"edge37\" class=\"edge\">\n<title>140407357575808&#45;&gt;140407359337568</title>\n<path fill=\"none\" stroke=\"black\" d=\"M3144.29,-472C3152.51,-472 3161.57,-472 3170.18,-472\"/>\n<polygon fill=\"black\" stroke=\"black\" points=\"3170.36,-475.5 3180.36,-472 3170.36,-468.5 3170.36,-475.5\"/>\n</g>\n<!-- 140407357578304 -->\n<g id=\"node71\" class=\"node\">\n<title>140407357578304</title>\n<polygon fill=\"none\" stroke=\"black\" points=\"3358,-490 3299,-490 3299,-454 3358,-454 3358,-490\"/>\n<text text-anchor=\"middle\" x=\"3328.5\" y=\"-468.3\" font-family=\"Times,serif\" font-size=\"14.00\">event_9</text>\n</g>\n<!-- 140407359338048 -->\n<g id=\"node222\" class=\"node\">\n<title>140407359338048</title>\n<ellipse fill=\"none\" stroke=\"black\" cx=\"3469.5\" cy=\"-472\" rx=\"27\" ry=\"27\"/>\n</g>\n<!-- 140407357578304&#45;&gt;140407359338048 -->\n<g id=\"edge50\" class=\"edge\">\n<title>140407357578304&#45;&gt;140407359338048</title>\n<path fill=\"none\" stroke=\"black\" d=\"M3358.3,-472C3379.68,-472 3408.99,-472 3432,-472\"/>\n<polygon fill=\"black\" stroke=\"black\" points=\"3432.09,-475.5 3442.09,-472 3432.09,-468.5 3432.09,-475.5\"/>\n</g>\n<!-- 140407359277280 -->\n<g id=\"node72\" class=\"node\">\n<title>140407359277280</title>\n<polygon fill=\"none\" stroke=\"black\" points=\"1636,-1050 1577,-1050 1577,-1014 1636,-1014 1636,-1050\"/>\n<text text-anchor=\"middle\" x=\"1606.5\" y=\"-1028.3\" font-family=\"Times,serif\" font-size=\"14.00\">planned</text>\n</g>\n<!-- 140407233399680 -->\n<g id=\"node178\" class=\"node\">\n<title>140407233399680</title>\n<ellipse fill=\"none\" stroke=\"black\" cx=\"1699\" cy=\"-1059\" rx=\"27\" ry=\"27\"/>\n</g>\n<!-- 140407359277280&#45;&gt;140407233399680 -->\n<g id=\"edge21\" class=\"edge\">\n<title>140407359277280&#45;&gt;140407233399680</title>\n<path fill=\"none\" stroke=\"black\" d=\"M1636.13,-1040.54C1644.71,-1043.1 1654.22,-1045.94 1663.15,-1048.6\"/>\n<polygon fill=\"black\" stroke=\"black\" points=\"1662.33,-1052.01 1672.91,-1051.51 1664.33,-1045.3 1662.33,-1052.01\"/>\n</g>\n<!-- 140407357578784 -->\n<g id=\"node73\" class=\"node\">\n<title>140407357578784</title>\n<polygon fill=\"black\" stroke=\"black\" points=\"353.5,-704 299.5,-704 299.5,-668 353.5,-668 353.5,-704\"/>\n</g>\n<!-- 140407230223504 -->\n<g id=\"node162\" class=\"node\">\n<title>140407230223504</title>\n<ellipse fill=\"none\" stroke=\"black\" cx=\"419\" cy=\"-686\" rx=\"27\" ry=\"27\"/>\n</g>\n<!-- 140407357578784&#45;&gt;140407230223504 -->\n<g id=\"edge74\" class=\"edge\">\n<title>140407357578784&#45;&gt;140407230223504</title>\n<path fill=\"none\" stroke=\"black\" d=\"M353.68,-686C362.4,-686 372.28,-686 381.64,-686\"/>\n<polygon fill=\"black\" stroke=\"black\" points=\"381.88,-689.5 391.88,-686 381.88,-682.5 381.88,-689.5\"/>\n</g>\n<!-- 140407357710688 -->\n<g id=\"node74\" class=\"node\">\n<title>140407357710688</title>\n<polygon fill=\"black\" stroke=\"black\" points=\"353.5,-918 299.5,-918 299.5,-882 353.5,-882 353.5,-918\"/>\n</g>\n<!-- 140407331314656 -->\n<g id=\"node166\" class=\"node\">\n<title>140407331314656</title>\n<ellipse fill=\"none\" stroke=\"black\" cx=\"419\" cy=\"-900\" rx=\"27\" ry=\"27\"/>\n</g>\n<!-- 140407357710688&#45;&gt;140407331314656 -->\n<g id=\"edge75\" class=\"edge\">\n<title>140407357710688&#45;&gt;140407331314656</title>\n<path fill=\"none\" stroke=\"black\" d=\"M353.68,-900C362.4,-900 372.28,-900 381.64,-900\"/>\n<polygon fill=\"black\" stroke=\"black\" points=\"381.88,-903.5 391.88,-900 381.88,-896.5 381.88,-903.5\"/>\n</g>\n<!-- 140407357713376 -->\n<g id=\"node75\" class=\"node\">\n<title>140407357713376</title>\n<polygon fill=\"black\" stroke=\"black\" points=\"1437.5,-1120 1383.5,-1120 1383.5,-1084 1437.5,-1084 1437.5,-1120\"/>\n</g>\n<!-- 140407341106944 -->\n<g id=\"node176\" class=\"node\">\n<title>140407341106944</title>\n<ellipse fill=\"none\" stroke=\"black\" cx=\"1514\" cy=\"-1079\" rx=\"27\" ry=\"27\"/>\n</g>\n<!-- 140407357713376&#45;&gt;140407341106944 -->\n<g id=\"edge76\" class=\"edge\">\n<title>140407357713376&#45;&gt;140407341106944</title>\n<path fill=\"none\" stroke=\"black\" d=\"M1437.64,-1096.08C1449.69,-1093.35 1464.18,-1090.06 1477.23,-1087.11\"/>\n<polygon fill=\"black\" stroke=\"black\" points=\"1478.32,-1090.45 1487.3,-1084.82 1476.77,-1083.62 1478.32,-1090.45\"/>\n</g>\n<!-- 140407356888352 -->\n<g id=\"node76\" class=\"node\">\n<title>140407356888352</title>\n<polygon fill=\"black\" stroke=\"black\" points=\"353.5,-820 299.5,-820 299.5,-784 353.5,-784 353.5,-820\"/>\n</g>\n<!-- 140407359339584 -->\n<g id=\"node210\" class=\"node\">\n<title>140407359339584</title>\n<ellipse fill=\"none\" stroke=\"black\" cx=\"419\" cy=\"-802\" rx=\"27\" ry=\"27\"/>\n</g>\n<!-- 140407356888352&#45;&gt;140407359339584 -->\n<g id=\"edge77\" class=\"edge\">\n<title>140407356888352&#45;&gt;140407359339584</title>\n<path fill=\"none\" stroke=\"black\" d=\"M353.68,-802C362.4,-802 372.28,-802 381.64,-802\"/>\n<polygon fill=\"black\" stroke=\"black\" points=\"381.88,-805.5 391.88,-802 381.88,-798.5 381.88,-805.5\"/>\n</g>\n<!-- 140407357576384 -->\n<g id=\"node77\" class=\"node\">\n<title>140407357576384</title>\n<polygon fill=\"black\" stroke=\"black\" points=\"446,-618 392,-618 392,-582 446,-582 446,-618\"/>\n</g>\n<!-- 140407359336992 -->\n<g id=\"node159\" class=\"node\">\n<title>140407359336992</title>\n<ellipse fill=\"none\" stroke=\"black\" cx=\"870\" cy=\"-631\" rx=\"27\" ry=\"27\"/>\n</g>\n<!-- 140407357576384&#45;&gt;140407359336992 -->\n<g id=\"edge238\" class=\"edge\">\n<title>140407357576384&#45;&gt;140407359336992</title>\n<path fill=\"none\" stroke=\"black\" d=\"M446.39,-595.95C509.82,-587.14 675.34,-569.65 807,-604 816.86,-606.57 827.17,-610.51 836.48,-614.58\"/>\n<polygon fill=\"black\" stroke=\"black\" points=\"835.22,-617.85 845.77,-618.83 838.13,-611.49 835.22,-617.85\"/>\n</g>\n<!-- 140407359275456 -->\n<g id=\"node78\" class=\"node\">\n<title>140407359275456</title>\n<polygon fill=\"black\" stroke=\"black\" points=\"807,-703 753,-703 753,-667 807,-667 807,-703\"/>\n</g>\n<!-- 140407359275456&#45;&gt;140407230223504 -->\n<g id=\"edge239\" class=\"edge\">\n<title>140407359275456&#45;&gt;140407230223504</title>\n<path fill=\"none\" stroke=\"black\" d=\"M752.99,-685.07C689.88,-685.25 528.53,-685.7 456.12,-685.9\"/>\n<polygon fill=\"black\" stroke=\"black\" points=\"456.1,-682.4 446.11,-685.93 456.12,-689.4 456.1,-682.4\"/>\n</g>\n<!-- 140407359276416 -->\n<g id=\"node79\" class=\"node\">\n<title>140407359276416</title>\n<polygon fill=\"black\" stroke=\"black\" points=\"807,-649 753,-649 753,-613 807,-613 807,-649\"/>\n</g>\n<!-- 140407359276416&#45;&gt;140407359336992 -->\n<g id=\"edge240\" class=\"edge\">\n<title>140407359276416&#45;&gt;140407359336992</title>\n<path fill=\"none\" stroke=\"black\" d=\"M807.4,-631C815.39,-631 824.31,-631 832.82,-631\"/>\n<polygon fill=\"black\" stroke=\"black\" points=\"832.92,-634.5 842.92,-631 832.92,-627.5 832.92,-634.5\"/>\n</g>\n<!-- 140407359278432 -->\n<g id=\"node80\" class=\"node\">\n<title>140407359278432</title>\n<polygon fill=\"black\" stroke=\"black\" points=\"446,-993 392,-993 392,-957 446,-957 446,-993\"/>\n</g>\n<!-- 140407233399920 -->\n<g id=\"node165\" class=\"node\">\n<title>140407233399920</title>\n<ellipse fill=\"none\" stroke=\"black\" cx=\"870\" cy=\"-947\" rx=\"27\" ry=\"27\"/>\n</g>\n<!-- 140407359278432&#45;&gt;140407233399920 -->\n<g id=\"edge241\" class=\"edge\">\n<title>140407359278432&#45;&gt;140407233399920</title>\n<path fill=\"none\" stroke=\"black\" d=\"M446.3,-979.01C509.52,-987.76 674.62,-1005.43 807,-974 816.92,-971.64 827.24,-967.78 836.55,-963.7\"/>\n<polygon fill=\"black\" stroke=\"black\" points=\"838.21,-966.79 845.83,-959.43 835.29,-960.43 838.21,-966.79\"/>\n</g>\n<!-- 140407357711072 -->\n<g id=\"node81\" class=\"node\">\n<title>140407357711072</title>\n<polygon fill=\"black\" stroke=\"black\" points=\"807,-911 753,-911 753,-875 807,-875 807,-911\"/>\n</g>\n<!-- 140407357711072&#45;&gt;140407331314656 -->\n<g id=\"edge242\" class=\"edge\">\n<title>140407357711072&#45;&gt;140407331314656</title>\n<path fill=\"none\" stroke=\"black\" d=\"M752.99,-893.51C689.88,-894.74 528.53,-897.88 456.12,-899.3\"/>\n<polygon fill=\"black\" stroke=\"black\" points=\"456.04,-895.8 446.11,-899.49 456.17,-902.8 456.04,-895.8\"/>\n</g>\n<!-- 140407357713664 -->\n<g id=\"node82\" class=\"node\">\n<title>140407357713664</title>\n<polygon fill=\"black\" stroke=\"black\" points=\"807,-965 753,-965 753,-929 807,-929 807,-965\"/>\n</g>\n<!-- 140407357713664&#45;&gt;140407233399920 -->\n<g id=\"edge243\" class=\"edge\">\n<title>140407357713664&#45;&gt;140407233399920</title>\n<path fill=\"none\" stroke=\"black\" d=\"M807.4,-947C815.39,-947 824.31,-947 832.82,-947\"/>\n<polygon fill=\"black\" stroke=\"black\" points=\"832.92,-950.5 842.92,-947 832.92,-943.5 832.92,-950.5\"/>\n</g>\n<!-- 140407357577728 -->\n<g id=\"node83\" class=\"node\">\n<title>140407357577728</title>\n<polygon fill=\"black\" stroke=\"black\" points=\"1437.5,-1228 1383.5,-1228 1383.5,-1192 1437.5,-1192 1437.5,-1228\"/>\n</g>\n<!-- 140407357577728&#45;&gt;140407359337472 -->\n<g id=\"edge244\" class=\"edge\">\n<title>140407357577728&#45;&gt;140407359337472</title>\n<path fill=\"none\" stroke=\"black\" d=\"M1437.64,-1210C1449.6,-1210 1463.96,-1210 1476.92,-1210\"/>\n<polygon fill=\"black\" stroke=\"black\" points=\"1476.95,-1213.5 1486.95,-1210 1476.95,-1206.5 1476.95,-1213.5\"/>\n</g>\n<!-- 140407356888064 -->\n<g id=\"node84\" class=\"node\">\n<title>140407356888064</title>\n<polygon fill=\"black\" stroke=\"black\" points=\"1437.5,-990 1383.5,-990 1383.5,-954 1437.5,-954 1437.5,-990\"/>\n</g>\n<!-- 140407356888064&#45;&gt;140407359339392 -->\n<g id=\"edge245\" class=\"edge\">\n<title>140407356888064&#45;&gt;140407359339392</title>\n<path fill=\"none\" stroke=\"black\" d=\"M1437.64,-972C1449.6,-972 1463.96,-972 1476.92,-972\"/>\n<polygon fill=\"black\" stroke=\"black\" points=\"1476.95,-975.5 1486.95,-972 1476.95,-968.5 1476.95,-975.5\"/>\n</g>\n<!-- 140407359278624 -->\n<g id=\"node85\" class=\"node\">\n<title>140407359278624</title>\n<polygon fill=\"black\" stroke=\"black\" points=\"1633.5,-1104 1579.5,-1104 1579.5,-1068 1633.5,-1068 1633.5,-1104\"/>\n</g>\n<!-- 140407359278624&#45;&gt;140407233399680 -->\n<g id=\"edge246\" class=\"edge\">\n<title>140407359278624&#45;&gt;140407233399680</title>\n<path fill=\"none\" stroke=\"black\" d=\"M1633.68,-1078.19C1642.82,-1075.46 1653.24,-1072.36 1662.98,-1069.45\"/>\n<polygon fill=\"black\" stroke=\"black\" points=\"1664.24,-1072.73 1672.82,-1066.51 1662.23,-1066.02 1664.24,-1072.73\"/>\n</g>\n<!-- 140407359275552 -->\n<g id=\"node86\" class=\"node\">\n<title>140407359275552</title>\n<polygon fill=\"black\" stroke=\"black\" points=\"2012.5,-36 1958.5,-36 1958.5,0 2012.5,0 2012.5,-36\"/>\n</g>\n<!-- 140407359275552&#45;&gt;140407233400400 -->\n<g id=\"edge247\" class=\"edge\">\n<title>140407359275552&#45;&gt;140407233400400</title>\n<path fill=\"none\" stroke=\"black\" d=\"M2012.6,-29.24C2026.29,-35.13 2043.2,-42.42 2057.81,-48.71\"/>\n<polygon fill=\"black\" stroke=\"black\" points=\"2056.45,-51.93 2067.02,-52.67 2059.22,-45.5 2056.45,-51.93\"/>\n</g>\n<!-- 140407357713280 -->\n<g id=\"node87\" class=\"node\">\n<title>140407357713280</title>\n<polygon fill=\"black\" stroke=\"black\" points=\"2012.5,-1085 1958.5,-1085 1958.5,-1049 2012.5,-1049 2012.5,-1085\"/>\n</g>\n<!-- 140407357713280&#45;&gt;140407331315616 -->\n<g id=\"edge248\" class=\"edge\">\n<title>140407357713280&#45;&gt;140407331315616</title>\n<path fill=\"none\" stroke=\"black\" d=\"M2012.6,-1080.49C2026.49,-1087.66 2043.69,-1096.55 2058.44,-1104.18\"/>\n<polygon fill=\"black\" stroke=\"black\" points=\"2057.23,-1107.49 2067.72,-1108.97 2060.45,-1101.27 2057.23,-1107.49\"/>\n</g>\n<!-- 140407359275936 -->\n<g id=\"node88\" class=\"node\">\n<title>140407359275936</title>\n<polygon fill=\"black\" stroke=\"black\" points=\"2012.5,-1264 1958.5,-1264 1958.5,-1228 2012.5,-1228 2012.5,-1264\"/>\n</g>\n<!-- 140407359275936&#45;&gt;140407341108864 -->\n<g id=\"edge249\" class=\"edge\">\n<title>140407359275936&#45;&gt;140407341108864</title>\n<path fill=\"none\" stroke=\"black\" d=\"M2012.6,-1246C2025.32,-1246 2040.82,-1246 2054.67,-1246\"/>\n<polygon fill=\"black\" stroke=\"black\" points=\"2054.87,-1249.5 2064.87,-1246 2054.87,-1242.5 2054.87,-1249.5\"/>\n</g>\n<!-- 140407359275648 -->\n<g id=\"node89\" class=\"node\">\n<title>140407359275648</title>\n<polygon fill=\"black\" stroke=\"black\" points=\"2237,-182 2183,-182 2183,-146 2237,-146 2237,-182\"/>\n</g>\n<!-- 140407359275648&#45;&gt;140407343660864 -->\n<g id=\"edge250\" class=\"edge\">\n<title>140407359275648&#45;&gt;140407343660864</title>\n<path fill=\"none\" stroke=\"black\" d=\"M2237.31,-170.84C2264.61,-177.94 2307.46,-189.08 2337.58,-196.92\"/>\n<polygon fill=\"black\" stroke=\"black\" points=\"2336.71,-200.31 2347.27,-199.44 2338.47,-193.53 2336.71,-200.31\"/>\n</g>\n<!-- 140407357711744 -->\n<g id=\"node90\" class=\"node\">\n<title>140407357711744</title>\n<polygon fill=\"black\" stroke=\"black\" points=\"2237,-290 2183,-290 2183,-254 2237,-254 2237,-290\"/>\n</g>\n<!-- 140407357711744&#45;&gt;140407331314080 -->\n<g id=\"edge251\" class=\"edge\">\n<title>140407357711744&#45;&gt;140407331314080</title>\n<path fill=\"none\" stroke=\"black\" d=\"M2237.31,-278.19C2264.41,-284.57 2306.83,-294.55 2336.92,-301.63\"/>\n<polygon fill=\"black\" stroke=\"black\" points=\"2336.47,-305.12 2347,-304 2338.07,-298.3 2336.47,-305.12\"/>\n</g>\n<!-- 140407356887872 -->\n<g id=\"node91\" class=\"node\">\n<title>140407356887872</title>\n<polygon fill=\"black\" stroke=\"black\" points=\"717,-750 663,-750 663,-714 717,-714 717,-750\"/>\n</g>\n<!-- 140407359339104 -->\n<g id=\"node201\" class=\"node\">\n<title>140407359339104</title>\n<ellipse fill=\"none\" stroke=\"black\" cx=\"870\" cy=\"-785\" rx=\"27\" ry=\"27\"/>\n</g>\n<!-- 140407356887872&#45;&gt;140407359339104 -->\n<g id=\"edge252\" class=\"edge\">\n<title>140407356887872&#45;&gt;140407359339104</title>\n<path fill=\"none\" stroke=\"black\" d=\"M717.18,-736.4C740.95,-740.73 776.79,-748.13 807,-758 816.61,-761.14 826.77,-765.22 836.02,-769.25\"/>\n<polygon fill=\"black\" stroke=\"black\" points=\"834.71,-772.5 845.27,-773.4 837.58,-766.12 834.71,-772.5\"/>\n</g>\n<!-- 140407359275264 -->\n<g id=\"node92\" class=\"node\">\n<title>140407359275264</title>\n<polygon fill=\"black\" stroke=\"black\" points=\"2237,-452 2183,-452 2183,-416 2237,-416 2237,-452\"/>\n</g>\n<!-- 140407359275264&#45;&gt;140407331314752 -->\n<g id=\"edge253\" class=\"edge\">\n<title>140407359275264&#45;&gt;140407331314752</title>\n<path fill=\"none\" stroke=\"black\" d=\"M2237.31,-429.6C2264.33,-425.08 2306.58,-418.02 2336.65,-412.99\"/>\n<polygon fill=\"black\" stroke=\"black\" points=\"2337.45,-416.41 2346.74,-411.31 2336.3,-409.5 2337.45,-416.41\"/>\n</g>\n<!-- 140407357711264 -->\n<g id=\"node93\" class=\"node\">\n<title>140407357711264</title>\n<polygon fill=\"black\" stroke=\"black\" points=\"2237,-1107 2183,-1107 2183,-1071 2237,-1071 2237,-1107\"/>\n</g>\n<!-- 140407357711264&#45;&gt;140407233399392 -->\n<g id=\"edge254\" class=\"edge\">\n<title>140407357711264&#45;&gt;140407233399392</title>\n<path fill=\"none\" stroke=\"black\" d=\"M2237.31,-1081.67C2264.61,-1074.06 2307.46,-1062.12 2337.58,-1053.73\"/>\n<polygon fill=\"black\" stroke=\"black\" points=\"2338.57,-1057.09 2347.27,-1051.03 2336.7,-1050.34 2338.57,-1057.09\"/>\n</g>\n<!-- 140407357576096 -->\n<g id=\"node94\" class=\"node\">\n<title>140407357576096</title>\n<polygon fill=\"black\" stroke=\"black\" points=\"4794,-482 4740,-482 4740,-446 4794,-446 4794,-482\"/>\n</g>\n<!-- 140407357576096&#45;&gt;140407230223456 -->\n<g id=\"edge255\" class=\"edge\">\n<title>140407357576096&#45;&gt;140407230223456</title>\n<path fill=\"none\" stroke=\"black\" d=\"M4794.18,-474.03C4804.69,-478.05 4816.93,-482.74 4828.1,-487.02\"/>\n<polygon fill=\"black\" stroke=\"black\" points=\"4826.98,-490.34 4837.57,-490.64 4829.48,-483.8 4826.98,-490.34\"/>\n</g>\n<!-- 140407357577152 -->\n<g id=\"node95\" class=\"node\">\n<title>140407357577152</title>\n<polygon fill=\"black\" stroke=\"black\" points=\"4986,-507 4932,-507 4932,-471 4986,-471 4986,-507\"/>\n</g>\n<!-- 140407357577152&#45;&gt;140407230222880 -->\n<g id=\"edge256\" class=\"edge\">\n<title>140407357577152&#45;&gt;140407230222880</title>\n<path fill=\"none\" stroke=\"black\" d=\"M4986.18,-499.59C4996.69,-503.83 5008.93,-508.78 5020.1,-513.3\"/>\n<polygon fill=\"black\" stroke=\"black\" points=\"5018.99,-516.62 5029.57,-517.12 5021.61,-510.13 5018.99,-516.62\"/>\n</g>\n<!-- 140407357577920 -->\n<g id=\"node96\" class=\"node\">\n<title>140407357577920</title>\n<polygon fill=\"black\" stroke=\"black\" points=\"5172,-522 5118,-522 5118,-486 5172,-486 5172,-522\"/>\n</g>\n<!-- 140407357577920&#45;&gt;140407328134768 -->\n<g id=\"edge257\" class=\"edge\">\n<title>140407357577920&#45;&gt;140407328134768</title>\n<path fill=\"none\" stroke=\"black\" d=\"M5164.56,-522.04C5167.18,-524.93 5169.75,-527.97 5172,-531 5189.98,-555.16 5206.52,-585.06 5217.98,-607.59\"/>\n<polygon fill=\"black\" stroke=\"black\" points=\"5214.97,-609.39 5222.58,-616.76 5221.22,-606.25 5214.97,-609.39\"/>\n</g>\n<!-- 140407357578496 -->\n<g id=\"node97\" class=\"node\">\n<title>140407357578496</title>\n<polygon fill=\"black\" stroke=\"black\" points=\"2581.5,-620 2527.5,-620 2527.5,-584 2581.5,-584 2581.5,-620\"/>\n</g>\n<!-- 140407357578496&#45;&gt;140407359338912 -->\n<g id=\"edge258\" class=\"edge\">\n<title>140407357578496&#45;&gt;140407359338912</title>\n<path fill=\"none\" stroke=\"black\" d=\"M2581.64,-608.78C2595.8,-613.19 2613.17,-619.84 2627,-629 2654.57,-647.27 2680.04,-675.15 2697.24,-696.34\"/>\n<polygon fill=\"black\" stroke=\"black\" points=\"2694.68,-698.74 2703.64,-704.39 2700.16,-694.38 2694.68,-698.74\"/>\n</g>\n<!-- 140407359276800 -->\n<g id=\"node98\" class=\"node\">\n<title>140407359276800</title>\n<polygon fill=\"black\" stroke=\"black\" points=\"2581.5,-836 2527.5,-836 2527.5,-800 2581.5,-800 2581.5,-836\"/>\n</g>\n<!-- 140407359276800&#45;&gt;140407359338912 -->\n<g id=\"edge259\" class=\"edge\">\n<title>140407359276800&#45;&gt;140407359338912</title>\n<path fill=\"none\" stroke=\"black\" d=\"M2581.66,-809.89C2595.51,-805.17 2612.58,-798.63 2627,-791 2649.66,-779.01 2673.28,-762.33 2690.98,-748.87\"/>\n<polygon fill=\"black\" stroke=\"black\" points=\"2693.38,-751.44 2699.16,-742.56 2689.11,-745.89 2693.38,-751.44\"/>\n</g>\n<!-- 140407359276320 -->\n<g id=\"node99\" class=\"node\">\n<title>140407359276320</title>\n<polygon fill=\"black\" stroke=\"black\" points=\"2913.5,-707 2859.5,-707 2859.5,-671 2913.5,-671 2913.5,-707\"/>\n</g>\n<!-- 140407359276320&#45;&gt;140407230224272 -->\n<g id=\"edge260\" class=\"edge\">\n<title>140407359276320&#45;&gt;140407230224272</title>\n<path fill=\"none\" stroke=\"black\" d=\"M2913.77,-679.44C2927.34,-674.41 2944.13,-668.04 2959,-662 2968.36,-658.2 2978.44,-653.9 2987.69,-649.87\"/>\n<polygon fill=\"black\" stroke=\"black\" points=\"2989.22,-653.02 2996.97,-645.79 2986.41,-646.61 2989.22,-653.02\"/>\n</g>\n<!-- 140407357713760 -->\n<g id=\"node100\" class=\"node\">\n<title>140407357713760</title>\n<polygon fill=\"black\" stroke=\"black\" points=\"3738,-745 3684,-745 3684,-709 3738,-709 3738,-745\"/>\n</g>\n<!-- 140407357713760&#45;&gt;140407328134768 -->\n<g id=\"edge261\" class=\"edge\">\n<title>140407357713760&#45;&gt;140407328134768</title>\n<path fill=\"none\" stroke=\"black\" d=\"M3738.12,-726.1C3774.74,-724.92 3843.44,-723 3902,-723 3902,-723 3902,-723 5056,-723 5109.04,-723 5124.88,-719.34 5172,-695 5185.47,-688.04 5198.44,-677.56 5209,-667.68\"/>\n<polygon fill=\"black\" stroke=\"black\" points=\"5211.5,-670.13 5216.24,-660.65 5206.62,-665.11 5211.5,-670.13\"/>\n</g>\n<!-- 140407359275168 -->\n<g id=\"node101\" class=\"node\">\n<title>140407359275168</title>\n<polygon fill=\"black\" stroke=\"black\" points=\"5408.5,-659 5354.5,-659 5354.5,-623 5408.5,-623 5408.5,-659\"/>\n</g>\n<!-- 140407359275168&#45;&gt;140407359336704 -->\n<g id=\"edge262\" class=\"edge\">\n<title>140407359275168&#45;&gt;140407359336704</title>\n<path fill=\"none\" stroke=\"black\" d=\"M5408.67,-641C5431.54,-641 5464.99,-641 5490.5,-641\"/>\n<polygon fill=\"black\" stroke=\"black\" points=\"5490.54,-644.5 5500.54,-641 5490.54,-637.5 5490.54,-644.5\"/>\n</g>\n<!-- 140407357710880 -->\n<g id=\"node102\" class=\"node\">\n<title>140407357710880</title>\n<polygon fill=\"black\" stroke=\"black\" points=\"5694,-659 5640,-659 5640,-623 5694,-623 5694,-659\"/>\n</g>\n<!-- 140407357710880&#45;&gt;140407359338432 -->\n<g id=\"edge263\" class=\"edge\">\n<title>140407357710880&#45;&gt;140407359338432</title>\n<path fill=\"none\" stroke=\"black\" d=\"M5694.19,-649.96C5708.67,-655.03 5726.92,-661.61 5743,-668 5752.39,-671.73 5762.48,-676.01 5771.73,-680.04\"/>\n<polygon fill=\"black\" stroke=\"black\" points=\"5770.45,-683.3 5781.01,-684.12 5773.26,-676.89 5770.45,-683.3\"/>\n</g>\n<!-- 140407357713856 -->\n<g id=\"node103\" class=\"node\">\n<title>140407357713856</title>\n<polygon fill=\"black\" stroke=\"black\" points=\"5943.5,-713 5889.5,-713 5889.5,-677 5943.5,-677 5943.5,-713\"/>\n</g>\n<!-- 140407357713856&#45;&gt;140407233399776 -->\n<g id=\"edge264\" class=\"edge\">\n<title>140407357713856&#45;&gt;140407233399776</title>\n<path fill=\"none\" stroke=\"black\" d=\"M5943.76,-708.07C5958.76,-715.53 5977.68,-724.95 5993.59,-732.87\"/>\n<polygon fill=\"black\" stroke=\"black\" points=\"5992.05,-736.01 6002.56,-737.33 5995.17,-729.75 5992.05,-736.01\"/>\n</g>\n<!-- 140407359277184 -->\n<g id=\"node104\" class=\"node\">\n<title>140407359277184</title>\n<polygon fill=\"black\" stroke=\"black\" points=\"6581,-866 6527,-866 6527,-830 6581,-830 6581,-866\"/>\n</g>\n<!-- 140407331315232 -->\n<g id=\"node238\" class=\"node\">\n<title>140407331315232</title>\n<ellipse fill=\"none\" stroke=\"black\" cx=\"6644\" cy=\"-848\" rx=\"27\" ry=\"27\"/>\n</g>\n<!-- 140407359277184&#45;&gt;140407331315232 -->\n<g id=\"edge265\" class=\"edge\">\n<title>140407359277184&#45;&gt;140407331315232</title>\n<path fill=\"none\" stroke=\"black\" d=\"M6581.4,-848C6589.39,-848 6598.31,-848 6606.82,-848\"/>\n<polygon fill=\"black\" stroke=\"black\" points=\"6606.92,-851.5 6616.92,-848 6606.92,-844.5 6606.92,-851.5\"/>\n</g>\n<!-- 140407357710976 -->\n<g id=\"node105\" class=\"node\">\n<title>140407357710976</title>\n<polygon fill=\"black\" stroke=\"black\" points=\"6362.5,-820 6308.5,-820 6308.5,-784 6362.5,-784 6362.5,-820\"/>\n</g>\n<!-- 140407357710976&#45;&gt;140407233397568 -->\n<g id=\"edge266\" class=\"edge\">\n<title>140407357710976&#45;&gt;140407233397568</title>\n<path fill=\"none\" stroke=\"black\" d=\"M6362.71,-794.54C6381.62,-789.16 6407.34,-781.84 6428,-775.96\"/>\n<polygon fill=\"black\" stroke=\"black\" points=\"6429.03,-779.31 6437.69,-773.2 6427.11,-772.57 6429.03,-779.31\"/>\n</g>\n<!-- 140407357711552 -->\n<g id=\"node106\" class=\"node\">\n<title>140407357711552</title>\n<polygon fill=\"black\" stroke=\"black\" points=\"6362.5,-712 6308.5,-712 6308.5,-676 6362.5,-676 6362.5,-712\"/>\n</g>\n<!-- 140407357711552&#45;&gt;140407233400496 -->\n<g id=\"edge267\" class=\"edge\">\n<title>140407357711552&#45;&gt;140407233400496</title>\n<path fill=\"none\" stroke=\"black\" d=\"M6362.71,-690.27C6381.28,-687.63 6406.44,-684.05 6426.9,-681.14\"/>\n<polygon fill=\"black\" stroke=\"black\" points=\"6427.42,-684.6 6436.82,-679.72 6426.43,-677.67 6427.42,-684.6\"/>\n</g>\n<!-- 140407359277664 -->\n<g id=\"node107\" class=\"node\">\n<title>140407359277664</title>\n<polygon fill=\"black\" stroke=\"black\" points=\"6799.5,-866 6745.5,-866 6745.5,-830 6799.5,-830 6799.5,-866\"/>\n</g>\n<!-- 140407359277664&#45;&gt;140407341109056 -->\n<g id=\"edge268\" class=\"edge\">\n<title>140407359277664&#45;&gt;140407341109056</title>\n<path fill=\"none\" stroke=\"black\" d=\"M6799.79,-858.36C6811.59,-863.17 6825.61,-869.12 6838,-875 6847.94,-879.71 6858.57,-885.2 6868.17,-890.33\"/>\n<polygon fill=\"black\" stroke=\"black\" points=\"6866.54,-893.43 6877,-895.1 6869.87,-887.27 6866.54,-893.43\"/>\n</g>\n<!-- 140407359275840 -->\n<g id=\"node108\" class=\"node\">\n<title>140407359275840</title>\n<polygon fill=\"black\" stroke=\"black\" points=\"7018,-1000 6964,-1000 6964,-964 7018,-964 7018,-1000\"/>\n</g>\n<!-- 140407331314560 -->\n<g id=\"node214\" class=\"node\">\n<title>140407331314560</title>\n<ellipse fill=\"none\" stroke=\"black\" cx=\"2092\" cy=\"-695\" rx=\"27\" ry=\"27\"/>\n</g>\n<!-- 140407359275840&#45;&gt;140407331314560 -->\n<g id=\"edge269\" class=\"edge\">\n<title>140407359275840&#45;&gt;140407331314560</title>\n<path fill=\"none\" stroke=\"black\" d=\"M6963.7,-984.4C6922.98,-987.9 6842.2,-994 6773.5,-994 2719.5,-994 2719.5,-994 2719.5,-994 2556.22,-994 2243.29,-1001.01 2155,-912 2106.9,-863.51 2095.56,-780.44 2093.22,-732.37\"/>\n<polygon fill=\"black\" stroke=\"black\" points=\"2096.7,-731.95 2092.83,-722.09 2089.71,-732.22 2096.7,-731.95\"/>\n</g>\n<!-- 140407359277568 -->\n<g id=\"node109\" class=\"node\">\n<title>140407359277568</title>\n<polygon fill=\"black\" stroke=\"black\" points=\"7018,-926 6964,-926 6964,-890 7018,-890 7018,-926\"/>\n</g>\n<!-- 140407233398576 -->\n<g id=\"node213\" class=\"node\">\n<title>140407233398576</title>\n<ellipse fill=\"none\" stroke=\"black\" cx=\"7081\" cy=\"-908\" rx=\"27\" ry=\"27\"/>\n</g>\n<!-- 140407359277568&#45;&gt;140407233398576 -->\n<g id=\"edge270\" class=\"edge\">\n<title>140407359277568&#45;&gt;140407233398576</title>\n<path fill=\"none\" stroke=\"black\" d=\"M7018.4,-908C7026.39,-908 7035.31,-908 7043.82,-908\"/>\n<polygon fill=\"black\" stroke=\"black\" points=\"7043.92,-911.5 7053.92,-908 7043.92,-904.5 7043.92,-911.5\"/>\n</g>\n<!-- 140407357714048 -->\n<g id=\"node110\" class=\"node\">\n<title>140407357714048</title>\n<polygon fill=\"black\" stroke=\"black\" points=\"7198,-961 7144,-961 7144,-925 7198,-925 7198,-961\"/>\n</g>\n<!-- 140407357714048&#45;&gt;140407331315328 -->\n<g id=\"edge271\" class=\"edge\">\n<title>140407357714048&#45;&gt;140407331315328</title>\n<path fill=\"none\" stroke=\"black\" d=\"M7198.4,-940C7206.39,-939.09 7215.31,-938.08 7223.82,-937.11\"/>\n<polygon fill=\"black\" stroke=\"black\" points=\"7224.38,-940.57 7233.92,-935.96 7223.59,-933.62 7224.38,-940.57\"/>\n</g>\n<!-- 140407357575904 -->\n<g id=\"node111\" class=\"node\">\n<title>140407357575904</title>\n<polygon fill=\"black\" stroke=\"black\" points=\"7378,-995 7324,-995 7324,-959 7378,-959 7378,-995\"/>\n</g>\n<!-- 140407357575904&#45;&gt;140407331315520 -->\n<g id=\"edge272\" class=\"edge\">\n<title>140407357575904&#45;&gt;140407331315520</title>\n<path fill=\"none\" stroke=\"black\" d=\"M7378.4,-975.8C7386.39,-975.44 7395.31,-975.03 7403.82,-974.64\"/>\n<polygon fill=\"black\" stroke=\"black\" points=\"7404.09,-978.14 7413.92,-974.19 7403.77,-971.14 7404.09,-978.14\"/>\n</g>\n<!-- 140407357576576 -->\n<g id=\"node112\" class=\"node\">\n<title>140407357576576</title>\n<polygon fill=\"black\" stroke=\"black\" points=\"7558,-1007 7504,-1007 7504,-971 7558,-971 7558,-1007\"/>\n</g>\n<!-- 140407357576576&#45;&gt;140407233399344 -->\n<g id=\"edge273\" class=\"edge\">\n<title>140407357576576&#45;&gt;140407233399344</title>\n<path fill=\"none\" stroke=\"black\" d=\"M7558.4,-987.8C7566.39,-987.44 7575.31,-987.03 7583.82,-986.64\"/>\n<polygon fill=\"black\" stroke=\"black\" points=\"7584.09,-990.14 7593.92,-986.19 7583.77,-983.14 7584.09,-990.14\"/>\n</g>\n<!-- 140407357577056 -->\n<g id=\"node113\" class=\"node\">\n<title>140407357577056</title>\n<polygon fill=\"black\" stroke=\"black\" points=\"7918,-859 7864,-859 7864,-823 7918,-823 7918,-859\"/>\n</g>\n<!-- 140407357577056&#45;&gt;140407328134960 -->\n<g id=\"edge274\" class=\"edge\">\n<title>140407357577056&#45;&gt;140407328134960</title>\n<path fill=\"none\" stroke=\"black\" d=\"M7918.4,-824.8C7927.94,-818.95 7938.79,-812.29 7948.71,-806.2\"/>\n<polygon fill=\"black\" stroke=\"black\" points=\"7950.79,-809.03 7957.48,-800.82 7947.13,-803.06 7950.79,-809.03\"/>\n</g>\n<!-- 140407357578016 -->\n<g id=\"node114\" class=\"node\">\n<title>140407357578016</title>\n<polygon fill=\"black\" stroke=\"black\" points=\"8098,-805 8044,-805 8044,-769 8098,-769 8098,-805\"/>\n</g>\n<!-- 140407357578016&#45;&gt;140407359339680 -->\n<g id=\"edge275\" class=\"edge\">\n<title>140407357578016&#45;&gt;140407359339680</title>\n<path fill=\"none\" stroke=\"black\" d=\"M8098.4,-770.8C8107.94,-764.95 8118.79,-758.29 8128.71,-752.2\"/>\n<polygon fill=\"black\" stroke=\"black\" points=\"8130.79,-755.03 8137.48,-746.82 8127.13,-749.06 8130.79,-755.03\"/>\n</g>\n<!-- 140407357578592 -->\n<g id=\"node115\" class=\"node\">\n<title>140407357578592</title>\n<polygon fill=\"black\" stroke=\"black\" points=\"8278,-751 8224,-751 8224,-715 8278,-715 8278,-751\"/>\n</g>\n<!-- 140407357578592&#45;&gt;140407359337760 -->\n<g id=\"edge276\" class=\"edge\">\n<title>140407357578592&#45;&gt;140407359337760</title>\n<path fill=\"none\" stroke=\"black\" d=\"M8278.4,-716.8C8287.94,-710.95 8298.79,-704.29 8308.71,-698.2\"/>\n<polygon fill=\"black\" stroke=\"black\" points=\"8310.79,-701.03 8317.48,-692.82 8307.13,-695.06 8310.79,-701.03\"/>\n</g>\n<!-- 140407357577632 -->\n<g id=\"node116\" class=\"node\">\n<title>140407357577632</title>\n<polygon fill=\"black\" stroke=\"black\" points=\"807,-857 753,-857 753,-821 807,-821 807,-857\"/>\n</g>\n<!-- 140407357577632&#45;&gt;140407359339584 -->\n<g id=\"edge277\" class=\"edge\">\n<title>140407357577632&#45;&gt;140407359339584</title>\n<path fill=\"none\" stroke=\"black\" d=\"M752.76,-841.37C700.47,-845.4 579.88,-851.11 482,-829 472.06,-826.75 461.72,-822.92 452.41,-818.84\"/>\n<polygon fill=\"black\" stroke=\"black\" points=\"453.68,-815.58 443.14,-814.56 450.75,-821.93 453.68,-815.58\"/>\n</g>\n<!-- 140407356887200 -->\n<g id=\"node117\" class=\"node\">\n<title>140407356887200</title>\n<polygon fill=\"black\" stroke=\"black\" points=\"8458,-697 8404,-697 8404,-661 8458,-661 8458,-697\"/>\n</g>\n<!-- 140407356887200&#45;&gt;140407331314368 -->\n<g id=\"edge278\" class=\"edge\">\n<title>140407356887200&#45;&gt;140407331314368</title>\n<path fill=\"none\" stroke=\"black\" d=\"M8458.4,-662.8C8467.94,-656.95 8478.79,-650.29 8488.71,-644.2\"/>\n<polygon fill=\"black\" stroke=\"black\" points=\"8490.79,-647.03 8497.48,-638.82 8487.13,-641.06 8490.79,-647.03\"/>\n</g>\n<!-- 140407357714336 -->\n<g id=\"node118\" class=\"node\">\n<title>140407357714336</title>\n<polygon fill=\"black\" stroke=\"black\" points=\"8818,-382 8764,-382 8764,-346 8818,-346 8818,-382\"/>\n</g>\n<!-- 140407357714336&#45;&gt;140407331314848 -->\n<g id=\"edge279\" class=\"edge\">\n<title>140407357714336&#45;&gt;140407331314848</title>\n<path fill=\"none\" stroke=\"black\" d=\"M8818.4,-364.3C8826.39,-364.39 8835.31,-364.49 8843.82,-364.59\"/>\n<polygon fill=\"black\" stroke=\"black\" points=\"8843.88,-368.09 8853.92,-364.7 8843.96,-361.09 8843.88,-368.09\"/>\n</g>\n<!-- 140407357714144 -->\n<g id=\"node119\" class=\"node\">\n<title>140407357714144</title>\n<polygon fill=\"black\" stroke=\"black\" points=\"9180.5,-329 9126.5,-329 9126.5,-293 9180.5,-293 9180.5,-329\"/>\n</g>\n<!-- 140407357714144&#45;&gt;140407233397952 -->\n<g id=\"edge280\" class=\"edge\">\n<title>140407357714144&#45;&gt;140407233397952</title>\n<path fill=\"none\" stroke=\"black\" d=\"M9180.68,-296.54C9190.77,-290.96 9202.41,-284.53 9213,-278.68\"/>\n<polygon fill=\"black\" stroke=\"black\" points=\"9214.9,-281.63 9221.96,-273.73 9211.51,-275.5 9214.9,-281.63\"/>\n</g>\n<!-- 140407359278048 -->\n<g id=\"node120\" class=\"node\">\n<title>140407359278048</title>\n<polygon fill=\"black\" stroke=\"black\" points=\"9543,-225 9489,-225 9489,-189 9543,-189 9543,-225\"/>\n</g>\n<!-- 140407359278048&#45;&gt;140407233400784 -->\n<g id=\"edge281\" class=\"edge\">\n<title>140407359278048&#45;&gt;140407233400784</title>\n<path fill=\"none\" stroke=\"black\" d=\"M9543.4,-215.1C9551.79,-217.67 9561.2,-220.56 9570.09,-223.29\"/>\n<polygon fill=\"black\" stroke=\"black\" points=\"9569.24,-226.69 9579.82,-226.28 9571.29,-220 9569.24,-226.69\"/>\n</g>\n<!-- 140407359276896 -->\n<g id=\"node121\" class=\"node\">\n<title>140407359276896</title>\n<polygon fill=\"black\" stroke=\"black\" points=\"9723,-181 9669,-181 9669,-145 9723,-145 9723,-181\"/>\n</g>\n<!-- 140407359338528 -->\n<g id=\"node193\" class=\"node\">\n<title>140407359338528</title>\n<ellipse fill=\"none\" stroke=\"black\" cx=\"1879\" cy=\"-416\" rx=\"27\" ry=\"27\"/>\n</g>\n<!-- 140407359276896&#45;&gt;140407359338528 -->\n<g id=\"edge282\" class=\"edge\">\n<title>140407359276896&#45;&gt;140407359338528</title>\n<path fill=\"none\" stroke=\"black\" d=\"M9668.98,-152.11C9634.76,-138.79 9572.46,-118 9517,-118 2091,-118 2091,-118 2091,-118 1964.2,-118 1906.74,-299.92 1887.67,-379.48\"/>\n<polygon fill=\"black\" stroke=\"black\" points=\"1884.18,-379.02 1885.33,-389.55 1891,-380.61 1884.18,-379.02\"/>\n</g>\n<!-- 140407359277760 -->\n<g id=\"node122\" class=\"node\">\n<title>140407359277760</title>\n<polygon fill=\"black\" stroke=\"black\" points=\"9723,-745 9669,-745 9669,-709 9723,-709 9723,-745\"/>\n</g>\n<!-- 140407233398096 -->\n<g id=\"node192\" class=\"node\">\n<title>140407233398096</title>\n<ellipse fill=\"none\" stroke=\"black\" cx=\"9786\" cy=\"-1190\" rx=\"27\" ry=\"27\"/>\n</g>\n<!-- 140407359277760&#45;&gt;140407233398096 -->\n<g id=\"edge283\" class=\"edge\">\n<title>140407359277760&#45;&gt;140407233398096</title>\n<path fill=\"none\" stroke=\"black\" d=\"M9700.45,-745.15C9713.54,-814.04 9760.32,-1060.17 9778.09,-1153.64\"/>\n<polygon fill=\"black\" stroke=\"black\" points=\"9774.66,-1154.32 9779.96,-1163.49 9781.53,-1153.01 9774.66,-1154.32\"/>\n</g>\n<!-- 140407357713952 -->\n<g id=\"node123\" class=\"node\">\n<title>140407357713952</title>\n<polygon fill=\"black\" stroke=\"black\" points=\"9903,-1253 9849,-1253 9849,-1217 9903,-1217 9903,-1253\"/>\n</g>\n<!-- 140407357713952&#45;&gt;140407233400592 -->\n<g id=\"edge284\" class=\"edge\">\n<title>140407357713952&#45;&gt;140407233400592</title>\n<path fill=\"none\" stroke=\"black\" d=\"M9903.4,-1232.3C9911.39,-1231.48 9920.31,-1230.57 9928.82,-1229.7\"/>\n<polygon fill=\"black\" stroke=\"black\" points=\"9929.33,-1233.17 9938.92,-1228.67 9928.61,-1226.2 9929.33,-1233.17\"/>\n</g>\n<!-- 140407357713472 -->\n<g id=\"node124\" class=\"node\">\n<title>140407357713472</title>\n<polygon fill=\"black\" stroke=\"black\" points=\"10274,-1258 10220,-1258 10220,-1222 10274,-1222 10274,-1258\"/>\n</g>\n<!-- 140407357713472&#45;&gt;140407233400064 -->\n<g id=\"edge285\" class=\"edge\">\n<title>140407357713472&#45;&gt;140407233400064</title>\n<path fill=\"none\" stroke=\"black\" d=\"M10274.01,-1226.86C10286.37,-1220.62 10301.26,-1213.1 10314.37,-1206.48\"/>\n<polygon fill=\"black\" stroke=\"black\" points=\"10316.18,-1209.49 10323.53,-1201.85 10313.03,-1203.24 10316.18,-1209.49\"/>\n</g>\n<!-- 140407357710592 -->\n<g id=\"node125\" class=\"node\">\n<title>140407357710592</title>\n<polygon fill=\"black\" stroke=\"black\" points=\"10649.5,-1177 10595.5,-1177 10595.5,-1141 10649.5,-1141 10649.5,-1177\"/>\n</g>\n<!-- 140407357710592&#45;&gt;140407331314272 -->\n<g id=\"edge286\" class=\"edge\">\n<title>140407357710592&#45;&gt;140407331314272</title>\n<path fill=\"none\" stroke=\"black\" d=\"M10649.76,-1144.52C10660.36,-1138.68 10672.69,-1131.88 10683.82,-1125.74\"/>\n<polygon fill=\"black\" stroke=\"black\" points=\"10685.76,-1128.67 10692.83,-1120.78 10682.38,-1122.54 10685.76,-1128.67\"/>\n</g>\n<!-- 140407357712608 -->\n<g id=\"node126\" class=\"node\">\n<title>140407357712608</title>\n<polygon fill=\"black\" stroke=\"black\" points=\"11052.5,-1165 10998.5,-1165 10998.5,-1129 11052.5,-1129 11052.5,-1165\"/>\n</g>\n<!-- 140407357712608&#45;&gt;140407359336608 -->\n<g id=\"edge287\" class=\"edge\">\n<title>140407357712608&#45;&gt;140407359336608</title>\n<path fill=\"none\" stroke=\"black\" d=\"M11052.71,-1148.24C11071.2,-1149.12 11096.21,-1150.31 11116.62,-1151.27\"/>\n<polygon fill=\"black\" stroke=\"black\" points=\"11116.67,-1154.78 11126.82,-1151.76 11117,-1147.79 11116.67,-1154.78\"/>\n</g>\n<!-- 140407357577248 -->\n<g id=\"node127\" class=\"node\">\n<title>140407357577248</title>\n<polygon fill=\"black\" stroke=\"black\" points=\"807,-803 753,-803 753,-767 807,-767 807,-803\"/>\n</g>\n<!-- 140407357577248&#45;&gt;140407359339104 -->\n<g id=\"edge288\" class=\"edge\">\n<title>140407357577248&#45;&gt;140407359339104</title>\n<path fill=\"none\" stroke=\"black\" d=\"M807.4,-785C815.39,-785 824.31,-785 832.82,-785\"/>\n<polygon fill=\"black\" stroke=\"black\" points=\"832.92,-788.5 842.92,-785 832.92,-781.5 832.92,-788.5\"/>\n</g>\n<!-- 140407357710496 -->\n<g id=\"node128\" class=\"node\">\n<title>140407357710496</title>\n<polygon fill=\"black\" stroke=\"black\" points=\"11279,-1199 11225,-1199 11225,-1163 11279,-1163 11279,-1199\"/>\n</g>\n<!-- 140407357710496&#45;&gt;140407331315040 -->\n<g id=\"edge289\" class=\"edge\">\n<title>140407357710496&#45;&gt;140407331315040</title>\n<path fill=\"none\" stroke=\"black\" d=\"M11279.23,-1195.76C11290.91,-1202.33 11304.77,-1210.12 11317.05,-1217.03\"/>\n<polygon fill=\"black\" stroke=\"black\" points=\"11315.63,-1220.25 11326.07,-1222.1 11319.07,-1214.15 11315.63,-1220.25\"/>\n</g>\n<!-- 140407357712416 -->\n<g id=\"node129\" class=\"node\">\n<title>140407357712416</title>\n<polygon fill=\"black\" stroke=\"black\" points=\"11467,-1295 11413,-1295 11413,-1259 11467,-1259 11467,-1295\"/>\n</g>\n<!-- 140407357712416&#45;&gt;140407233400304 -->\n<g id=\"edge290\" class=\"edge\">\n<title>140407357712416&#45;&gt;140407233400304</title>\n<path fill=\"none\" stroke=\"black\" d=\"M11412.93,-1286.74C11377.33,-1299.15 11311.26,-1319 11253,-1319 418,-1319 418,-1319 418,-1319 363.56,-1319 349.27,-1315.21 297,-1300 287.21,-1297.15 276.93,-1293.13 267.62,-1289.06\"/>\n<polygon fill=\"black\" stroke=\"black\" points=\"268.87,-1285.78 258.32,-1284.84 265.98,-1292.16 268.87,-1285.78\"/>\n</g>\n<!-- 140407357713568 -->\n<g id=\"node130\" class=\"node\">\n<title>140407357713568</title>\n<polygon fill=\"black\" stroke=\"black\" points=\"353.5,-1183 299.5,-1183 299.5,-1147 353.5,-1147 353.5,-1183\"/>\n</g>\n<!-- 140407357713568&#45;&gt;140407233397520 -->\n<g id=\"edge291\" class=\"edge\">\n<title>140407357713568&#45;&gt;140407233397520</title>\n<path fill=\"none\" stroke=\"black\" d=\"M353.68,-1178.02C363.51,-1182.9 374.81,-1188.52 385.17,-1193.68\"/>\n<polygon fill=\"black\" stroke=\"black\" points=\"383.84,-1196.92 394.35,-1198.24 386.96,-1190.66 383.84,-1196.92\"/>\n</g>\n<!-- 140407359276032 -->\n<g id=\"node131\" class=\"node\">\n<title>140407359276032</title>\n<polygon fill=\"black\" stroke=\"black\" points=\"1244,-1067 1190,-1067 1190,-1031 1244,-1031 1244,-1067\"/>\n</g>\n<!-- 140407359276032&#45;&gt;140407341106944 -->\n<g id=\"edge292\" class=\"edge\">\n<title>140407359276032&#45;&gt;140407341106944</title>\n<path fill=\"none\" stroke=\"black\" d=\"M1244.18,-1051.66C1296.99,-1057.03 1416.37,-1069.17 1476.68,-1075.31\"/>\n<polygon fill=\"black\" stroke=\"black\" points=\"1476.58,-1078.81 1486.88,-1076.34 1477.28,-1071.85 1476.58,-1078.81\"/>\n</g>\n<!-- 140407359276608 -->\n<g id=\"node132\" class=\"node\">\n<title>140407359276608</title>\n<polygon fill=\"black\" stroke=\"black\" points=\"581.5,-1228 527.5,-1228 527.5,-1192 581.5,-1192 581.5,-1228\"/>\n</g>\n<!-- 140407331314176 -->\n<g id=\"node175\" class=\"node\">\n<title>140407331314176</title>\n<ellipse fill=\"none\" stroke=\"black\" cx=\"690\" cy=\"-1210\" rx=\"27\" ry=\"27\"/>\n</g>\n<!-- 140407359276608&#45;&gt;140407331314176 -->\n<g id=\"edge293\" class=\"edge\">\n<title>140407359276608&#45;&gt;140407331314176</title>\n<path fill=\"none\" stroke=\"black\" d=\"M581.56,-1210C601.73,-1210 629.93,-1210 652.38,-1210\"/>\n<polygon fill=\"black\" stroke=\"black\" points=\"652.55,-1213.5 662.55,-1210 652.55,-1206.5 652.55,-1213.5\"/>\n</g>\n<!-- 140407357576960 -->\n<g id=\"node133\" class=\"node\">\n<title>140407357576960</title>\n<polygon fill=\"black\" stroke=\"black\" points=\"807,-1211 753,-1211 753,-1175 807,-1175 807,-1211\"/>\n</g>\n<!-- 140407230222736 -->\n<g id=\"node169\" class=\"node\">\n<title>140407230222736</title>\n<ellipse fill=\"none\" stroke=\"black\" cx=\"870\" cy=\"-1129\" rx=\"27\" ry=\"27\"/>\n</g>\n<!-- 140407357576960&#45;&gt;140407230222736 -->\n<g id=\"edge295\" class=\"edge\">\n<title>140407357576960&#45;&gt;140407230222736</title>\n<path fill=\"none\" stroke=\"black\" d=\"M805.98,-1174.83C816.33,-1167.31 828.41,-1158.52 839.21,-1150.67\"/>\n<polygon fill=\"black\" stroke=\"black\" points=\"841.51,-1153.32 847.54,-1144.61 837.39,-1147.66 841.51,-1153.32\"/>\n</g>\n<!-- 140407359276704 -->\n<g id=\"node134\" class=\"node\">\n<title>140407359276704</title>\n<polygon fill=\"black\" stroke=\"black\" points=\"10834,-1126 10780,-1126 10780,-1090 10834,-1090 10834,-1126\"/>\n</g>\n<!-- 140407233399536 -->\n<g id=\"node179\" class=\"node\">\n<title>140407233399536</title>\n<ellipse fill=\"none\" stroke=\"black\" cx=\"10897\" cy=\"-1119\" rx=\"27\" ry=\"27\"/>\n</g>\n<!-- 140407359276704&#45;&gt;140407233399536 -->\n<g id=\"edge296\" class=\"edge\">\n<title>140407359276704&#45;&gt;140407233399536</title>\n<path fill=\"none\" stroke=\"black\" d=\"M10834.4,-1111.3C10842.39,-1112.3 10851.31,-1113.41 10859.82,-1114.48\"/>\n<polygon fill=\"black\" stroke=\"black\" points=\"10859.56,-1117.97 10869.92,-1115.74 10860.43,-1111.03 10859.56,-1117.97\"/>\n</g>\n<!-- 140407357712032 -->\n<g id=\"node135\" class=\"node\">\n<title>140407357712032</title>\n<polygon fill=\"black\" stroke=\"black\" points=\"10465,-1176 10411,-1176 10411,-1140 10465,-1140 10465,-1176\"/>\n</g>\n<!-- 140407331314944 -->\n<g id=\"node183\" class=\"node\">\n<title>140407331314944</title>\n<ellipse fill=\"none\" stroke=\"black\" cx=\"10528\" cy=\"-1158\" rx=\"27\" ry=\"27\"/>\n</g>\n<!-- 140407357712032&#45;&gt;140407331314944 -->\n<g id=\"edge297\" class=\"edge\">\n<title>140407357712032&#45;&gt;140407331314944</title>\n<path fill=\"none\" stroke=\"black\" d=\"M10465.4,-1158C10473.39,-1158 10482.31,-1158 10490.82,-1158\"/>\n<polygon fill=\"black\" stroke=\"black\" points=\"10490.92,-1161.5 10500.92,-1158 10490.92,-1154.5 10490.92,-1161.5\"/>\n</g>\n<!-- 140407359339776 -->\n<g id=\"node136\" class=\"node\">\n<title>140407359339776</title>\n<polygon fill=\"black\" stroke=\"black\" points=\"10083,-1251 10029,-1251 10029,-1215 10083,-1215 10083,-1251\"/>\n</g>\n<!-- 140407233400352 -->\n<g id=\"node187\" class=\"node\">\n<title>140407233400352</title>\n<ellipse fill=\"none\" stroke=\"black\" cx=\"10146\" cy=\"-1233\" rx=\"27\" ry=\"27\"/>\n</g>\n<!-- 140407359339776&#45;&gt;140407233400352 -->\n<g id=\"edge298\" class=\"edge\">\n<title>140407359339776&#45;&gt;140407233400352</title>\n<path fill=\"none\" stroke=\"black\" d=\"M10083.4,-1233C10091.39,-1233 10100.31,-1233 10108.82,-1233\"/>\n<polygon fill=\"black\" stroke=\"black\" points=\"10108.92,-1236.5 10118.92,-1233 10108.92,-1229.5 10108.92,-1236.5\"/>\n</g>\n<!-- 140407357579072 -->\n<g id=\"node137\" class=\"node\">\n<title>140407357579072</title>\n<polygon fill=\"black\" stroke=\"black\" points=\"1025.5,-884 971.5,-884 971.5,-848 1025.5,-848 1025.5,-884\"/>\n</g>\n<!-- 140407328134864 -->\n<g id=\"node241\" class=\"node\">\n<title>140407328134864</title>\n<ellipse fill=\"orange\" stroke=\"black\" cx=\"1127\" cy=\"-866\" rx=\"27\" ry=\"27\"/>\n</g>\n<!-- 140407357579072&#45;&gt;140407328134864 -->\n<g id=\"edge299\" class=\"edge\">\n<title>140407357579072&#45;&gt;140407328134864</title>\n<path fill=\"none\" stroke=\"black\" d=\"M1025.71,-866C1044.2,-866 1069.21,-866 1089.62,-866\"/>\n<polygon fill=\"black\" stroke=\"black\" points=\"1089.82,-869.5 1099.82,-866 1089.82,-862.5 1089.82,-869.5\"/>\n</g>\n<!-- 140407359278528 -->\n<g id=\"node138\" class=\"node\">\n<title>140407359278528</title>\n<polygon fill=\"black\" stroke=\"black\" points=\"9363,-252 9309,-252 9309,-216 9363,-216 9363,-252\"/>\n</g>\n<!-- 140407233397328 -->\n<g id=\"node195\" class=\"node\">\n<title>140407233397328</title>\n<ellipse fill=\"none\" stroke=\"black\" cx=\"9426\" cy=\"-234\" rx=\"27\" ry=\"27\"/>\n</g>\n<!-- 140407359278528&#45;&gt;140407233397328 -->\n<g id=\"edge300\" class=\"edge\">\n<title>140407359278528&#45;&gt;140407233397328</title>\n<path fill=\"none\" stroke=\"black\" d=\"M9363.4,-234C9371.39,-234 9380.31,-234 9388.82,-234\"/>\n<polygon fill=\"black\" stroke=\"black\" points=\"9388.92,-237.5 9398.92,-234 9388.92,-230.5 9388.92,-237.5\"/>\n</g>\n<!-- 140407359278720 -->\n<g id=\"node139\" class=\"node\">\n<title>140407359278720</title>\n<polygon fill=\"black\" stroke=\"black\" points=\"8998,-329 8944,-329 8944,-293 8998,-293 8998,-329\"/>\n</g>\n<!-- 140407233399632 -->\n<g id=\"node199\" class=\"node\">\n<title>140407233399632</title>\n<ellipse fill=\"none\" stroke=\"black\" cx=\"9061\" cy=\"-311\" rx=\"27\" ry=\"27\"/>\n</g>\n<!-- 140407359278720&#45;&gt;140407233399632 -->\n<g id=\"edge301\" class=\"edge\">\n<title>140407359278720&#45;&gt;140407233399632</title>\n<path fill=\"none\" stroke=\"black\" d=\"M8998.4,-311C9006.39,-311 9015.31,-311 9023.82,-311\"/>\n<polygon fill=\"black\" stroke=\"black\" points=\"9023.92,-314.5 9033.92,-311 9023.92,-307.5 9023.92,-314.5\"/>\n</g>\n<!-- 140407357575520 -->\n<g id=\"node140\" class=\"node\">\n<title>140407357575520</title>\n<polygon fill=\"black\" stroke=\"black\" points=\"8638,-430 8584,-430 8584,-394 8638,-394 8638,-430\"/>\n</g>\n<!-- 140407359336512 -->\n<g id=\"node204\" class=\"node\">\n<title>140407359336512</title>\n<ellipse fill=\"none\" stroke=\"black\" cx=\"8701\" cy=\"-412\" rx=\"27\" ry=\"27\"/>\n</g>\n<!-- 140407357575520&#45;&gt;140407359336512 -->\n<g id=\"edge302\" class=\"edge\">\n<title>140407357575520&#45;&gt;140407359336512</title>\n<path fill=\"none\" stroke=\"black\" d=\"M8638.4,-412C8646.39,-412 8655.31,-412 8663.82,-412\"/>\n<polygon fill=\"black\" stroke=\"black\" points=\"8663.92,-415.5 8673.92,-412 8663.92,-408.5 8663.92,-415.5\"/>\n</g>\n<!-- 140407359340256 -->\n<g id=\"node141\" class=\"node\">\n<title>140407359340256</title>\n<polygon fill=\"black\" stroke=\"black\" points=\"7738,-1003 7684,-1003 7684,-967 7738,-967 7738,-1003\"/>\n</g>\n<!-- 140407331315424 -->\n<g id=\"node208\" class=\"node\">\n<title>140407331315424</title>\n<ellipse fill=\"none\" stroke=\"black\" cx=\"7801\" cy=\"-841\" rx=\"27\" ry=\"27\"/>\n</g>\n<!-- 140407359340256&#45;&gt;140407331315424 -->\n<g id=\"edge303\" class=\"edge\">\n<title>140407359340256&#45;&gt;140407331315424</title>\n<path fill=\"none\" stroke=\"black\" d=\"M7723.15,-966.76C7737.58,-943.13 7762.99,-901.56 7780.62,-872.71\"/>\n<polygon fill=\"black\" stroke=\"black\" points=\"7783.82,-874.19 7786.05,-863.83 7777.85,-870.54 7783.82,-874.19\"/>\n</g>\n<!-- 140407359275072 -->\n<g id=\"node142\" class=\"node\">\n<title>140407359275072</title>\n<polygon fill=\"black\" stroke=\"black\" points=\"6581,-784 6527,-784 6527,-748 6581,-748 6581,-784\"/>\n</g>\n<!-- 140407359275072&#45;&gt;140407331315232 -->\n<g id=\"edge304\" class=\"edge\">\n<title>140407359275072&#45;&gt;140407331315232</title>\n<path fill=\"none\" stroke=\"black\" d=\"M6574.53,-784.2C6586.72,-795.56 6602.59,-810.34 6615.97,-822.82\"/>\n<polygon fill=\"black\" stroke=\"black\" points=\"6613.82,-825.6 6623.52,-829.85 6618.59,-820.47 6613.82,-825.6\"/>\n</g>\n<!-- 140407357576480 -->\n<g id=\"node143\" class=\"node\">\n<title>140407357576480</title>\n<polygon fill=\"black\" stroke=\"black\" points=\"1244,-1129 1190,-1129 1190,-1093 1244,-1093 1244,-1129\"/>\n</g>\n<!-- 140407359337184 -->\n<g id=\"node170\" class=\"node\">\n<title>140407359337184</title>\n<ellipse fill=\"none\" stroke=\"black\" cx=\"1307\" cy=\"-1183\" rx=\"27\" ry=\"27\"/>\n</g>\n<!-- 140407357576480&#45;&gt;140407359337184 -->\n<g id=\"edge305\" class=\"edge\">\n<title>140407357576480&#45;&gt;140407359337184</title>\n<path fill=\"none\" stroke=\"black\" d=\"M1240.21,-1129.17C1251.54,-1138.44 1265.46,-1149.83 1277.57,-1159.74\"/>\n<polygon fill=\"black\" stroke=\"black\" points=\"1275.65,-1162.69 1285.61,-1166.32 1280.09,-1157.28 1275.65,-1162.69\"/>\n</g>\n<!-- 140407359337664 -->\n<g id=\"node172\" class=\"node\">\n<title>140407359337664</title>\n<ellipse fill=\"none\" stroke=\"black\" cx=\"1307\" cy=\"-963\" rx=\"27\" ry=\"27\"/>\n</g>\n<!-- 140407357576480&#45;&gt;140407359337664 -->\n<g id=\"edge306\" class=\"edge\">\n<title>140407357576480&#45;&gt;140407359337664</title>\n<path fill=\"none\" stroke=\"black\" d=\"M1232.39,-1092.9C1236.35,-1087.58 1240.51,-1081.67 1244,-1076 1262.74,-1045.52 1262.4,-1035.15 1280,-1004 1281.85,-1000.73 1283.85,-997.35 1285.88,-994\"/>\n<polygon fill=\"black\" stroke=\"black\" points=\"1288.98,-995.65 1291.28,-985.31 1283.03,-991.96 1288.98,-995.65\"/>\n</g>\n<!-- 140407357576480&#45;&gt;140407359337856 -->\n<g id=\"edge307\" class=\"edge\">\n<title>140407357576480&#45;&gt;140407359337856</title>\n<path fill=\"none\" stroke=\"black\" d=\"M1244.4,-1111C1252.39,-1111 1261.31,-1111 1269.82,-1111\"/>\n<polygon fill=\"black\" stroke=\"black\" points=\"1269.92,-1114.5 1279.92,-1111 1269.92,-1107.5 1269.92,-1114.5\"/>\n</g>\n<!-- 140407359276512 -->\n<g id=\"node144\" class=\"node\">\n<title>140407359276512</title>\n<polygon fill=\"black\" stroke=\"black\" points=\"1816,-1077 1762,-1077 1762,-1041 1816,-1041 1816,-1077\"/>\n</g>\n<!-- 140407331314464 -->\n<g id=\"node180\" class=\"node\">\n<title>140407331314464</title>\n<ellipse fill=\"none\" stroke=\"black\" cx=\"1879\" cy=\"-72\" rx=\"27\" ry=\"27\"/>\n</g>\n<!-- 140407359276512&#45;&gt;140407331314464 -->\n<g id=\"edge308\" class=\"edge\">\n<title>140407359276512&#45;&gt;140407331314464</title>\n<path fill=\"none\" stroke=\"black\" d=\"M1791.64,-1040.6C1802.16,-922.59 1860.18,-271.84 1874.7,-108.97\"/>\n<polygon fill=\"black\" stroke=\"black\" points=\"1878.19,-109.23 1875.6,-98.95 1871.22,-108.6 1878.19,-109.23\"/>\n</g>\n<!-- 140407331315136 -->\n<g id=\"node184\" class=\"node\">\n<title>140407331315136</title>\n<ellipse fill=\"none\" stroke=\"black\" cx=\"1879\" cy=\"-1067\" rx=\"27\" ry=\"27\"/>\n</g>\n<!-- 140407359276512&#45;&gt;140407331315136 -->\n<g id=\"edge309\" class=\"edge\">\n<title>140407359276512&#45;&gt;140407331315136</title>\n<path fill=\"none\" stroke=\"black\" d=\"M1816.4,-1061.4C1824.39,-1062.13 1833.31,-1062.94 1841.82,-1063.71\"/>\n<polygon fill=\"black\" stroke=\"black\" points=\"1841.64,-1067.21 1851.92,-1064.63 1842.28,-1060.24 1841.64,-1067.21\"/>\n</g>\n<!-- 140407338899056 -->\n<g id=\"node188\" class=\"node\">\n<title>140407338899056</title>\n<ellipse fill=\"none\" stroke=\"black\" cx=\"1879\" cy=\"-1192\" rx=\"27\" ry=\"27\"/>\n</g>\n<!-- 140407359276512&#45;&gt;140407338899056 -->\n<g id=\"edge310\" class=\"edge\">\n<title>140407359276512&#45;&gt;140407338899056</title>\n<path fill=\"none\" stroke=\"black\" d=\"M1802.05,-1077.21C1816.35,-1098.82 1840.4,-1135.17 1857.61,-1161.18\"/>\n<polygon fill=\"black\" stroke=\"black\" points=\"1854.72,-1163.16 1863.16,-1169.57 1860.56,-1159.3 1854.72,-1163.16\"/>\n</g>\n<!-- 140407359276512&#45;&gt;140407359338528 -->\n<g id=\"edge311\" class=\"edge\">\n<title>140407359276512&#45;&gt;140407359338528</title>\n<path fill=\"none\" stroke=\"black\" d=\"M1792.49,-1040.79C1804.49,-953.1 1856.43,-573.63 1872.94,-452.98\"/>\n<polygon fill=\"black\" stroke=\"black\" points=\"1876.45,-453.16 1874.34,-442.78 1869.51,-452.21 1876.45,-453.16\"/>\n</g>\n<!-- 140407357712896 -->\n<g id=\"node145\" class=\"node\">\n<title>140407357712896</title>\n<polygon fill=\"black\" stroke=\"black\" points=\"2012.5,-434 1958.5,-434 1958.5,-398 2012.5,-398 2012.5,-434\"/>\n</g>\n<!-- 140407328133856 -->\n<g id=\"node196\" class=\"node\">\n<title>140407328133856</title>\n<ellipse fill=\"none\" stroke=\"black\" cx=\"2092\" cy=\"-218\" rx=\"27\" ry=\"27\"/>\n</g>\n<!-- 140407357712896&#45;&gt;140407328133856 -->\n<g id=\"edge312\" class=\"edge\">\n<title>140407357712896&#45;&gt;140407328133856</title>\n<path fill=\"none\" stroke=\"black\" d=\"M1996.14,-397.73C2013.81,-364.26 2051.57,-292.72 2073.75,-250.69\"/>\n<polygon fill=\"black\" stroke=\"black\" points=\"2076.93,-252.16 2078.5,-241.69 2070.74,-248.9 2076.93,-252.16\"/>\n</g>\n<!-- 140407233399824 -->\n<g id=\"node200\" class=\"node\">\n<title>140407233399824</title>\n<ellipse fill=\"none\" stroke=\"black\" cx=\"2092\" cy=\"-326\" rx=\"27\" ry=\"27\"/>\n</g>\n<!-- 140407357712896&#45;&gt;140407233399824 -->\n<g id=\"edge313\" class=\"edge\">\n<title>140407357712896&#45;&gt;140407233399824</title>\n<path fill=\"none\" stroke=\"black\" d=\"M2007.65,-397.79C2023.68,-383.98 2045.86,-364.88 2063.3,-349.85\"/>\n<polygon fill=\"black\" stroke=\"black\" points=\"2065.65,-352.45 2070.95,-343.27 2061.09,-347.14 2065.65,-352.45\"/>\n</g>\n<!-- 140407343659664 -->\n<g id=\"node205\" class=\"node\">\n<title>140407343659664</title>\n<ellipse fill=\"none\" stroke=\"black\" cx=\"2092\" cy=\"-416\" rx=\"27\" ry=\"27\"/>\n</g>\n<!-- 140407357712896&#45;&gt;140407343659664 -->\n<g id=\"edge314\" class=\"edge\">\n<title>140407357712896&#45;&gt;140407343659664</title>\n<path fill=\"none\" stroke=\"black\" d=\"M2012.6,-416C2025.32,-416 2040.82,-416 2054.67,-416\"/>\n<polygon fill=\"black\" stroke=\"black\" points=\"2054.87,-419.5 2064.87,-416 2054.87,-412.5 2054.87,-419.5\"/>\n</g>\n<!-- 140407233399968 -->\n<g id=\"node209\" class=\"node\">\n<title>140407233399968</title>\n<ellipse fill=\"none\" stroke=\"black\" cx=\"2092\" cy=\"-1035\" rx=\"27\" ry=\"27\"/>\n</g>\n<!-- 140407357712896&#45;&gt;140407233399968 -->\n<g id=\"edge315\" class=\"edge\">\n<title>140407357712896&#45;&gt;140407233399968</title>\n<path fill=\"none\" stroke=\"black\" d=\"M1989.57,-434.19C2003.99,-519.58 2065.07,-881.39 2084.81,-998.36\"/>\n<polygon fill=\"black\" stroke=\"black\" points=\"2081.37,-998.99 2086.49,-1008.27 2088.27,-997.83 2081.37,-998.99\"/>\n</g>\n<!-- 140407357712896&#45;&gt;140407331314560 -->\n<g id=\"edge316\" class=\"edge\">\n<title>140407357712896&#45;&gt;140407331314560</title>\n<path fill=\"none\" stroke=\"black\" d=\"M1993.36,-434.31C2010.56,-480.24 2055.78,-600.96 2078.12,-660.62\"/>\n<polygon fill=\"black\" stroke=\"black\" points=\"2074.85,-661.86 2081.63,-670 2081.4,-659.4 2074.85,-661.86\"/>\n</g>\n<!-- 140407359277952 -->\n<g id=\"node146\" class=\"node\">\n<title>140407359277952</title>\n<polygon fill=\"black\" stroke=\"black\" points=\"6144,-766 6090,-766 6090,-730 6144,-730 6144,-766\"/>\n</g>\n<!-- 140407233400640 -->\n<g id=\"node151\" class=\"node\">\n<title>140407233400640</title>\n<ellipse fill=\"none\" stroke=\"black\" cx=\"6207\" cy=\"-658\" rx=\"27\" ry=\"27\"/>\n</g>\n<!-- 140407359277952&#45;&gt;140407233400640 -->\n<g id=\"edge317\" class=\"edge\">\n<title>140407359277952&#45;&gt;140407233400640</title>\n<path fill=\"none\" stroke=\"black\" d=\"M6135.81,-729.79C6148.64,-716.67 6166.14,-698.77 6180.46,-684.12\"/>\n<polygon fill=\"black\" stroke=\"black\" points=\"6183.12,-686.4 6187.61,-676.81 6178.12,-681.51 6183.12,-686.4\"/>\n</g>\n<!-- 140407328136544 -->\n<g id=\"node239\" class=\"node\">\n<title>140407328136544</title>\n<ellipse fill=\"none\" stroke=\"black\" cx=\"6207\" cy=\"-748\" rx=\"27\" ry=\"27\"/>\n</g>\n<!-- 140407359277952&#45;&gt;140407328136544 -->\n<g id=\"edge318\" class=\"edge\">\n<title>140407359277952&#45;&gt;140407328136544</title>\n<path fill=\"none\" stroke=\"black\" d=\"M6144.4,-748C6152.39,-748 6161.31,-748 6169.82,-748\"/>\n<polygon fill=\"black\" stroke=\"black\" points=\"6169.92,-751.5 6179.92,-748 6169.92,-744.5 6169.92,-751.5\"/>\n</g>\n<!-- 140407357576000 -->\n<g id=\"node147\" class=\"node\">\n<title>140407357576000</title>\n<polygon fill=\"black\" stroke=\"black\" points=\"157.5,-866 103.5,-866 103.5,-830 157.5,-830 157.5,-866\"/>\n</g>\n<!-- 140407359339296 -->\n<g id=\"node150\" class=\"node\">\n<title>140407359339296</title>\n<ellipse fill=\"none\" stroke=\"black\" cx=\"234\" cy=\"-686\" rx=\"27\" ry=\"27\"/>\n</g>\n<!-- 140407357576000&#45;&gt;140407359339296 -->\n<g id=\"edge319\" class=\"edge\">\n<title>140407357576000&#45;&gt;140407359339296</title>\n<path fill=\"none\" stroke=\"black\" d=\"M142.95,-829.73C160.08,-802.39 192.61,-750.46 213.53,-717.08\"/>\n<polygon fill=\"black\" stroke=\"black\" points=\"216.49,-718.94 218.84,-708.61 210.56,-715.22 216.49,-718.94\"/>\n</g>\n<!-- 140407230222592 -->\n<g id=\"node164\" class=\"node\">\n<title>140407230222592</title>\n<ellipse fill=\"none\" stroke=\"black\" cx=\"234\" cy=\"-900\" rx=\"27\" ry=\"27\"/>\n</g>\n<!-- 140407357576000&#45;&gt;140407230222592 -->\n<g id=\"edge320\" class=\"edge\">\n<title>140407357576000&#45;&gt;140407230222592</title>\n<path fill=\"none\" stroke=\"black\" d=\"M157.64,-861.39C170.72,-868.09 186.67,-876.26 200.52,-883.36\"/>\n<polygon fill=\"black\" stroke=\"black\" points=\"199.22,-886.63 209.72,-888.07 202.42,-880.4 199.22,-886.63\"/>\n</g>\n<!-- 140407357576000&#45;&gt;140407359338144 -->\n<g id=\"edge321\" class=\"edge\">\n<title>140407357576000&#45;&gt;140407359338144</title>\n<path fill=\"none\" stroke=\"black\" d=\"M137.13,-866.11C155.06,-919.74 216.13,-1074 325.5,-1074 325.5,-1074 325.5,-1074 871,-1074 950.14,-1074 1041.68,-1091.67 1090.69,-1102.59\"/>\n<polygon fill=\"black\" stroke=\"black\" points=\"1089.95,-1106.01 1100.48,-1104.81 1091.5,-1099.18 1089.95,-1106.01\"/>\n</g>\n<!-- 140407359338816 -->\n<g id=\"node191\" class=\"node\">\n<title>140407359338816</title>\n<ellipse fill=\"none\" stroke=\"black\" cx=\"234\" cy=\"-802\" rx=\"27\" ry=\"27\"/>\n</g>\n<!-- 140407357576000&#45;&gt;140407359338816 -->\n<g id=\"edge322\" class=\"edge\">\n<title>140407357576000&#45;&gt;140407359338816</title>\n<path fill=\"none\" stroke=\"black\" d=\"M157.64,-836.15C170.52,-830.31 186.2,-823.21 199.92,-816.99\"/>\n<polygon fill=\"black\" stroke=\"black\" points=\"201.37,-820.18 209.04,-812.86 198.48,-813.8 201.37,-820.18\"/>\n</g>\n<!-- 140407359277472 -->\n<g id=\"node148\" class=\"node\">\n<title>140407359277472</title>\n<polygon fill=\"none\" stroke=\"black\" points=\"2246.5,-690 2173.5,-690 2173.5,-654 2246.5,-654 2246.5,-690\"/>\n<text text-anchor=\"middle\" x=\"2210\" y=\"-668.3\" font-family=\"Times,serif\" font-size=\"14.00\">unplanned</text>\n</g>\n<!-- 140407359277472&#45;&gt;140407359338240 -->\n<g id=\"edge14\" class=\"edge\">\n<title>140407359277472&#45;&gt;140407359338240</title>\n<path fill=\"none\" stroke=\"black\" d=\"M2246.84,-665.34C2273.59,-660.37 2309.97,-653.62 2336.7,-648.65\"/>\n<polygon fill=\"black\" stroke=\"black\" points=\"2337.6,-652.04 2346.79,-646.78 2336.32,-645.16 2337.6,-652.04\"/>\n</g>\n<!-- 140407359337952 -->\n<g id=\"node149\" class=\"node\">\n<title>140407359337952</title>\n<ellipse fill=\"green\" stroke=\"black\" cx=\"27\" cy=\"-848\" rx=\"27\" ry=\"27\"/>\n<text text-anchor=\"middle\" x=\"27\" y=\"-844.3\" font-family=\"Times,serif\" font-size=\"14.00\">1</text>\n</g>\n<!-- 140407359337952&#45;&gt;140407357576000 -->\n<g id=\"edge294\" class=\"edge\">\n<title>140407359337952&#45;&gt;140407357576000</title>\n<path fill=\"none\" stroke=\"black\" d=\"M54.14,-848C66.1,-848 80.46,-848 93.42,-848\"/>\n<polygon fill=\"black\" stroke=\"black\" points=\"93.45,-851.5 103.45,-848 93.45,-844.5 93.45,-851.5\"/>\n</g>\n<!-- 140407359339296&#45;&gt;140407357578784 -->\n<g id=\"edge78\" class=\"edge\">\n<title>140407359339296&#45;&gt;140407357578784</title>\n<path fill=\"none\" stroke=\"black\" d=\"M261.18,-686C269.9,-686 279.78,-686 289.14,-686\"/>\n<polygon fill=\"black\" stroke=\"black\" points=\"289.38,-689.5 299.38,-686 289.38,-682.5 289.38,-689.5\"/>\n</g>\n<!-- 140407359339296&#45;&gt;140407357576384 -->\n<g id=\"edge79\" class=\"edge\">\n<title>140407359339296&#45;&gt;140407357576384</title>\n<path fill=\"none\" stroke=\"black\" d=\"M258.92,-674.76C290.41,-659.96 346.01,-633.83 382.43,-616.72\"/>\n<polygon fill=\"black\" stroke=\"black\" points=\"384.14,-619.78 391.7,-612.36 381.16,-613.44 384.14,-619.78\"/>\n</g>\n<!-- 140407233400640&#45;&gt;140407357712128 -->\n<g id=\"edge80\" class=\"edge\">\n<title>140407233400640&#45;&gt;140407357712128</title>\n<path fill=\"none\" stroke=\"black\" d=\"M6233.9,-654.31C6246.65,-652.5 6262.55,-650.24 6277.93,-648.05\"/>\n<polygon fill=\"black\" stroke=\"black\" points=\"6278.5,-651.5 6287.91,-646.63 6277.52,-644.57 6278.5,-651.5\"/>\n</g>\n<!-- 140407233400640&#45;&gt;140407359340064 -->\n<g id=\"edge81\" class=\"edge\">\n<title>140407233400640&#45;&gt;140407359340064</title>\n<path fill=\"none\" stroke=\"black\" d=\"M6228.43,-641.33C6240.14,-632.24 6255.39,-621.21 6270,-613 6272.8,-611.42 6275.72,-609.88 6278.69,-608.39\"/>\n<polygon fill=\"black\" stroke=\"black\" points=\"6280.22,-611.54 6287.73,-604.06 6277.2,-605.23 6280.22,-611.54\"/>\n</g>\n<!-- 140407233400640&#45;&gt;140407357711552 -->\n<g id=\"edge82\" class=\"edge\">\n<title>140407233400640&#45;&gt;140407357711552</title>\n<path fill=\"none\" stroke=\"black\" d=\"M6233.3,-665.2C6252.01,-670.52 6277.75,-677.85 6298.59,-683.78\"/>\n<polygon fill=\"black\" stroke=\"black\" points=\"6297.8,-687.2 6308.38,-686.57 6299.72,-680.46 6297.8,-687.2\"/>\n</g>\n<!-- 140407233400496&#45;&gt;140407359275072 -->\n<g id=\"edge83\" class=\"edge\">\n<title>140407233400496&#45;&gt;140407359275072</title>\n<path fill=\"none\" stroke=\"black\" d=\"M6483.66,-695.09C6496.64,-708.36 6514.07,-726.19 6528.21,-740.65\"/>\n<polygon fill=\"black\" stroke=\"black\" points=\"6525.77,-743.16 6535.26,-747.86 6530.78,-738.26 6525.77,-743.16\"/>\n</g>\n<!-- 140407331315328&#45;&gt;140407357576288 -->\n<g id=\"edge84\" class=\"edge\">\n<title>140407331315328&#45;&gt;140407357576288</title>\n<path fill=\"none\" stroke=\"black\" d=\"M7287.93,-930.05C7296.09,-929.13 7305.26,-928.08 7313.99,-927.09\"/>\n<polygon fill=\"black\" stroke=\"black\" points=\"7314.41,-930.57 7323.95,-925.96 7313.62,-923.61 7314.41,-930.57\"/>\n</g>\n<!-- 140407331315328&#45;&gt;140407357575904 -->\n<g id=\"edge85\" class=\"edge\">\n<title>140407331315328&#45;&gt;140407357575904</title>\n<path fill=\"none\" stroke=\"black\" d=\"M7285.58,-944.79C7294.53,-949.27 7304.93,-954.47 7314.73,-959.37\"/>\n<polygon fill=\"black\" stroke=\"black\" points=\"7313.36,-962.59 7323.87,-963.94 7316.49,-956.33 7313.36,-962.59\"/>\n</g>\n<!-- 140407331315520&#45;&gt;140407357576864 -->\n<g id=\"edge86\" class=\"edge\">\n<title>140407331315520&#45;&gt;140407357576864</title>\n<path fill=\"none\" stroke=\"black\" d=\"M7466.05,-962.62C7474.82,-958.83 7484.95,-954.45 7494.51,-950.32\"/>\n<polygon fill=\"black\" stroke=\"black\" points=\"7496.03,-953.48 7503.82,-946.3 7493.25,-947.06 7496.03,-953.48\"/>\n</g>\n<!-- 140407331315520&#45;&gt;140407357576576 -->\n<g id=\"edge87\" class=\"edge\">\n<title>140407331315520&#45;&gt;140407357576576</title>\n<path fill=\"none\" stroke=\"black\" d=\"M7467.93,-977.71C7476.09,-979.2 7485.26,-980.86 7493.99,-982.45\"/>\n<polygon fill=\"black\" stroke=\"black\" points=\"7493.49,-985.92 7503.95,-984.26 7494.74,-979.03 7493.49,-985.92\"/>\n</g>\n<!-- 140407328134960&#45;&gt;140407357578208 -->\n<g id=\"edge88\" class=\"edge\">\n<title>140407328134960&#45;&gt;140407357578208</title>\n<path fill=\"none\" stroke=\"black\" d=\"M8004.66,-773.09C8013.96,-767.39 8024.93,-760.66 8035.2,-754.35\"/>\n<polygon fill=\"black\" stroke=\"black\" points=\"8037.3,-757.18 8043.99,-748.96 8033.63,-751.21 8037.3,-757.18\"/>\n</g>\n<!-- 140407328134960&#45;&gt;140407357578016 -->\n<g id=\"edge89\" class=\"edge\">\n<title>140407328134960&#45;&gt;140407357578016</title>\n<path fill=\"none\" stroke=\"black\" d=\"M8008.4,-787C8016.39,-787 8025.31,-787 8033.82,-787\"/>\n<polygon fill=\"black\" stroke=\"black\" points=\"8033.92,-790.5 8043.92,-787 8033.92,-783.5 8033.92,-790.5\"/>\n</g>\n<!-- 140407359339680&#45;&gt;140407356887104 -->\n<g id=\"edge90\" class=\"edge\">\n<title>140407359339680&#45;&gt;140407356887104</title>\n<path fill=\"none\" stroke=\"black\" d=\"M8184.66,-719.09C8193.96,-713.39 8204.93,-706.66 8215.2,-700.35\"/>\n<polygon fill=\"black\" stroke=\"black\" points=\"8217.3,-703.18 8223.99,-694.96 8213.63,-697.21 8217.3,-703.18\"/>\n</g>\n<!-- 140407359339680&#45;&gt;140407357578592 -->\n<g id=\"edge91\" class=\"edge\">\n<title>140407359339680&#45;&gt;140407357578592</title>\n<path fill=\"none\" stroke=\"black\" d=\"M8188.4,-733C8196.39,-733 8205.31,-733 8213.82,-733\"/>\n<polygon fill=\"black\" stroke=\"black\" points=\"8213.92,-736.5 8223.92,-733 8213.92,-729.5 8213.92,-736.5\"/>\n</g>\n<!-- 140407359337760&#45;&gt;140407356887776 -->\n<g id=\"edge92\" class=\"edge\">\n<title>140407359337760&#45;&gt;140407356887776</title>\n<path fill=\"none\" stroke=\"black\" d=\"M8364.66,-665.09C8373.96,-659.39 8384.93,-652.66 8395.2,-646.35\"/>\n<polygon fill=\"black\" stroke=\"black\" points=\"8397.3,-649.18 8403.99,-640.96 8393.63,-643.21 8397.3,-649.18\"/>\n</g>\n<!-- 140407359337760&#45;&gt;140407356887200 -->\n<g id=\"edge93\" class=\"edge\">\n<title>140407359337760&#45;&gt;140407356887200</title>\n<path fill=\"none\" stroke=\"black\" d=\"M8368.4,-679C8376.39,-679 8385.31,-679 8393.82,-679\"/>\n<polygon fill=\"black\" stroke=\"black\" points=\"8393.92,-682.5 8403.92,-679 8393.92,-675.5 8393.92,-682.5\"/>\n</g>\n<!-- 140407359336608&#45;&gt;140407357711168 -->\n<g id=\"edge95\" class=\"edge\">\n<title>140407359336608&#45;&gt;140407357711168</title>\n<path fill=\"none\" stroke=\"black\" d=\"M11180.22,-1146.17C11190.88,-1143.28 11203.48,-1139.87 11215.08,-1136.73\"/>\n<polygon fill=\"black\" stroke=\"black\" points=\"11216.2,-1140.05 11224.94,-1134.06 11214.37,-1133.29 11216.2,-1140.05\"/>\n</g>\n<!-- 140407359336608&#45;&gt;140407357711840 -->\n<g id=\"edge94\" class=\"edge\">\n<title>140407359336608&#45;&gt;140407357711840</title>\n<path fill=\"none\" stroke=\"black\" d=\"M11174.58,-1170.86C11186.67,-1181.76 11202.56,-1195.88 11217,-1208 11217.97,-1208.82 11218.97,-1209.65 11219.97,-1210.48\"/>\n<polygon fill=\"black\" stroke=\"black\" points=\"11217.86,-1213.27 11227.82,-1216.87 11222.28,-1207.84 11217.86,-1213.27\"/>\n</g>\n<!-- 140407359336608&#45;&gt;140407357710496 -->\n<g id=\"edge96\" class=\"edge\">\n<title>140407359336608&#45;&gt;140407357710496</title>\n<path fill=\"none\" stroke=\"black\" d=\"M11180.22,-1160.36C11190.88,-1163.46 11203.48,-1167.14 11215.08,-1170.52\"/>\n<polygon fill=\"black\" stroke=\"black\" points=\"11214.36,-1173.96 11224.94,-1173.4 11216.32,-1167.24 11214.36,-1173.96\"/>\n</g>\n<!-- 140407359336992&#45;&gt;140407357579072 -->\n<g id=\"edge97\" class=\"edge\">\n<title>140407359336992&#45;&gt;140407357579072</title>\n<path fill=\"none\" stroke=\"black\" d=\"M883.59,-654.39C907.21,-698.27 958.03,-792.68 983.02,-839.11\"/>\n<polygon fill=\"black\" stroke=\"black\" points=\"979.98,-840.84 987.8,-847.99 986.15,-837.52 979.98,-840.84\"/>\n</g>\n<!-- 140407331315040&#45;&gt;140407357713184 -->\n<g id=\"edge98\" class=\"edge\">\n<title>140407331315040&#45;&gt;140407357713184</title>\n<path fill=\"none\" stroke=\"black\" d=\"M11325.17,-1246.26C11259,-1276.46 11066.71,-1357 10898,-1357 325.5,-1357 325.5,-1357 325.5,-1357 275.52,-1357 219.9,-1343.52 181.08,-1331.83\"/>\n<polygon fill=\"black\" stroke=\"black\" points=\"181.67,-1328.35 171.09,-1328.75 179.61,-1335.04 181.67,-1328.35\"/>\n</g>\n<!-- 140407331315040&#45;&gt;140407357712416 -->\n<g id=\"edge99\" class=\"edge\">\n<title>140407331315040&#45;&gt;140407357712416</title>\n<path fill=\"none\" stroke=\"black\" d=\"M11374.58,-1246.26C11383.53,-1250.53 11393.93,-1255.49 11403.73,-1260.17\"/>\n<polygon fill=\"black\" stroke=\"black\" points=\"11402.34,-1263.38 11412.87,-1264.53 11405.36,-1257.06 11402.34,-1263.38\"/>\n</g>\n<!-- 140407233400304&#45;&gt;140407357575424 -->\n<g id=\"edge100\" class=\"edge\">\n<title>140407233400304&#45;&gt;140407357575424</title>\n<path fill=\"none\" stroke=\"black\" d=\"M261.18,-1273C269.12,-1273 278.02,-1273 286.61,-1273\"/>\n<polygon fill=\"black\" stroke=\"black\" points=\"286.85,-1276.5 296.85,-1273 286.85,-1269.5 286.85,-1276.5\"/>\n</g>\n<!-- 140407233400304&#45;&gt;140407359340448 -->\n<g id=\"edge101\" class=\"edge\">\n<title>140407233400304&#45;&gt;140407359340448</title>\n<path fill=\"none\" stroke=\"black\" d=\"M257.84,-1259.37C267.57,-1253.56 279.16,-1246.65 289.97,-1240.2\"/>\n<polygon fill=\"black\" stroke=\"black\" points=\"292.02,-1243.05 298.81,-1234.92 288.43,-1237.04 292.02,-1243.05\"/>\n</g>\n<!-- 140407233400304&#45;&gt;140407357713568 -->\n<g id=\"edge102\" class=\"edge\">\n<title>140407233400304&#45;&gt;140407357713568</title>\n<path fill=\"none\" stroke=\"black\" d=\"M250.17,-1251.29C262.21,-1234.54 279.82,-1211.09 297,-1192 297.41,-1191.54 297.83,-1191.08 298.26,-1190.62\"/>\n<polygon fill=\"black\" stroke=\"black\" points=\"301.01,-1192.81 305.47,-1183.2 295.99,-1187.93 301.01,-1192.81\"/>\n</g>\n<!-- 140407230223504&#45;&gt;140407359340160 -->\n<g id=\"edge103\" class=\"edge\">\n<title>140407230223504&#45;&gt;140407359340160</title>\n<path fill=\"none\" stroke=\"black\" d=\"M444.49,-676.83C458.84,-671.45 477.62,-664.42 495.55,-657.71\"/>\n<polygon fill=\"black\" stroke=\"black\" points=\"497.24,-660.81 505.38,-654.02 494.79,-654.25 497.24,-660.81\"/>\n</g>\n<!-- 140407338899824&#45;&gt;140407359275456 -->\n<g id=\"edge104\" class=\"edge\">\n<title>140407338899824&#45;&gt;140407359275456</title>\n<path fill=\"none\" stroke=\"black\" d=\"M713.66,-644.91C722.96,-650.61 733.93,-657.34 744.2,-663.65\"/>\n<polygon fill=\"black\" stroke=\"black\" points=\"742.63,-666.79 752.99,-669.04 746.3,-660.82 742.63,-666.79\"/>\n</g>\n<!-- 140407338899824&#45;&gt;140407359276416 -->\n<g id=\"edge105\" class=\"edge\">\n<title>140407338899824&#45;&gt;140407359276416</title>\n<path fill=\"none\" stroke=\"black\" d=\"M717.4,-631C725.39,-631 734.31,-631 742.82,-631\"/>\n<polygon fill=\"black\" stroke=\"black\" points=\"742.92,-634.5 752.92,-631 742.92,-627.5 742.92,-634.5\"/>\n</g>\n<!-- 140407230222592&#45;&gt;140407357710688 -->\n<g id=\"edge106\" class=\"edge\">\n<title>140407230222592&#45;&gt;140407357710688</title>\n<path fill=\"none\" stroke=\"black\" d=\"M261.18,-900C269.9,-900 279.78,-900 289.14,-900\"/>\n<polygon fill=\"black\" stroke=\"black\" points=\"289.38,-903.5 299.38,-900 289.38,-896.5 289.38,-903.5\"/>\n</g>\n<!-- 140407230222592&#45;&gt;140407359278432 -->\n<g id=\"edge107\" class=\"edge\">\n<title>140407230222592&#45;&gt;140407359278432</title>\n<path fill=\"none\" stroke=\"black\" d=\"M259.06,-910.7C270.52,-915.74 284.43,-921.77 297,-927 325.61,-938.9 358.28,-951.82 382.46,-961.26\"/>\n<polygon fill=\"black\" stroke=\"black\" points=\"381.35,-964.58 391.94,-964.95 383.89,-958.06 381.35,-964.58\"/>\n</g>\n<!-- 140407233399920&#45;&gt;140407357579072 -->\n<g id=\"edge108\" class=\"edge\">\n<title>140407233399920&#45;&gt;140407357579072</title>\n<path fill=\"none\" stroke=\"black\" d=\"M893.03,-932.89C912.28,-920.57 940.55,-902.47 962.83,-888.2\"/>\n<polygon fill=\"black\" stroke=\"black\" points=\"964.81,-891.09 971.35,-882.75 961.04,-885.19 964.81,-891.09\"/>\n</g>\n<!-- 140407331314656&#45;&gt;140407357712800 -->\n<g id=\"edge109\" class=\"edge\">\n<title>140407331314656&#45;&gt;140407357712800</title>\n<path fill=\"none\" stroke=\"black\" d=\"M445.11,-907.34C463.58,-912.73 489.13,-920.2 510.79,-926.52\"/>\n<polygon fill=\"black\" stroke=\"black\" points=\"509.85,-929.89 520.43,-929.34 511.81,-923.17 509.85,-929.89\"/>\n</g>\n<!-- 140407343660096&#45;&gt;140407357711072 -->\n<g id=\"edge110\" class=\"edge\">\n<title>140407343660096&#45;&gt;140407357711072</title>\n<path fill=\"none\" stroke=\"black\" d=\"M714.12,-929.86C723.24,-924.68 733.93,-918.61 743.96,-912.91\"/>\n<polygon fill=\"black\" stroke=\"black\" points=\"745.96,-915.8 752.93,-907.81 742.5,-909.71 745.96,-915.8\"/>\n</g>\n<!-- 140407343660096&#45;&gt;140407357713664 -->\n<g id=\"edge111\" class=\"edge\">\n<title>140407343660096&#45;&gt;140407357713664</title>\n<path fill=\"none\" stroke=\"black\" d=\"M717.4,-944.2C725.39,-944.56 734.31,-944.97 742.82,-945.36\"/>\n<polygon fill=\"black\" stroke=\"black\" points=\"742.77,-948.86 752.92,-945.81 743.09,-941.86 742.77,-948.86\"/>\n</g>\n<!-- 140407359338144&#45;&gt;140407357576480 -->\n<g id=\"edge112\" class=\"edge\">\n<title>140407359338144&#45;&gt;140407357576480</title>\n<path fill=\"none\" stroke=\"black\" d=\"M1154.4,-1111C1162.39,-1111 1171.31,-1111 1179.82,-1111\"/>\n<polygon fill=\"black\" stroke=\"black\" points=\"1179.92,-1114.5 1189.92,-1111 1179.92,-1107.5 1179.92,-1114.5\"/>\n</g>\n<!-- 140407230222736&#45;&gt;140407359339968 -->\n<g id=\"edge113\" class=\"edge\">\n<title>140407230222736&#45;&gt;140407359339968</title>\n<path fill=\"none\" stroke=\"black\" d=\"M897.21,-1128.17C904.92,-1127.93 913.76,-1127.65 922.92,-1127.36\"/>\n<polygon fill=\"black\" stroke=\"black\" points=\"923.08,-1130.86 932.96,-1127.04 922.85,-1123.86 923.08,-1130.86\"/>\n</g>\n<!-- 140407230222736&#45;&gt;140407357579072 -->\n<g id=\"edge114\" class=\"edge\">\n<title>140407230222736&#45;&gt;140407357579072</title>\n<path fill=\"none\" stroke=\"black\" d=\"M882.67,-1104.73C906.29,-1055.63 959.59,-944.82 984.37,-893.29\"/>\n<polygon fill=\"black\" stroke=\"black\" points=\"987.61,-894.63 988.79,-884.1 981.3,-891.6 987.61,-894.63\"/>\n</g>\n<!-- 140407359337184&#45;&gt;140407356887392 -->\n<g id=\"edge115\" class=\"edge\">\n<title>140407359337184&#45;&gt;140407356887392</title>\n<path fill=\"none\" stroke=\"black\" d=\"M1333.35,-1176.26C1341.46,-1174.1 1350.73,-1171.63 1359.95,-1169.18\"/>\n<polygon fill=\"black\" stroke=\"black\" points=\"1361.11,-1172.49 1369.87,-1166.54 1359.31,-1165.73 1361.11,-1172.49\"/>\n</g>\n<!-- 140407359337184&#45;&gt;140407357577728 -->\n<g id=\"edge116\" class=\"edge\">\n<title>140407359337184&#45;&gt;140407357577728</title>\n<path fill=\"none\" stroke=\"black\" d=\"M1333.35,-1189.74C1345.52,-1192.98 1360.31,-1196.91 1373.6,-1200.45\"/>\n<polygon fill=\"black\" stroke=\"black\" points=\"1372.85,-1203.87 1383.41,-1203.06 1374.65,-1197.11 1372.85,-1203.87\"/>\n</g>\n<!-- 140407359337472&#45;&gt;140407357576960 -->\n<g id=\"edge117\" class=\"edge\">\n<title>140407359337472&#45;&gt;140407357576960</title>\n<path fill=\"none\" stroke=\"black\" d=\"M1489.91,-1222.76C1478.55,-1228.32 1464.45,-1234.2 1451,-1237 1415.76,-1244.34 1405.98,-1238.33 1370,-1237 1160.29,-1229.25 909.47,-1205.77 817.28,-1196.67\"/>\n<polygon fill=\"black\" stroke=\"black\" points=\"817.38,-1193.16 807.09,-1195.65 816.69,-1200.12 817.38,-1193.16\"/>\n</g>\n<!-- 140407359337664&#45;&gt;140407357578688 -->\n<g id=\"edge118\" class=\"edge\">\n<title>140407359337664&#45;&gt;140407357578688</title>\n<path fill=\"none\" stroke=\"black\" d=\"M1332.05,-952.34C1344.04,-947.02 1358.79,-940.48 1372.2,-934.54\"/>\n<polygon fill=\"black\" stroke=\"black\" points=\"1373.94,-937.59 1381.67,-930.34 1371.11,-931.19 1373.94,-937.59\"/>\n</g>\n<!-- 140407359337664&#45;&gt;140407356888064 -->\n<g id=\"edge119\" class=\"edge\">\n<title>140407359337664&#45;&gt;140407356888064</title>\n<path fill=\"none\" stroke=\"black\" d=\"M1334.14,-965.32C1346.1,-966.38 1360.46,-967.65 1373.42,-968.8\"/>\n<polygon fill=\"black\" stroke=\"black\" points=\"1373.18,-972.29 1383.45,-969.69 1373.8,-965.32 1373.18,-972.29\"/>\n</g>\n<!-- 140407359339392&#45;&gt;140407357576960 -->\n<g id=\"edge120\" class=\"edge\">\n<title>140407359339392&#45;&gt;140407357576960</title>\n<path fill=\"none\" stroke=\"black\" d=\"M1488.76,-982.6C1429.53,-1008.51 1282.1,-1073.11 1280,-1075 1256.05,-1096.6 1270.89,-1120.19 1244,-1138 1174.07,-1184.31 913.96,-1191.69 817.39,-1192.81\"/>\n<polygon fill=\"black\" stroke=\"black\" points=\"817.21,-1189.32 807.24,-1192.92 817.28,-1196.32 817.21,-1189.32\"/>\n</g>\n<!-- 140407359337856&#45;&gt;140407357713376 -->\n<g id=\"edge121\" class=\"edge\">\n<title>140407359337856&#45;&gt;140407357713376</title>\n<path fill=\"none\" stroke=\"black\" d=\"M1334.14,-1108.68C1346.1,-1107.62 1360.46,-1106.35 1373.42,-1105.2\"/>\n<polygon fill=\"black\" stroke=\"black\" points=\"1373.8,-1108.68 1383.45,-1104.31 1373.18,-1101.71 1373.8,-1108.68\"/>\n</g>\n<!-- 140407331314176&#45;&gt;140407359277856 -->\n<g id=\"edge122\" class=\"edge\">\n<title>140407331314176&#45;&gt;140407359277856</title>\n<path fill=\"none\" stroke=\"black\" d=\"M716.6,-1215.26C761.42,-1224.48 855.68,-1243.85 922.63,-1257.61\"/>\n<polygon fill=\"black\" stroke=\"black\" points=\"922.22,-1261.1 932.72,-1259.68 923.63,-1254.24 922.22,-1261.1\"/>\n</g>\n<!-- 140407331314176&#45;&gt;140407357576960 -->\n<g id=\"edge123\" class=\"edge\">\n<title>140407331314176&#45;&gt;140407357576960</title>\n<path fill=\"none\" stroke=\"black\" d=\"M716.93,-1204.99C725.09,-1203.41 734.26,-1201.64 742.99,-1199.96\"/>\n<polygon fill=\"black\" stroke=\"black\" points=\"743.8,-1203.36 752.95,-1198.03 742.47,-1196.49 743.8,-1203.36\"/>\n</g>\n<!-- 140407341106944&#45;&gt;140407359277280 -->\n<g id=\"edge124\" class=\"edge\">\n<title>140407341106944&#45;&gt;140407359277280</title>\n<path fill=\"none\" stroke=\"black\" d=\"M1538.31,-1066.9C1547.29,-1062.23 1557.79,-1056.78 1567.79,-1051.58\"/>\n<polygon fill=\"black\" stroke=\"black\" points=\"1569.51,-1054.63 1576.77,-1046.92 1566.28,-1048.42 1569.51,-1054.63\"/>\n</g>\n<!-- 140407341106944&#45;&gt;140407359278624 -->\n<g id=\"edge125\" class=\"edge\">\n<title>140407341106944&#45;&gt;140407359278624</title>\n<path fill=\"none\" stroke=\"black\" d=\"M1541.18,-1081.02C1549.9,-1081.7 1559.78,-1082.46 1569.14,-1083.19\"/>\n<polygon fill=\"black\" stroke=\"black\" points=\"1569.14,-1086.7 1579.38,-1083.98 1569.68,-1079.72 1569.14,-1086.7\"/>\n</g>\n<!-- 140407233397520&#45;&gt;140407359276032 -->\n<g id=\"edge126\" class=\"edge\">\n<title>140407233397520&#45;&gt;140407359276032</title>\n<path fill=\"none\" stroke=\"black\" d=\"M436.43,-1189.36C475.13,-1143.27 577.2,-1036 689,-1036 689,-1036 689,-1036 999.5,-1036 1062.98,-1036 1136.75,-1041.64 1179.72,-1045.49\"/>\n<polygon fill=\"black\" stroke=\"black\" points=\"1179.43,-1048.98 1189.7,-1046.4 1180.06,-1042 1179.43,-1048.98\"/>\n</g>\n<!-- 140407233397520&#45;&gt;140407359276608 -->\n<g id=\"edge127\" class=\"edge\">\n<title>140407233397520&#45;&gt;140407359276608</title>\n<path fill=\"none\" stroke=\"black\" d=\"M446.06,-1210C466.23,-1210 494.43,-1210 516.88,-1210\"/>\n<polygon fill=\"black\" stroke=\"black\" points=\"517.05,-1213.5 527.05,-1210 517.05,-1206.5 517.05,-1213.5\"/>\n</g>\n<!-- 140407233399680&#45;&gt;140407359276512 -->\n<g id=\"edge128\" class=\"edge\">\n<title>140407233399680&#45;&gt;140407359276512</title>\n<path fill=\"none\" stroke=\"black\" d=\"M1726.4,-1059C1734.39,-1059 1743.31,-1059 1751.82,-1059\"/>\n<polygon fill=\"black\" stroke=\"black\" points=\"1751.92,-1062.5 1761.92,-1059 1751.92,-1055.5 1751.92,-1062.5\"/>\n</g>\n<!-- 140407233399536&#45;&gt;140407359278336 -->\n<g id=\"edge129\" class=\"edge\">\n<title>140407233399536&#45;&gt;140407359278336</title>\n<path fill=\"none\" stroke=\"black\" d=\"M10923.6,-1113.74C10941.06,-1110.15 10964.54,-1105.32 10984.45,-1101.23\"/>\n<polygon fill=\"black\" stroke=\"black\" points=\"10985.4,-1104.61 10994.49,-1099.17 10983.99,-1097.75 10985.4,-1104.61\"/>\n</g>\n<!-- 140407233399536&#45;&gt;140407357712320 -->\n<g id=\"edge130\" class=\"edge\">\n<title>140407233399536&#45;&gt;140407357712320</title>\n<path fill=\"none\" stroke=\"black\" d=\"M10916.23,-1138.1C10927.94,-1149.59 10943.92,-1163.89 10960,-1174 10962.41,-1175.51 10964.92,-1176.98 10967.49,-1178.39\"/>\n<polygon fill=\"black\" stroke=\"black\" points=\"10965.91,-1181.51 10976.4,-1182.96 10969.1,-1175.28 10965.91,-1181.51\"/>\n</g>\n<!-- 140407233399536&#45;&gt;140407357712608 -->\n<g id=\"edge131\" class=\"edge\">\n<title>140407233399536&#45;&gt;140407357712608</title>\n<path fill=\"none\" stroke=\"black\" d=\"M10923.6,-1124.67C10942.13,-1128.77 10967.43,-1134.37 10988.07,-1138.94\"/>\n<polygon fill=\"black\" stroke=\"black\" points=\"10987.55,-1142.41 10998.07,-1141.15 10989.06,-1135.57 10987.55,-1142.41\"/>\n</g>\n<!-- 140407331314464&#45;&gt;140407357711648 -->\n<g id=\"edge132\" class=\"edge\">\n<title>140407331314464&#45;&gt;140407357711648</title>\n<path fill=\"none\" stroke=\"black\" d=\"M1906.1,-72C1918.82,-72 1934.32,-72 1948.17,-72\"/>\n<polygon fill=\"black\" stroke=\"black\" points=\"1948.37,-75.5 1958.37,-72 1948.37,-68.5 1948.37,-75.5\"/>\n</g>\n<!-- 140407331314464&#45;&gt;140407359275552 -->\n<g id=\"edge133\" class=\"edge\">\n<title>140407331314464&#45;&gt;140407359275552</title>\n<path fill=\"none\" stroke=\"black\" d=\"M1903.45,-59.88C1916.91,-52.93 1934.07,-44.06 1949.13,-36.28\"/>\n<polygon fill=\"black\" stroke=\"black\" points=\"1950.91,-39.3 1958.19,-31.6 1947.7,-33.08 1950.91,-39.3\"/>\n</g>\n<!-- 140407233400400&#45;&gt;140407359276704 -->\n<g id=\"edge134\" class=\"edge\">\n<title>140407233400400&#45;&gt;140407359276704</title>\n<path fill=\"none\" stroke=\"black\" d=\"M2119.19,-64.41C2168.67,-66.94 2279.29,-72 2372.5,-72 2372.5,-72 2372.5,-72 10623.5,-72 10728.77,-72 10792.46,-912.4 10804.07,-1079.36\"/>\n<polygon fill=\"black\" stroke=\"black\" points=\"10800.6,-1079.84 10804.78,-1089.58 10807.58,-1079.36 10800.6,-1079.84\"/>\n</g>\n<!-- 140407331314272&#45;&gt;140407359276704 -->\n<g id=\"edge135\" class=\"edge\">\n<title>140407331314272&#45;&gt;140407359276704</title>\n<path fill=\"none\" stroke=\"black\" d=\"M10744.4,-1108C10752.39,-1108 10761.31,-1108 10769.82,-1108\"/>\n<polygon fill=\"black\" stroke=\"black\" points=\"10769.92,-1111.5 10779.92,-1108 10769.92,-1104.5 10769.92,-1111.5\"/>\n</g>\n<!-- 140407331314944&#45;&gt;140407357575712 -->\n<g id=\"edge136\" class=\"edge\">\n<title>140407331314944&#45;&gt;140407357575712</title>\n<path fill=\"none\" stroke=\"black\" d=\"M10551.87,-1144.9C10560.97,-1139.68 10571.71,-1133.53 10582,-1127.63\"/>\n<polygon fill=\"black\" stroke=\"black\" points=\"10583.93,-1130.56 10590.87,-1122.55 10580.45,-1124.48 10583.93,-1130.56\"/>\n</g>\n<!-- 140407331314944&#45;&gt;140407357710592 -->\n<g id=\"edge137\" class=\"edge\">\n<title>140407331314944&#45;&gt;140407357710592</title>\n<path fill=\"none\" stroke=\"black\" d=\"M10555.26,-1158.28C10564.61,-1158.39 10575.32,-1158.5 10585.36,-1158.61\"/>\n<polygon fill=\"black\" stroke=\"black\" points=\"10585.46,-1162.11 10595.5,-1158.72 10585.53,-1155.11 10585.46,-1162.11\"/>\n</g>\n<!-- 140407331315136&#45;&gt;140407357577440 -->\n<g id=\"edge138\" class=\"edge\">\n<title>140407331315136&#45;&gt;140407357577440</title>\n<path fill=\"none\" stroke=\"black\" d=\"M1903.45,-1079.12C1916.81,-1086.02 1933.81,-1094.81 1948.79,-1102.55\"/>\n<polygon fill=\"black\" stroke=\"black\" points=\"1947.32,-1105.73 1957.81,-1107.21 1950.53,-1099.51 1947.32,-1105.73\"/>\n</g>\n<!-- 140407331315136&#45;&gt;140407357713280 -->\n<g id=\"edge139\" class=\"edge\">\n<title>140407331315136&#45;&gt;140407357713280</title>\n<path fill=\"none\" stroke=\"black\" d=\"M1906.1,-1067C1918.82,-1067 1934.32,-1067 1948.17,-1067\"/>\n<polygon fill=\"black\" stroke=\"black\" points=\"1948.37,-1070.5 1958.37,-1067 1948.37,-1063.5 1948.37,-1070.5\"/>\n</g>\n<!-- 140407331315616&#45;&gt;140407357712032 -->\n<g id=\"edge140\" class=\"edge\">\n<title>140407331315616&#45;&gt;140407357712032</title>\n<path fill=\"none\" stroke=\"black\" d=\"M2119.18,-1123.19C2168.64,-1127.12 2279.22,-1135 2372.5,-1135 2372.5,-1135 2372.5,-1135 10248,-1135 10301.48,-1135 10362.85,-1144.19 10400.78,-1150.95\"/>\n<polygon fill=\"black\" stroke=\"black\" points=\"10400.36,-1154.43 10410.83,-1152.78 10401.62,-1147.54 10400.36,-1154.43\"/>\n</g>\n<!-- 140407233400064&#45;&gt;140407357712032 -->\n<g id=\"edge141\" class=\"edge\">\n<title>140407233400064&#45;&gt;140407357712032</title>\n<path fill=\"none\" stroke=\"black\" d=\"M10373.51,-1181.09C10382.12,-1177.96 10391.97,-1174.37 10401.31,-1170.98\"/>\n<polygon fill=\"black\" stroke=\"black\" points=\"10402.57,-1174.24 10410.77,-1167.54 10400.18,-1167.67 10402.57,-1174.24\"/>\n</g>\n<!-- 140407233400352&#45;&gt;140407357714240 -->\n<g id=\"edge142\" class=\"edge\">\n<title>140407233400352&#45;&gt;140407357714240</title>\n<path fill=\"none\" stroke=\"black\" d=\"M10170.71,-1221.74C10179.47,-1217.58 10189.73,-1212.72 10199.8,-1207.93\"/>\n<polygon fill=\"black\" stroke=\"black\" points=\"10201.41,-1211.04 10208.95,-1203.59 10198.41,-1204.72 10201.41,-1211.04\"/>\n</g>\n<!-- 140407233400352&#45;&gt;140407357713472 -->\n<g id=\"edge143\" class=\"edge\">\n<title>140407233400352&#45;&gt;140407357713472</title>\n<path fill=\"none\" stroke=\"black\" d=\"M10173.01,-1234.84C10184.18,-1235.63 10197.42,-1236.56 10209.54,-1237.42\"/>\n<polygon fill=\"black\" stroke=\"black\" points=\"10209.6,-1240.93 10219.82,-1238.15 10210.09,-1233.95 10209.6,-1240.93\"/>\n</g>\n<!-- 140407338899056&#45;&gt;140407359277088 -->\n<g id=\"edge144\" class=\"edge\">\n<title>140407338899056&#45;&gt;140407359277088</title>\n<path fill=\"none\" stroke=\"black\" d=\"M1906.1,-1192C1913.83,-1192 1922.6,-1192 1931.4,-1192\"/>\n<polygon fill=\"black\" stroke=\"black\" points=\"1931.68,-1195.5 1941.68,-1192 1931.68,-1188.5 1931.68,-1195.5\"/>\n</g>\n<!-- 140407338899056&#45;&gt;140407359275936 -->\n<g id=\"edge145\" class=\"edge\">\n<title>140407338899056&#45;&gt;140407359275936</title>\n<path fill=\"none\" stroke=\"black\" d=\"M1903.45,-1204.12C1916.91,-1211.07 1934.07,-1219.94 1949.13,-1227.72\"/>\n<polygon fill=\"black\" stroke=\"black\" points=\"1947.7,-1230.92 1958.19,-1232.4 1950.91,-1224.7 1947.7,-1230.92\"/>\n</g>\n<!-- 140407341108864&#45;&gt;140407359339776 -->\n<g id=\"edge146\" class=\"edge\">\n<title>140407341108864&#45;&gt;140407359339776</title>\n<path fill=\"none\" stroke=\"black\" d=\"M2118.68,-1251.39C2167.76,-1261.21 2278.36,-1281 2372.5,-1281 2372.5,-1281 2372.5,-1281 9877,-1281 9929.24,-1281 9943.09,-1277.44 9993,-1262 10001.83,-1259.27 10011.01,-1255.52 10019.52,-1251.63\"/>\n<polygon fill=\"black\" stroke=\"black\" points=\"10021.26,-1254.68 10028.78,-1247.22 10018.25,-1248.36 10021.26,-1254.68\"/>\n</g>\n<!-- 140407233400592&#45;&gt;140407359339776 -->\n<g id=\"edge147\" class=\"edge\">\n<title>140407233400592&#45;&gt;140407359339776</title>\n<path fill=\"none\" stroke=\"black\" d=\"M9992.93,-1228.06C10001,-1228.7 10010.06,-1229.43 10018.7,-1230.11\"/>\n<polygon fill=\"black\" stroke=\"black\" points=\"10018.71,-1233.62 10028.95,-1230.93 10019.26,-1226.65 10018.71,-1233.62\"/>\n</g>\n<!-- 140407359338816&#45;&gt;140407356888352 -->\n<g id=\"edge148\" class=\"edge\">\n<title>140407359338816&#45;&gt;140407356888352</title>\n<path fill=\"none\" stroke=\"black\" d=\"M261.18,-802C269.9,-802 279.78,-802 289.14,-802\"/>\n<polygon fill=\"black\" stroke=\"black\" points=\"289.38,-805.5 299.38,-802 289.38,-798.5 289.38,-805.5\"/>\n</g>\n<!-- 140407359338816&#45;&gt;140407356887872 -->\n<g id=\"edge149\" class=\"edge\">\n<title>140407359338816&#45;&gt;140407356887872</title>\n<path fill=\"none\" stroke=\"black\" d=\"M258.25,-789.89C269.63,-784.47 283.73,-778.53 297,-775 424.75,-741.02 582.8,-733.83 652.76,-732.36\"/>\n<polygon fill=\"black\" stroke=\"black\" points=\"652.89,-735.86 662.82,-732.17 652.76,-728.86 652.89,-735.86\"/>\n</g>\n<!-- 140407233398096&#45;&gt;140407357712224 -->\n<g id=\"edge150\" class=\"edge\">\n<title>140407233398096&#45;&gt;140407357712224</title>\n<path fill=\"none\" stroke=\"black\" d=\"M9812.93,-1187.35C9821.09,-1186.51 9830.26,-1185.58 9838.99,-1184.68\"/>\n<polygon fill=\"black\" stroke=\"black\" points=\"9839.36,-1188.16 9848.95,-1183.66 9838.65,-1181.2 9839.36,-1188.16\"/>\n</g>\n<!-- 140407233398096&#45;&gt;140407357713952 -->\n<g id=\"edge151\" class=\"edge\">\n<title>140407233398096&#45;&gt;140407357713952</title>\n<path fill=\"none\" stroke=\"black\" d=\"M9810.58,-1202.06C9819.53,-1206.64 9829.93,-1211.95 9839.73,-1216.96\"/>\n<polygon fill=\"black\" stroke=\"black\" points=\"9838.38,-1220.2 9848.87,-1221.64 9841.56,-1213.97 9838.38,-1220.2\"/>\n</g>\n<!-- 140407359338528&#45;&gt;140407357712896 -->\n<g id=\"edge152\" class=\"edge\">\n<title>140407359338528&#45;&gt;140407357712896</title>\n<path fill=\"none\" stroke=\"black\" d=\"M1906.1,-416C1918.82,-416 1934.32,-416 1948.17,-416\"/>\n<polygon fill=\"black\" stroke=\"black\" points=\"1948.37,-419.5 1958.37,-416 1948.37,-412.5 1948.37,-419.5\"/>\n</g>\n<!-- 140407233400784&#45;&gt;140407359276896 -->\n<g id=\"edge153\" class=\"edge\">\n<title>140407233400784&#45;&gt;140407359276896</title>\n<path fill=\"none\" stroke=\"black\" d=\"M9627.41,-217.53C9638.49,-208.59 9652.4,-197.37 9664.72,-187.43\"/>\n<polygon fill=\"black\" stroke=\"black\" points=\"9666.95,-190.13 9672.54,-181.12 9662.56,-184.68 9666.95,-190.13\"/>\n</g>\n<!-- 140407233400784&#45;&gt;140407359277760 -->\n<g id=\"edge154\" class=\"edge\">\n<title>140407233400784&#45;&gt;140407359277760</title>\n<path fill=\"none\" stroke=\"black\" d=\"M9611.73,-260.51C9626.93,-345.66 9674.43,-611.75 9690,-698.99\"/>\n<polygon fill=\"black\" stroke=\"black\" points=\"9686.57,-699.72 9691.78,-708.95 9693.47,-698.49 9686.57,-699.72\"/>\n</g>\n<!-- 140407233397328&#45;&gt;140407359276128 -->\n<g id=\"edge155\" class=\"edge\">\n<title>140407233397328&#45;&gt;140407359276128</title>\n<path fill=\"none\" stroke=\"black\" d=\"M9451.98,-241.66C9460.42,-244.25 9470,-247.19 9479.11,-249.99\"/>\n<polygon fill=\"black\" stroke=\"black\" points=\"9478.14,-253.35 9488.73,-252.94 9480.19,-246.66 9478.14,-253.35\"/>\n</g>\n<!-- 140407233397328&#45;&gt;140407359278048 -->\n<g id=\"edge156\" class=\"edge\">\n<title>140407233397328&#45;&gt;140407359278048</title>\n<path fill=\"none\" stroke=\"black\" d=\"M9451.98,-226.34C9460.42,-223.75 9470,-220.81 9479.11,-218.01\"/>\n<polygon fill=\"black\" stroke=\"black\" points=\"9480.19,-221.34 9488.73,-215.06 9478.14,-214.65 9480.19,-221.34\"/>\n</g>\n<!-- 140407328133856&#45;&gt;140407359276224 -->\n<g id=\"edge157\" class=\"edge\">\n<title>140407328133856&#45;&gt;140407359276224</title>\n<path fill=\"none\" stroke=\"black\" d=\"M2119.03,-218C2134.74,-218 2155,-218 2172.32,-218\"/>\n<polygon fill=\"black\" stroke=\"black\" points=\"2172.65,-221.5 2182.65,-218 2172.65,-214.5 2172.65,-221.5\"/>\n</g>\n<!-- 140407328133856&#45;&gt;140407359275648 -->\n<g id=\"edge158\" class=\"edge\">\n<title>140407328133856&#45;&gt;140407359275648</title>\n<path fill=\"none\" stroke=\"black\" d=\"M2116.75,-206.94C2133.12,-199.32 2155.16,-189.06 2173.59,-180.48\"/>\n<polygon fill=\"black\" stroke=\"black\" points=\"2175.26,-183.57 2182.85,-176.17 2172.31,-177.22 2175.26,-183.57\"/>\n</g>\n<!-- 140407343660864&#45;&gt;140407359278528 -->\n<g id=\"edge159\" class=\"edge\">\n<title>140407343660864&#45;&gt;140407359278528</title>\n<path fill=\"none\" stroke=\"black\" d=\"M2400.9,-206C2458.67,-206 2600.61,-206 2719.5,-206 2719.5,-206 2719.5,-206 9154.5,-206 9205.01,-206 9262.54,-216.84 9298.8,-225.03\"/>\n<polygon fill=\"black\" stroke=\"black\" points=\"9298.36,-228.52 9308.89,-227.36 9299.94,-221.7 9298.36,-228.52\"/>\n</g>\n<!-- 140407233397952&#45;&gt;140407359278528 -->\n<g id=\"edge160\" class=\"edge\">\n<title>140407233397952&#45;&gt;140407359278528</title>\n<path fill=\"none\" stroke=\"black\" d=\"M9271.98,-253.34C9280.42,-250.75 9290,-247.81 9299.11,-245.01\"/>\n<polygon fill=\"black\" stroke=\"black\" points=\"9300.19,-248.34 9308.73,-242.06 9298.14,-241.65 9300.19,-248.34\"/>\n</g>\n<!-- 140407233399632&#45;&gt;140407359340352 -->\n<g id=\"edge161\" class=\"edge\">\n<title>140407233399632&#45;&gt;140407359340352</title>\n<path fill=\"none\" stroke=\"black\" d=\"M9084.84,-297.37C9093.99,-291.91 9104.78,-285.47 9115.02,-279.36\"/>\n<polygon fill=\"black\" stroke=\"black\" points=\"9117.03,-282.24 9123.83,-274.11 9113.45,-276.23 9117.03,-282.24\"/>\n</g>\n<!-- 140407233399632&#45;&gt;140407357714144 -->\n<g id=\"edge162\" class=\"edge\">\n<title>140407233399632&#45;&gt;140407357714144</title>\n<path fill=\"none\" stroke=\"black\" d=\"M9088.18,-311C9096.9,-311 9106.78,-311 9116.14,-311\"/>\n<polygon fill=\"black\" stroke=\"black\" points=\"9116.38,-314.5 9126.38,-311 9116.38,-307.5 9116.38,-314.5\"/>\n</g>\n<!-- 140407233399824&#45;&gt;140407357712512 -->\n<g id=\"edge163\" class=\"edge\">\n<title>140407233399824&#45;&gt;140407357712512</title>\n<path fill=\"none\" stroke=\"black\" d=\"M2119.03,-326C2129.37,-326 2141.67,-326 2153.8,-326\"/>\n<polygon fill=\"black\" stroke=\"black\" points=\"2153.91,-329.5 2163.91,-326 2153.91,-322.5 2153.91,-329.5\"/>\n</g>\n<!-- 140407233399824&#45;&gt;140407357711744 -->\n<g id=\"edge164\" class=\"edge\">\n<title>140407233399824&#45;&gt;140407357711744</title>\n<path fill=\"none\" stroke=\"black\" d=\"M2116.75,-314.94C2133.12,-307.32 2155.16,-297.06 2173.59,-288.48\"/>\n<polygon fill=\"black\" stroke=\"black\" points=\"2175.26,-291.57 2182.85,-284.17 2172.31,-285.22 2175.26,-291.57\"/>\n</g>\n<!-- 140407359339104&#45;&gt;140407357579072 -->\n<g id=\"edge165\" class=\"edge\">\n<title>140407359339104&#45;&gt;140407357579072</title>\n<path fill=\"none\" stroke=\"black\" d=\"M893.03,-799.11C912.28,-811.43 940.55,-829.53 962.83,-843.8\"/>\n<polygon fill=\"black\" stroke=\"black\" points=\"961.04,-846.81 971.35,-849.25 964.81,-840.91 961.04,-846.81\"/>\n</g>\n<!-- 140407331314080&#45;&gt;140407359278720 -->\n<g id=\"edge166\" class=\"edge\">\n<title>140407331314080&#45;&gt;140407359278720</title>\n<path fill=\"none\" stroke=\"black\" d=\"M2400.9,-310C2458.67,-310 2600.61,-310 2719.5,-310 2719.5,-310 2719.5,-310 8792,-310 8841.08,-310 8897.77,-310.38 8933.74,-310.68\"/>\n<polygon fill=\"black\" stroke=\"black\" points=\"8933.73,-314.18 8943.76,-310.76 8933.79,-307.18 8933.73,-314.18\"/>\n</g>\n<!-- 140407331314848&#45;&gt;140407359278720 -->\n<g id=\"edge167\" class=\"edge\">\n<title>140407331314848&#45;&gt;140407359278720</title>\n<path fill=\"none\" stroke=\"black\" d=\"M8904.66,-351.09C8913.96,-345.39 8924.93,-338.66 8935.2,-332.35\"/>\n<polygon fill=\"black\" stroke=\"black\" points=\"8937.3,-335.18 8943.99,-326.96 8933.63,-329.21 8937.3,-335.18\"/>\n</g>\n<!-- 140407359336512&#45;&gt;140407359278144 -->\n<g id=\"edge168\" class=\"edge\">\n<title>140407359336512&#45;&gt;140407359278144</title>\n<path fill=\"none\" stroke=\"black\" d=\"M8728.4,-413.8C8736.39,-414.34 8745.31,-414.95 8753.82,-415.53\"/>\n<polygon fill=\"black\" stroke=\"black\" points=\"8753.7,-419.03 8763.92,-416.22 8754.18,-412.05 8753.7,-419.03\"/>\n</g>\n<!-- 140407359336512&#45;&gt;140407357714336 -->\n<g id=\"edge169\" class=\"edge\">\n<title>140407359336512&#45;&gt;140407357714336</title>\n<path fill=\"none\" stroke=\"black\" d=\"M8725.12,-399.39C8734.24,-394.41 8744.93,-388.59 8754.96,-383.11\"/>\n<polygon fill=\"black\" stroke=\"black\" points=\"8756.83,-386.08 8763.93,-378.22 8753.47,-379.94 8756.83,-386.08\"/>\n</g>\n<!-- 140407343659664&#45;&gt;140407359279008 -->\n<g id=\"edge170\" class=\"edge\">\n<title>140407343659664&#45;&gt;140407359279008</title>\n<path fill=\"none\" stroke=\"black\" d=\"M2117.88,-408.28C2130.55,-404.35 2146.39,-399.43 2161.3,-394.8\"/>\n<polygon fill=\"black\" stroke=\"black\" points=\"2162.4,-398.13 2170.91,-391.82 2160.32,-391.44 2162.4,-398.13\"/>\n</g>\n<!-- 140407343659664&#45;&gt;140407359275264 -->\n<g id=\"edge171\" class=\"edge\">\n<title>140407343659664&#45;&gt;140407359275264</title>\n<path fill=\"none\" stroke=\"black\" d=\"M2118.74,-419.99C2134.7,-422.47 2155.44,-425.69 2173.01,-428.41\"/>\n<polygon fill=\"black\" stroke=\"black\" points=\"2172.51,-431.88 2182.93,-429.95 2173.58,-424.96 2172.51,-431.88\"/>\n</g>\n<!-- 140407331314752&#45;&gt;140407357575520 -->\n<g id=\"edge172\" class=\"edge\">\n<title>140407331314752&#45;&gt;140407357575520</title>\n<path fill=\"none\" stroke=\"black\" d=\"M2400.9,-407.39C2458.66,-408.2 2600.6,-410 2719.5,-410 2719.5,-410 2719.5,-410 8432,-410 8481.08,-410 8537.78,-410.77 8573.74,-411.35\"/>\n<polygon fill=\"black\" stroke=\"black\" points=\"8573.71,-414.85 8583.76,-411.52 8573.82,-407.85 8573.71,-414.85\"/>\n</g>\n<!-- 140407331314368&#45;&gt;140407357575520 -->\n<g id=\"edge173\" class=\"edge\">\n<title>140407331314368&#45;&gt;140407357575520</title>\n<path fill=\"none\" stroke=\"black\" d=\"M8532.27,-600.15C8548.85,-560.02 8581.4,-481.23 8598.65,-439.48\"/>\n<polygon fill=\"black\" stroke=\"black\" points=\"8601.9,-440.77 8602.48,-430.19 8595.43,-438.1 8601.9,-440.77\"/>\n</g>\n<!-- 140407331315424&#45;&gt;140407357577344 -->\n<g id=\"edge174\" class=\"edge\">\n<title>140407331315424&#45;&gt;140407357577344</title>\n<path fill=\"none\" stroke=\"black\" d=\"M7824.66,-827.09C7833.96,-821.39 7844.93,-814.66 7855.2,-808.35\"/>\n<polygon fill=\"black\" stroke=\"black\" points=\"7857.3,-811.18 7863.99,-802.96 7853.63,-805.21 7857.3,-811.18\"/>\n</g>\n<!-- 140407331315424&#45;&gt;140407357577056 -->\n<g id=\"edge175\" class=\"edge\">\n<title>140407331315424&#45;&gt;140407357577056</title>\n<path fill=\"none\" stroke=\"black\" d=\"M7828.4,-841C7836.39,-841 7845.31,-841 7853.82,-841\"/>\n<polygon fill=\"black\" stroke=\"black\" points=\"7853.92,-844.5 7863.92,-841 7853.92,-837.5 7853.92,-844.5\"/>\n</g>\n<!-- 140407233399968&#45;&gt;140407357712704 -->\n<g id=\"edge176\" class=\"edge\">\n<title>140407233399968&#45;&gt;140407357712704</title>\n<path fill=\"none\" stroke=\"black\" d=\"M2119.03,-1035C2132.17,-1035 2148.48,-1035 2163.6,-1035\"/>\n<polygon fill=\"black\" stroke=\"black\" points=\"2163.82,-1038.5 2173.82,-1035 2163.82,-1031.5 2163.82,-1038.5\"/>\n</g>\n<!-- 140407233399968&#45;&gt;140407357711264 -->\n<g id=\"edge177\" class=\"edge\">\n<title>140407233399968&#45;&gt;140407357711264</title>\n<path fill=\"none\" stroke=\"black\" d=\"M2116.75,-1046.06C2133.12,-1053.68 2155.16,-1063.94 2173.59,-1072.52\"/>\n<polygon fill=\"black\" stroke=\"black\" points=\"2172.31,-1075.78 2182.85,-1076.83 2175.26,-1069.43 2172.31,-1075.78\"/>\n</g>\n<!-- 140407359339584&#45;&gt;140407357578112 -->\n<g id=\"edge178\" class=\"edge\">\n<title>140407359339584&#45;&gt;140407357578112</title>\n<path fill=\"none\" stroke=\"black\" d=\"M446.06,-802C453.69,-802 462.47,-802 471.66,-802\"/>\n<polygon fill=\"black\" stroke=\"black\" points=\"471.75,-805.5 481.75,-802 471.75,-798.5 471.75,-805.5\"/>\n</g>\n<!-- 140407233399392&#45;&gt;140407359340256 -->\n<g id=\"edge179\" class=\"edge\">\n<title>140407233399392&#45;&gt;140407359340256</title>\n<path fill=\"none\" stroke=\"black\" d=\"M2400.9,-1043.49C2458.66,-1042.4 2600.6,-1040 2719.5,-1040 2719.5,-1040 2719.5,-1040 7532,-1040 7584.24,-1040 7598.82,-1038.63 7648,-1021 7657.22,-1017.7 7666.63,-1013.02 7675.24,-1008.13\"/>\n<polygon fill=\"black\" stroke=\"black\" points=\"7677.06,-1011.12 7683.88,-1003.01 7673.49,-1005.1 7677.06,-1011.12\"/>\n</g>\n<!-- 140407233399344&#45;&gt;140407359340256 -->\n<g id=\"edge180\" class=\"edge\">\n<title>140407233399344&#45;&gt;140407359340256</title>\n<path fill=\"none\" stroke=\"black\" d=\"M7648.4,-985C7656.39,-985 7665.31,-985 7673.82,-985\"/>\n<polygon fill=\"black\" stroke=\"black\" points=\"7673.92,-988.5 7683.92,-985 7673.92,-981.5 7673.92,-988.5\"/>\n</g>\n<!-- 140407233398576&#45;&gt;140407357575616 -->\n<g id=\"edge181\" class=\"edge\">\n<title>140407233398576&#45;&gt;140407357575616</title>\n<path fill=\"none\" stroke=\"black\" d=\"M7107.45,-902.5C7115.79,-900.7 7125.21,-898.67 7134.16,-896.74\"/>\n<polygon fill=\"black\" stroke=\"black\" points=\"7134.96,-900.15 7143.99,-894.62 7133.48,-893.3 7134.96,-900.15\"/>\n</g>\n<!-- 140407233398576&#45;&gt;140407357714048 -->\n<g id=\"edge182\" class=\"edge\">\n<title>140407233398576&#45;&gt;140407357714048</title>\n<path fill=\"none\" stroke=\"black\" d=\"M7106.51,-917.75C7115.12,-921.17 7124.97,-925.09 7134.31,-928.8\"/>\n<polygon fill=\"black\" stroke=\"black\" points=\"7133.19,-932.12 7143.77,-932.57 7135.77,-925.62 7133.19,-932.12\"/>\n</g>\n<!-- 140407331314560&#45;&gt;140407356888256 -->\n<g id=\"edge186\" class=\"edge\">\n<title>140407331314560&#45;&gt;140407356888256</title>\n<path fill=\"none\" stroke=\"black\" d=\"M2112.56,-677.41C2124.37,-667.26 2139.99,-654.64 2155,-645 2158.77,-642.58 2162.79,-640.21 2166.87,-637.95\"/>\n<polygon fill=\"black\" stroke=\"black\" points=\"2168.64,-640.97 2175.82,-633.18 2165.35,-634.79 2168.64,-640.97\"/>\n</g>\n<!-- 140407331314560&#45;&gt;140407357713088 -->\n<g id=\"edge183\" class=\"edge\">\n<title>140407331314560&#45;&gt;140407357713088</title>\n<path fill=\"none\" stroke=\"black\" d=\"M2100.62,-668.94C2109.37,-644.16 2126.35,-608.21 2155,-591 2244.96,-536.95 2522.35,-567.13 2627,-575 2635.38,-575.63 2644.15,-576.58 2652.82,-577.69\"/>\n<polygon fill=\"black\" stroke=\"black\" points=\"2652.53,-581.18 2662.91,-579.06 2653.47,-574.25 2652.53,-581.18\"/>\n</g>\n<!-- 140407331314560&#45;&gt;140407357579168 -->\n<g id=\"edge188\" class=\"edge\">\n<title>140407331314560&#45;&gt;140407357579168</title>\n<path fill=\"none\" stroke=\"black\" d=\"M2096.86,-668.38C2103.04,-636.58 2118.41,-584.62 2155,-560 2234.44,-506.55 2520.98,-520.08 2652.57,-529.52\"/>\n<polygon fill=\"black\" stroke=\"black\" points=\"2652.68,-533.04 2662.91,-530.27 2653.2,-526.05 2652.68,-533.04\"/>\n</g>\n<!-- 140407331314560&#45;&gt;140407357711360 -->\n<g id=\"edge184\" class=\"edge\">\n<title>140407331314560&#45;&gt;140407357711360</title>\n<path fill=\"none\" stroke=\"black\" d=\"M2095.04,-721.83C2099.4,-760.49 2112.99,-831.72 2155,-873 2245.44,-961.87 2592.71,-956 2719.5,-956 2719.5,-956 2719.5,-956 3023,-956 3073.79,-956 3132.41,-952.9 3169.46,-950.56\"/>\n<polygon fill=\"black\" stroke=\"black\" points=\"3170.02,-954.03 3179.77,-949.9 3169.57,-947.05 3170.02,-954.03\"/>\n</g>\n<!-- 140407331314560&#45;&gt;140407359277376 -->\n<g id=\"edge190\" class=\"edge\">\n<title>140407331314560&#45;&gt;140407359277376</title>\n<path fill=\"none\" stroke=\"black\" d=\"M2098.01,-721.52C2105.21,-752.21 2121.5,-802.11 2155,-830 2250.5,-909.5 2403.17,-917.48 2489.17,-914.72\"/>\n<polygon fill=\"black\" stroke=\"black\" points=\"2489.46,-918.21 2499.32,-914.33 2489.2,-911.22 2489.46,-918.21\"/>\n</g>\n<!-- 140407331314560&#45;&gt;140407359276992 -->\n<g id=\"edge189\" class=\"edge\">\n<title>140407331314560&#45;&gt;140407359276992</title>\n<path fill=\"none\" stroke=\"black\" d=\"M2115.09,-709.09C2131.09,-719.3 2153.11,-733.35 2171.8,-745.27\"/>\n<polygon fill=\"black\" stroke=\"black\" points=\"2170.08,-748.33 2180.4,-750.75 2173.85,-742.42 2170.08,-748.33\"/>\n</g>\n<!-- 140407331314560&#45;&gt;140407356887488 -->\n<g id=\"edge187\" class=\"edge\">\n<title>140407331314560&#45;&gt;140407356887488</title>\n<path fill=\"none\" stroke=\"black\" d=\"M2119.23,-696.91C2130.27,-697.65 2143.26,-698.46 2155,-699 2272.78,-704.42 2410.27,-707.5 2489.08,-708.95\"/>\n<polygon fill=\"black\" stroke=\"black\" points=\"2489.27,-712.46 2499.33,-709.14 2489.4,-705.46 2489.27,-712.46\"/>\n</g>\n<!-- 140407331314560&#45;&gt;140407359278816 -->\n<g id=\"edge192\" class=\"edge\">\n<title>140407331314560&#45;&gt;140407359278816</title>\n<path fill=\"none\" stroke=\"black\" d=\"M2101.77,-720.33C2111.2,-743.7 2128.52,-777.5 2155,-796 2194.48,-823.59 2247.27,-834.72 2290.95,-838.9\"/>\n<polygon fill=\"black\" stroke=\"black\" points=\"2290.72,-842.39 2300.98,-839.75 2291.31,-835.42 2290.72,-842.39\"/>\n</g>\n<!-- 140407331314560&#45;&gt;140407357576192 -->\n<g id=\"edge191\" class=\"edge\">\n<title>140407331314560&#45;&gt;140407357576192</title>\n<path fill=\"none\" stroke=\"black\" d=\"M2096.66,-668.19C2102.91,-631.23 2118.66,-564.19 2155,-520 2159.66,-514.33 2165.61,-509.43 2171.85,-505.28\"/>\n<polygon fill=\"black\" stroke=\"black\" points=\"2173.68,-508.26 2180.43,-500.1 2170.06,-502.27 2173.68,-508.26\"/>\n</g>\n<!-- 140407331314560&#45;&gt;140407359277472 -->\n<g id=\"edge185\" class=\"edge\">\n<title>140407331314560&#45;&gt;140407359277472</title>\n<path fill=\"none\" stroke=\"black\" d=\"M2118.74,-689.9C2131.76,-687.31 2147.95,-684.1 2163.02,-681.12\"/>\n<polygon fill=\"black\" stroke=\"black\" points=\"2164.08,-684.47 2173.21,-679.1 2162.72,-677.61 2164.08,-684.47\"/>\n</g>\n<!-- 140407341109056&#45;&gt;140407359275840 -->\n<g id=\"edge193\" class=\"edge\">\n<title>140407341109056&#45;&gt;140407359275840</title>\n<path fill=\"none\" stroke=\"black\" d=\"M6922.41,-925.16C6933.74,-934.69 6948.03,-946.71 6960.55,-957.24\"/>\n<polygon fill=\"black\" stroke=\"black\" points=\"6958.57,-960.14 6968.47,-963.9 6963.07,-954.78 6958.57,-960.14\"/>\n</g>\n<!-- 140407341109056&#45;&gt;140407359277568 -->\n<g id=\"edge194\" class=\"edge\">\n<title>140407341109056&#45;&gt;140407359277568</title>\n<path fill=\"none\" stroke=\"black\" d=\"M6928.4,-908C6936.39,-908 6945.31,-908 6953.82,-908\"/>\n<polygon fill=\"black\" stroke=\"black\" points=\"6953.92,-911.5 6963.92,-908 6953.92,-904.5 6953.92,-911.5\"/>\n</g>\n<!-- 140407328134768&#45;&gt;140407359278240 -->\n<g id=\"edge196\" class=\"edge\">\n<title>140407328134768&#45;&gt;140407359278240</title>\n<path fill=\"none\" stroke=\"black\" d=\"M5259.93,-629.95C5271.35,-624.84 5285.27,-618.84 5298,-614 5303.02,-612.09 5308.24,-610.19 5313.5,-608.33\"/>\n<polygon fill=\"black\" stroke=\"black\" points=\"5314.7,-611.62 5323,-605.04 5312.41,-605.01 5314.7,-611.62\"/>\n</g>\n<!-- 140407328134768&#45;&gt;140407357710400 -->\n<g id=\"edge195\" class=\"edge\">\n<title>140407328134768&#45;&gt;140407357710400</title>\n<path fill=\"none\" stroke=\"black\" d=\"M5259.93,-652.05C5271.35,-657.16 5285.27,-663.16 5298,-668 5311.36,-673.08 5326.14,-678.1 5339.46,-682.41\"/>\n<polygon fill=\"black\" stroke=\"black\" points=\"5338.72,-685.85 5349.31,-685.56 5340.85,-679.18 5338.72,-685.85\"/>\n</g>\n<!-- 140407328134768&#45;&gt;140407359275168 -->\n<g id=\"edge197\" class=\"edge\">\n<title>140407328134768&#45;&gt;140407359275168</title>\n<path fill=\"none\" stroke=\"black\" d=\"M5262.17,-641C5285.04,-641 5318.49,-641 5344,-641\"/>\n<polygon fill=\"black\" stroke=\"black\" points=\"5344.04,-644.5 5354.04,-641 5344.04,-637.5 5344.04,-644.5\"/>\n</g>\n<!-- 140407359336800&#45;&gt;140407357576768 -->\n<g id=\"edge198\" class=\"edge\">\n<title>140407359336800&#45;&gt;140407357576768</title>\n<path fill=\"none\" stroke=\"black\" d=\"M2400.53,-477.98C2430.49,-476.81 2480.01,-474.87 2514.57,-473.52\"/>\n<polygon fill=\"black\" stroke=\"black\" points=\"2514.92,-477.01 2524.77,-473.12 2514.64,-470.02 2514.92,-477.01\"/>\n</g>\n<!-- 140407359336896&#45;&gt;140407357577824 -->\n<g id=\"edge199\" class=\"edge\">\n<title>140407359336896&#45;&gt;140407357577824</title>\n<path fill=\"none\" stroke=\"black\" d=\"M2747.85,-472C2774.5,-472 2815.99,-472 2846.46,-472\"/>\n<polygon fill=\"black\" stroke=\"black\" points=\"2846.73,-475.5 2856.73,-472 2846.73,-468.5 2846.73,-475.5\"/>\n</g>\n<!-- 140407359337088&#45;&gt;140407357575808 -->\n<g id=\"edge200\" class=\"edge\">\n<title>140407359337088&#45;&gt;140407357575808</title>\n<path fill=\"none\" stroke=\"black\" d=\"M3049.18,-472C3057.12,-472 3066.02,-472 3074.61,-472\"/>\n<polygon fill=\"black\" stroke=\"black\" points=\"3074.85,-475.5 3084.85,-472 3074.85,-468.5 3074.85,-475.5\"/>\n</g>\n<!-- 140407359339200&#45;&gt;140407357577632 -->\n<g id=\"edge201\" class=\"edge\">\n<title>140407359339200&#45;&gt;140407357577632</title>\n<path fill=\"none\" stroke=\"black\" d=\"M714.58,-806.79C723.53,-811.27 733.93,-816.47 743.73,-821.37\"/>\n<polygon fill=\"black\" stroke=\"black\" points=\"742.36,-824.59 752.87,-825.94 745.49,-818.33 742.36,-824.59\"/>\n</g>\n<!-- 140407359339200&#45;&gt;140407357577248 -->\n<g id=\"edge202\" class=\"edge\">\n<title>140407359339200&#45;&gt;140407357577248</title>\n<path fill=\"none\" stroke=\"black\" d=\"M716.93,-792.05C725.09,-791.13 734.26,-790.08 742.99,-789.09\"/>\n<polygon fill=\"black\" stroke=\"black\" points=\"743.41,-792.57 752.95,-787.96 742.62,-785.61 743.41,-792.57\"/>\n</g>\n<!-- 140407359337568&#45;&gt;140407357578304 -->\n<g id=\"edge203\" class=\"edge\">\n<title>140407359337568&#45;&gt;140407357578304</title>\n<path fill=\"none\" stroke=\"black\" d=\"M3234.62,-472C3250.51,-472 3271.12,-472 3288.88,-472\"/>\n<polygon fill=\"black\" stroke=\"black\" points=\"3288.95,-475.5 3298.95,-472 3288.95,-468.5 3288.95,-475.5\"/>\n</g>\n<!-- 140407359338048&#45;&gt;140407357578976 -->\n<g id=\"edge204\" class=\"edge\">\n<title>140407359338048&#45;&gt;140407357578976</title>\n<path fill=\"none\" stroke=\"black\" d=\"M3496.61,-472C3514.03,-472 3537.34,-472 3557.37,-472\"/>\n<polygon fill=\"black\" stroke=\"black\" points=\"3557.49,-475.5 3567.49,-472 3557.49,-468.5 3557.49,-475.5\"/>\n</g>\n<!-- 140407359338336&#45;&gt;140407356887296 -->\n<g id=\"edge205\" class=\"edge\">\n<title>140407359338336&#45;&gt;140407356887296</title>\n<path fill=\"none\" stroke=\"black\" d=\"M3738.18,-472C3746.15,-472 3755.11,-472 3763.85,-472\"/>\n<polygon fill=\"black\" stroke=\"black\" points=\"3763.93,-475.5 3773.93,-472 3763.93,-468.5 3763.93,-475.5\"/>\n</g>\n<!-- 140407359338624&#45;&gt;140407356887680 -->\n<g id=\"edge206\" class=\"edge\">\n<title>140407359338624&#45;&gt;140407356887680</title>\n<path fill=\"none\" stroke=\"black\" d=\"M3930.18,-472C3938.15,-472 3947.11,-472 3955.85,-472\"/>\n<polygon fill=\"black\" stroke=\"black\" points=\"3955.93,-475.5 3965.93,-472 3955.93,-468.5 3955.93,-475.5\"/>\n</g>\n<!-- 140407359339008&#45;&gt;140407356888160 -->\n<g id=\"edge207\" class=\"edge\">\n<title>140407359339008&#45;&gt;140407356888160</title>\n<path fill=\"none\" stroke=\"black\" d=\"M4122.18,-472C4130.15,-472 4139.11,-472 4147.85,-472\"/>\n<polygon fill=\"black\" stroke=\"black\" points=\"4147.93,-475.5 4157.93,-472 4147.93,-468.5 4147.93,-475.5\"/>\n</g>\n<!-- 140407359337376&#45;&gt;140407356887968 -->\n<g id=\"edge208\" class=\"edge\">\n<title>140407359337376&#45;&gt;140407356887968</title>\n<path fill=\"none\" stroke=\"black\" d=\"M4314.18,-472C4322.15,-472 4331.11,-472 4339.85,-472\"/>\n<polygon fill=\"black\" stroke=\"black\" points=\"4339.93,-475.5 4349.93,-472 4339.93,-468.5 4339.93,-475.5\"/>\n</g>\n<!-- 140407359339488&#45;&gt;140407357578880 -->\n<g id=\"edge209\" class=\"edge\">\n<title>140407359339488&#45;&gt;140407357578880</title>\n<path fill=\"none\" stroke=\"black\" d=\"M4506.18,-472C4514.15,-472 4523.11,-472 4531.85,-472\"/>\n<polygon fill=\"black\" stroke=\"black\" points=\"4531.93,-475.5 4541.93,-472 4531.93,-468.5 4531.93,-475.5\"/>\n</g>\n<!-- 140407359337280&#45;&gt;140407357576672 -->\n<g id=\"edge210\" class=\"edge\">\n<title>140407359337280&#45;&gt;140407357576672</title>\n<path fill=\"none\" stroke=\"black\" d=\"M4695.72,-483.61C4704.46,-487.88 4714.63,-492.86 4724.48,-497.68\"/>\n<polygon fill=\"black\" stroke=\"black\" points=\"4723.24,-500.97 4733.77,-502.23 4726.32,-494.69 4723.24,-500.97\"/>\n</g>\n<!-- 140407359337280&#45;&gt;140407357576096 -->\n<g id=\"edge211\" class=\"edge\">\n<title>140407359337280&#45;&gt;140407357576096</title>\n<path fill=\"none\" stroke=\"black\" d=\"M4697.93,-469.79C4707.72,-468.96 4719.03,-468 4729.6,-467.1\"/>\n<polygon fill=\"black\" stroke=\"black\" points=\"4730.16,-470.56 4739.82,-466.23 4729.56,-463.59 4730.16,-470.56\"/>\n</g>\n<!-- 140407230223456&#45;&gt;140407357577536 -->\n<g id=\"edge212\" class=\"edge\">\n<title>140407230223456&#45;&gt;140407357577536</title>\n<path fill=\"none\" stroke=\"black\" d=\"M4888.21,-511.07C4896.86,-515.03 4906.88,-519.62 4916.58,-524.05\"/>\n<polygon fill=\"black\" stroke=\"black\" points=\"4915.17,-527.26 4925.72,-528.23 4918.08,-520.89 4915.17,-527.26\"/>\n</g>\n<!-- 140407230223456&#45;&gt;140407357577152 -->\n<g id=\"edge213\" class=\"edge\">\n<title>140407230223456&#45;&gt;140407357577152</title>\n<path fill=\"none\" stroke=\"black\" d=\"M4889.93,-496.97C4899.72,-495.82 4911.03,-494.5 4921.6,-493.26\"/>\n<polygon fill=\"black\" stroke=\"black\" points=\"4922.3,-496.7 4931.82,-492.06 4921.48,-489.75 4922.3,-496.7\"/>\n</g>\n<!-- 140407230222880&#45;&gt;140407357578400 -->\n<g id=\"edge214\" class=\"edge\">\n<title>140407230222880&#45;&gt;140407357578400</title>\n<path fill=\"none\" stroke=\"black\" d=\"M5080.98,-535.8C5089.42,-538.77 5099,-542.15 5108.11,-545.36\"/>\n<polygon fill=\"black\" stroke=\"black\" points=\"5107.13,-548.72 5117.73,-548.74 5109.46,-542.12 5107.13,-548.72\"/>\n</g>\n<!-- 140407230222880&#45;&gt;140407357577920 -->\n<g id=\"edge215\" class=\"edge\">\n<title>140407230222880&#45;&gt;140407357577920</title>\n<path fill=\"none\" stroke=\"black\" d=\"M5081.45,-520.35C5089.79,-518.17 5099.21,-515.71 5108.16,-513.37\"/>\n<polygon fill=\"black\" stroke=\"black\" points=\"5109.2,-516.71 5117.99,-510.8 5107.43,-509.94 5109.2,-516.71\"/>\n</g>\n<!-- 140407230224272&#45;&gt;140407359275744 -->\n<g id=\"edge217\" class=\"edge\">\n<title>140407230224272&#45;&gt;140407359275744</title>\n<path fill=\"none\" stroke=\"black\" d=\"M3048.53,-641.31C3059.68,-643.93 3072.94,-646.85 3085,-649 3144.13,-659.55 3211.94,-668.21 3260.8,-673.85\"/>\n<polygon fill=\"black\" stroke=\"black\" points=\"3260.59,-677.35 3270.93,-675.01 3261.39,-670.4 3260.59,-677.35\"/>\n</g>\n<!-- 140407230224272&#45;&gt;140407359339872 -->\n<g id=\"edge218\" class=\"edge\">\n<title>140407230224272&#45;&gt;140407359339872</title>\n<path fill=\"none\" stroke=\"black\" d=\"M3049.2,-635C3119.66,-635 3314.38,-635 3411.66,-635\"/>\n<polygon fill=\"black\" stroke=\"black\" points=\"3411.89,-638.5 3421.89,-635 3411.89,-631.5 3411.89,-638.5\"/>\n</g>\n<!-- 140407230224272&#45;&gt;140407357575232 -->\n<g id=\"edge216\" class=\"edge\">\n<title>140407230224272&#45;&gt;140407357575232</title>\n<path fill=\"none\" stroke=\"black\" d=\"M3047.15,-624.91C3081.79,-611.36 3147.87,-589 3206.5,-589 3206.5,-589 3206.5,-589 3329.5,-589 3403.05,-589 3487.86,-590.5 3542.5,-591.67\"/>\n<polygon fill=\"black\" stroke=\"black\" points=\"3542.6,-595.17 3552.68,-591.89 3542.76,-588.17 3542.6,-595.17\"/>\n</g>\n<!-- 140407230224272&#45;&gt;140407357713760 -->\n<g id=\"edge219\" class=\"edge\">\n<title>140407230224272&#45;&gt;140407357713760</title>\n<path fill=\"none\" stroke=\"black\" d=\"M3042.56,-652.52C3074.46,-679.21 3140.75,-727 3206.5,-727 3206.5,-727 3206.5,-727 3470.5,-727 3542.44,-727 3626.54,-727 3673.5,-727\"/>\n<polygon fill=\"black\" stroke=\"black\" points=\"3673.77,-730.5 3683.77,-727 3673.77,-723.5 3673.77,-730.5\"/>\n</g>\n<!-- 140407359338912&#45;&gt;140407357711456 -->\n<g id=\"edge221\" class=\"edge\">\n<title>140407359338912&#45;&gt;140407357711456</title>\n<path fill=\"none\" stroke=\"black\" d=\"M2742.24,-709.45C2760.4,-695.5 2787.89,-675.7 2814,-662 2817.25,-660.3 2820.62,-658.65 2824.07,-657.06\"/>\n<polygon fill=\"black\" stroke=\"black\" points=\"2825.55,-660.23 2833.29,-653 2822.73,-653.82 2825.55,-660.23\"/>\n</g>\n<!-- 140407359338912&#45;&gt;140407357711936 -->\n<g id=\"edge220\" class=\"edge\">\n<title>140407359338912&#45;&gt;140407357711936</title>\n<path fill=\"none\" stroke=\"black\" d=\"M2747.49,-728.69C2762.93,-730.29 2783.46,-732.42 2803.95,-734.55\"/>\n<polygon fill=\"black\" stroke=\"black\" points=\"2803.67,-738.04 2813.98,-735.59 2804.39,-731.07 2803.67,-738.04\"/>\n</g>\n<!-- 140407359338912&#45;&gt;140407359276320 -->\n<g id=\"edge222\" class=\"edge\">\n<title>140407359338912&#45;&gt;140407359276320</title>\n<path fill=\"none\" stroke=\"black\" d=\"M2747.12,-720.22C2774.56,-714.03 2818.32,-704.16 2849.28,-697.17\"/>\n<polygon fill=\"black\" stroke=\"black\" points=\"2850.26,-700.54 2859.24,-694.92 2848.72,-693.71 2850.26,-700.54\"/>\n</g>\n<!-- 140407359338240&#45;&gt;140407356887584 -->\n<g id=\"edge223\" class=\"edge\">\n<title>140407359338240&#45;&gt;140407356887584</title>\n<path fill=\"none\" stroke=\"black\" d=\"M2400.53,-644.04C2423.7,-645.85 2458.57,-648.58 2489.17,-650.97\"/>\n<polygon fill=\"black\" stroke=\"black\" points=\"2489.11,-654.47 2499.36,-651.77 2489.66,-647.5 2489.11,-654.47\"/>\n</g>\n<!-- 140407359338240&#45;&gt;140407357578496 -->\n<g id=\"edge224\" class=\"edge\">\n<title>140407359338240&#45;&gt;140407357578496</title>\n<path fill=\"none\" stroke=\"black\" d=\"M2400.15,-636.27C2430.94,-629.39 2482.78,-617.8 2517.56,-610.03\"/>\n<polygon fill=\"black\" stroke=\"black\" points=\"2518.32,-613.45 2527.32,-607.85 2516.8,-606.62 2518.32,-613.45\"/>\n</g>\n<!-- 140407359338720&#45;&gt;140407357710784 -->\n<g id=\"edge225\" class=\"edge\">\n<title>140407359338720&#45;&gt;140407357710784</title>\n<path fill=\"none\" stroke=\"black\" d=\"M2400.53,-771.69C2419.36,-770.74 2445.92,-769.41 2471.63,-768.12\"/>\n<polygon fill=\"black\" stroke=\"black\" points=\"2471.99,-771.6 2481.8,-767.6 2471.64,-764.61 2471.99,-771.6\"/>\n</g>\n<!-- 140407359338720&#45;&gt;140407359276800 -->\n<g id=\"edge226\" class=\"edge\">\n<title>140407359338720&#45;&gt;140407359276800</title>\n<path fill=\"none\" stroke=\"black\" d=\"M2399.77,-779.35C2430.55,-787.09 2482.77,-800.22 2517.69,-809\"/>\n<polygon fill=\"black\" stroke=\"black\" points=\"2516.94,-812.42 2527.49,-811.46 2518.65,-805.63 2516.94,-812.42\"/>\n</g>\n<!-- 140407359336704&#45;&gt;140407357712992 -->\n<g id=\"edge227\" class=\"edge\">\n<title>140407359336704&#45;&gt;140407357712992</title>\n<path fill=\"none\" stroke=\"black\" d=\"M5552.99,-651.88C5564.43,-656.96 5578.34,-662.97 5591,-668 5595.51,-669.79 5600.18,-671.6 5604.9,-673.38\"/>\n<polygon fill=\"black\" stroke=\"black\" points=\"5604,-676.78 5614.6,-677 5606.45,-670.22 5604,-676.78\"/>\n</g>\n<!-- 140407359336704&#45;&gt;140407357710880 -->\n<g id=\"edge228\" class=\"edge\">\n<title>140407359336704&#45;&gt;140407357710880</title>\n<path fill=\"none\" stroke=\"black\" d=\"M5555.09,-641C5576.1,-641 5605.87,-641 5629.28,-641\"/>\n<polygon fill=\"black\" stroke=\"black\" points=\"5629.54,-644.5 5639.54,-641 5629.54,-637.5 5629.54,-644.5\"/>\n</g>\n<!-- 140407359338432&#45;&gt;140407357575328 -->\n<g id=\"edge229\" class=\"edge\">\n<title>140407359338432&#45;&gt;140407357575328</title>\n<path fill=\"none\" stroke=\"black\" d=\"M5830.54,-706.72C5842.09,-712.46 5856.4,-719.59 5869.97,-726.34\"/>\n<polygon fill=\"black\" stroke=\"black\" points=\"5868.68,-729.61 5879.2,-730.93 5871.8,-723.34 5868.68,-729.61\"/>\n</g>\n<!-- 140407359338432&#45;&gt;140407357713856 -->\n<g id=\"edge230\" class=\"edge\">\n<title>140407359338432&#45;&gt;140407357713856</title>\n<path fill=\"none\" stroke=\"black\" d=\"M5833.26,-695C5847.13,-695 5864.34,-695 5879.43,-695\"/>\n<polygon fill=\"black\" stroke=\"black\" points=\"5879.48,-698.5 5889.48,-695 5879.48,-691.5 5879.48,-698.5\"/>\n</g>\n<!-- 140407233399776&#45;&gt;140407359277184 -->\n<g id=\"edge231\" class=\"edge\">\n<title>140407233399776&#45;&gt;140407359277184</title>\n<path fill=\"none\" stroke=\"black\" d=\"M6046.88,-768.09C6077.45,-796.86 6140.94,-848 6206,-848 6206,-848 6206,-848 6336.5,-848 6399.74,-848 6473.36,-848 6516.41,-848\"/>\n<polygon fill=\"black\" stroke=\"black\" points=\"6516.67,-851.5 6526.67,-848 6516.67,-844.5 6516.67,-851.5\"/>\n</g>\n<!-- 140407233399776&#45;&gt;140407359277952 -->\n<g id=\"edge232\" class=\"edge\">\n<title>140407233399776&#45;&gt;140407359277952</title>\n<path fill=\"none\" stroke=\"black\" d=\"M6054.4,-748.7C6062.39,-748.61 6071.31,-748.51 6079.82,-748.41\"/>\n<polygon fill=\"black\" stroke=\"black\" points=\"6079.96,-751.91 6089.92,-748.3 6079.88,-744.91 6079.96,-751.91\"/>\n</g>\n<!-- 140407331315232&#45;&gt;140407359275360 -->\n<g id=\"edge233\" class=\"edge\">\n<title>140407331315232&#45;&gt;140407359275360</title>\n<path fill=\"none\" stroke=\"black\" d=\"M6669.11,-858.59C6680.57,-863.61 6694.48,-869.65 6707,-875 6710.83,-876.64 6714.79,-878.32 6718.78,-880.01\"/>\n<polygon fill=\"black\" stroke=\"black\" points=\"6717.52,-883.27 6728.1,-883.93 6720.24,-876.82 6717.52,-883.27\"/>\n</g>\n<!-- 140407331315232&#45;&gt;140407359277664 -->\n<g id=\"edge234\" class=\"edge\">\n<title>140407331315232&#45;&gt;140407359277664</title>\n<path fill=\"none\" stroke=\"black\" d=\"M6671.21,-848C6689.7,-848 6714.71,-848 6735.12,-848\"/>\n<polygon fill=\"black\" stroke=\"black\" points=\"6735.32,-851.5 6745.32,-848 6735.32,-844.5 6735.32,-851.5\"/>\n</g>\n<!-- 140407328136544&#45;&gt;140407359278912 -->\n<g id=\"edge235\" class=\"edge\">\n<title>140407328136544&#45;&gt;140407359278912</title>\n<path fill=\"none\" stroke=\"black\" d=\"M6234.21,-748C6241.92,-748 6250.76,-748 6259.92,-748\"/>\n<polygon fill=\"black\" stroke=\"black\" points=\"6259.96,-751.5 6269.96,-748 6259.96,-744.5 6259.96,-751.5\"/>\n</g>\n<!-- 140407328136544&#45;&gt;140407357710976 -->\n<g id=\"edge236\" class=\"edge\">\n<title>140407328136544&#45;&gt;140407357710976</title>\n<path fill=\"none\" stroke=\"black\" d=\"M6232.11,-758.59C6243.57,-763.61 6257.48,-769.65 6270,-775 6279.36,-779 6289.51,-783.27 6298.93,-787.22\"/>\n<polygon fill=\"black\" stroke=\"black\" points=\"6297.84,-790.55 6308.42,-791.18 6300.54,-784.1 6297.84,-790.55\"/>\n</g>\n<!-- 140407233397568&#45;&gt;140407359275072 -->\n<g id=\"edge237\" class=\"edge\">\n<title>140407233397568&#45;&gt;140407359275072</title>\n<path fill=\"none\" stroke=\"black\" d=\"M6491.4,-766C6499.39,-766 6508.31,-766 6516.82,-766\"/>\n<polygon fill=\"black\" stroke=\"black\" points=\"6516.92,-769.5 6526.92,-766 6516.92,-762.5 6516.92,-769.5\"/>\n</g>\n</g>\n</svg>\n"
          },
          "metadata": {},
          "execution_count": 39
        }
      ],
      "source": [
        "gviz = pn_visualizer.apply(net, im, fm)\n",
        "#pn_visualizer.view(gviz)\n",
        "graphviz.Source(gviz)"
      ]
    },
    {
      "cell_type": "code",
      "execution_count": null,
      "metadata": {
        "id": "YniNa-p0SmCZ"
      },
      "outputs": [],
      "source": [
        "#conformance checking"
      ]
    },
    {
      "cell_type": "markdown",
      "metadata": {
        "id": "UXU4y3OqT69g"
      },
      "source": [
        "Conformance checking"
      ]
    },
    {
      "cell_type": "markdown",
      "metadata": {
        "id": "hBKjkIKWUMgm"
      },
      "source": [
        "Precision"
      ]
    },
    {
      "cell_type": "code",
      "execution_count": null,
      "metadata": {
        "id": "XOlIvE_CSpkW"
      },
      "outputs": [],
      "source": [
        "from pm4py.evaluation.precision import evaluator as precision_evaluator\n",
        "prec = precision_evaluator.apply(log, net, im, fm, variant=precision_evaluator.Variants.ETCONFORMANCE_TOKEN)"
      ]
    },
    {
      "cell_type": "code",
      "execution_count": null,
      "metadata": {
        "colab": {
          "base_uri": "https://localhost:8080/"
        },
        "id": "pa-Puh5uTkDz",
        "outputId": "c5a005a1-e366-4528-8282-c6cf01ccf797"
      },
      "outputs": [
        {
          "output_type": "stream",
          "name": "stdout",
          "text": [
            "0.03927961362040111\n"
          ]
        }
      ],
      "source": [
        "print(prec)"
      ]
    },
    {
      "cell_type": "markdown",
      "metadata": {
        "id": "HQZOZ-YXUP84"
      },
      "source": [
        "Fitness"
      ]
    },
    {
      "cell_type": "code",
      "execution_count": null,
      "metadata": {
        "id": "Ce1r1Q5BSuN1"
      },
      "outputs": [],
      "source": [
        "# Token based\n",
        "from pm4py.evaluation.replay_fitness import evaluator as replay_fitness_evaluator\n",
        "fitness_token = replay_fitness_evaluator.apply(log, net, im, fm, variant=replay_fitness_evaluator.Variants.TOKEN_BASED)\n",
        "\n",
        "# Alignment based\n",
        "#fitness_alignment = replay_fitness_evaluator.apply(log, net, im, fm, variant=replay_fitness_evaluator.Variants.ALIGNMENT_BASED)"
      ]
    },
    {
      "cell_type": "code",
      "execution_count": null,
      "metadata": {
        "colab": {
          "base_uri": "https://localhost:8080/"
        },
        "id": "DFkOoMmeToFF",
        "outputId": "95008a65-c865-411f-9057-0fc57a322de0"
      },
      "outputs": [
        {
          "output_type": "stream",
          "name": "stdout",
          "text": [
            "{'perc_fit_traces': 20.512820512820515, 'average_trace_fitness': 0.9829050159621386, 'log_fitness': 0.984326802799035}\n"
          ]
        }
      ],
      "source": [
        "print(fitness_token)\n",
        "#print(fitness_alignment)"
      ]
    }
  ],
  "metadata": {
    "colab": {
      "provenance": []
    },
    "kernelspec": {
      "display_name": "Python 3",
      "name": "python3"
    },
    "language_info": {
      "name": "python"
    },
    "widgets": {
      "application/vnd.jupyter.widget-state+json": {
        "18c3e624a0374ff8b6a13c7277f0610a": {
          "model_module": "@jupyter-widgets/controls",
          "model_name": "HBoxModel",
          "model_module_version": "1.5.0",
          "state": {
            "_dom_classes": [],
            "_model_module": "@jupyter-widgets/controls",
            "_model_module_version": "1.5.0",
            "_model_name": "HBoxModel",
            "_view_count": null,
            "_view_module": "@jupyter-widgets/controls",
            "_view_module_version": "1.5.0",
            "_view_name": "HBoxView",
            "box_style": "",
            "children": [
              "IPY_MODEL_ddbcece76cef4726add88555c9f886d6",
              "IPY_MODEL_6340b402861b49e8a6aa4a5117804e88",
              "IPY_MODEL_595114bcb58a4b888e4c1ad16c0d354c"
            ],
            "layout": "IPY_MODEL_4043ed61920245a59ae38e21eef43d51"
          }
        },
        "ddbcece76cef4726add88555c9f886d6": {
          "model_module": "@jupyter-widgets/controls",
          "model_name": "HTMLModel",
          "model_module_version": "1.5.0",
          "state": {
            "_dom_classes": [],
            "_model_module": "@jupyter-widgets/controls",
            "_model_module_version": "1.5.0",
            "_model_name": "HTMLModel",
            "_view_count": null,
            "_view_module": "@jupyter-widgets/controls",
            "_view_module_version": "1.5.0",
            "_view_name": "HTMLView",
            "description": "",
            "description_tooltip": null,
            "layout": "IPY_MODEL_93ec527361fc4ba18c27a37a4d250b1e",
            "placeholder": "​",
            "style": "IPY_MODEL_b7925d01e29d4372affc71fd13dd7ef4",
            "value": "exporting log, completed traces :: 100%"
          }
        },
        "6340b402861b49e8a6aa4a5117804e88": {
          "model_module": "@jupyter-widgets/controls",
          "model_name": "FloatProgressModel",
          "model_module_version": "1.5.0",
          "state": {
            "_dom_classes": [],
            "_model_module": "@jupyter-widgets/controls",
            "_model_module_version": "1.5.0",
            "_model_name": "FloatProgressModel",
            "_view_count": null,
            "_view_module": "@jupyter-widgets/controls",
            "_view_module_version": "1.5.0",
            "_view_name": "ProgressView",
            "bar_style": "success",
            "description": "",
            "description_tooltip": null,
            "layout": "IPY_MODEL_a8d7ba3279404ad3ae87727cd9e5db45",
            "max": 78,
            "min": 0,
            "orientation": "horizontal",
            "style": "IPY_MODEL_ec9c094806814dc9b665adcfdc4b68e1",
            "value": 78
          }
        },
        "595114bcb58a4b888e4c1ad16c0d354c": {
          "model_module": "@jupyter-widgets/controls",
          "model_name": "HTMLModel",
          "model_module_version": "1.5.0",
          "state": {
            "_dom_classes": [],
            "_model_module": "@jupyter-widgets/controls",
            "_model_module_version": "1.5.0",
            "_model_name": "HTMLModel",
            "_view_count": null,
            "_view_module": "@jupyter-widgets/controls",
            "_view_module_version": "1.5.0",
            "_view_name": "HTMLView",
            "description": "",
            "description_tooltip": null,
            "layout": "IPY_MODEL_b0569e945a5145d685c982804ca9ac92",
            "placeholder": "​",
            "style": "IPY_MODEL_30fa4ea112de4b7185a59282f0337699",
            "value": " 78/78 [00:00&lt;00:00, 779.22it/s]"
          }
        },
        "4043ed61920245a59ae38e21eef43d51": {
          "model_module": "@jupyter-widgets/base",
          "model_name": "LayoutModel",
          "model_module_version": "1.2.0",
          "state": {
            "_model_module": "@jupyter-widgets/base",
            "_model_module_version": "1.2.0",
            "_model_name": "LayoutModel",
            "_view_count": null,
            "_view_module": "@jupyter-widgets/base",
            "_view_module_version": "1.2.0",
            "_view_name": "LayoutView",
            "align_content": null,
            "align_items": null,
            "align_self": null,
            "border": null,
            "bottom": null,
            "display": null,
            "flex": null,
            "flex_flow": null,
            "grid_area": null,
            "grid_auto_columns": null,
            "grid_auto_flow": null,
            "grid_auto_rows": null,
            "grid_column": null,
            "grid_gap": null,
            "grid_row": null,
            "grid_template_areas": null,
            "grid_template_columns": null,
            "grid_template_rows": null,
            "height": null,
            "justify_content": null,
            "justify_items": null,
            "left": null,
            "margin": null,
            "max_height": null,
            "max_width": null,
            "min_height": null,
            "min_width": null,
            "object_fit": null,
            "object_position": null,
            "order": null,
            "overflow": null,
            "overflow_x": null,
            "overflow_y": null,
            "padding": null,
            "right": null,
            "top": null,
            "visibility": null,
            "width": null
          }
        },
        "93ec527361fc4ba18c27a37a4d250b1e": {
          "model_module": "@jupyter-widgets/base",
          "model_name": "LayoutModel",
          "model_module_version": "1.2.0",
          "state": {
            "_model_module": "@jupyter-widgets/base",
            "_model_module_version": "1.2.0",
            "_model_name": "LayoutModel",
            "_view_count": null,
            "_view_module": "@jupyter-widgets/base",
            "_view_module_version": "1.2.0",
            "_view_name": "LayoutView",
            "align_content": null,
            "align_items": null,
            "align_self": null,
            "border": null,
            "bottom": null,
            "display": null,
            "flex": null,
            "flex_flow": null,
            "grid_area": null,
            "grid_auto_columns": null,
            "grid_auto_flow": null,
            "grid_auto_rows": null,
            "grid_column": null,
            "grid_gap": null,
            "grid_row": null,
            "grid_template_areas": null,
            "grid_template_columns": null,
            "grid_template_rows": null,
            "height": null,
            "justify_content": null,
            "justify_items": null,
            "left": null,
            "margin": null,
            "max_height": null,
            "max_width": null,
            "min_height": null,
            "min_width": null,
            "object_fit": null,
            "object_position": null,
            "order": null,
            "overflow": null,
            "overflow_x": null,
            "overflow_y": null,
            "padding": null,
            "right": null,
            "top": null,
            "visibility": null,
            "width": null
          }
        },
        "b7925d01e29d4372affc71fd13dd7ef4": {
          "model_module": "@jupyter-widgets/controls",
          "model_name": "DescriptionStyleModel",
          "model_module_version": "1.5.0",
          "state": {
            "_model_module": "@jupyter-widgets/controls",
            "_model_module_version": "1.5.0",
            "_model_name": "DescriptionStyleModel",
            "_view_count": null,
            "_view_module": "@jupyter-widgets/base",
            "_view_module_version": "1.2.0",
            "_view_name": "StyleView",
            "description_width": ""
          }
        },
        "a8d7ba3279404ad3ae87727cd9e5db45": {
          "model_module": "@jupyter-widgets/base",
          "model_name": "LayoutModel",
          "model_module_version": "1.2.0",
          "state": {
            "_model_module": "@jupyter-widgets/base",
            "_model_module_version": "1.2.0",
            "_model_name": "LayoutModel",
            "_view_count": null,
            "_view_module": "@jupyter-widgets/base",
            "_view_module_version": "1.2.0",
            "_view_name": "LayoutView",
            "align_content": null,
            "align_items": null,
            "align_self": null,
            "border": null,
            "bottom": null,
            "display": null,
            "flex": null,
            "flex_flow": null,
            "grid_area": null,
            "grid_auto_columns": null,
            "grid_auto_flow": null,
            "grid_auto_rows": null,
            "grid_column": null,
            "grid_gap": null,
            "grid_row": null,
            "grid_template_areas": null,
            "grid_template_columns": null,
            "grid_template_rows": null,
            "height": null,
            "justify_content": null,
            "justify_items": null,
            "left": null,
            "margin": null,
            "max_height": null,
            "max_width": null,
            "min_height": null,
            "min_width": null,
            "object_fit": null,
            "object_position": null,
            "order": null,
            "overflow": null,
            "overflow_x": null,
            "overflow_y": null,
            "padding": null,
            "right": null,
            "top": null,
            "visibility": null,
            "width": null
          }
        },
        "ec9c094806814dc9b665adcfdc4b68e1": {
          "model_module": "@jupyter-widgets/controls",
          "model_name": "ProgressStyleModel",
          "model_module_version": "1.5.0",
          "state": {
            "_model_module": "@jupyter-widgets/controls",
            "_model_module_version": "1.5.0",
            "_model_name": "ProgressStyleModel",
            "_view_count": null,
            "_view_module": "@jupyter-widgets/base",
            "_view_module_version": "1.2.0",
            "_view_name": "StyleView",
            "bar_color": null,
            "description_width": ""
          }
        },
        "b0569e945a5145d685c982804ca9ac92": {
          "model_module": "@jupyter-widgets/base",
          "model_name": "LayoutModel",
          "model_module_version": "1.2.0",
          "state": {
            "_model_module": "@jupyter-widgets/base",
            "_model_module_version": "1.2.0",
            "_model_name": "LayoutModel",
            "_view_count": null,
            "_view_module": "@jupyter-widgets/base",
            "_view_module_version": "1.2.0",
            "_view_name": "LayoutView",
            "align_content": null,
            "align_items": null,
            "align_self": null,
            "border": null,
            "bottom": null,
            "display": null,
            "flex": null,
            "flex_flow": null,
            "grid_area": null,
            "grid_auto_columns": null,
            "grid_auto_flow": null,
            "grid_auto_rows": null,
            "grid_column": null,
            "grid_gap": null,
            "grid_row": null,
            "grid_template_areas": null,
            "grid_template_columns": null,
            "grid_template_rows": null,
            "height": null,
            "justify_content": null,
            "justify_items": null,
            "left": null,
            "margin": null,
            "max_height": null,
            "max_width": null,
            "min_height": null,
            "min_width": null,
            "object_fit": null,
            "object_position": null,
            "order": null,
            "overflow": null,
            "overflow_x": null,
            "overflow_y": null,
            "padding": null,
            "right": null,
            "top": null,
            "visibility": null,
            "width": null
          }
        },
        "30fa4ea112de4b7185a59282f0337699": {
          "model_module": "@jupyter-widgets/controls",
          "model_name": "DescriptionStyleModel",
          "model_module_version": "1.5.0",
          "state": {
            "_model_module": "@jupyter-widgets/controls",
            "_model_module_version": "1.5.0",
            "_model_name": "DescriptionStyleModel",
            "_view_count": null,
            "_view_module": "@jupyter-widgets/base",
            "_view_module_version": "1.2.0",
            "_view_name": "StyleView",
            "description_width": ""
          }
        },
        "f30b108daef9409e8baa0a1a7cde99ca": {
          "model_module": "@jupyter-widgets/controls",
          "model_name": "HBoxModel",
          "model_module_version": "1.5.0",
          "state": {
            "_dom_classes": [],
            "_model_module": "@jupyter-widgets/controls",
            "_model_module_version": "1.5.0",
            "_model_name": "HBoxModel",
            "_view_count": null,
            "_view_module": "@jupyter-widgets/controls",
            "_view_module_version": "1.5.0",
            "_view_name": "HBoxView",
            "box_style": "",
            "children": [
              "IPY_MODEL_cba6757e660141d0ac0c535a6f16c946",
              "IPY_MODEL_3b89f42967a74a5d805201141f1de647",
              "IPY_MODEL_722993150c5b43458f6d8068803b5c11"
            ],
            "layout": "IPY_MODEL_f177f83c12ae4b44866b41d1623603fb"
          }
        },
        "cba6757e660141d0ac0c535a6f16c946": {
          "model_module": "@jupyter-widgets/controls",
          "model_name": "HTMLModel",
          "model_module_version": "1.5.0",
          "state": {
            "_dom_classes": [],
            "_model_module": "@jupyter-widgets/controls",
            "_model_module_version": "1.5.0",
            "_model_name": "HTMLModel",
            "_view_count": null,
            "_view_module": "@jupyter-widgets/controls",
            "_view_module_version": "1.5.0",
            "_view_name": "HTMLView",
            "description": "",
            "description_tooltip": null,
            "layout": "IPY_MODEL_303db4888f544efdbae252519b06375b",
            "placeholder": "​",
            "style": "IPY_MODEL_686b31a5a4614f748b27cc7223e0ba3b",
            "value": "parsing log, completed traces :: 100%"
          }
        },
        "3b89f42967a74a5d805201141f1de647": {
          "model_module": "@jupyter-widgets/controls",
          "model_name": "FloatProgressModel",
          "model_module_version": "1.5.0",
          "state": {
            "_dom_classes": [],
            "_model_module": "@jupyter-widgets/controls",
            "_model_module_version": "1.5.0",
            "_model_name": "FloatProgressModel",
            "_view_count": null,
            "_view_module": "@jupyter-widgets/controls",
            "_view_module_version": "1.5.0",
            "_view_name": "ProgressView",
            "bar_style": "success",
            "description": "",
            "description_tooltip": null,
            "layout": "IPY_MODEL_cc4997a965e34bf5b1d5190c730f652d",
            "max": 78,
            "min": 0,
            "orientation": "horizontal",
            "style": "IPY_MODEL_8d11caf994ad4f09acf13c5c6f1cbbbf",
            "value": 78
          }
        },
        "722993150c5b43458f6d8068803b5c11": {
          "model_module": "@jupyter-widgets/controls",
          "model_name": "HTMLModel",
          "model_module_version": "1.5.0",
          "state": {
            "_dom_classes": [],
            "_model_module": "@jupyter-widgets/controls",
            "_model_module_version": "1.5.0",
            "_model_name": "HTMLModel",
            "_view_count": null,
            "_view_module": "@jupyter-widgets/controls",
            "_view_module_version": "1.5.0",
            "_view_name": "HTMLView",
            "description": "",
            "description_tooltip": null,
            "layout": "IPY_MODEL_0a557b7091e9452884aab7c258e489db",
            "placeholder": "​",
            "style": "IPY_MODEL_e32a66b897a8475a8f32e5377aa78313",
            "value": " 78/78 [00:00&lt;00:00, 327.26it/s]"
          }
        },
        "f177f83c12ae4b44866b41d1623603fb": {
          "model_module": "@jupyter-widgets/base",
          "model_name": "LayoutModel",
          "model_module_version": "1.2.0",
          "state": {
            "_model_module": "@jupyter-widgets/base",
            "_model_module_version": "1.2.0",
            "_model_name": "LayoutModel",
            "_view_count": null,
            "_view_module": "@jupyter-widgets/base",
            "_view_module_version": "1.2.0",
            "_view_name": "LayoutView",
            "align_content": null,
            "align_items": null,
            "align_self": null,
            "border": null,
            "bottom": null,
            "display": null,
            "flex": null,
            "flex_flow": null,
            "grid_area": null,
            "grid_auto_columns": null,
            "grid_auto_flow": null,
            "grid_auto_rows": null,
            "grid_column": null,
            "grid_gap": null,
            "grid_row": null,
            "grid_template_areas": null,
            "grid_template_columns": null,
            "grid_template_rows": null,
            "height": null,
            "justify_content": null,
            "justify_items": null,
            "left": null,
            "margin": null,
            "max_height": null,
            "max_width": null,
            "min_height": null,
            "min_width": null,
            "object_fit": null,
            "object_position": null,
            "order": null,
            "overflow": null,
            "overflow_x": null,
            "overflow_y": null,
            "padding": null,
            "right": null,
            "top": null,
            "visibility": null,
            "width": null
          }
        },
        "303db4888f544efdbae252519b06375b": {
          "model_module": "@jupyter-widgets/base",
          "model_name": "LayoutModel",
          "model_module_version": "1.2.0",
          "state": {
            "_model_module": "@jupyter-widgets/base",
            "_model_module_version": "1.2.0",
            "_model_name": "LayoutModel",
            "_view_count": null,
            "_view_module": "@jupyter-widgets/base",
            "_view_module_version": "1.2.0",
            "_view_name": "LayoutView",
            "align_content": null,
            "align_items": null,
            "align_self": null,
            "border": null,
            "bottom": null,
            "display": null,
            "flex": null,
            "flex_flow": null,
            "grid_area": null,
            "grid_auto_columns": null,
            "grid_auto_flow": null,
            "grid_auto_rows": null,
            "grid_column": null,
            "grid_gap": null,
            "grid_row": null,
            "grid_template_areas": null,
            "grid_template_columns": null,
            "grid_template_rows": null,
            "height": null,
            "justify_content": null,
            "justify_items": null,
            "left": null,
            "margin": null,
            "max_height": null,
            "max_width": null,
            "min_height": null,
            "min_width": null,
            "object_fit": null,
            "object_position": null,
            "order": null,
            "overflow": null,
            "overflow_x": null,
            "overflow_y": null,
            "padding": null,
            "right": null,
            "top": null,
            "visibility": null,
            "width": null
          }
        },
        "686b31a5a4614f748b27cc7223e0ba3b": {
          "model_module": "@jupyter-widgets/controls",
          "model_name": "DescriptionStyleModel",
          "model_module_version": "1.5.0",
          "state": {
            "_model_module": "@jupyter-widgets/controls",
            "_model_module_version": "1.5.0",
            "_model_name": "DescriptionStyleModel",
            "_view_count": null,
            "_view_module": "@jupyter-widgets/base",
            "_view_module_version": "1.2.0",
            "_view_name": "StyleView",
            "description_width": ""
          }
        },
        "cc4997a965e34bf5b1d5190c730f652d": {
          "model_module": "@jupyter-widgets/base",
          "model_name": "LayoutModel",
          "model_module_version": "1.2.0",
          "state": {
            "_model_module": "@jupyter-widgets/base",
            "_model_module_version": "1.2.0",
            "_model_name": "LayoutModel",
            "_view_count": null,
            "_view_module": "@jupyter-widgets/base",
            "_view_module_version": "1.2.0",
            "_view_name": "LayoutView",
            "align_content": null,
            "align_items": null,
            "align_self": null,
            "border": null,
            "bottom": null,
            "display": null,
            "flex": null,
            "flex_flow": null,
            "grid_area": null,
            "grid_auto_columns": null,
            "grid_auto_flow": null,
            "grid_auto_rows": null,
            "grid_column": null,
            "grid_gap": null,
            "grid_row": null,
            "grid_template_areas": null,
            "grid_template_columns": null,
            "grid_template_rows": null,
            "height": null,
            "justify_content": null,
            "justify_items": null,
            "left": null,
            "margin": null,
            "max_height": null,
            "max_width": null,
            "min_height": null,
            "min_width": null,
            "object_fit": null,
            "object_position": null,
            "order": null,
            "overflow": null,
            "overflow_x": null,
            "overflow_y": null,
            "padding": null,
            "right": null,
            "top": null,
            "visibility": null,
            "width": null
          }
        },
        "8d11caf994ad4f09acf13c5c6f1cbbbf": {
          "model_module": "@jupyter-widgets/controls",
          "model_name": "ProgressStyleModel",
          "model_module_version": "1.5.0",
          "state": {
            "_model_module": "@jupyter-widgets/controls",
            "_model_module_version": "1.5.0",
            "_model_name": "ProgressStyleModel",
            "_view_count": null,
            "_view_module": "@jupyter-widgets/base",
            "_view_module_version": "1.2.0",
            "_view_name": "StyleView",
            "bar_color": null,
            "description_width": ""
          }
        },
        "0a557b7091e9452884aab7c258e489db": {
          "model_module": "@jupyter-widgets/base",
          "model_name": "LayoutModel",
          "model_module_version": "1.2.0",
          "state": {
            "_model_module": "@jupyter-widgets/base",
            "_model_module_version": "1.2.0",
            "_model_name": "LayoutModel",
            "_view_count": null,
            "_view_module": "@jupyter-widgets/base",
            "_view_module_version": "1.2.0",
            "_view_name": "LayoutView",
            "align_content": null,
            "align_items": null,
            "align_self": null,
            "border": null,
            "bottom": null,
            "display": null,
            "flex": null,
            "flex_flow": null,
            "grid_area": null,
            "grid_auto_columns": null,
            "grid_auto_flow": null,
            "grid_auto_rows": null,
            "grid_column": null,
            "grid_gap": null,
            "grid_row": null,
            "grid_template_areas": null,
            "grid_template_columns": null,
            "grid_template_rows": null,
            "height": null,
            "justify_content": null,
            "justify_items": null,
            "left": null,
            "margin": null,
            "max_height": null,
            "max_width": null,
            "min_height": null,
            "min_width": null,
            "object_fit": null,
            "object_position": null,
            "order": null,
            "overflow": null,
            "overflow_x": null,
            "overflow_y": null,
            "padding": null,
            "right": null,
            "top": null,
            "visibility": null,
            "width": null
          }
        },
        "e32a66b897a8475a8f32e5377aa78313": {
          "model_module": "@jupyter-widgets/controls",
          "model_name": "DescriptionStyleModel",
          "model_module_version": "1.5.0",
          "state": {
            "_model_module": "@jupyter-widgets/controls",
            "_model_module_version": "1.5.0",
            "_model_name": "DescriptionStyleModel",
            "_view_count": null,
            "_view_module": "@jupyter-widgets/base",
            "_view_module_version": "1.2.0",
            "_view_name": "StyleView",
            "description_width": ""
          }
        }
      }
    }
  },
  "nbformat": 4,
  "nbformat_minor": 0
}